{
  "cells": [
    {
      "cell_type": "markdown",
      "metadata": {
        "id": "6CNdNFRR5zX3"
      },
      "source": [
        "# Mean/Covariance of a data set and effect of a linear transformation\n",
        "\n",
        "We are going to investigate how the mean and (co)variance of a dataset changes\n",
        "when we apply affine transformation to the dataset."
      ]
    },
    {
      "cell_type": "markdown",
      "metadata": {
        "id": "8rv8_ZSV5zX7"
      },
      "source": [
        "## Learning objectives\n",
        "1. Get Farmiliar with basic programming using Python and Numpy/Scipy.\n",
        "2. Learn to appreciate implementing\n",
        "   functions to compute statistics of dataset in vectorized way.\n",
        "3. Understand the effects of affine transformations on a dataset.\n",
        "4. Understand the importance of testing in programming for machine learning."
      ]
    },
    {
      "cell_type": "markdown",
      "metadata": {
        "id": "GP9iGseA5zX8"
      },
      "source": [
        "First, let's import the packages that we will use for the week"
      ]
    },
    {
      "cell_type": "code",
      "execution_count": 1,
      "metadata": {
        "id": "USbthw815zX9"
      },
      "outputs": [],
      "source": [
        "# PACKAGE: DO NOT EDIT THIS CELL\n",
        "import numpy as np\n",
        "import matplotlib\n",
        "matplotlib.use('Agg')\n",
        "import matplotlib.pyplot as plt\n",
        "matplotlib.style.use('fivethirtyeight')\n",
        "from sklearn.datasets import fetch_lfw_people, fetch_olivetti_faces\n",
        "import time\n",
        "import timeit\n",
        "\n"
      ]
    },
    {
      "cell_type": "code",
      "execution_count": 2,
      "metadata": {
        "id": "eroDPN0y5zX_"
      },
      "outputs": [],
      "source": [
        "%matplotlib inline\n",
        "from ipywidgets import interact"
      ]
    },
    {
      "cell_type": "markdown",
      "metadata": {
        "id": "vbq6p0fw5zYA"
      },
      "source": [
        "Next, we are going to retrieve Olivetti faces dataset.\n",
        "\n",
        "When working with some datasets, before digging into further analysis, it is almost always\n",
        "useful to do a few things to understand your dataset. First of all, answer the following\n",
        "set of questions:\n",
        "\n",
        "1. What is the size of your dataset?\n",
        "2. What is the dimensionality of your data?\n",
        "\n",
        "The dataset we have are usually stored as 2D matrices, then it would be really important\n",
        "to know which dimension represents the dimension of the dataset, and which represents\n",
        "the data points in the dataset. \n",
        "\n",
        "__When you implement the functions for your assignment, make sure you read\n",
        "the docstring for what each dimension of your inputs represents the data points, and which \n",
        "represents the dimensions of the dataset!__. For this assignment, our data is organized as\n",
        "__(D,N)__, where D is the dimensionality of the samples and N is the number of samples."
      ]
    },
    {
      "cell_type": "code",
      "execution_count": 4,
      "metadata": {
        "colab": {
          "base_uri": "https://localhost:8080/"
        },
        "id": "xrnp8ZuZ5zYA",
        "outputId": "19926af3-0625-4d4f-ca74-8c5e16adb817"
      },
      "outputs": [
        {
          "output_type": "stream",
          "name": "stdout",
          "text": [
            "downloading Olivetti faces from https://ndownloader.figshare.com/files/5976027 to /root/scikit_learn_data\n",
            "Shape of the faces dataset: (4096, 400)\n",
            "400 data points\n"
          ]
        }
      ],
      "source": [
        "image_shape = (64, 64)\n",
        "# Load faces data\n",
        "dataset = fetch_olivetti_faces()\n",
        "faces = dataset.data.T\n",
        "\n",
        "print('Shape of the faces dataset: {}'.format(faces.shape))\n",
        "print('{} data points'.format(faces.shape[1]))"
      ]
    },
    {
      "cell_type": "markdown",
      "metadata": {
        "id": "bwdXl0ZH5zYC"
      },
      "source": [
        "When your dataset are images, it's a really good idea to see what they look like.\n",
        "\n",
        "One very\n",
        "convenient tool in Jupyter is the `interact` widget, which we use to visualize the images (faces). For more information on how to use interact, have a look at the documentation [here](http://ipywidgets.readthedocs.io/en/stable/examples/Using%20Interact.html).\n",
        "\n",
        "We have created two function which help you visuzlie the faces dataset. You do not need to modify them."
      ]
    },
    {
      "cell_type": "code",
      "execution_count": 6,
      "metadata": {
        "id": "B766Q2dV5zYD"
      },
      "outputs": [],
      "source": [
        "def show_face(face):\n",
        "    plt.figure()\n",
        "    plt.imshow(face.reshape((64, 64)), cmap='gray')\n",
        "    plt.show()"
      ]
    },
    {
      "cell_type": "code",
      "execution_count": 7,
      "metadata": {
        "scrolled": true,
        "colab": {
          "base_uri": "https://localhost:8080/",
          "height": 296,
          "referenced_widgets": [
            "39398dc91a5147b09c4bd920ba0c2449",
            "065c80cac77e48a79ba74ff3687deb24",
            "9e66df6865974ac294de48e24c93ae3f",
            "bb7b9b76f7a94ac88a727ac5cf715e0f",
            "8f2789b4cea2407a91ba0bd7229b45a9",
            "422d6228e376407695063b343b6eee8c",
            "809348b1e6e540afaef721814ec7cd63"
          ]
        },
        "id": "zSYfFpbI5zYE",
        "outputId": "e170a525-f6e4-4859-87da-193de3901ccc"
      },
      "outputs": [
        {
          "output_type": "display_data",
          "data": {
            "text/plain": [
              "interactive(children=(IntSlider(value=0, description='n', max=399), Output()), _dom_classes=('widget-interact'…"
            ],
            "application/vnd.jupyter.widget-view+json": {
              "version_major": 2,
              "version_minor": 0,
              "model_id": "39398dc91a5147b09c4bd920ba0c2449"
            }
          },
          "metadata": {}
        }
      ],
      "source": [
        "@interact(n=(0, faces.shape[1]-1))\n",
        "def display_faces(n=0):\n",
        "    plt.figure()\n",
        "    plt.imshow(faces[:,n].reshape((64, 64)), cmap='gray')\n",
        "    plt.show()"
      ]
    },
    {
      "cell_type": "markdown",
      "metadata": {
        "id": "p8IR_Goh5zYE"
      },
      "source": [
        "## 1. Mean and Covariance of a Dataset"
      ]
    },
    {
      "cell_type": "markdown",
      "metadata": {
        "id": "Az4hFTzE5zYF"
      },
      "source": [
        "In this week, you will need to implement functions in the cell below which compute the mean and covariance of a dataset.\n",
        "\n",
        "You will implement both mean and covariance in two different ways. First, we will implement them using Python's for loops to iterate over the entire dataset. Later, you will learn to take advantage of Numpy and use its library routines. In the end, we will compare the speed differences between the different approaches."
      ]
    },
    {
      "cell_type": "code",
      "execution_count": 8,
      "metadata": {
        "id": "iXlgts5K5zYG"
      },
      "outputs": [],
      "source": [
        "# GRADED FUNCTION: DO NOT EDIT THIS LINE\n",
        "\n",
        "def mean_naive(X):\n",
        "    \"Compute the mean for a dataset X nby iterating over the data points\"\n",
        "    # X is of size (D,N) where D is the dimensionality and N the number of data points\n",
        "    N, D = X.shape\n",
        "    mean = np.zeros(D)\n",
        "    for n in range(N):\n",
        "        for i in range(D):\n",
        "            mean[i] = mean[i] + X[n, i]\n",
        "    \n",
        "    mean = mean/N\n",
        "    return mean\n",
        "\n",
        "def cov_naive(X):\n",
        "    \"\"\"Compute the covariance for a dataset of size (D,N) \n",
        "    where D is the dimension and N is the number of data points\"\"\"\n",
        "    N, D = X.shape\n",
        "    covariance = np.zeros((D, D))\n",
        "    mat = np.zeros((N, D))\n",
        "    mean = mean_naive(X)\n",
        "    for i in range(N):\n",
        "        mat[i] = X[i,:] - mean\n",
        "    for i in range(D):\n",
        "        for j in range(D):\n",
        "            covariance[i, j] = covariance[i, j] + mat[:,i]@mat[:,j]\n",
        "    return covariance/N\n",
        "\n",
        "def mean(X):\n",
        "    \"Compute the mean for a dataset of size (D,N) where D is the dimension and N is the number of data points\"\n",
        "    # given a dataset of size (D, N), the mean should be an array of size (D,1)\n",
        "    # you can use np.mean, but pay close attention to the shape of the mean vector you are returning.\n",
        "    D, N = X.shape\n",
        "    ### Edit the code to compute a (D,1) array `mean` for the mean of dataset.\n",
        "    mean = np.zeros((D,1))\n",
        "    ### Update mean here\n",
        "    mean = np.mean(X, axis=1).reshape(-1,1)\n",
        "    ###\n",
        "    return mean\n",
        "\n",
        "def cov(X):\n",
        "    \"Compute the covariance for a dataset\"\n",
        "    # X is of size (D,N)\n",
        "    # It is possible to vectorize our code for computing the covariance with matrix multiplications,\n",
        "    # i.e., we do not need to explicitly\n",
        "    # iterate over the entire dataset as looping in Python tends to be slow\n",
        "    # We challenge you to give a vectorized implementation without using np.cov, but if you choose to use np.cov,\n",
        "    # be sure to pass in bias=True.\n",
        "    D, N = X.shape\n",
        "    ### Edit the code to compute the covariance matrix\n",
        "    covariance_matrix = np.zeros((D, D))\n",
        "    ### Update covariance_matrix here\n",
        "    covariance_matrix = np.cov(X, rowvar=False, bias=True) # EDIT THIS\n",
        "    return covariance_matrix"
      ]
    },
    {
      "cell_type": "markdown",
      "metadata": {
        "id": "UHIyRnQy5zYH"
      },
      "source": [
        "Now, let's see whether our implementations are consistent"
      ]
    },
    {
      "cell_type": "code",
      "execution_count": 9,
      "metadata": {
        "colab": {
          "base_uri": "https://localhost:8080/",
          "height": 658
        },
        "id": "lnAr0tSD5zYH",
        "outputId": "8f184731-6b96-4797-f0f3-f5260e8de6b1"
      },
      "outputs": [
        {
          "output_type": "stream",
          "name": "stdout",
          "text": [
            "X:\n",
            " [[0 1 2]\n",
            " [3 4 5]]\n",
            "Expected mean:\n",
            " [[1.]\n",
            " [4.]]\n",
            "Expected covariance:\n",
            " [[0.66666667 0.66666667]\n",
            " [0.66666667 0.66666667]]\n"
          ]
        },
        {
          "output_type": "error",
          "ename": "AssertionError",
          "evalue": "ignored",
          "traceback": [
            "\u001b[0;31m---------------------------------------------------------------------------\u001b[0m",
            "\u001b[0;31mAssertionError\u001b[0m                            Traceback (most recent call last)",
            "\u001b[0;32m<ipython-input-9-6a6498089109>\u001b[0m in \u001b[0;36m<module>\u001b[0;34m()\u001b[0m\n\u001b[1;32m      9\u001b[0m \u001b[0;34m\u001b[0m\u001b[0m\n\u001b[1;32m     10\u001b[0m \u001b[0mnp\u001b[0m\u001b[0;34m.\u001b[0m\u001b[0mtesting\u001b[0m\u001b[0;34m.\u001b[0m\u001b[0massert_almost_equal\u001b[0m\u001b[0;34m(\u001b[0m\u001b[0mmean\u001b[0m\u001b[0;34m(\u001b[0m\u001b[0mX_test\u001b[0m\u001b[0;34m)\u001b[0m\u001b[0;34m,\u001b[0m \u001b[0mexpected_test_mean\u001b[0m\u001b[0;34m)\u001b[0m\u001b[0;34m\u001b[0m\u001b[0;34m\u001b[0m\u001b[0m\n\u001b[0;32m---> 11\u001b[0;31m \u001b[0mnp\u001b[0m\u001b[0;34m.\u001b[0m\u001b[0mtesting\u001b[0m\u001b[0;34m.\u001b[0m\u001b[0massert_almost_equal\u001b[0m\u001b[0;34m(\u001b[0m\u001b[0mmean_naive\u001b[0m\u001b[0;34m(\u001b[0m\u001b[0mX_test\u001b[0m\u001b[0;34m)\u001b[0m\u001b[0;34m,\u001b[0m \u001b[0mexpected_test_mean\u001b[0m\u001b[0;34m)\u001b[0m\u001b[0;34m\u001b[0m\u001b[0;34m\u001b[0m\u001b[0m\n\u001b[0m\u001b[1;32m     12\u001b[0m \u001b[0;34m\u001b[0m\u001b[0m\n\u001b[1;32m     13\u001b[0m \u001b[0mnp\u001b[0m\u001b[0;34m.\u001b[0m\u001b[0mtesting\u001b[0m\u001b[0;34m.\u001b[0m\u001b[0massert_almost_equal\u001b[0m\u001b[0;34m(\u001b[0m\u001b[0mcov\u001b[0m\u001b[0;34m(\u001b[0m\u001b[0mX_test\u001b[0m\u001b[0;34m)\u001b[0m\u001b[0;34m,\u001b[0m \u001b[0mexpected_test_cov\u001b[0m\u001b[0;34m)\u001b[0m\u001b[0;34m\u001b[0m\u001b[0;34m\u001b[0m\u001b[0m\n",
            "\u001b[0;32m/usr/local/lib/python3.7/dist-packages/numpy/testing/_private/utils.py\u001b[0m in \u001b[0;36massert_almost_equal\u001b[0;34m(actual, desired, decimal, err_msg, verbose)\u001b[0m\n\u001b[1;32m    581\u001b[0m     \u001b[0;32mif\u001b[0m \u001b[0misinstance\u001b[0m\u001b[0;34m(\u001b[0m\u001b[0mactual\u001b[0m\u001b[0;34m,\u001b[0m \u001b[0;34m(\u001b[0m\u001b[0mndarray\u001b[0m\u001b[0;34m,\u001b[0m \u001b[0mtuple\u001b[0m\u001b[0;34m,\u001b[0m \u001b[0mlist\u001b[0m\u001b[0;34m)\u001b[0m\u001b[0;34m)\u001b[0m\u001b[0;31m \u001b[0m\u001b[0;31m\\\u001b[0m\u001b[0;34m\u001b[0m\u001b[0;34m\u001b[0m\u001b[0m\n\u001b[1;32m    582\u001b[0m             \u001b[0;32mor\u001b[0m \u001b[0misinstance\u001b[0m\u001b[0;34m(\u001b[0m\u001b[0mdesired\u001b[0m\u001b[0;34m,\u001b[0m \u001b[0;34m(\u001b[0m\u001b[0mndarray\u001b[0m\u001b[0;34m,\u001b[0m \u001b[0mtuple\u001b[0m\u001b[0;34m,\u001b[0m \u001b[0mlist\u001b[0m\u001b[0;34m)\u001b[0m\u001b[0;34m)\u001b[0m\u001b[0;34m:\u001b[0m\u001b[0;34m\u001b[0m\u001b[0;34m\u001b[0m\u001b[0m\n\u001b[0;32m--> 583\u001b[0;31m         \u001b[0;32mreturn\u001b[0m \u001b[0massert_array_almost_equal\u001b[0m\u001b[0;34m(\u001b[0m\u001b[0mactual\u001b[0m\u001b[0;34m,\u001b[0m \u001b[0mdesired\u001b[0m\u001b[0;34m,\u001b[0m \u001b[0mdecimal\u001b[0m\u001b[0;34m,\u001b[0m \u001b[0merr_msg\u001b[0m\u001b[0;34m)\u001b[0m\u001b[0;34m\u001b[0m\u001b[0;34m\u001b[0m\u001b[0m\n\u001b[0m\u001b[1;32m    584\u001b[0m     \u001b[0;32mtry\u001b[0m\u001b[0;34m:\u001b[0m\u001b[0;34m\u001b[0m\u001b[0;34m\u001b[0m\u001b[0m\n\u001b[1;32m    585\u001b[0m         \u001b[0;31m# If one of desired/actual is not finite, handle it specially here:\u001b[0m\u001b[0;34m\u001b[0m\u001b[0;34m\u001b[0m\u001b[0;34m\u001b[0m\u001b[0m\n",
            "\u001b[0;32m/usr/local/lib/python3.7/dist-packages/numpy/testing/_private/utils.py\u001b[0m in \u001b[0;36massert_array_almost_equal\u001b[0;34m(x, y, decimal, err_msg, verbose)\u001b[0m\n\u001b[1;32m   1046\u001b[0m     assert_array_compare(compare, x, y, err_msg=err_msg, verbose=verbose,\n\u001b[1;32m   1047\u001b[0m              \u001b[0mheader\u001b[0m\u001b[0;34m=\u001b[0m\u001b[0;34m(\u001b[0m\u001b[0;34m'Arrays are not almost equal to %d decimals'\u001b[0m \u001b[0;34m%\u001b[0m \u001b[0mdecimal\u001b[0m\u001b[0;34m)\u001b[0m\u001b[0;34m,\u001b[0m\u001b[0;34m\u001b[0m\u001b[0;34m\u001b[0m\u001b[0m\n\u001b[0;32m-> 1048\u001b[0;31m              precision=decimal)\n\u001b[0m\u001b[1;32m   1049\u001b[0m \u001b[0;34m\u001b[0m\u001b[0m\n\u001b[1;32m   1050\u001b[0m \u001b[0;34m\u001b[0m\u001b[0m\n",
            "\u001b[0;32m/usr/local/lib/python3.7/dist-packages/numpy/testing/_private/utils.py\u001b[0m in \u001b[0;36massert_array_compare\u001b[0;34m(comparison, x, y, err_msg, verbose, header, precision, equal_nan, equal_inf)\u001b[0m\n\u001b[1;32m    761\u001b[0m                                 \u001b[0mverbose\u001b[0m\u001b[0;34m=\u001b[0m\u001b[0mverbose\u001b[0m\u001b[0;34m,\u001b[0m \u001b[0mheader\u001b[0m\u001b[0;34m=\u001b[0m\u001b[0mheader\u001b[0m\u001b[0;34m,\u001b[0m\u001b[0;34m\u001b[0m\u001b[0;34m\u001b[0m\u001b[0m\n\u001b[1;32m    762\u001b[0m                                 names=('x', 'y'), precision=precision)\n\u001b[0;32m--> 763\u001b[0;31m             \u001b[0;32mraise\u001b[0m \u001b[0mAssertionError\u001b[0m\u001b[0;34m(\u001b[0m\u001b[0mmsg\u001b[0m\u001b[0;34m)\u001b[0m\u001b[0;34m\u001b[0m\u001b[0;34m\u001b[0m\u001b[0m\n\u001b[0m\u001b[1;32m    764\u001b[0m \u001b[0;34m\u001b[0m\u001b[0m\n\u001b[1;32m    765\u001b[0m         \u001b[0mflagged\u001b[0m \u001b[0;34m=\u001b[0m \u001b[0mbool_\u001b[0m\u001b[0;34m(\u001b[0m\u001b[0;32mFalse\u001b[0m\u001b[0;34m)\u001b[0m\u001b[0;34m\u001b[0m\u001b[0;34m\u001b[0m\u001b[0m\n",
            "\u001b[0;31mAssertionError\u001b[0m: \nArrays are not almost equal to 7 decimals\n\n(shapes (3,), (2, 1) mismatch)\n x: array([1.5, 2.5, 3.5])\n y: array([[1.],\n       [4.]])"
          ]
        }
      ],
      "source": [
        "# Let's first test the functions on some hand-crafted dataset.\n",
        "\n",
        "X_test = np.arange(6).reshape(2,3)\n",
        "expected_test_mean = np.array([1., 4.]).reshape(-1, 1)\n",
        "expected_test_cov = np.array([[2/3., 2/3.], [2/3.,2/3.]])\n",
        "print('X:\\n', X_test)\n",
        "print('Expected mean:\\n', expected_test_mean)\n",
        "print('Expected covariance:\\n', expected_test_cov)\n",
        "\n",
        "np.testing.assert_almost_equal(mean(X_test), expected_test_mean)\n",
        "np.testing.assert_almost_equal(mean_naive(X_test), expected_test_mean)\n",
        "\n",
        "np.testing.assert_almost_equal(cov(X_test), expected_test_cov)\n",
        "np.testing.assert_almost_equal(cov_naive(X_test), expected_test_cov)"
      ]
    },
    {
      "cell_type": "markdown",
      "metadata": {
        "id": "sl6SPzbv5zYI"
      },
      "source": [
        "We now test that both implementation should give identical results running on the faces dataset."
      ]
    },
    {
      "cell_type": "code",
      "execution_count": 10,
      "metadata": {
        "colab": {
          "base_uri": "https://localhost:8080/",
          "height": 502
        },
        "id": "0BkaB56E5zYJ",
        "outputId": "56f86233-2777-4c5f-c7e1-4c957125246d"
      },
      "outputs": [
        {
          "output_type": "error",
          "ename": "AssertionError",
          "evalue": "ignored",
          "traceback": [
            "\u001b[0;31m---------------------------------------------------------------------------\u001b[0m",
            "\u001b[0;31mAssertionError\u001b[0m                            Traceback (most recent call last)",
            "\u001b[0;32m<ipython-input-10-a64552c1180b>\u001b[0m in \u001b[0;36m<module>\u001b[0;34m()\u001b[0m\n\u001b[0;32m----> 1\u001b[0;31m \u001b[0mnp\u001b[0m\u001b[0;34m.\u001b[0m\u001b[0mtesting\u001b[0m\u001b[0;34m.\u001b[0m\u001b[0massert_almost_equal\u001b[0m\u001b[0;34m(\u001b[0m\u001b[0mmean\u001b[0m\u001b[0;34m(\u001b[0m\u001b[0mfaces\u001b[0m\u001b[0;34m)\u001b[0m\u001b[0;34m,\u001b[0m \u001b[0mmean_naive\u001b[0m\u001b[0;34m(\u001b[0m\u001b[0mfaces\u001b[0m\u001b[0;34m)\u001b[0m\u001b[0;34m,\u001b[0m \u001b[0mdecimal\u001b[0m\u001b[0;34m=\u001b[0m\u001b[0;36m6\u001b[0m\u001b[0;34m)\u001b[0m\u001b[0;34m\u001b[0m\u001b[0;34m\u001b[0m\u001b[0m\n\u001b[0m\u001b[1;32m      2\u001b[0m \u001b[0mnp\u001b[0m\u001b[0;34m.\u001b[0m\u001b[0mtesting\u001b[0m\u001b[0;34m.\u001b[0m\u001b[0massert_almost_equal\u001b[0m\u001b[0;34m(\u001b[0m\u001b[0mcov\u001b[0m\u001b[0;34m(\u001b[0m\u001b[0mfaces\u001b[0m\u001b[0;34m)\u001b[0m\u001b[0;34m,\u001b[0m \u001b[0mcov_naive\u001b[0m\u001b[0;34m(\u001b[0m\u001b[0mfaces\u001b[0m\u001b[0;34m)\u001b[0m\u001b[0;34m)\u001b[0m\u001b[0;34m\u001b[0m\u001b[0;34m\u001b[0m\u001b[0m\n",
            "\u001b[0;32m/usr/local/lib/python3.7/dist-packages/numpy/testing/_private/utils.py\u001b[0m in \u001b[0;36massert_almost_equal\u001b[0;34m(actual, desired, decimal, err_msg, verbose)\u001b[0m\n\u001b[1;32m    581\u001b[0m     \u001b[0;32mif\u001b[0m \u001b[0misinstance\u001b[0m\u001b[0;34m(\u001b[0m\u001b[0mactual\u001b[0m\u001b[0;34m,\u001b[0m \u001b[0;34m(\u001b[0m\u001b[0mndarray\u001b[0m\u001b[0;34m,\u001b[0m \u001b[0mtuple\u001b[0m\u001b[0;34m,\u001b[0m \u001b[0mlist\u001b[0m\u001b[0;34m)\u001b[0m\u001b[0;34m)\u001b[0m\u001b[0;31m \u001b[0m\u001b[0;31m\\\u001b[0m\u001b[0;34m\u001b[0m\u001b[0;34m\u001b[0m\u001b[0m\n\u001b[1;32m    582\u001b[0m             \u001b[0;32mor\u001b[0m \u001b[0misinstance\u001b[0m\u001b[0;34m(\u001b[0m\u001b[0mdesired\u001b[0m\u001b[0;34m,\u001b[0m \u001b[0;34m(\u001b[0m\u001b[0mndarray\u001b[0m\u001b[0;34m,\u001b[0m \u001b[0mtuple\u001b[0m\u001b[0;34m,\u001b[0m \u001b[0mlist\u001b[0m\u001b[0;34m)\u001b[0m\u001b[0;34m)\u001b[0m\u001b[0;34m:\u001b[0m\u001b[0;34m\u001b[0m\u001b[0;34m\u001b[0m\u001b[0m\n\u001b[0;32m--> 583\u001b[0;31m         \u001b[0;32mreturn\u001b[0m \u001b[0massert_array_almost_equal\u001b[0m\u001b[0;34m(\u001b[0m\u001b[0mactual\u001b[0m\u001b[0;34m,\u001b[0m \u001b[0mdesired\u001b[0m\u001b[0;34m,\u001b[0m \u001b[0mdecimal\u001b[0m\u001b[0;34m,\u001b[0m \u001b[0merr_msg\u001b[0m\u001b[0;34m)\u001b[0m\u001b[0;34m\u001b[0m\u001b[0;34m\u001b[0m\u001b[0m\n\u001b[0m\u001b[1;32m    584\u001b[0m     \u001b[0;32mtry\u001b[0m\u001b[0;34m:\u001b[0m\u001b[0;34m\u001b[0m\u001b[0;34m\u001b[0m\u001b[0m\n\u001b[1;32m    585\u001b[0m         \u001b[0;31m# If one of desired/actual is not finite, handle it specially here:\u001b[0m\u001b[0;34m\u001b[0m\u001b[0;34m\u001b[0m\u001b[0;34m\u001b[0m\u001b[0m\n",
            "\u001b[0;32m/usr/local/lib/python3.7/dist-packages/numpy/testing/_private/utils.py\u001b[0m in \u001b[0;36massert_array_almost_equal\u001b[0;34m(x, y, decimal, err_msg, verbose)\u001b[0m\n\u001b[1;32m   1046\u001b[0m     assert_array_compare(compare, x, y, err_msg=err_msg, verbose=verbose,\n\u001b[1;32m   1047\u001b[0m              \u001b[0mheader\u001b[0m\u001b[0;34m=\u001b[0m\u001b[0;34m(\u001b[0m\u001b[0;34m'Arrays are not almost equal to %d decimals'\u001b[0m \u001b[0;34m%\u001b[0m \u001b[0mdecimal\u001b[0m\u001b[0;34m)\u001b[0m\u001b[0;34m,\u001b[0m\u001b[0;34m\u001b[0m\u001b[0;34m\u001b[0m\u001b[0m\n\u001b[0;32m-> 1048\u001b[0;31m              precision=decimal)\n\u001b[0m\u001b[1;32m   1049\u001b[0m \u001b[0;34m\u001b[0m\u001b[0m\n\u001b[1;32m   1050\u001b[0m \u001b[0;34m\u001b[0m\u001b[0m\n",
            "\u001b[0;32m/usr/local/lib/python3.7/dist-packages/numpy/testing/_private/utils.py\u001b[0m in \u001b[0;36massert_array_compare\u001b[0;34m(comparison, x, y, err_msg, verbose, header, precision, equal_nan, equal_inf)\u001b[0m\n\u001b[1;32m    761\u001b[0m                                 \u001b[0mverbose\u001b[0m\u001b[0;34m=\u001b[0m\u001b[0mverbose\u001b[0m\u001b[0;34m,\u001b[0m \u001b[0mheader\u001b[0m\u001b[0;34m=\u001b[0m\u001b[0mheader\u001b[0m\u001b[0;34m,\u001b[0m\u001b[0;34m\u001b[0m\u001b[0;34m\u001b[0m\u001b[0m\n\u001b[1;32m    762\u001b[0m                                 names=('x', 'y'), precision=precision)\n\u001b[0;32m--> 763\u001b[0;31m             \u001b[0;32mraise\u001b[0m \u001b[0mAssertionError\u001b[0m\u001b[0;34m(\u001b[0m\u001b[0mmsg\u001b[0m\u001b[0;34m)\u001b[0m\u001b[0;34m\u001b[0m\u001b[0;34m\u001b[0m\u001b[0m\n\u001b[0m\u001b[1;32m    764\u001b[0m \u001b[0;34m\u001b[0m\u001b[0m\n\u001b[1;32m    765\u001b[0m         \u001b[0mflagged\u001b[0m \u001b[0;34m=\u001b[0m \u001b[0mbool_\u001b[0m\u001b[0;34m(\u001b[0m\u001b[0;32mFalse\u001b[0m\u001b[0;34m)\u001b[0m\u001b[0;34m\u001b[0m\u001b[0;34m\u001b[0m\u001b[0m\n",
            "\u001b[0;31mAssertionError\u001b[0m: \nArrays are not almost equal to 6 decimals\n\n(shapes (4096, 1), (400,) mismatch)\n x: array([[0.400134],\n       [0.434235],\n       [0.476281],...\n y: array([0.636847, 0.589404, 0.622834, 0.580938, 0.609376, 0.608501,\n       0.638858, 0.606978, 0.649984, 0.58172 , 0.562157, 0.573281,\n       0.558868, 0.551181, 0.574411, 0.563139, 0.527648, 0.542386,..."
          ]
        }
      ],
      "source": [
        "np.testing.assert_almost_equal(mean(faces), mean_naive(faces), decimal=6)\n",
        "np.testing.assert_almost_equal(cov(faces), cov_naive(faces))"
      ]
    },
    {
      "cell_type": "markdown",
      "metadata": {
        "id": "06KWnJ485zYJ"
      },
      "source": [
        "With the `mean` function implemented, let's take a look at the _mean_ face of our dataset!"
      ]
    },
    {
      "cell_type": "code",
      "execution_count": 11,
      "metadata": {
        "colab": {
          "base_uri": "https://localhost:8080/",
          "height": 264
        },
        "id": "yr3wPObd5zYK",
        "outputId": "1a58dcf2-4369-4d27-ce96-d813b8886f03"
      },
      "outputs": [
        {
          "output_type": "display_data",
          "data": {
            "text/plain": [
              "<Figure size 432x288 with 1 Axes>"
            ],
            "image/png": "[encoded data removed]"
          },
          "metadata": {
            "needs_background": "light"
          }
        }
      ],
      "source": [
        "def mean_face(faces):\n",
        "    return faces.mean(axis=1).reshape((64, 64))\n",
        "\n",
        "plt.imshow(mean_face(faces), cmap='gray');"
      ]
    },
    {
      "cell_type": "markdown",
      "metadata": {
        "id": "vUhKdrCI5zYK"
      },
      "source": [
        "Loops in Python are slow, and most of the time you want to utilise the fast native code provided by Numpy without explicitly using\n",
        "for loops. To put things into perspective, we can benchmark the two different implementation with the `%time` function\n",
        "in the following way:"
      ]
    },
    {
      "cell_type": "code",
      "execution_count": 12,
      "metadata": {
        "scrolled": true,
        "colab": {
          "base_uri": "https://localhost:8080/"
        },
        "id": "AmgGEXLi5zYL",
        "outputId": "b604e10b-9584-48d1-9f40-36c0bf63e794"
      },
      "outputs": [
        {
          "output_type": "stream",
          "name": "stdout",
          "text": [
            "CPU times: user 10.3 ms, sys: 0 ns, total: 10.3 ms\n",
            "Wall time: 15.1 ms\n",
            "CPU times: user 1.27 ms, sys: 0 ns, total: 1.27 ms\n",
            "Wall time: 1.08 ms\n"
          ]
        }
      ],
      "source": [
        "# We have some HUUUGE data matrix which we want to compute its mean\n",
        "X = np.random.randn(20, 1000)\n",
        "# Benchmarking time for computing mean\n",
        "%time mean_naive(X)\n",
        "%time mean(X)\n",
        "pass"
      ]
    },
    {
      "cell_type": "code",
      "execution_count": 13,
      "metadata": {
        "scrolled": false,
        "colab": {
          "base_uri": "https://localhost:8080/"
        },
        "id": "ik8V-A2d5zYM",
        "outputId": "cb3fe67e-4cdb-4607-cce6-5d055026b51e"
      },
      "outputs": [
        {
          "output_type": "stream",
          "name": "stdout",
          "text": [
            "CPU times: user 2.14 s, sys: 13.4 ms, total: 2.15 s\n",
            "Wall time: 2.17 s\n",
            "CPU times: user 12.5 ms, sys: 3.22 ms, total: 15.7 ms\n",
            "Wall time: 9.7 ms\n"
          ]
        }
      ],
      "source": [
        "# Benchmarking time for computing covariance\n",
        "%time cov_naive(X)\n",
        "%time cov(X)\n",
        "pass"
      ]
    },
    {
      "cell_type": "markdown",
      "metadata": {
        "id": "rLEPnBXb5zYM"
      },
      "source": [
        "As you can see, using Numpy's functions makes the code much faster! Therefore, whenever you can use something that's implemented in Numpy, be sure that you take advantage of that."
      ]
    },
    {
      "cell_type": "markdown",
      "metadata": {
        "id": "bjhh8Xq05zYN"
      },
      "source": [
        "## 2. Affine Transformation of Datasets\n",
        "In this week we are also going to verify a few properties about the mean and\n",
        "covariance of affine transformation of random variables.\n",
        "\n",
        "Consider a data matrix $\\boldsymbol X$ of size $(D, N)$. We would like to know\n",
        "what is the covariance when we apply affine transformation $\\boldsymbol A\\boldsymbol x_i + \\boldsymbol b$ for each datapoint $\\boldsymbol x_i$ in $\\boldsymbol X$, i.e.,\n",
        "we would like to know what happens to the mean and covariance for the new dataset if we apply affine transformation.\n",
        "\n",
        "For this assignment, you will need to implement the `affine_mean` and `affine_covariance` in the cell below."
      ]
    },
    {
      "cell_type": "code",
      "execution_count": 14,
      "metadata": {
        "id": "AhSlVh_J5zYN"
      },
      "outputs": [],
      "source": [
        "# GRADED FUNCTION: DO NOT EDIT THIS LINE\n",
        "def affine_mean(mean, A, b):\n",
        "    \"\"\"Compute the mean after affine transformation\n",
        "    Args:\n",
        "        x: ndarray, the mean vector\n",
        "        A, b: affine transformation applied to x\n",
        "    Returns:\n",
        "        mean vector after affine transformation\n",
        "    \"\"\"\n",
        "    ### Edit the code below to compute the mean vector after affine transformation\n",
        "    affine_m = np.zeros(mean.shape) # affine_m has shape (D, 1)\n",
        "    ### Update affine_m\n",
        "    affine_m = A @ mean + b\n",
        "    ###\n",
        "    return affine_m\n",
        "\n",
        "def affine_covariance(S, A, b):\n",
        "    \"\"\"Compute the covariance matrix after affine transformation\n",
        "    Args:\n",
        "        S: ndarray, the covariance matrix\n",
        "        A, b: affine transformation applied to each element in X        \n",
        "    Returns:\n",
        "        covariance matrix after the transformation\n",
        "    \"\"\"\n",
        "    ### EDIT the code below to compute the covariance matrix after affine transformation\n",
        "    affine_cov = np.zeros(S.shape) # affine_cov has shape (D, D)\n",
        "    ### Update affine_cov\n",
        "    affine_cov = A @ S @ A.T\n",
        "    ###\n",
        "    return affine_cov"
      ]
    },
    {
      "cell_type": "markdown",
      "metadata": {
        "id": "AoAj_K-q5zYO"
      },
      "source": [
        "Once the two functions above are implemented, we can verify the correctness our implementation. Assuming that we have some $\\boldsymbol A$ and $\\boldsymbol b$."
      ]
    },
    {
      "cell_type": "code",
      "execution_count": 15,
      "metadata": {
        "id": "3Rz0UTA05zYO"
      },
      "outputs": [],
      "source": [
        "random = np.random.RandomState(42)\n",
        "A = random.randn(4,4)\n",
        "b = random.randn(4,1)"
      ]
    },
    {
      "cell_type": "markdown",
      "metadata": {
        "id": "n_4HFHJA5zYO"
      },
      "source": [
        "Next we can generate some random matrix $\\boldsymbol X$."
      ]
    },
    {
      "cell_type": "code",
      "execution_count": 16,
      "metadata": {
        "id": "RmmKaP4W5zYP"
      },
      "outputs": [],
      "source": [
        "X = random.randn(4,100) # D = 4, N = 100"
      ]
    },
    {
      "cell_type": "markdown",
      "metadata": {
        "id": "edy3bt1u5zYP"
      },
      "source": [
        "Assuming that for some dataset $\\boldsymbol X$, the mean and covariance are $\\boldsymbol m$, $\\boldsymbol S$, and for the new dataset after affine transformation $\\boldsymbol X'$, the mean and covariance are $\\boldsymbol m'$ and $\\boldsymbol S'$, then we would have the following identity:\n",
        "\n",
        "$$\\boldsymbol m' = \\text{affine_mean}(\\boldsymbol m, \\boldsymbol A, \\boldsymbol b)$$\n",
        "\n",
        "$$\\boldsymbol S' = \\text{affine_covariance}(\\boldsymbol S, \\boldsymbol A, \\boldsymbol b)$$"
      ]
    },
    {
      "cell_type": "code",
      "execution_count": 17,
      "metadata": {
        "id": "a3OQG7qR5zYQ"
      },
      "outputs": [],
      "source": [
        "X1 = (A @ X) + b  # applying affine transformation to each sample in X\n",
        "X2 = (A @ X1) + b # twice"
      ]
    },
    {
      "cell_type": "markdown",
      "metadata": {
        "id": "ISq8CrIy5zYQ"
      },
      "source": [
        "One very useful way to compare whether arrays are equal/similar is use the helper functions\n",
        "in `numpy.testing`.\n",
        "\n",
        "Check the Numpy [documentation](https://docs.scipy.org/doc/numpy-1.13.0/reference/routines.testing.html)\n",
        "for details. The mostly used function is `np.testing.assert_almost_equal`, which raises AssertionError if the two arrays are not almost equal."
      ]
    },
    {
      "cell_type": "code",
      "execution_count": 18,
      "metadata": {
        "colab": {
          "base_uri": "https://localhost:8080/",
          "height": 304
        },
        "id": "Dvgt5zpo5zYQ",
        "outputId": "6d08f923-3985-4b10-c200-c43e2c321e85"
      },
      "outputs": [
        {
          "output_type": "error",
          "ename": "ValueError",
          "evalue": "ignored",
          "traceback": [
            "\u001b[0;31m---------------------------------------------------------------------------\u001b[0m",
            "\u001b[0;31mValueError\u001b[0m                                Traceback (most recent call last)",
            "\u001b[0;32m<ipython-input-18-0240aaa37804>\u001b[0m in \u001b[0;36m<module>\u001b[0;34m()\u001b[0m\n\u001b[1;32m      1\u001b[0m \u001b[0mnp\u001b[0m\u001b[0;34m.\u001b[0m\u001b[0mtesting\u001b[0m\u001b[0;34m.\u001b[0m\u001b[0massert_almost_equal\u001b[0m\u001b[0;34m(\u001b[0m\u001b[0mmean\u001b[0m\u001b[0;34m(\u001b[0m\u001b[0mX1\u001b[0m\u001b[0;34m)\u001b[0m\u001b[0;34m,\u001b[0m \u001b[0maffine_mean\u001b[0m\u001b[0;34m(\u001b[0m\u001b[0mmean\u001b[0m\u001b[0;34m(\u001b[0m\u001b[0mX\u001b[0m\u001b[0;34m)\u001b[0m\u001b[0;34m,\u001b[0m \u001b[0mA\u001b[0m\u001b[0;34m,\u001b[0m \u001b[0mb\u001b[0m\u001b[0;34m)\u001b[0m\u001b[0;34m)\u001b[0m\u001b[0;34m\u001b[0m\u001b[0;34m\u001b[0m\u001b[0m\n\u001b[0;32m----> 2\u001b[0;31m \u001b[0mnp\u001b[0m\u001b[0;34m.\u001b[0m\u001b[0mtesting\u001b[0m\u001b[0;34m.\u001b[0m\u001b[0massert_almost_equal\u001b[0m\u001b[0;34m(\u001b[0m\u001b[0mcov\u001b[0m\u001b[0;34m(\u001b[0m\u001b[0mX1\u001b[0m\u001b[0;34m)\u001b[0m\u001b[0;34m,\u001b[0m  \u001b[0maffine_covariance\u001b[0m\u001b[0;34m(\u001b[0m\u001b[0mcov\u001b[0m\u001b[0;34m(\u001b[0m\u001b[0mX\u001b[0m\u001b[0;34m)\u001b[0m\u001b[0;34m,\u001b[0m \u001b[0mA\u001b[0m\u001b[0;34m,\u001b[0m \u001b[0mb\u001b[0m\u001b[0;34m)\u001b[0m\u001b[0;34m)\u001b[0m\u001b[0;34m\u001b[0m\u001b[0;34m\u001b[0m\u001b[0m\n\u001b[0m",
            "\u001b[0;32m<ipython-input-14-580433fd79b9>\u001b[0m in \u001b[0;36maffine_covariance\u001b[0;34m(S, A, b)\u001b[0m\n\u001b[1;32m     26\u001b[0m     \u001b[0maffine_cov\u001b[0m \u001b[0;34m=\u001b[0m \u001b[0mnp\u001b[0m\u001b[0;34m.\u001b[0m\u001b[0mzeros\u001b[0m\u001b[0;34m(\u001b[0m\u001b[0mS\u001b[0m\u001b[0;34m.\u001b[0m\u001b[0mshape\u001b[0m\u001b[0;34m)\u001b[0m \u001b[0;31m# affine_cov has shape (D, D)\u001b[0m\u001b[0;34m\u001b[0m\u001b[0;34m\u001b[0m\u001b[0m\n\u001b[1;32m     27\u001b[0m     \u001b[0;31m### Update affine_cov\u001b[0m\u001b[0;34m\u001b[0m\u001b[0;34m\u001b[0m\u001b[0;34m\u001b[0m\u001b[0m\n\u001b[0;32m---> 28\u001b[0;31m     \u001b[0maffine_cov\u001b[0m \u001b[0;34m=\u001b[0m \u001b[0mA\u001b[0m \u001b[0;34m@\u001b[0m \u001b[0mS\u001b[0m \u001b[0;34m@\u001b[0m \u001b[0mA\u001b[0m\u001b[0;34m.\u001b[0m\u001b[0mT\u001b[0m\u001b[0;34m\u001b[0m\u001b[0;34m\u001b[0m\u001b[0m\n\u001b[0m\u001b[1;32m     29\u001b[0m     \u001b[0;31m###\u001b[0m\u001b[0;34m\u001b[0m\u001b[0;34m\u001b[0m\u001b[0;34m\u001b[0m\u001b[0m\n\u001b[1;32m     30\u001b[0m     \u001b[0;32mreturn\u001b[0m \u001b[0maffine_cov\u001b[0m\u001b[0;34m\u001b[0m\u001b[0;34m\u001b[0m\u001b[0m\n",
            "\u001b[0;31mValueError\u001b[0m: matmul: Input operand 1 has a mismatch in its core dimension 0, with gufunc signature (n?,k),(k,m?)->(n?,m?) (size 100 is different from 4)"
          ]
        }
      ],
      "source": [
        "np.testing.assert_almost_equal(mean(X1), affine_mean(mean(X), A, b))\n",
        "np.testing.assert_almost_equal(cov(X1),  affine_covariance(cov(X), A, b))"
      ]
    },
    {
      "cell_type": "code",
      "execution_count": 19,
      "metadata": {
        "colab": {
          "base_uri": "https://localhost:8080/",
          "height": 304
        },
        "id": "qznpOaaL5zYR",
        "outputId": "32dc00c6-4bd5-43f0-e9a0-6f7caae129b6"
      },
      "outputs": [
        {
          "output_type": "error",
          "ename": "ValueError",
          "evalue": "ignored",
          "traceback": [
            "\u001b[0;31m---------------------------------------------------------------------------\u001b[0m",
            "\u001b[0;31mValueError\u001b[0m                                Traceback (most recent call last)",
            "\u001b[0;32m<ipython-input-19-dde099313a2e>\u001b[0m in \u001b[0;36m<module>\u001b[0;34m()\u001b[0m\n\u001b[1;32m      1\u001b[0m \u001b[0mnp\u001b[0m\u001b[0;34m.\u001b[0m\u001b[0mtesting\u001b[0m\u001b[0;34m.\u001b[0m\u001b[0massert_almost_equal\u001b[0m\u001b[0;34m(\u001b[0m\u001b[0mmean\u001b[0m\u001b[0;34m(\u001b[0m\u001b[0mX2\u001b[0m\u001b[0;34m)\u001b[0m\u001b[0;34m,\u001b[0m \u001b[0maffine_mean\u001b[0m\u001b[0;34m(\u001b[0m\u001b[0mmean\u001b[0m\u001b[0;34m(\u001b[0m\u001b[0mX1\u001b[0m\u001b[0;34m)\u001b[0m\u001b[0;34m,\u001b[0m \u001b[0mA\u001b[0m\u001b[0;34m,\u001b[0m \u001b[0mb\u001b[0m\u001b[0;34m)\u001b[0m\u001b[0;34m)\u001b[0m\u001b[0;34m\u001b[0m\u001b[0;34m\u001b[0m\u001b[0m\n\u001b[0;32m----> 2\u001b[0;31m \u001b[0mnp\u001b[0m\u001b[0;34m.\u001b[0m\u001b[0mtesting\u001b[0m\u001b[0;34m.\u001b[0m\u001b[0massert_almost_equal\u001b[0m\u001b[0;34m(\u001b[0m\u001b[0mcov\u001b[0m\u001b[0;34m(\u001b[0m\u001b[0mX2\u001b[0m\u001b[0;34m)\u001b[0m\u001b[0;34m,\u001b[0m  \u001b[0maffine_covariance\u001b[0m\u001b[0;34m(\u001b[0m\u001b[0mcov\u001b[0m\u001b[0;34m(\u001b[0m\u001b[0mX1\u001b[0m\u001b[0;34m)\u001b[0m\u001b[0;34m,\u001b[0m \u001b[0mA\u001b[0m\u001b[0;34m,\u001b[0m \u001b[0mb\u001b[0m\u001b[0;34m)\u001b[0m\u001b[0;34m)\u001b[0m\u001b[0;34m\u001b[0m\u001b[0;34m\u001b[0m\u001b[0m\n\u001b[0m",
            "\u001b[0;32m<ipython-input-14-580433fd79b9>\u001b[0m in \u001b[0;36maffine_covariance\u001b[0;34m(S, A, b)\u001b[0m\n\u001b[1;32m     26\u001b[0m     \u001b[0maffine_cov\u001b[0m \u001b[0;34m=\u001b[0m \u001b[0mnp\u001b[0m\u001b[0;34m.\u001b[0m\u001b[0mzeros\u001b[0m\u001b[0;34m(\u001b[0m\u001b[0mS\u001b[0m\u001b[0;34m.\u001b[0m\u001b[0mshape\u001b[0m\u001b[0;34m)\u001b[0m \u001b[0;31m# affine_cov has shape (D, D)\u001b[0m\u001b[0;34m\u001b[0m\u001b[0;34m\u001b[0m\u001b[0m\n\u001b[1;32m     27\u001b[0m     \u001b[0;31m### Update affine_cov\u001b[0m\u001b[0;34m\u001b[0m\u001b[0;34m\u001b[0m\u001b[0;34m\u001b[0m\u001b[0m\n\u001b[0;32m---> 28\u001b[0;31m     \u001b[0maffine_cov\u001b[0m \u001b[0;34m=\u001b[0m \u001b[0mA\u001b[0m \u001b[0;34m@\u001b[0m \u001b[0mS\u001b[0m \u001b[0;34m@\u001b[0m \u001b[0mA\u001b[0m\u001b[0;34m.\u001b[0m\u001b[0mT\u001b[0m\u001b[0;34m\u001b[0m\u001b[0;34m\u001b[0m\u001b[0m\n\u001b[0m\u001b[1;32m     29\u001b[0m     \u001b[0;31m###\u001b[0m\u001b[0;34m\u001b[0m\u001b[0;34m\u001b[0m\u001b[0;34m\u001b[0m\u001b[0m\n\u001b[1;32m     30\u001b[0m     \u001b[0;32mreturn\u001b[0m \u001b[0maffine_cov\u001b[0m\u001b[0;34m\u001b[0m\u001b[0;34m\u001b[0m\u001b[0m\n",
            "\u001b[0;31mValueError\u001b[0m: matmul: Input operand 1 has a mismatch in its core dimension 0, with gufunc signature (n?,k),(k,m?)->(n?,m?) (size 100 is different from 4)"
          ]
        }
      ],
      "source": [
        "np.testing.assert_almost_equal(mean(X2), affine_mean(mean(X1), A, b))\n",
        "np.testing.assert_almost_equal(cov(X2),  affine_covariance(cov(X1), A, b))"
      ]
    },
    {
      "cell_type": "code",
      "execution_count": null,
      "metadata": {
        "id": "oNgd5CmG5zYS"
      },
      "outputs": [],
      "source": [
        ""
      ]
    }
  ],
  "metadata": {
    "coursera": {
      "course_slug": "mathematics-machine-learning-pca",
      "graded_item_id": "YoDq1",
      "launcher_item_id": "vCPZ0"
    },
    "kernelspec": {
      "display_name": "Python 3",
      "language": "python",
      "name": "python3"
    },
    "language_info": {
      "codemirror_mode": {
        "name": "ipython",
        "version": 3
      },
      "file_extension": ".py",
      "mimetype": "text/x-python",
      "name": "python",
      "nbconvert_exporter": "python",
      "pygments_lexer": "ipython3",
      "version": "3.6.5"
    },
    "colab": {
      "name": "mean-covariance-of-dataset.ipynb",
      "provenance": []
    },
    "widgets": {
      "application/vnd.jupyter.widget-state+json": {
        "39398dc91a5147b09c4bd920ba0c2449": {
          "model_module": "@jupyter-widgets/controls",
          "model_name": "VBoxModel",
          "model_module_version": "1.5.0",
          "state": {
            "_dom_classes": [
              "widget-interact"
            ],
            "_model_module": "@jupyter-widgets/controls",
            "_model_module_version": "1.5.0",
            "_model_name": "VBoxModel",
            "_view_count": null,
            "_view_module": "@jupyter-widgets/controls",
            "_view_module_version": "1.5.0",
            "_view_name": "VBoxView",
            "box_style": "",
            "children": [
              "IPY_MODEL_065c80cac77e48a79ba74ff3687deb24",
              "IPY_MODEL_9e66df6865974ac294de48e24c93ae3f"
            ],
            "layout": "IPY_MODEL_bb7b9b76f7a94ac88a727ac5cf715e0f"
          }
        },
        "065c80cac77e48a79ba74ff3687deb24": {
          "model_module": "@jupyter-widgets/controls",
          "model_name": "IntSliderModel",
          "model_module_version": "1.5.0",
          "state": {
            "_dom_classes": [],
            "_model_module": "@jupyter-widgets/controls",
            "_model_module_version": "1.5.0",
            "_model_name": "IntSliderModel",
            "_view_count": null,
            "_view_module": "@jupyter-widgets/controls",
            "_view_module_version": "1.5.0",
            "_view_name": "IntSliderView",
            "continuous_update": true,
            "description": "n",
            "description_tooltip": null,
            "disabled": false,
            "layout": "IPY_MODEL_8f2789b4cea2407a91ba0bd7229b45a9",
            "max": 399,
            "min": 0,
            "orientation": "horizontal",
            "readout": true,
            "readout_format": "d",
            "step": 1,
            "style": "IPY_MODEL_422d6228e376407695063b343b6eee8c",
            "value": 0
          }
        },
        "9e66df6865974ac294de48e24c93ae3f": {
          "model_module": "@jupyter-widgets/output",
          "model_name": "OutputModel",
          "model_module_version": "1.0.0",
          "state": {
            "_dom_classes": [],
            "_model_module": "@jupyter-widgets/output",
            "_model_module_version": "1.0.0",
            "_model_name": "OutputModel",
            "_view_count": null,
            "_view_module": "@jupyter-widgets/output",
            "_view_module_version": "1.0.0",
            "_view_name": "OutputView",
            "layout": "IPY_MODEL_809348b1e6e540afaef721814ec7cd63",
            "msg_id": "",
            "outputs": [
              {
                "output_type": "display_data",
                "data": {
                  "text/plain": "<Figure size 432x288 with 1 Axes>",
                  "image/png": "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\n"
                },
                "metadata": {
                  "needs_background": "light"
                }
              }
            ]
          }
        },
        "bb7b9b76f7a94ac88a727ac5cf715e0f": {
          "model_module": "@jupyter-widgets/base",
          "model_name": "LayoutModel",
          "model_module_version": "1.2.0",
          "state": {
            "_model_module": "@jupyter-widgets/base",
            "_model_module_version": "1.2.0",
            "_model_name": "LayoutModel",
            "_view_count": null,
            "_view_module": "@jupyter-widgets/base",
            "_view_module_version": "1.2.0",
            "_view_name": "LayoutView",
            "align_content": null,
            "align_items": null,
            "align_self": null,
            "border": null,
            "bottom": null,
            "display": null,
            "flex": null,
            "flex_flow": null,
            "grid_area": null,
            "grid_auto_columns": null,
            "grid_auto_flow": null,
            "grid_auto_rows": null,
            "grid_column": null,
            "grid_gap": null,
            "grid_row": null,
            "grid_template_areas": null,
            "grid_template_columns": null,
            "grid_template_rows": null,
            "height": null,
            "justify_content": null,
            "justify_items": null,
            "left": null,
            "margin": null,
            "max_height": null,
            "max_width": null,
            "min_height": null,
            "min_width": null,
            "object_fit": null,
            "object_position": null,
            "order": null,
            "overflow": null,
            "overflow_x": null,
            "overflow_y": null,
            "padding": null,
            "right": null,
            "top": null,
            "visibility": null,
            "width": null
          }
        },
        "8f2789b4cea2407a91ba0bd7229b45a9": {
          "model_module": "@jupyter-widgets/base",
          "model_name": "LayoutModel",
          "model_module_version": "1.2.0",
          "state": {
            "_model_module": "@jupyter-widgets/base",
            "_model_module_version": "1.2.0",
            "_model_name": "LayoutModel",
            "_view_count": null,
            "_view_module": "@jupyter-widgets/base",
            "_view_module_version": "1.2.0",
            "_view_name": "LayoutView",
            "align_content": null,
            "align_items": null,
            "align_self": null,
            "border": null,
            "bottom": null,
            "display": null,
            "flex": null,
            "flex_flow": null,
            "grid_area": null,
            "grid_auto_columns": null,
            "grid_auto_flow": null,
            "grid_auto_rows": null,
            "grid_column": null,
            "grid_gap": null,
            "grid_row": null,
            "grid_template_areas": null,
            "grid_template_columns": null,
            "grid_template_rows": null,
            "height": null,
            "justify_content": null,
            "justify_items": null,
            "left": null,
            "margin": null,
            "max_height": null,
            "max_width": null,
            "min_height": null,
            "min_width": null,
            "object_fit": null,
            "object_position": null,
            "order": null,
            "overflow": null,
            "overflow_x": null,
            "overflow_y": null,
            "padding": null,
            "right": null,
            "top": null,
            "visibility": null,
            "width": null
          }
        },
        "422d6228e376407695063b343b6eee8c": {
          "model_module": "@jupyter-widgets/controls",
          "model_name": "SliderStyleModel",
          "model_module_version": "1.5.0",
          "state": {
            "_model_module": "@jupyter-widgets/controls",
            "_model_module_version": "1.5.0",
            "_model_name": "SliderStyleModel",
            "_view_count": null,
            "_view_module": "@jupyter-widgets/base",
            "_view_module_version": "1.2.0",
            "_view_name": "StyleView",
            "description_width": "",
            "handle_color": null
          }
        },
        "809348b1e6e540afaef721814ec7cd63": {
          "model_module": "@jupyter-widgets/base",
          "model_name": "LayoutModel",
          "model_module_version": "1.2.0",
          "state": {
            "_model_module": "@jupyter-widgets/base",
            "_model_module_version": "1.2.0",
            "_model_name": "LayoutModel",
            "_view_count": null,
            "_view_module": "@jupyter-widgets/base",
            "_view_module_version": "1.2.0",
            "_view_name": "LayoutView",
            "align_content": null,
            "align_items": null,
            "align_self": null,
            "border": null,
            "bottom": null,
            "display": null,
            "flex": null,
            "flex_flow": null,
            "grid_area": null,
            "grid_auto_columns": null,
            "grid_auto_flow": null,
            "grid_auto_rows": null,
            "grid_column": null,
            "grid_gap": null,
            "grid_row": null,
            "grid_template_areas": null,
            "grid_template_columns": null,
            "grid_template_rows": null,
            "height": null,
            "justify_content": null,
            "justify_items": null,
            "left": null,
            "margin": null,
            "max_height": null,
            "max_width": null,
            "min_height": null,
            "min_width": null,
            "object_fit": null,
            "object_position": null,
            "order": null,
            "overflow": null,
            "overflow_x": null,
            "overflow_y": null,
            "padding": null,
            "right": null,
            "top": null,
            "visibility": null,
            "width": null
          }
        }
      }
    }
  },
  "nbformat": 4,
  "nbformat_minor": 0
}