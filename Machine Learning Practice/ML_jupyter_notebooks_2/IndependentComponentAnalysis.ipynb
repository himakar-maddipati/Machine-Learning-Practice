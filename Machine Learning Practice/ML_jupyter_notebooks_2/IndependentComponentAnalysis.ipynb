{
  "nbformat": 4,
  "nbformat_minor": 0,
  "metadata": {
    "colab": {
      "provenance": []
    },
    "kernelspec": {
      "name": "python3",
      "display_name": "Python 3"
    },
    "language_info": {
      "name": "python"
    }
  },
  "cells": [
    {
      "cell_type": "code",
      "execution_count": null,
      "metadata": {
        "colab": {
          "base_uri": "https://localhost:8080/"
        },
        "id": "aOiNnj4ufjth",
        "outputId": "edc6f6d4-7f5d-4d76-a3ff-318d2998dc6f"
      },
      "outputs": [
        {
          "output_type": "stream",
          "name": "stdout",
          "text": [
            "[[ 14  32  50]\n",
            " [ 32  77 122]\n",
            " [ 50 122 194]]\n"
          ]
        }
      ],
      "source": [
        "import numpy as np\n",
        "\n",
        "M1 = np.array([[1,2,3], [4,5,6],[7,8,9]])\n",
        "M2 = M1.transpose()\n",
        "M3 = M1.dot(M2)  \n",
        "print(M3)"
      ]
    },
    {
      "cell_type": "code",
      "source": [
        "# Reconstruct SVD\n",
        "from numpy import array\n",
        "from numpy import diag\n",
        "from numpy import dot\n",
        "from scipy.linalg import svd\n",
        "# define a matrix\n",
        "M1 = array([[1,2,3], [4,5,6],[7,8,9]])\n",
        "M2 = M1.transpose()\n",
        "M3 = M1.dot(M2)  \n",
        "\n",
        "print(M3)\n",
        "# Singular-value decomposition\n",
        "U, s, VT = svd(M3)\n",
        "# create n x n Sigma matrix\n",
        "Sigma = diag(s)\n",
        "# reconstruct matrix\n",
        "B = U.dot(Sigma.dot(VT))\n",
        "print(B)"
      ],
      "metadata": {
        "colab": {
          "base_uri": "https://localhost:8080/"
        },
        "id": "-19gQLrWhmW5",
        "outputId": "01ac016b-fad3-434b-e234-88d3193840a9"
      },
      "execution_count": null,
      "outputs": [
        {
          "output_type": "stream",
          "name": "stdout",
          "text": [
            "[[ 14  32  50]\n",
            " [ 32  77 122]\n",
            " [ 50 122 194]]\n",
            "[[ 14.  32.  50.]\n",
            " [ 32.  77. 122.]\n",
            " [ 50. 122. 194.]]\n"
          ]
        }
      ]
    },
    {
      "cell_type": "code",
      "source": [
        "array_2d_sqrt = np.sqrt(Sigma)\n",
        "y = np.linalg.inv(array_2d_sqrt) \n",
        "print(y)"
      ],
      "metadata": {
        "colab": {
          "base_uri": "https://localhost:8080/"
        },
        "id": "qwdvLMSrqqaT",
        "outputId": "dd1b4f2c-f6cb-4382-9023-bed60e46198c"
      },
      "execution_count": null,
      "outputs": [
        {
          "output_type": "stream",
          "name": "stdout",
          "text": [
            "[[5.93538619e-02 0.00000000e+00 0.00000000e+00]\n",
            " [0.00000000e+00 9.36005742e-01 0.00000000e+00]\n",
            " [0.00000000e+00 0.00000000e+00 2.61494565e+07]]\n"
          ]
        }
      ]
    },
    {
      "cell_type": "code",
      "source": [
        "UT=U.transpose()\n",
        "c=y.dot(UT.dot(M1))\n",
        "print(c)"
      ],
      "metadata": {
        "colab": {
          "base_uri": "https://localhost:8080/"
        },
        "id": "SAZliyJ5sFWn",
        "outputId": "f88277fb-4395-4d1d-a7b2-7461142fe280"
      },
      "execution_count": null,
      "outputs": [
        {
          "output_type": "stream",
          "name": "stdout",
          "text": [
            "[[-4.79671178e-01 -5.72367794e-01 -6.65064410e-01]\n",
            " [-7.76690990e-01 -7.56864701e-02  6.25318050e-01]\n",
            " [ 9.29015319e-08  2.32253830e-08 -3.48380745e-08]]\n"
          ]
        }
      ]
    },
    {
      "cell_type": "code",
      "source": [
        "CT = c.transpose()\n",
        "CCT = c.dot(CT)  \n",
        "print(CCT)"
      ],
      "metadata": {
        "colab": {
          "base_uri": "https://localhost:8080/"
        },
        "id": "J27yI8HtsuVl",
        "outputId": "739dc098-6146-4c76-c55a-1d89b1ab1aaa"
      },
      "execution_count": null,
      "outputs": [
        {
          "output_type": "stream",
          "name": "stdout",
          "text": [
            "[[ 1.00000000e+00 -1.79450563e-15 -3.46860850e-08]\n",
            " [-1.79450563e-15  1.00000000e+00 -9.56985069e-08]\n",
            " [-3.46860850e-08 -9.56985069e-08  1.03838045e-14]]\n"
          ]
        }
      ]
    },
    {
      "cell_type": "markdown",
      "source": [
        "$$\\begin{bmatrix} X_1{(t)} \\\\ X_2{(t)}\\end{bmatrix}=\\begin{bmatrix} a_{11}& a_{12}\\\\ a_{21}& a_{22}\\end{bmatrix}\\begin{bmatrix} S_1{(t)} \\\\ S_2{(t)}\\end{bmatrix}$$"
      ],
      "metadata": {
        "id": "W4d7B8k1fo-B"
      }
    },
    {
      "cell_type": "markdown",
      "source": [
        "$$\\begin{bmatrix} S_1{(t)} \\\\ S_2{(t)}\\end{bmatrix}=\\begin{bmatrix} W_1{(t)} \\\\ W_2{(t)}\\end{bmatrix}\\begin{bmatrix} X_1{(t)} \\\\ X_2{(t)}\\end{bmatrix}$$"
      ],
      "metadata": {
        "id": "VZ42iHBoqQFw"
      }
    },
    {
      "cell_type": "markdown",
      "source": [
        "$$\\begin{bmatrix} W_1{(t)} \\\\ W_2{(t)}\\end{bmatrix}=\\begin{bmatrix} Degauss_1{(t)} \\\\ Degauss_2{(t)}\\end{bmatrix}\\begin{bmatrix} Decorrelate_1{(t)} \\\\ Decorrelate_2{(t)}\\end{bmatrix}$$"
      ],
      "metadata": {
        "id": "_mLzCAv2qR9d"
      }
    },
    {
      "cell_type": "markdown",
      "source": [
        "$$\\begin{bmatrix} S_1{(t)} \\\\ S_2{(t)}\\end{bmatrix}=\\begin{bmatrix} Degauss_1{(t)} \\\\ Degauss_2{(t)}\\end{bmatrix}\\begin{bmatrix} Decorrelate_1{(t)} \\\\ Decorrelate_2{(t)}\\end{bmatrix}\\begin{bmatrix} X_1{(t)} \\\\ X_2{(t)}\\end{bmatrix}$$"
      ],
      "metadata": {
        "id": "JJ26oPcarnEW"
      }
    }
  ]
}