{
  "nbformat": 4,
  "nbformat_minor": 0,
  "metadata": {
    "colab": {
      "name": "hebbian.ipynb",
      "provenance": []
    },
    "kernelspec": {
      "name": "python3",
      "display_name": "Python 3"
    },
    "language_info": {
      "name": "python"
    }
  },
  "cells": [
    {
      "cell_type": "code",
      "execution_count": null,
      "metadata": {
        "id": "BFpL2y6Kzq5W"
      },
      "outputs": [],
      "source": [
        ""
      ]
    },
    {
      "cell_type": "code",
      "source": [
        "# -*- coding: utf-8 -*-\n",
        "\"\"\"\n",
        "@author: chirag\n",
        "\"\"\"\n",
        "\n",
        "import numpy as np\n",
        "import time\n",
        "\n",
        "def threshold(x):\n",
        "\tif x >=0:\n",
        "\t\treturn 1\n",
        "\telse:\n",
        "\t\treturn -1\n",
        "\n",
        "\n",
        "def print_func(loop_var, net, sig_net, w, delta_w):\n",
        "\t\tprint(\"i: \"+ str(loop_var))\n",
        "\t\tprint(\"net: \"+ str(net))\n",
        "\t\tprint(\"sig_net: \"+ str(sig_net))\n",
        "\t\tprint(\"delta_w: \"+ str(delta_w))\n",
        "\t\tprint(\"w: \"+ str(w))\n",
        "\t\tprint(\"-------------------\\n\")\n",
        "\n",
        "\n",
        "def compute():\n",
        "\t\t\n",
        "\ttry:\n",
        "\t\tn = int(input(\"Enter number of input vectors: \"))\n",
        "\n",
        "\t\tx = []\n",
        "\t\tr = 1 #Learning constant(c)\n",
        "\n",
        "\t\tfor i in range(0,n):\n",
        "\t\t\traw_str1 = str(input(\"Enter values for vector \" + str(i+1) + \": \"))\n",
        "\t\t\tinput_vector = raw_str1.split(' ')\n",
        "\t\t\t#print(input_vector)\n",
        "\t\t\tip_list = []\n",
        "\t\t\tfor ele in input_vector:\n",
        "\t\t\t\tip_list.append(float(ele))\n",
        "\t\t\t#print(ip_list)\n",
        "\t\t\tnp_list = np.array(ip_list, dtype=np.float64)\n",
        "\t\t\tx.append(np_list)\n",
        "\n",
        "\t\traw_str3 = str(input(\"Enter initial weight vector: \"))\n",
        "\t\tw = raw_str3.split(' ')\n",
        "\t\tw_list = []\n",
        "\t\tfor ele in w:\n",
        "\t\t\tw_list.append(float(ele))\n",
        "\t\t\n",
        "\t\t#np_wlist = np.array(w_list, dtype=np.float64)\n",
        "\t\t#print(np_wlist)\n",
        "\t\t#if len(np_wlist) != n:\n",
        "\t\t#\tprint(\"Init Weight Vector Error..\")\n",
        "\n",
        "\t\tdelta_w = 0\n",
        "\t\tfor i in range(0,n):\n",
        "\t\t\t\n",
        "\t\t\tnet = np.transpose(np.asarray(w_list)).dot(np.asarray(x[i]))\n",
        "\t\t\t#print(net)\n",
        "\t\t\tsig_net = threshold(net)\n",
        "\t\t\t#print(sig_net)\n",
        "\n",
        "\t\t\tdelta_w = r * sig_net * x[i]\n",
        "\t\t\t#print(delta_w)\n",
        "\t\t\tw_list = np.add(np.asarray(w_list),delta_w)\n",
        "\n",
        "\t\t\tprint_func(i, net, sig_net, w_list, delta_w)\n",
        "\t\t\t\n",
        "\texcept Exception as e:\n",
        "\t\tprint(\"Error.. \"+(str(e)))\n",
        "\n",
        "\n",
        "if __name__ == '__main__':\n",
        "\tcompute()"
      ],
      "metadata": {
        "colab": {
          "base_uri": "https://localhost:8080/"
        },
        "id": "c42ZZ2Wgzrgg",
        "outputId": "d9bb25fc-b63a-4841-d2fc-f6e92458a79b"
      },
      "execution_count": 1,
      "outputs": [
        {
          "output_type": "stream",
          "name": "stdout",
          "text": [
            "Enter number of input vectors: 3\n",
            "Enter values for vector 1: 1 1 1\n",
            "Enter values for vector 2: 8 8 8\n",
            "Enter values for vector 3: 25 25 25\n",
            "Enter initial weight vector: 1 1 1\n",
            "i: 0\n",
            "net: 3.0\n",
            "sig_net: 1\n",
            "delta_w: [1. 1. 1.]\n",
            "w: [2. 2. 2.]\n",
            "-------------------\n",
            "\n",
            "i: 1\n",
            "net: 48.0\n",
            "sig_net: 1\n",
            "delta_w: [8. 8. 8.]\n",
            "w: [10. 10. 10.]\n",
            "-------------------\n",
            "\n",
            "i: 2\n",
            "net: 750.0\n",
            "sig_net: 1\n",
            "delta_w: [25. 25. 25.]\n",
            "w: [35. 35. 35.]\n",
            "-------------------\n",
            "\n"
          ]
        }
      ]
    }
  ]
}