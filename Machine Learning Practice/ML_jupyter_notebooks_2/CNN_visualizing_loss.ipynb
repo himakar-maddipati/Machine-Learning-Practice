{
  "nbformat": 4,
  "nbformat_minor": 0,
  "metadata": {
    "colab": {
      "name": "CNN_visualizing loss.ipynb",
      "provenance": []
    },
    "kernelspec": {
      "name": "python3",
      "display_name": "Python 3"
    },
    "language_info": {
      "name": "python"
    }
  },
  "cells": [
    {
      "cell_type": "code",
      "execution_count": 1,
      "metadata": {
        "id": "SI4m-jfcuIGT"
      },
      "outputs": [],
      "source": [
        "import matplotlib.pyplot as plt\n",
        "import numpy as np\n",
        "import tensorflow as tf\n",
        "from tensorflow import keras\n",
        "from tensorflow.keras import callbacks, layers\n",
        "\n",
        "class RandomCoordinates(object):\n",
        "    def __init__(self, origin):\n",
        "        self.origin_ = origin\n",
        "        self.v0_ = normalize_weights(\n",
        "            [np.random.normal(size=w.shape) for w in origin], origin\n",
        "        )\n",
        "        self.v1_ = normalize_weights(\n",
        "            [np.random.normal(size=w.shape) for w in origin], origin\n",
        "        )\n",
        "\n",
        "    def __call__(self, a, b):\n",
        "        return [\n",
        "            a * w0 + b * w1 + wc\n",
        "            for w0, w1, wc in zip(self.v0_, self.v1_, self.origin_)\n",
        "        ]\n",
        "\n",
        "\n",
        "def normalize_weights(weights, origin):\n",
        "    return [\n",
        "        w * np.linalg.norm(wc) / np.linalg.norm(w)\n",
        "        for w, wc in zip(weights, origin)\n",
        "    ]\n",
        "\n",
        "\n",
        "class LossSurface(object):\n",
        "    def __init__(self, model, inputs, outputs):\n",
        "        self.model_ = model\n",
        "        self.inputs_ = inputs\n",
        "        self.outputs_ = outputs\n",
        "\n",
        "    def compile(self, range, points, coords):\n",
        "        a_grid = tf.linspace(-1.0, 1.0, num=points) ** 3 * range\n",
        "        b_grid = tf.linspace(-1.0, 1.0, num=points) ** 3 * range\n",
        "        loss_grid = np.empty([len(a_grid), len(b_grid)])\n",
        "        for i, a in enumerate(a_grid):\n",
        "            for j, b in enumerate(b_grid):\n",
        "                self.model_.set_weights(coords(a, b))\n",
        "                loss = self.model_.test_on_batch(\n",
        "                    self.inputs_, self.outputs_, return_dict=True\n",
        "                )[\"loss\"]\n",
        "                loss_grid[j, i] = loss\n",
        "        self.model_.set_weights(coords.origin_)\n",
        "        self.a_grid_ = a_grid\n",
        "        self.b_grid_ = b_grid\n",
        "        self.loss_grid_ = loss_grid\n",
        "\n",
        "    def plot(self, range=1.0, points=24, levels=20, ax=None, **kwargs):\n",
        "        xs = self.a_grid_\n",
        "        ys = self.b_grid_\n",
        "        zs = self.loss_grid_\n",
        "        if ax is None:\n",
        "            _, ax = plt.subplots(**kwargs)\n",
        "            ax.set_title(\"The Loss Surface\")\n",
        "            ax.set_aspect(\"equal\")\n",
        "        # Set Levels\n",
        "        min_loss = zs.min()\n",
        "        max_loss = zs.max()\n",
        "        levels = tf.exp(\n",
        "            tf.linspace(\n",
        "                tf.math.log(min_loss), tf.math.log(max_loss), num=levels\n",
        "            )\n",
        "        )\n",
        "        # Create Contour Plot\n",
        "        CS = ax.contour(\n",
        "            xs,\n",
        "            ys,\n",
        "            zs,\n",
        "            levels=levels,\n",
        "            cmap=\"magma\",\n",
        "            linewidths=0.75,\n",
        "            norm=mpl.colors.LogNorm(vmin=min_loss, vmax=max_loss * 2.0),\n",
        "        )\n",
        "        ax.clabel(CS, inline=True, fontsize=8, fmt=\"%1.2f\")\n",
        "        return ax\n"
      ]
    },
    {
      "cell_type": "code",
      "source": [
        "# Create some data\n",
        "NUM_EXAMPLES = 256\n",
        "BATCH_SIZE = 64\n",
        "x = tf.random.normal(shape=(NUM_EXAMPLES, 1))\n",
        "err = tf.random.normal(shape=x.shape, stddev=0.25)\n",
        "y = x ** 2 + err\n",
        "y = tf.squeeze(y)\n",
        "ds = (tf.data.Dataset\n",
        "      .from_tensor_slices((x, y))\n",
        "      .shuffle(NUM_EXAMPLES)\n",
        "      .batch(BATCH_SIZE))\n",
        "plt.plot(x, y, 'o', alpha=0.5);\n"
      ],
      "metadata": {
        "colab": {
          "base_uri": "https://localhost:8080/",
          "height": 265
        },
        "id": "Mg7RLIwWuJ0M",
        "outputId": "e111e7cc-961f-4f4b-8d1c-40c607c0692a"
      },
      "execution_count": 2,
      "outputs": [
        {
          "output_type": "display_data",
          "data": {
            "text/plain": [
              "<Figure size 432x288 with 1 Axes>"
            ],
            "image/png": "[encoded data removed]"
          },
          "metadata": {
            "needs_background": "light"
          }
        }
      ]
    },
    {
      "cell_type": "code",
      "source": [
        "# Fit a fully-connected network (ie, a multi-layer perceptron)\n",
        "model = keras.Sequential([\n",
        "  layers.Dense(64, activation='relu'),\n",
        "  layers.Dense(64, activation='relu'),\n",
        "  layers.Dense(64, activation='relu'),\n",
        "  layers.Dense(1)\n",
        "])\n",
        "model.compile(\n",
        "  loss='mse',\n",
        "  optimizer='adam',\n",
        ")\n",
        "history = model.fit(\n",
        "  ds,\n",
        "  epochs=200,\n",
        "  verbose=0,\n",
        ")\n",
        "\n",
        "# Look at fitted curve\n",
        "grid = tf.linspace(-4, 4, 3000)\n",
        "fig, ax = plt.subplots()\n",
        "ax.plot(x, y, 'o', alpha=0.1)\n",
        "ax.plot(grid, model.predict(grid).reshape(-1, 1), color='k')\n"
      ],
      "metadata": {
        "colab": {
          "base_uri": "https://localhost:8080/",
          "height": 282
        },
        "id": "7A_Qt2IhuZ1v",
        "outputId": "56969bc6-5bbd-46c7-9952-57e3359baa6d"
      },
      "execution_count": 3,
      "outputs": [
        {
          "output_type": "execute_result",
          "data": {
            "text/plain": [
              "[<matplotlib.lines.Line2D at 0x7fd0fd378710>]"
            ]
          },
          "metadata": {},
          "execution_count": 3
        },
        {
          "output_type": "display_data",
          "data": {
            "text/plain": [
              "<Figure size 432x288 with 1 Axes>"
            ],
            "image/png": "[encoded data removed]"
          },
          "metadata": {
            "needs_background": "light"
          }
        }
      ]
    },
    {
      "cell_type": "code",
      "source": [
        "# Create loss surface\n",
        "coords = RandomCoordinates(model.get_weights())\n",
        "loss_surface = LossSurface(model, x, y)\n",
        "loss_surface.compile(points=30, coords=coords)\n",
        "\n",
        "# Look at loss surface\n",
        "plt.figure(dpi=100)\n",
        "loss_surface.plot()\n"
      ],
      "metadata": {
        "colab": {
          "base_uri": "https://localhost:8080/",
          "height": 235
        },
        "id": "fTdsOBR-unJO",
        "outputId": "ab489969-22a4-4277-e758-0600ce4e2dc5"
      },
      "execution_count": 4,
      "outputs": [
        {
          "output_type": "error",
          "ename": "TypeError",
          "evalue": "ignored",
          "traceback": [
            "\u001b[0;31m---------------------------------------------------------------------------\u001b[0m",
            "\u001b[0;31mTypeError\u001b[0m                                 Traceback (most recent call last)",
            "\u001b[0;32m<ipython-input-4-10f45732d3eb>\u001b[0m in \u001b[0;36m<module>\u001b[0;34m()\u001b[0m\n\u001b[1;32m      2\u001b[0m \u001b[0mcoords\u001b[0m \u001b[0;34m=\u001b[0m \u001b[0mRandomCoordinates\u001b[0m\u001b[0;34m(\u001b[0m\u001b[0mmodel\u001b[0m\u001b[0;34m.\u001b[0m\u001b[0mget_weights\u001b[0m\u001b[0;34m(\u001b[0m\u001b[0;34m)\u001b[0m\u001b[0;34m)\u001b[0m\u001b[0;34m\u001b[0m\u001b[0;34m\u001b[0m\u001b[0m\n\u001b[1;32m      3\u001b[0m \u001b[0mloss_surface\u001b[0m \u001b[0;34m=\u001b[0m \u001b[0mLossSurface\u001b[0m\u001b[0;34m(\u001b[0m\u001b[0mmodel\u001b[0m\u001b[0;34m,\u001b[0m \u001b[0mx\u001b[0m\u001b[0;34m,\u001b[0m \u001b[0my\u001b[0m\u001b[0;34m)\u001b[0m\u001b[0;34m\u001b[0m\u001b[0;34m\u001b[0m\u001b[0m\n\u001b[0;32m----> 4\u001b[0;31m \u001b[0mloss_surface\u001b[0m\u001b[0;34m.\u001b[0m\u001b[0mcompile\u001b[0m\u001b[0;34m(\u001b[0m\u001b[0mpoints\u001b[0m\u001b[0;34m=\u001b[0m\u001b[0;36m30\u001b[0m\u001b[0;34m,\u001b[0m \u001b[0mcoords\u001b[0m\u001b[0;34m=\u001b[0m\u001b[0mcoords\u001b[0m\u001b[0;34m)\u001b[0m\u001b[0;34m\u001b[0m\u001b[0;34m\u001b[0m\u001b[0m\n\u001b[0m\u001b[1;32m      5\u001b[0m \u001b[0;34m\u001b[0m\u001b[0m\n\u001b[1;32m      6\u001b[0m \u001b[0;31m# Look at loss surface\u001b[0m\u001b[0;34m\u001b[0m\u001b[0;34m\u001b[0m\u001b[0;34m\u001b[0m\u001b[0m\n",
            "\u001b[0;31mTypeError\u001b[0m: compile() missing 1 required positional argument: 'range'"
          ]
        }
      ]
    },
    {
      "cell_type": "code",
      "source": [
        "from sklearn.decomposition import PCA\n",
        "\n",
        "# Some utility functions to reshape network weights\n",
        "def vectorize_weights_(weights):\n",
        "    vec = [w.flatten() for w in weights]\n",
        "    vec = np.hstack(vec)\n",
        "    return vec\n",
        "\n",
        "\n",
        "def vectorize_weight_list_(weight_list):\n",
        "    vec_list = []\n",
        "    for weights in weight_list:\n",
        "        vec_list.append(vectorize_weights_(weights))\n",
        "    weight_matrix = np.column_stack(vec_list)\n",
        "    return weight_matrix\n",
        "\n",
        "\n",
        "def shape_weight_matrix_like_(weight_matrix, example):\n",
        "    weight_vecs = np.hsplit(weight_matrix, weight_matrix.shape[1])\n",
        "    sizes = [v.size for v in example]\n",
        "    shapes = [v.shape for v in example]\n",
        "    weight_list = []\n",
        "    for net_weights in weight_vecs:\n",
        "        vs = np.split(net_weights, np.cumsum(sizes))[:-1]\n",
        "        vs = [v.reshape(s) for v, s in zip(vs, shapes)]\n",
        "        weight_list.append(vs)\n",
        "    return weight_list\n",
        "\n",
        "\n",
        "def get_path_components_(training_path, n_components=2):\n",
        "    # Vectorize network weights\n",
        "    weight_matrix = vectorize_weight_list_(training_path)\n",
        "    # Create components\n",
        "    pca = PCA(n_components=2, whiten=True)\n",
        "    components = pca.fit_transform(weight_matrix)\n",
        "    # Reshape to fit network\n",
        "    example = training_path[0]\n",
        "    weight_list = shape_weight_matrix_like_(components, example)\n",
        "    return pca, weight_list\n",
        "\n",
        "\n",
        "class PCACoordinates(object):\n",
        "    def __init__(self, training_path):\n",
        "        origin = training_path[-1]\n",
        "        self.pca_, self.components = get_path_components_(training_path)\n",
        "        self.set_origin(origin)\n",
        "\n",
        "    def __call__(self, a, b):\n",
        "        return [\n",
        "            a * w0 + b * w1 + wc\n",
        "            for w0, w1, wc in zip(self.v0_, self.v1_, self.origin_)\n",
        "        ]\n",
        "\n",
        "    def set_origin(self, origin, renorm=True):\n",
        "        self.origin_ = origin\n",
        "        if renorm:\n",
        "            self.v0_ = normalize_weights(self.components[0], origin)\n",
        "            self.v1_ = normalize_weights(self.components[1], origin)\n"
      ],
      "metadata": {
        "id": "CxFNeX9Su4YK"
      },
      "execution_count": null,
      "outputs": []
    },
    {
      "cell_type": "code",
      "source": [
        "# Create data\n",
        "ds = (\n",
        "    tf.data.Dataset.from_tensor_slices((inputs, outputs))\n",
        "    .repeat()\n",
        "    .shuffle(1000, seed=SEED)\n",
        "    .batch(BATCH_SIZE)\n",
        ")\n",
        "# Define Model\n",
        "model = keras.Sequential(\n",
        "    [\n",
        "        layers.Dense(64, activation=\"relu\", input_shape=[1]),\n",
        "        layers.Dense(64, activation=\"relu\"),\n",
        "        layers.Dense(64, activation=\"relu\"),      \n",
        "        layers.Dense(1),\n",
        "    ]\n",
        ")\n",
        "\n",
        "model.compile(\n",
        "    optimizer=\"adam\", loss=\"mse\",\n",
        ")\n",
        "\n",
        "training_path = [model.get_weights()]\n",
        "# Callback to collect weights as the model trains\n",
        "collect_weights = callbacks.LambdaCallback(\n",
        "    on_epoch_end=(\n",
        "        lambda batch, logs: training_path.append(model.get_weights())\n",
        "    )\n",
        ")\n",
        "\n",
        "history = model.fit(\n",
        "    ds,\n",
        "    steps_per_epoch=1,\n",
        "    epochs=40,\n",
        "    callbacks=[collect_weights],\n",
        "    verbose=0,\n",
        ")"
      ],
      "metadata": {
        "id": "76vnqTbBu7_3"
      },
      "execution_count": null,
      "outputs": []
    },
    {
      "cell_type": "code",
      "source": [
        "# Create loss surface\n",
        "coords = PCACoordinates(training_path)\n",
        "loss_surface = LossSurface(model, x, y)\n",
        "loss_surface.compile(points=30, coords=coords, range=0.2)\n",
        "# Look at loss surface\n",
        "loss_surface.plot(dpi=150)\n"
      ],
      "metadata": {
        "id": "eOA3IKAlvTnC"
      },
      "execution_count": null,
      "outputs": []
    },
    {
      "cell_type": "code",
      "source": [
        "def weights_to_coordinates(coords, training_path):\n",
        "    \"\"\"Project the training path onto the first two principal components\n",
        "using the pseudoinverse.\"\"\"\n",
        "    components = [coords.v0_, coords.v1_]\n",
        "    comp_matrix = vectorize_weight_list_(components)\n",
        "    # the pseudoinverse\n",
        "    comp_matrix_i = np.linalg.pinv(comp_matrix)\n",
        "    # the origin vector\n",
        "    w_c = vectorize_weights_(training_path[-1])\n",
        "    # center the weights on the training path and project onto components\n",
        "    coord_path = np.array(\n",
        "        [\n",
        "            comp_matrix_i @ (vectorize_weights_(weights) - w_c)\n",
        "            for weights in training_path\n",
        "        ]\n",
        "    )\n",
        "    return coord_path\n",
        "\n",
        "\n",
        "def plot_training_path(coords, training_path, ax=None, end=None, **kwargs):\n",
        "    path = weights_to_coordinates(coords, training_path)\n",
        "    if ax is None:\n",
        "        fig, ax = plt.subplots(**kwargs)\n",
        "    colors = range(path.shape[0])\n",
        "    end = path.shape[0] if end is None else end\n",
        "    norm = plt.Normalize(0, end)\n",
        "    ax.scatter(\n",
        "        path[:, 0], path[:, 1], s=4, c=colors, cmap=\"cividis\", norm=norm,\n",
        "    )\n",
        "    return ax"
      ],
      "metadata": {
        "id": "VVRuCPIXvfZ-"
      },
      "execution_count": null,
      "outputs": []
    },
    {
      "cell_type": "code",
      "source": [
        "pcoords = PCACoordinates(training_path)\n",
        "loss_surface = LossSurface(model, x, y)\n",
        "loss_surface.compile(points=30, coords=pcoords, range=0.4)\n",
        "ax = loss_surface.plot(dpi=150)\n",
        "plot_training_path(pcoords, training_path, ax)\n"
      ],
      "metadata": {
        "id": "1BnXMFF1vjpp"
      },
      "execution_count": null,
      "outputs": []
    }
  ]
}