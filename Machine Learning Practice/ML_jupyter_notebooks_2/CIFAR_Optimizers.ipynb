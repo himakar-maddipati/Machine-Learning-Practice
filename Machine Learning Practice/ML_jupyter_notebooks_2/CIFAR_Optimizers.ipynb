{
  "cells": [
    {
      "cell_type": "markdown",
      "metadata": {
        "id": "J9Io_bZASHms"
      },
      "source": [
        "# Optimizers Evaluation (SGD, Adam, RMSprop, Adadelta, Adagrad)\n",
        "---\n",
        "\n",
        "### Compare the results of various optimizers on the CIFAR-10 dataset using KERAS.\n",
        "\n",
        "\n",
        "_(Created with Google Colab. GPU Support - FloydHub)_\n",
        "\n",
        "---"
      ]
    },
    {
      "cell_type": "markdown",
      "metadata": {
        "id": "IoouisRqnQCU"
      },
      "source": [
        "## Imports"
      ]
    },
    {
      "cell_type": "code",
      "execution_count": 1,
      "metadata": {
        "id": "hJZ8IpiK2FZG"
      },
      "outputs": [],
      "source": [
        "from __future__ import print_function\n",
        "\n",
        "import keras\n",
        "from keras.datasets import cifar10\n",
        "from keras.preprocessing.image import ImageDataGenerator\n",
        "from keras.models import Sequential\n",
        "from keras.layers import Dense, Dropout, Activation, Flatten\n",
        "from keras.layers import Conv2D, MaxPooling2D\n",
        "\n",
        "import matplotlib.pyplot as plt\n",
        "%matplotlib inline\n",
        "plt.rcParams['figure.figsize'] = (16.0, 9.0)\n",
        "import numpy as np\n",
        "\n",
        "# Seed\n",
        "np.random.seed(1)"
      ]
    },
    {
      "cell_type": "markdown",
      "metadata": {
        "id": "amMr1sNwnSLn"
      },
      "source": [
        "## Load Data"
      ]
    },
    {
      "cell_type": "code",
      "execution_count": 2,
      "metadata": {
        "colab": {
          "base_uri": "https://localhost:8080/"
        },
        "id": "jKjj4H9U2NeG",
        "outputId": "0587be3e-9d98-430e-d282-52aeb2cd0dad"
      },
      "outputs": [
        {
          "output_type": "stream",
          "name": "stdout",
          "text": [
            "Downloading data from https://www.cs.toronto.edu/~kriz/cifar-10-python.tar.gz\n",
            "170500096/170498071 [==============================] - 4s 0us/step\n",
            "170508288/170498071 [==============================] - 4s 0us/step\n"
          ]
        }
      ],
      "source": [
        "(X_train, y_train), (X_test, y_test) = cifar10.load_data()"
      ]
    },
    {
      "cell_type": "markdown",
      "metadata": {
        "id": "_RwvNtC2nYxP"
      },
      "source": [
        "### Visualize shapes"
      ]
    },
    {
      "cell_type": "code",
      "execution_count": 3,
      "metadata": {
        "colab": {
          "base_uri": "https://localhost:8080/"
        },
        "id": "MEsQ6U5R2S8m",
        "outputId": "e9a1975f-ffe6-4e17-caa9-0890faa85074"
      },
      "outputs": [
        {
          "output_type": "stream",
          "name": "stdout",
          "text": [
            "X_Train:\t (50000, 32, 32, 3)\n",
            "y_train:\t (50000, 1)\n",
            "X_test:\t\t (10000, 32, 32, 3)\n",
            "y_test:\t\t (10000, 1)\n",
            "\n",
            "Input Shape:\t (32, 32, 3)\n"
          ]
        }
      ],
      "source": [
        "print('X_Train:\\t', X_train.shape)\n",
        "print('y_train:\\t', y_train.shape)\n",
        "\n",
        "print('X_test:\\t\\t', X_test.shape)\n",
        "print('y_test:\\t\\t', y_test.shape)\n",
        "\n",
        "input_shape = X_train[0].shape\n",
        "print('\\nInput Shape:\\t', input_shape)"
      ]
    },
    {
      "cell_type": "markdown",
      "metadata": {
        "id": "XlSma3Xonbjo"
      },
      "source": [
        "### Print random samples"
      ]
    },
    {
      "cell_type": "code",
      "execution_count": 4,
      "metadata": {
        "colab": {
          "base_uri": "https://localhost:8080/",
          "height": 1000
        },
        "id": "NuFuYjPt2bSP",
        "outputId": "257a09aa-eefb-45c3-ab72-a3c3368ca47e"
      },
      "outputs": [
        {
          "output_type": "stream",
          "name": "stdout",
          "text": [
            "\n",
            " [0]\n"
          ]
        },
        {
          "output_type": "display_data",
          "data": {
            "text/plain": [
              "<Figure size 432x288 with 1 Axes>"
            ],
            "image/png": "[encoded data removed]"
          },
          "metadata": {
            "needs_background": "light"
          }
        },
        {
          "output_type": "stream",
          "name": "stdout",
          "text": [
            "\n",
            " [8]\n"
          ]
        },
        {
          "output_type": "display_data",
          "data": {
            "text/plain": [
              "<Figure size 432x288 with 1 Axes>"
            ],
            "image/png": "[encoded data removed]"
          },
          "metadata": {
            "needs_background": "light"
          }
        },
        {
          "output_type": "stream",
          "name": "stdout",
          "text": [
            "\n",
            " [3]\n"
          ]
        },
        {
          "output_type": "display_data",
          "data": {
            "text/plain": [
              "<Figure size 432x288 with 1 Axes>"
            ],
            "image/png": "[encoded data removed]"
          },
          "metadata": {
            "needs_background": "light"
          }
        },
        {
          "output_type": "stream",
          "name": "stdout",
          "text": [
            "\n",
            " [5]\n"
          ]
        },
        {
          "output_type": "display_data",
          "data": {
            "text/plain": [
              "<Figure size 432x288 with 1 Axes>"
            ],
            "image/png": "[encoded data removed]"
          },
          "metadata": {
            "needs_background": "light"
          }
        },
        {
          "output_type": "stream",
          "name": "stdout",
          "text": [
            "\n",
            " [7]\n"
          ]
        },
        {
          "output_type": "display_data",
          "data": {
            "text/plain": [
              "<Figure size 432x288 with 1 Axes>"
            ],
            "image/png": "[encoded data removed]"
          },
          "metadata": {
            "needs_background": "light"
          }
        }
      ],
      "source": [
        "for i in np.random.randint(0, X_train.shape[0], 5):\n",
        "    print('\\n', y_train[i])\n",
        "    plt.imshow(X_train[i])\n",
        "    plt.show()"
      ]
    },
    {
      "cell_type": "markdown",
      "metadata": {
        "id": "TrUXrlS1nf6o"
      },
      "source": [
        "### Scaling of Data"
      ]
    },
    {
      "cell_type": "code",
      "execution_count": 5,
      "metadata": {
        "collapsed": true,
        "id": "i91HcWnj2fY5"
      },
      "outputs": [],
      "source": [
        "# Scaling\n",
        "\n",
        "X_train = X_train.astype('float32')\n",
        "X_test = X_test.astype('float32')\n",
        "\n",
        "\n",
        "X_train /= 255\n",
        "X_test /= 255"
      ]
    },
    {
      "cell_type": "markdown",
      "metadata": {
        "id": "CA3-Xbo4nqVS"
      },
      "source": [
        "### Check image consistency after scaling"
      ]
    },
    {
      "cell_type": "code",
      "execution_count": 6,
      "metadata": {
        "colab": {
          "base_uri": "https://localhost:8080/",
          "height": 1000
        },
        "id": "vM-yDV0H2ju1",
        "outputId": "504f9b85-2c0b-4532-b7cd-ed2853809048"
      },
      "outputs": [
        {
          "output_type": "stream",
          "name": "stdout",
          "text": [
            "\n",
            " [7]\n"
          ]
        },
        {
          "output_type": "display_data",
          "data": {
            "text/plain": [
              "<Figure size 432x288 with 1 Axes>"
            ],
            "image/png": "[encoded data removed]"
          },
          "metadata": {
            "needs_background": "light"
          }
        },
        {
          "output_type": "stream",
          "name": "stdout",
          "text": [
            "\n",
            " [0]\n"
          ]
        },
        {
          "output_type": "display_data",
          "data": {
            "text/plain": [
              "<Figure size 432x288 with 1 Axes>"
            ],
            "image/png": "[encoded data removed]"
          },
          "metadata": {
            "needs_background": "light"
          }
        },
        {
          "output_type": "stream",
          "name": "stdout",
          "text": [
            "\n",
            " [5]\n"
          ]
        },
        {
          "output_type": "display_data",
          "data": {
            "text/plain": [
              "<Figure size 432x288 with 1 Axes>"
            ],
            "image/png": "[encoded data removed]"
          },
          "metadata": {
            "needs_background": "light"
          }
        },
        {
          "output_type": "stream",
          "name": "stdout",
          "text": [
            "\n",
            " [6]\n"
          ]
        },
        {
          "output_type": "display_data",
          "data": {
            "text/plain": [
              "<Figure size 432x288 with 1 Axes>"
            ],
            "image/png": "[encoded data removed]"
          },
          "metadata": {
            "needs_background": "light"
          }
        },
        {
          "output_type": "stream",
          "name": "stdout",
          "text": [
            "\n",
            " [0]\n"
          ]
        },
        {
          "output_type": "display_data",
          "data": {
            "text/plain": [
              "<Figure size 432x288 with 1 Axes>"
            ],
            "image/png": "[encoded data removed]"
          },
          "metadata": {
            "needs_background": "light"
          }
        },
        {
          "output_type": "stream",
          "name": "stdout",
          "text": [
            "\n",
            " [4]\n"
          ]
        },
        {
          "output_type": "display_data",
          "data": {
            "text/plain": [
              "<Figure size 432x288 with 1 Axes>"
            ],
            "image/png": "[encoded data removed]"
          },
          "metadata": {
            "needs_background": "light"
          }
        },
        {
          "output_type": "stream",
          "name": "stdout",
          "text": [
            "\n",
            " [0]\n"
          ]
        },
        {
          "output_type": "display_data",
          "data": {
            "text/plain": [
              "<Figure size 432x288 with 1 Axes>"
            ],
            "image/png": "[encoded data removed]"
          },
          "metadata": {
            "needs_background": "light"
          }
        },
        {
          "output_type": "stream",
          "name": "stdout",
          "text": [
            "\n",
            " [6]\n"
          ]
        },
        {
          "output_type": "display_data",
          "data": {
            "text/plain": [
              "<Figure size 432x288 with 1 Axes>"
            ],
            "image/png": "[encoded data removed]"
          },
          "metadata": {
            "needs_background": "light"
          }
        },
        {
          "output_type": "stream",
          "name": "stdout",
          "text": [
            "\n",
            " [3]\n"
          ]
        },
        {
          "output_type": "display_data",
          "data": {
            "text/plain": [
              "<Figure size 432x288 with 1 Axes>"
            ],
            "image/png": "[encoded data removed]"
          },
          "metadata": {
            "needs_background": "light"
          }
        },
        {
          "output_type": "stream",
          "name": "stdout",
          "text": [
            "\n",
            " [0]\n"
          ]
        },
        {
          "output_type": "display_data",
          "data": {
            "text/plain": [
              "<Figure size 432x288 with 1 Axes>"
            ],
            "image/png": "[encoded data removed]"
          },
          "metadata": {
            "needs_background": "light"
          }
        }
      ],
      "source": [
        "# Consistency check\n",
        "\n",
        "for i in np.random.randint(0, X_train.shape[0], 10):\n",
        "    print('\\n', y_train[i])\n",
        "    plt.imshow(X_train[i])\n",
        "    plt.show()"
      ]
    },
    {
      "cell_type": "markdown",
      "metadata": {
        "id": "KkoNcc_snxCx"
      },
      "source": [
        "## Define Model"
      ]
    },
    {
      "cell_type": "code",
      "execution_count": 7,
      "metadata": {
        "collapsed": true,
        "id": "dz-Hf2BD2mfs"
      },
      "outputs": [],
      "source": [
        "def get_model():\n",
        "    \n",
        "    model = Sequential()\n",
        "    \n",
        "    model.add(Conv2D(filters=32, kernel_size=(3,3), padding='same', input_shape=input_shape, activation='relu'))\n",
        "    model.add(Conv2D(filters=32, kernel_size=(3, 3), activation='relu'))\n",
        "    model.add(MaxPooling2D(pool_size=(2, 2)))\n",
        "    \n",
        "    model.add(Conv2D(filters=64, kernel_size=(3,3), activation='relu'))\n",
        "    model.add(Conv2D(filters=64, kernel_size=(3, 3), activation='relu'))\n",
        "    model.add(MaxPooling2D(pool_size=(2, 2)))\n",
        "    \n",
        "    model.add(Flatten())\n",
        "    \n",
        "    model.add(Dense(units=512, activation='relu'))\n",
        "    model.add(Dense(units=128, activation='relu'))\n",
        "    model.add(Dense(units=32, activation='relu'))\n",
        "    model.add(Dense(units=10, activation='relu'))\n",
        "    \n",
        "    model.add(Dense(units=10, activation='softmax'))\n",
        "    \n",
        "    print('Model initialized. Please compile before training.')\n",
        "    \n",
        "    return model"
      ]
    },
    {
      "cell_type": "markdown",
      "metadata": {
        "id": "hp8gmYfsn0D6"
      },
      "source": [
        "### Set basic hyperparameters"
      ]
    },
    {
      "cell_type": "code",
      "execution_count": 8,
      "metadata": {
        "collapsed": true,
        "id": "ISeAB6x_2oad"
      },
      "outputs": [],
      "source": [
        "# Hyperparameters\n",
        "\n",
        "batch_size = 128\n",
        "epochs = 100"
      ]
    },
    {
      "cell_type": "markdown",
      "metadata": {
        "id": "a2-PHk4Qn430"
      },
      "source": [
        "## Stochastic Gradient Descent\n",
        "---\n",
        "\n",
        "(Default parameters)"
      ]
    },
    {
      "cell_type": "code",
      "execution_count": 9,
      "metadata": {
        "colab": {
          "base_uri": "https://localhost:8080/"
        },
        "id": "rpSsm9TE2ro6",
        "outputId": "06a717a8-ecd4-42a1-afb0-3d4f323ea4f7"
      },
      "outputs": [
        {
          "output_type": "stream",
          "name": "stdout",
          "text": [
            "Model initialized. Please compile before training.\n"
          ]
        }
      ],
      "source": [
        "model_sgd_plain = get_model()"
      ]
    },
    {
      "cell_type": "code",
      "execution_count": 13,
      "metadata": {
        "colab": {
          "base_uri": "https://localhost:8080/",
          "height": 1000
        },
        "id": "tiRSbP0H2tfI",
        "outputId": "11ae0881-348d-4ce9-9d51-1bf55d3cc8e1"
      },
      "outputs": [
        {
          "output_type": "stream",
          "name": "stdout",
          "text": [
            "Model: \"sequential\"\n",
            "_________________________________________________________________\n",
            " Layer (type)                Output Shape              Param #   \n",
            "=================================================================\n",
            " conv2d (Conv2D)             (None, 32, 32, 32)        896       \n",
            "                                                                 \n",
            " conv2d_1 (Conv2D)           (None, 30, 30, 32)        9248      \n",
            "                                                                 \n",
            " max_pooling2d (MaxPooling2D  (None, 15, 15, 32)       0         \n",
            " )                                                               \n",
            "                                                                 \n",
            " conv2d_2 (Conv2D)           (None, 13, 13, 64)        18496     \n",
            "                                                                 \n",
            " conv2d_3 (Conv2D)           (None, 11, 11, 64)        36928     \n",
            "                                                                 \n",
            " max_pooling2d_1 (MaxPooling  (None, 5, 5, 64)         0         \n",
            " 2D)                                                             \n",
            "                                                                 \n",
            " flatten (Flatten)           (None, 1600)              0         \n",
            "                                                                 \n",
            " dense (Dense)               (None, 512)               819712    \n",
            "                                                                 \n",
            " dense_1 (Dense)             (None, 128)               65664     \n",
            "                                                                 \n",
            " dense_2 (Dense)             (None, 32)                4128      \n",
            "                                                                 \n",
            " dense_3 (Dense)             (None, 10)                330       \n",
            "                                                                 \n",
            " dense_4 (Dense)             (None, 10)                110       \n",
            "                                                                 \n",
            "=================================================================\n",
            "Total params: 955,512\n",
            "Trainable params: 955,512\n",
            "Non-trainable params: 0\n",
            "_________________________________________________________________\n",
            "Epoch 1/100\n",
            "391/391 [==============================] - 16s 12ms/step - loss: 2.2645 - accuracy: 0.1595 - val_loss: 2.1802 - val_accuracy: 0.1887\n",
            "Epoch 2/100\n",
            "391/391 [==============================] - 4s 11ms/step - loss: 2.1356 - accuracy: 0.2056 - val_loss: 2.3428 - val_accuracy: 0.1632\n",
            "Epoch 3/100\n",
            "391/391 [==============================] - 4s 11ms/step - loss: 2.0404 - accuracy: 0.2467 - val_loss: 1.9730 - val_accuracy: 0.2903\n",
            "Epoch 4/100\n",
            "391/391 [==============================] - 4s 11ms/step - loss: 1.9606 - accuracy: 0.2800 - val_loss: 1.9620 - val_accuracy: 0.2854\n",
            "Epoch 5/100\n",
            "391/391 [==============================] - 4s 11ms/step - loss: 1.9017 - accuracy: 0.3054 - val_loss: 1.8508 - val_accuracy: 0.3294\n",
            "Epoch 6/100\n",
            "391/391 [==============================] - 4s 11ms/step - loss: 1.8364 - accuracy: 0.3310 - val_loss: 1.8075 - val_accuracy: 0.3410\n",
            "Epoch 7/100\n",
            "391/391 [==============================] - 4s 11ms/step - loss: 1.7642 - accuracy: 0.3611 - val_loss: 1.6907 - val_accuracy: 0.3750\n",
            "Epoch 8/100\n",
            "391/391 [==============================] - 4s 10ms/step - loss: 1.6870 - accuracy: 0.3890 - val_loss: 1.6177 - val_accuracy: 0.4110\n",
            "Epoch 9/100\n",
            "391/391 [==============================] - 4s 10ms/step - loss: 1.6172 - accuracy: 0.4136 - val_loss: 1.5796 - val_accuracy: 0.4250\n",
            "Epoch 10/100\n",
            "391/391 [==============================] - 4s 10ms/step - loss: 1.5490 - accuracy: 0.4426 - val_loss: 1.5295 - val_accuracy: 0.4378\n",
            "Epoch 11/100\n",
            "391/391 [==============================] - 4s 10ms/step - loss: 1.4968 - accuracy: 0.4604 - val_loss: 1.4622 - val_accuracy: 0.4761\n",
            "Epoch 12/100\n",
            "391/391 [==============================] - 5s 12ms/step - loss: 1.4478 - accuracy: 0.4756 - val_loss: 1.5368 - val_accuracy: 0.4557\n",
            "Epoch 13/100\n",
            "391/391 [==============================] - 5s 12ms/step - loss: 1.4034 - accuracy: 0.4914 - val_loss: 1.3742 - val_accuracy: 0.5074\n",
            "Epoch 14/100\n",
            "391/391 [==============================] - 4s 11ms/step - loss: 1.3628 - accuracy: 0.5060 - val_loss: 1.4608 - val_accuracy: 0.4742\n",
            "Epoch 15/100\n",
            "391/391 [==============================] - 4s 11ms/step - loss: 1.3309 - accuracy: 0.5195 - val_loss: 1.3292 - val_accuracy: 0.5196\n",
            "Epoch 16/100\n",
            "391/391 [==============================] - 4s 11ms/step - loss: 1.2928 - accuracy: 0.5322 - val_loss: 1.3039 - val_accuracy: 0.5317\n",
            "Epoch 17/100\n",
            "391/391 [==============================] - 4s 10ms/step - loss: 1.2544 - accuracy: 0.5504 - val_loss: 1.3065 - val_accuracy: 0.5299\n",
            "Epoch 18/100\n",
            "391/391 [==============================] - 4s 10ms/step - loss: 1.2183 - accuracy: 0.5617 - val_loss: 1.2219 - val_accuracy: 0.5615\n",
            "Epoch 19/100\n",
            "391/391 [==============================] - 4s 11ms/step - loss: 1.1862 - accuracy: 0.5767 - val_loss: 1.3442 - val_accuracy: 0.5151\n",
            "Epoch 20/100\n",
            "391/391 [==============================] - 4s 11ms/step - loss: 1.1490 - accuracy: 0.5909 - val_loss: 1.2199 - val_accuracy: 0.5627\n",
            "Epoch 21/100\n",
            "391/391 [==============================] - 4s 10ms/step - loss: 1.1218 - accuracy: 0.5993 - val_loss: 1.1752 - val_accuracy: 0.5807\n",
            "Epoch 22/100\n",
            "391/391 [==============================] - 4s 10ms/step - loss: 1.0832 - accuracy: 0.6133 - val_loss: 1.2327 - val_accuracy: 0.5729\n",
            "Epoch 23/100\n",
            "391/391 [==============================] - 4s 10ms/step - loss: 1.0536 - accuracy: 0.6286 - val_loss: 1.1467 - val_accuracy: 0.5901\n",
            "Epoch 24/100\n",
            "391/391 [==============================] - 4s 10ms/step - loss: 1.0188 - accuracy: 0.6395 - val_loss: 1.2605 - val_accuracy: 0.5674\n",
            "Epoch 25/100\n",
            "391/391 [==============================] - 4s 11ms/step - loss: 0.9857 - accuracy: 0.6517 - val_loss: 1.0995 - val_accuracy: 0.6129\n",
            "Epoch 26/100\n",
            "391/391 [==============================] - 4s 11ms/step - loss: 0.9540 - accuracy: 0.6636 - val_loss: 1.2102 - val_accuracy: 0.5767\n",
            "Epoch 27/100\n",
            "391/391 [==============================] - 4s 11ms/step - loss: 0.9273 - accuracy: 0.6740 - val_loss: 1.1873 - val_accuracy: 0.6002\n",
            "Epoch 28/100\n",
            "391/391 [==============================] - 4s 11ms/step - loss: 0.8947 - accuracy: 0.6839 - val_loss: 1.1020 - val_accuracy: 0.6182\n",
            "Epoch 29/100\n",
            "391/391 [==============================] - 4s 10ms/step - loss: 0.8622 - accuracy: 0.6940 - val_loss: 1.1079 - val_accuracy: 0.6120\n",
            "Epoch 30/100\n",
            "391/391 [==============================] - 4s 11ms/step - loss: 0.8326 - accuracy: 0.7048 - val_loss: 1.0969 - val_accuracy: 0.6223\n",
            "Epoch 31/100\n",
            "391/391 [==============================] - 4s 11ms/step - loss: 0.8085 - accuracy: 0.7130 - val_loss: 1.1505 - val_accuracy: 0.6206\n",
            "Epoch 32/100\n",
            "391/391 [==============================] - 4s 11ms/step - loss: 0.7763 - accuracy: 0.7256 - val_loss: 1.1161 - val_accuracy: 0.6256\n",
            "Epoch 33/100\n",
            "391/391 [==============================] - 5s 11ms/step - loss: 0.7430 - accuracy: 0.7385 - val_loss: 1.0836 - val_accuracy: 0.6372\n",
            "Epoch 34/100\n",
            "391/391 [==============================] - 4s 10ms/step - loss: 0.7171 - accuracy: 0.7469 - val_loss: 1.1245 - val_accuracy: 0.6294\n",
            "Epoch 35/100\n",
            "338/391 [========================>.....] - ETA: 0s - loss: 0.6872 - accuracy: 0.7558"
          ]
        },
        {
          "output_type": "error",
          "ename": "KeyboardInterrupt",
          "evalue": "ignored",
          "traceback": [
            "\u001b[0;31m---------------------------------------------------------------------------\u001b[0m",
            "\u001b[0;31mKeyboardInterrupt\u001b[0m                         Traceback (most recent call last)",
            "\u001b[0;32m<ipython-input-13-bac2f06f4ede>\u001b[0m in \u001b[0;36m<module>\u001b[0;34m()\u001b[0m\n\u001b[1;32m      4\u001b[0m \u001b[0mmodel_sgd_plain\u001b[0m\u001b[0;34m.\u001b[0m\u001b[0mcompile\u001b[0m\u001b[0;34m(\u001b[0m\u001b[0mloss\u001b[0m\u001b[0;34m=\u001b[0m\u001b[0;34m'sparse_categorical_crossentropy'\u001b[0m\u001b[0;34m,\u001b[0m \u001b[0moptimizer\u001b[0m\u001b[0;34m=\u001b[0m\u001b[0msgd_plain\u001b[0m\u001b[0;34m,\u001b[0m \u001b[0mmetrics\u001b[0m\u001b[0;34m=\u001b[0m\u001b[0;34m[\u001b[0m\u001b[0;34m'accuracy'\u001b[0m\u001b[0;34m]\u001b[0m\u001b[0;34m)\u001b[0m\u001b[0;34m\u001b[0m\u001b[0;34m\u001b[0m\u001b[0m\n\u001b[1;32m      5\u001b[0m history_sgd_plain = model_sgd_plain.fit(X_train, y_train, batch_size=batch_size, \n\u001b[0;32m----> 6\u001b[0;31m                               epochs=epochs, validation_data=(X_test, y_test), shuffle=True)\n\u001b[0m",
            "\u001b[0;32m/usr/local/lib/python3.7/dist-packages/keras/utils/traceback_utils.py\u001b[0m in \u001b[0;36merror_handler\u001b[0;34m(*args, **kwargs)\u001b[0m\n\u001b[1;32m     62\u001b[0m     \u001b[0mfiltered_tb\u001b[0m \u001b[0;34m=\u001b[0m \u001b[0;32mNone\u001b[0m\u001b[0;34m\u001b[0m\u001b[0;34m\u001b[0m\u001b[0m\n\u001b[1;32m     63\u001b[0m     \u001b[0;32mtry\u001b[0m\u001b[0;34m:\u001b[0m\u001b[0;34m\u001b[0m\u001b[0;34m\u001b[0m\u001b[0m\n\u001b[0;32m---> 64\u001b[0;31m       \u001b[0;32mreturn\u001b[0m \u001b[0mfn\u001b[0m\u001b[0;34m(\u001b[0m\u001b[0;34m*\u001b[0m\u001b[0margs\u001b[0m\u001b[0;34m,\u001b[0m \u001b[0;34m**\u001b[0m\u001b[0mkwargs\u001b[0m\u001b[0;34m)\u001b[0m\u001b[0;34m\u001b[0m\u001b[0;34m\u001b[0m\u001b[0m\n\u001b[0m\u001b[1;32m     65\u001b[0m     \u001b[0;32mexcept\u001b[0m \u001b[0mException\u001b[0m \u001b[0;32mas\u001b[0m \u001b[0me\u001b[0m\u001b[0;34m:\u001b[0m  \u001b[0;31m# pylint: disable=broad-except\u001b[0m\u001b[0;34m\u001b[0m\u001b[0;34m\u001b[0m\u001b[0m\n\u001b[1;32m     66\u001b[0m       \u001b[0mfiltered_tb\u001b[0m \u001b[0;34m=\u001b[0m \u001b[0m_process_traceback_frames\u001b[0m\u001b[0;34m(\u001b[0m\u001b[0me\u001b[0m\u001b[0;34m.\u001b[0m\u001b[0m__traceback__\u001b[0m\u001b[0;34m)\u001b[0m\u001b[0;34m\u001b[0m\u001b[0;34m\u001b[0m\u001b[0m\n",
            "\u001b[0;32m/usr/local/lib/python3.7/dist-packages/keras/engine/training.py\u001b[0m in \u001b[0;36mfit\u001b[0;34m(self, x, y, batch_size, epochs, verbose, callbacks, validation_split, validation_data, shuffle, class_weight, sample_weight, initial_epoch, steps_per_epoch, validation_steps, validation_batch_size, validation_freq, max_queue_size, workers, use_multiprocessing)\u001b[0m\n\u001b[1;32m   1382\u001b[0m                 _r=1):\n\u001b[1;32m   1383\u001b[0m               \u001b[0mcallbacks\u001b[0m\u001b[0;34m.\u001b[0m\u001b[0mon_train_batch_begin\u001b[0m\u001b[0;34m(\u001b[0m\u001b[0mstep\u001b[0m\u001b[0;34m)\u001b[0m\u001b[0;34m\u001b[0m\u001b[0;34m\u001b[0m\u001b[0m\n\u001b[0;32m-> 1384\u001b[0;31m               \u001b[0mtmp_logs\u001b[0m \u001b[0;34m=\u001b[0m \u001b[0mself\u001b[0m\u001b[0;34m.\u001b[0m\u001b[0mtrain_function\u001b[0m\u001b[0;34m(\u001b[0m\u001b[0miterator\u001b[0m\u001b[0;34m)\u001b[0m\u001b[0;34m\u001b[0m\u001b[0;34m\u001b[0m\u001b[0m\n\u001b[0m\u001b[1;32m   1385\u001b[0m               \u001b[0;32mif\u001b[0m \u001b[0mdata_handler\u001b[0m\u001b[0;34m.\u001b[0m\u001b[0mshould_sync\u001b[0m\u001b[0;34m:\u001b[0m\u001b[0;34m\u001b[0m\u001b[0;34m\u001b[0m\u001b[0m\n\u001b[1;32m   1386\u001b[0m                 \u001b[0mcontext\u001b[0m\u001b[0;34m.\u001b[0m\u001b[0masync_wait\u001b[0m\u001b[0;34m(\u001b[0m\u001b[0;34m)\u001b[0m\u001b[0;34m\u001b[0m\u001b[0;34m\u001b[0m\u001b[0m\n",
            "\u001b[0;32m/usr/local/lib/python3.7/dist-packages/tensorflow/python/util/traceback_utils.py\u001b[0m in \u001b[0;36merror_handler\u001b[0;34m(*args, **kwargs)\u001b[0m\n\u001b[1;32m    148\u001b[0m     \u001b[0mfiltered_tb\u001b[0m \u001b[0;34m=\u001b[0m \u001b[0;32mNone\u001b[0m\u001b[0;34m\u001b[0m\u001b[0;34m\u001b[0m\u001b[0m\n\u001b[1;32m    149\u001b[0m     \u001b[0;32mtry\u001b[0m\u001b[0;34m:\u001b[0m\u001b[0;34m\u001b[0m\u001b[0;34m\u001b[0m\u001b[0m\n\u001b[0;32m--> 150\u001b[0;31m       \u001b[0;32mreturn\u001b[0m \u001b[0mfn\u001b[0m\u001b[0;34m(\u001b[0m\u001b[0;34m*\u001b[0m\u001b[0margs\u001b[0m\u001b[0;34m,\u001b[0m \u001b[0;34m**\u001b[0m\u001b[0mkwargs\u001b[0m\u001b[0;34m)\u001b[0m\u001b[0;34m\u001b[0m\u001b[0;34m\u001b[0m\u001b[0m\n\u001b[0m\u001b[1;32m    151\u001b[0m     \u001b[0;32mexcept\u001b[0m \u001b[0mException\u001b[0m \u001b[0;32mas\u001b[0m \u001b[0me\u001b[0m\u001b[0;34m:\u001b[0m\u001b[0;34m\u001b[0m\u001b[0;34m\u001b[0m\u001b[0m\n\u001b[1;32m    152\u001b[0m       \u001b[0mfiltered_tb\u001b[0m \u001b[0;34m=\u001b[0m \u001b[0m_process_traceback_frames\u001b[0m\u001b[0;34m(\u001b[0m\u001b[0me\u001b[0m\u001b[0;34m.\u001b[0m\u001b[0m__traceback__\u001b[0m\u001b[0;34m)\u001b[0m\u001b[0;34m\u001b[0m\u001b[0;34m\u001b[0m\u001b[0m\n",
            "\u001b[0;32m/usr/local/lib/python3.7/dist-packages/tensorflow/python/eager/def_function.py\u001b[0m in \u001b[0;36m__call__\u001b[0;34m(self, *args, **kwds)\u001b[0m\n\u001b[1;32m    913\u001b[0m \u001b[0;34m\u001b[0m\u001b[0m\n\u001b[1;32m    914\u001b[0m       \u001b[0;32mwith\u001b[0m \u001b[0mOptionalXlaContext\u001b[0m\u001b[0;34m(\u001b[0m\u001b[0mself\u001b[0m\u001b[0;34m.\u001b[0m\u001b[0m_jit_compile\u001b[0m\u001b[0;34m)\u001b[0m\u001b[0;34m:\u001b[0m\u001b[0;34m\u001b[0m\u001b[0;34m\u001b[0m\u001b[0m\n\u001b[0;32m--> 915\u001b[0;31m         \u001b[0mresult\u001b[0m \u001b[0;34m=\u001b[0m \u001b[0mself\u001b[0m\u001b[0;34m.\u001b[0m\u001b[0m_call\u001b[0m\u001b[0;34m(\u001b[0m\u001b[0;34m*\u001b[0m\u001b[0margs\u001b[0m\u001b[0;34m,\u001b[0m \u001b[0;34m**\u001b[0m\u001b[0mkwds\u001b[0m\u001b[0;34m)\u001b[0m\u001b[0;34m\u001b[0m\u001b[0;34m\u001b[0m\u001b[0m\n\u001b[0m\u001b[1;32m    916\u001b[0m \u001b[0;34m\u001b[0m\u001b[0m\n\u001b[1;32m    917\u001b[0m       \u001b[0mnew_tracing_count\u001b[0m \u001b[0;34m=\u001b[0m \u001b[0mself\u001b[0m\u001b[0;34m.\u001b[0m\u001b[0mexperimental_get_tracing_count\u001b[0m\u001b[0;34m(\u001b[0m\u001b[0;34m)\u001b[0m\u001b[0;34m\u001b[0m\u001b[0;34m\u001b[0m\u001b[0m\n",
            "\u001b[0;32m/usr/local/lib/python3.7/dist-packages/tensorflow/python/eager/def_function.py\u001b[0m in \u001b[0;36m_call\u001b[0;34m(self, *args, **kwds)\u001b[0m\n\u001b[1;32m    945\u001b[0m       \u001b[0;31m# In this case we have created variables on the first call, so we run the\u001b[0m\u001b[0;34m\u001b[0m\u001b[0;34m\u001b[0m\u001b[0;34m\u001b[0m\u001b[0m\n\u001b[1;32m    946\u001b[0m       \u001b[0;31m# defunned version which is guaranteed to never create variables.\u001b[0m\u001b[0;34m\u001b[0m\u001b[0;34m\u001b[0m\u001b[0;34m\u001b[0m\u001b[0m\n\u001b[0;32m--> 947\u001b[0;31m       \u001b[0;32mreturn\u001b[0m \u001b[0mself\u001b[0m\u001b[0;34m.\u001b[0m\u001b[0m_stateless_fn\u001b[0m\u001b[0;34m(\u001b[0m\u001b[0;34m*\u001b[0m\u001b[0margs\u001b[0m\u001b[0;34m,\u001b[0m \u001b[0;34m**\u001b[0m\u001b[0mkwds\u001b[0m\u001b[0;34m)\u001b[0m  \u001b[0;31m# pylint: disable=not-callable\u001b[0m\u001b[0;34m\u001b[0m\u001b[0;34m\u001b[0m\u001b[0m\n\u001b[0m\u001b[1;32m    948\u001b[0m     \u001b[0;32melif\u001b[0m \u001b[0mself\u001b[0m\u001b[0;34m.\u001b[0m\u001b[0m_stateful_fn\u001b[0m \u001b[0;32mis\u001b[0m \u001b[0;32mnot\u001b[0m \u001b[0;32mNone\u001b[0m\u001b[0;34m:\u001b[0m\u001b[0;34m\u001b[0m\u001b[0;34m\u001b[0m\u001b[0m\n\u001b[1;32m    949\u001b[0m       \u001b[0;31m# Release the lock early so that multiple threads can perform the call\u001b[0m\u001b[0;34m\u001b[0m\u001b[0;34m\u001b[0m\u001b[0;34m\u001b[0m\u001b[0m\n",
            "\u001b[0;32m/usr/local/lib/python3.7/dist-packages/tensorflow/python/eager/function.py\u001b[0m in \u001b[0;36m__call__\u001b[0;34m(self, *args, **kwargs)\u001b[0m\n\u001b[1;32m   2955\u001b[0m        filtered_flat_args) = self._maybe_define_function(args, kwargs)\n\u001b[1;32m   2956\u001b[0m     return graph_function._call_flat(\n\u001b[0;32m-> 2957\u001b[0;31m         filtered_flat_args, captured_inputs=graph_function.captured_inputs)  # pylint: disable=protected-access\n\u001b[0m\u001b[1;32m   2958\u001b[0m \u001b[0;34m\u001b[0m\u001b[0m\n\u001b[1;32m   2959\u001b[0m   \u001b[0;34m@\u001b[0m\u001b[0mproperty\u001b[0m\u001b[0;34m\u001b[0m\u001b[0;34m\u001b[0m\u001b[0m\n",
            "\u001b[0;32m/usr/local/lib/python3.7/dist-packages/tensorflow/python/eager/function.py\u001b[0m in \u001b[0;36m_call_flat\u001b[0;34m(self, args, captured_inputs, cancellation_manager)\u001b[0m\n\u001b[1;32m   1852\u001b[0m       \u001b[0;31m# No tape is watching; skip to running the function.\u001b[0m\u001b[0;34m\u001b[0m\u001b[0;34m\u001b[0m\u001b[0;34m\u001b[0m\u001b[0m\n\u001b[1;32m   1853\u001b[0m       return self._build_call_outputs(self._inference_function.call(\n\u001b[0;32m-> 1854\u001b[0;31m           ctx, args, cancellation_manager=cancellation_manager))\n\u001b[0m\u001b[1;32m   1855\u001b[0m     forward_backward = self._select_forward_and_backward_functions(\n\u001b[1;32m   1856\u001b[0m         \u001b[0margs\u001b[0m\u001b[0;34m,\u001b[0m\u001b[0;34m\u001b[0m\u001b[0;34m\u001b[0m\u001b[0m\n",
            "\u001b[0;32m/usr/local/lib/python3.7/dist-packages/tensorflow/python/eager/function.py\u001b[0m in \u001b[0;36mcall\u001b[0;34m(self, ctx, args, cancellation_manager)\u001b[0m\n\u001b[1;32m    502\u001b[0m               \u001b[0minputs\u001b[0m\u001b[0;34m=\u001b[0m\u001b[0margs\u001b[0m\u001b[0;34m,\u001b[0m\u001b[0;34m\u001b[0m\u001b[0;34m\u001b[0m\u001b[0m\n\u001b[1;32m    503\u001b[0m               \u001b[0mattrs\u001b[0m\u001b[0;34m=\u001b[0m\u001b[0mattrs\u001b[0m\u001b[0;34m,\u001b[0m\u001b[0;34m\u001b[0m\u001b[0;34m\u001b[0m\u001b[0m\n\u001b[0;32m--> 504\u001b[0;31m               ctx=ctx)\n\u001b[0m\u001b[1;32m    505\u001b[0m         \u001b[0;32melse\u001b[0m\u001b[0;34m:\u001b[0m\u001b[0;34m\u001b[0m\u001b[0;34m\u001b[0m\u001b[0m\n\u001b[1;32m    506\u001b[0m           outputs = execute.execute_with_cancellation(\n",
            "\u001b[0;32m/usr/local/lib/python3.7/dist-packages/tensorflow/python/eager/execute.py\u001b[0m in \u001b[0;36mquick_execute\u001b[0;34m(op_name, num_outputs, inputs, attrs, ctx, name)\u001b[0m\n\u001b[1;32m     53\u001b[0m     \u001b[0mctx\u001b[0m\u001b[0;34m.\u001b[0m\u001b[0mensure_initialized\u001b[0m\u001b[0;34m(\u001b[0m\u001b[0;34m)\u001b[0m\u001b[0;34m\u001b[0m\u001b[0;34m\u001b[0m\u001b[0m\n\u001b[1;32m     54\u001b[0m     tensors = pywrap_tfe.TFE_Py_Execute(ctx._handle, device_name, op_name,\n\u001b[0;32m---> 55\u001b[0;31m                                         inputs, attrs, num_outputs)\n\u001b[0m\u001b[1;32m     56\u001b[0m   \u001b[0;32mexcept\u001b[0m \u001b[0mcore\u001b[0m\u001b[0;34m.\u001b[0m\u001b[0m_NotOkStatusException\u001b[0m \u001b[0;32mas\u001b[0m \u001b[0me\u001b[0m\u001b[0;34m:\u001b[0m\u001b[0;34m\u001b[0m\u001b[0;34m\u001b[0m\u001b[0m\n\u001b[1;32m     57\u001b[0m     \u001b[0;32mif\u001b[0m \u001b[0mname\u001b[0m \u001b[0;32mis\u001b[0m \u001b[0;32mnot\u001b[0m \u001b[0;32mNone\u001b[0m\u001b[0;34m:\u001b[0m\u001b[0;34m\u001b[0m\u001b[0;34m\u001b[0m\u001b[0m\n",
            "\u001b[0;31mKeyboardInterrupt\u001b[0m: "
          ]
        }
      ],
      "source": [
        "import tensorflow as tf\n",
        "model_sgd_plain.summary()\n",
        "sgd_plain = tf.keras.optimizers.SGD()\n",
        "model_sgd_plain.compile(loss='sparse_categorical_crossentropy', optimizer=sgd_plain, metrics=['accuracy'])\n",
        "history_sgd_plain = model_sgd_plain.fit(X_train, y_train, batch_size=batch_size, \n",
        "                              epochs=epochs, validation_data=(X_test, y_test), shuffle=True)"
      ]
    },
    {
      "cell_type": "code",
      "execution_count": null,
      "metadata": {
        "collapsed": true,
        "id": "dER6Inmt2zEs"
      },
      "outputs": [],
      "source": [
        "model_sgd_plain.save('model_sgd_plain.h5')"
      ]
    },
    {
      "cell_type": "markdown",
      "metadata": {
        "id": "bZES59zVoJy7"
      },
      "source": [
        "## ADAM\n",
        "---\n",
        "(Default parameters)"
      ]
    },
    {
      "cell_type": "code",
      "execution_count": null,
      "metadata": {
        "id": "paIKL1LN5tE4"
      },
      "outputs": [],
      "source": [
        "model_adam = get_model()"
      ]
    },
    {
      "cell_type": "code",
      "execution_count": null,
      "metadata": {
        "id": "CaGdwi-H61Bb"
      },
      "outputs": [],
      "source": [
        "model_adam.summary()\n",
        "adam = keras.optimizers.Adam()\n",
        "model_adam.compile(loss='sparse_categorical_crossentropy', optimizer=adam, metrics=['accuracy'])\n",
        "history_adam = model_adam.fit(X_train, y_train, batch_size=batch_size, \n",
        "                              epochs=epochs, validation_data=(X_test, y_test), shuffle=True)"
      ]
    },
    {
      "cell_type": "code",
      "execution_count": null,
      "metadata": {
        "collapsed": true,
        "id": "-BZ05lC47E4r"
      },
      "outputs": [],
      "source": [
        "model_adam.save('model_adam.h5')"
      ]
    },
    {
      "cell_type": "markdown",
      "metadata": {
        "id": "ZDxs9h9KoP0p"
      },
      "source": [
        "## RMSprop\n",
        "---\n",
        "(Default parameters)"
      ]
    },
    {
      "cell_type": "code",
      "execution_count": null,
      "metadata": {
        "id": "dhyBvT8XGWK1"
      },
      "outputs": [],
      "source": [
        "model_rms = get_model()"
      ]
    },
    {
      "cell_type": "code",
      "execution_count": null,
      "metadata": {
        "id": "hhGgIByLGYdM"
      },
      "outputs": [],
      "source": [
        "model_rms.summary()\n",
        "rmsprop = keras.optimizers.RMSprop()\n",
        "model_rms.compile(loss='sparse_categorical_crossentropy', optimizer=rmsprop, metrics=['accuracy'])\n",
        "history_rmsprop = model_rms.fit(X_train, y_train, batch_size=batch_size, \n",
        "                              epochs=epochs, validation_data=(X_test, y_test), shuffle=True)"
      ]
    },
    {
      "cell_type": "code",
      "execution_count": null,
      "metadata": {
        "collapsed": true,
        "id": "s5BY8PuDGb7_"
      },
      "outputs": [],
      "source": [
        "model_rms.save('model_rms.h5')"
      ]
    },
    {
      "cell_type": "markdown",
      "metadata": {
        "id": "R-JgpGpDofZM"
      },
      "source": [
        "## Adadelta\n",
        "---\n",
        "\n",
        "(Default parameters)"
      ]
    },
    {
      "cell_type": "code",
      "execution_count": null,
      "metadata": {
        "id": "cUne6H-qJKKH"
      },
      "outputs": [],
      "source": [
        "model_adadelta = get_model()"
      ]
    },
    {
      "cell_type": "code",
      "execution_count": null,
      "metadata": {
        "id": "KVrRkY97JLk2"
      },
      "outputs": [],
      "source": [
        "model_adadelta.summary()\n",
        "adadelta = keras.optimizers.Adadelta()\n",
        "model_adadelta.compile(loss='sparse_categorical_crossentropy', optimizer=adadelta, metrics=['accuracy'])\n",
        "history_adadelta = model_adadelta.fit(X_train, y_train, batch_size=batch_size, \n",
        "                              epochs=epochs, validation_data=(X_test, y_test), shuffle=True)"
      ]
    },
    {
      "cell_type": "code",
      "execution_count": null,
      "metadata": {
        "collapsed": true,
        "id": "Xa5_V4G7JOuz"
      },
      "outputs": [],
      "source": [
        "model_adadelta.save('model_adadelta.h5')"
      ]
    },
    {
      "cell_type": "markdown",
      "metadata": {
        "id": "lCf1M0beokvM"
      },
      "source": [
        "## Adagrad\n",
        "---\n",
        "(Default parameters)"
      ]
    },
    {
      "cell_type": "code",
      "execution_count": null,
      "metadata": {
        "id": "Zj9vXwX2RVPk"
      },
      "outputs": [],
      "source": [
        "model_adagrad = get_model()"
      ]
    },
    {
      "cell_type": "code",
      "execution_count": null,
      "metadata": {
        "id": "rf56r8--RfP9"
      },
      "outputs": [],
      "source": [
        "model_adagrad.summary()\n",
        "adagrad = keras.optimizers.Adagrad()\n",
        "model_adagrad.compile(loss='sparse_categorical_crossentropy', optimizer=adagrad, metrics=['accuracy'])\n",
        "history_adagrad= model_adagrad.fit(X_train, y_train, batch_size=batch_size, \n",
        "                              epochs=epochs, validation_data=(X_test, y_test), shuffle=True)"
      ]
    },
    {
      "cell_type": "code",
      "execution_count": null,
      "metadata": {
        "collapsed": true,
        "id": "csbF_E6HRt1E"
      },
      "outputs": [],
      "source": [
        "model_adagrad.save('model_adagrad.h5')"
      ]
    },
    {
      "cell_type": "markdown",
      "metadata": {
        "id": "OenGctH-oqmK"
      },
      "source": [
        "## Combined Accuracy Plot\n",
        "---\n",
        "\n",
        "A comparison of accuracies of the optimizers."
      ]
    },
    {
      "cell_type": "code",
      "execution_count": null,
      "metadata": {
        "id": "8CwBvpExcvS9"
      },
      "outputs": [],
      "source": [
        "# Combined Training Accuracy Plot\n",
        "\n",
        "plt.plot(history_sgd_plain.history['acc'])\n",
        "plt.plot(history_adam.history['acc'])\n",
        "plt.plot(history_rmsprop.history['acc'])\n",
        "plt.plot(history_adadelta.history['acc'])\n",
        "plt.plot(history_adagrad.history['acc'])\n",
        "\n",
        "plt.title('Accuracies')\n",
        "plt.ylabel('Accuracy')\n",
        "plt.xlabel('Epoch')\n",
        "plt.legend(['SGD', 'Adam', 'RMSprop', 'Adadelta', 'Adagrad'])\n",
        "plt.savefig('Combined-Accuracy.jpg', dpi=200)"
      ]
    },
    {
      "cell_type": "markdown",
      "metadata": {
        "id": "PCYulRSNoyRQ"
      },
      "source": [
        "## Individual Metrics Plots"
      ]
    },
    {
      "cell_type": "code",
      "execution_count": null,
      "metadata": {
        "id": "qfHtent6ej7I"
      },
      "outputs": [],
      "source": [
        "# SGD\n",
        "plt.plot(history_sgd_plain.history['acc'])\n",
        "plt.plot(history_sgd_plain.history['val_acc'])\n",
        "plt.title('SGD - Accuracy')\n",
        "plt.ylabel('accuracy')\n",
        "plt.xlabel('epoch')\n",
        "plt.legend(['train', 'val'])\n",
        "plt.savefig('SGD-Accuracy.jpg')\n",
        "plt.show()\n",
        "\n",
        "print()\n",
        "print()\n",
        "\n",
        "plt.plot(history_sgd_plain.history['loss'])\n",
        "plt.plot(history_sgd_plain.history['val_loss'])\n",
        "plt.title('SGD - Loss')\n",
        "plt.ylabel('loss')\n",
        "plt.xlabel('epoch')\n",
        "plt.legend(['train', 'val'])\n",
        "plt.savefig('SGD-Loss.jpg')\n",
        "plt.show()\n",
        "\n",
        "\n",
        "# Adam\n",
        "plt.plot(history_adam.history['acc'])\n",
        "plt.plot(history_adam.history['val_acc'])\n",
        "plt.title('Adam - Accuracy')\n",
        "plt.ylabel('accuracy')\n",
        "plt.xlabel('epoch')\n",
        "plt.legend(['train', 'val'])\n",
        "plt.savefig('Adam-Accuracy.jpg')\n",
        "plt.show()\n",
        "\n",
        "print()\n",
        "print()\n",
        "\n",
        "plt.plot(history_adam.history['loss'])\n",
        "plt.plot(history_adam.history['val_loss'])\n",
        "plt.title('Adam - Loss')\n",
        "plt.ylabel('loss')\n",
        "plt.xlabel('epoch')\n",
        "plt.legend(['train', 'val'])\n",
        "plt.savefig('Adam-Loss.jpg')\n",
        "plt.show()\n",
        "\n",
        "# RMSprop\n",
        "plt.plot(history_rmsprop.history['acc'])\n",
        "plt.plot(history_rmsprop.history['val_acc'])\n",
        "plt.title('RMSprop - Accuracy')\n",
        "plt.ylabel('accuracy')\n",
        "plt.xlabel('epoch')\n",
        "plt.legend(['train', 'val'])\n",
        "plt.savefig('RMSprop-Accuracy.jpg')\n",
        "plt.show()\n",
        "\n",
        "print()\n",
        "print()\n",
        "\n",
        "plt.plot(history_rmsprop.history['loss'])\n",
        "plt.plot(history_rmsprop.history['val_loss'])\n",
        "plt.title('RMSprop - Loss')\n",
        "plt.ylabel('loss')\n",
        "plt.xlabel('epoch')\n",
        "plt.legend(['train', 'val'])\n",
        "plt.savefig('RMSprop-Loss.jpg')\n",
        "plt.show()\n",
        "\n",
        "# Adadelta\n",
        "plt.plot(history_adadelta.history['acc'])\n",
        "plt.plot(history_adadelta.history['val_acc'])\n",
        "plt.title('Adadelta - Accuracy')\n",
        "plt.ylabel('accuracy')\n",
        "plt.xlabel('epoch')\n",
        "plt.legend(['train', 'val'])\n",
        "plt.savefig('Adadelta-Accuracy.jpg')\n",
        "plt.show()\n",
        "\n",
        "print()\n",
        "print()\n",
        "\n",
        "plt.plot(history_adadelta.history['loss'])\n",
        "plt.plot(history_adadelta.history['val_loss'])\n",
        "plt.title('Adadelta - Loss')\n",
        "plt.ylabel('loss')\n",
        "plt.xlabel('epoch')\n",
        "plt.legend(['train', 'val'])\n",
        "plt.savefig('Adadelta-Loss.jpg')\n",
        "plt.show()\n",
        "\n",
        "# Adagrad\n",
        "plt.plot(history_adagrad.history['acc'])\n",
        "plt.plot(history_adagrad.history['val_acc'])\n",
        "plt.title('Adagrad - Accuracy')\n",
        "plt.ylabel('accuracy')\n",
        "plt.xlabel('epoch')\n",
        "plt.legend(['train', 'val'])\n",
        "plt.savefig('Adagrad-Accuracy.jpg')\n",
        "plt.show()\n",
        "\n",
        "print()\n",
        "print()\n",
        "\n",
        "plt.plot(history_adagrad.history['loss'])\n",
        "plt.plot(history_adagrad.history['val_loss'])\n",
        "plt.title('Adagrad - Loss')\n",
        "plt.ylabel('loss')\n",
        "plt.xlabel('epoch')\n",
        "plt.legend(['train', 'val'])\n",
        "plt.savefig('Adagrad-Loss.jpg')\n",
        "plt.show()"
      ]
    }
  ],
  "metadata": {
    "accelerator": "GPU",
    "colab": {
      "collapsed_sections": [],
      "name": "CIFAR-Optimizers.ipynb",
      "provenance": []
    },
    "kernelspec": {
      "display_name": "Python 3",
      "language": "python",
      "name": "python3"
    },
    "language_info": {
      "codemirror_mode": {
        "name": "ipython",
        "version": 3
      },
      "file_extension": ".py",
      "mimetype": "text/x-python",
      "name": "python",
      "nbconvert_exporter": "python",
      "pygments_lexer": "ipython3",
      "version": "3.5.3"
    }
  },
  "nbformat": 4,
  "nbformat_minor": 0
}