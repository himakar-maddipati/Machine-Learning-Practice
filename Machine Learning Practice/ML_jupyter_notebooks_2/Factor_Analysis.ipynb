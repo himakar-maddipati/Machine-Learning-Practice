{
  "cells": [
    {
      "cell_type": "code",
      "source": [
        "!pip install factor_analyzer"
      ],
      "metadata": {
        "colab": {
          "base_uri": "https://localhost:8080/"
        },
        "id": "dGae1Gq-O-xJ",
        "outputId": "acc15420-28d3-4c88-d6f0-6fd0e1959993"
      },
      "execution_count": 10,
      "outputs": [
        {
          "output_type": "stream",
          "name": "stdout",
          "text": [
            "Looking in indexes: https://pypi.org/simple, https://us-python.pkg.dev/colab-wheels/public/simple/\n",
            "Requirement already satisfied: factor_analyzer in /usr/local/lib/python3.7/dist-packages (0.4.1)\n",
            "Requirement already satisfied: scikit-learn in /usr/local/lib/python3.7/dist-packages (from factor_analyzer) (1.0.2)\n",
            "Requirement already satisfied: pre-commit in /usr/local/lib/python3.7/dist-packages (from factor_analyzer) (2.20.0)\n",
            "Requirement already satisfied: numpy in /usr/local/lib/python3.7/dist-packages (from factor_analyzer) (1.21.6)\n",
            "Requirement already satisfied: scipy in /usr/local/lib/python3.7/dist-packages (from factor_analyzer) (1.7.3)\n",
            "Requirement already satisfied: pandas in /usr/local/lib/python3.7/dist-packages (from factor_analyzer) (1.3.5)\n",
            "Requirement already satisfied: pytz>=2017.3 in /usr/local/lib/python3.7/dist-packages (from pandas->factor_analyzer) (2022.5)\n",
            "Requirement already satisfied: python-dateutil>=2.7.3 in /usr/local/lib/python3.7/dist-packages (from pandas->factor_analyzer) (2.8.2)\n",
            "Requirement already satisfied: six>=1.5 in /usr/local/lib/python3.7/dist-packages (from python-dateutil>=2.7.3->pandas->factor_analyzer) (1.15.0)\n",
            "Requirement already satisfied: cfgv>=2.0.0 in /usr/local/lib/python3.7/dist-packages (from pre-commit->factor_analyzer) (3.3.1)\n",
            "Requirement already satisfied: importlib-metadata in /usr/local/lib/python3.7/dist-packages (from pre-commit->factor_analyzer) (4.13.0)\n",
            "Requirement already satisfied: pyyaml>=5.1 in /usr/local/lib/python3.7/dist-packages (from pre-commit->factor_analyzer) (6.0)\n",
            "Requirement already satisfied: virtualenv>=20.0.8 in /usr/local/lib/python3.7/dist-packages (from pre-commit->factor_analyzer) (20.16.6)\n",
            "Requirement already satisfied: toml in /usr/local/lib/python3.7/dist-packages (from pre-commit->factor_analyzer) (0.10.2)\n",
            "Requirement already satisfied: identify>=1.0.0 in /usr/local/lib/python3.7/dist-packages (from pre-commit->factor_analyzer) (2.5.7)\n",
            "Requirement already satisfied: nodeenv>=0.11.1 in /usr/local/lib/python3.7/dist-packages (from pre-commit->factor_analyzer) (1.7.0)\n",
            "Requirement already satisfied: setuptools in /usr/local/lib/python3.7/dist-packages (from nodeenv>=0.11.1->pre-commit->factor_analyzer) (57.4.0)\n",
            "Requirement already satisfied: platformdirs<3,>=2.4 in /usr/local/lib/python3.7/dist-packages (from virtualenv>=20.0.8->pre-commit->factor_analyzer) (2.5.2)\n",
            "Requirement already satisfied: filelock<4,>=3.4.1 in /usr/local/lib/python3.7/dist-packages (from virtualenv>=20.0.8->pre-commit->factor_analyzer) (3.8.0)\n",
            "Requirement already satisfied: distlib<1,>=0.3.6 in /usr/local/lib/python3.7/dist-packages (from virtualenv>=20.0.8->pre-commit->factor_analyzer) (0.3.6)\n",
            "Requirement already satisfied: typing-extensions>=3.6.4 in /usr/local/lib/python3.7/dist-packages (from importlib-metadata->pre-commit->factor_analyzer) (4.1.1)\n",
            "Requirement already satisfied: zipp>=0.5 in /usr/local/lib/python3.7/dist-packages (from importlib-metadata->pre-commit->factor_analyzer) (3.9.0)\n",
            "Requirement already satisfied: threadpoolctl>=2.0.0 in /usr/local/lib/python3.7/dist-packages (from scikit-learn->factor_analyzer) (3.1.0)\n",
            "Requirement already satisfied: joblib>=0.11 in /usr/local/lib/python3.7/dist-packages (from scikit-learn->factor_analyzer) (1.2.0)\n"
          ]
        }
      ]
    },
    {
      "cell_type": "code",
      "execution_count": 11,
      "metadata": {
        "id": "KxjXMwmrOga1"
      },
      "outputs": [],
      "source": [
        "import pandas as pd\n",
        "import numpy as np\n",
        "import matplotlib.pyplot as plt"
      ]
    },
    {
      "cell_type": "code",
      "execution_count": 12,
      "metadata": {
        "id": "NbXMLRNCOga8"
      },
      "outputs": [],
      "source": [
        "with open('Standford.txt','r') as file:\n",
        "    header = file.readline()\n",
        "    data=[]\n",
        "    for row in file.readlines()[1:]:\n",
        "        row = row.split()[1:]\n",
        "        data.append(row)\n",
        "    data = np.array(data,dtype='int')"
      ]
    },
    {
      "cell_type": "markdown",
      "source": [
        "DATA SET:\n",
        "1. The interview process has been over and for each personality trait of the interviewee, we have rated them out of 10. \n",
        "2. The various personality traits  of the interviewee are distant, relaxed, careless, talkative, lazy etc.. There are about 32 personality traits  or variables.\n",
        "3.  We can see that relaxed, careless and lazy features are correlated because these persons won’t be successful in interview . Since these variables are correlated we can try to form a factor called ‘unsuccessful behaviors’ which will explain the common variance i.e. variance due to correlation among these features.\n",
        "\n"
      ],
      "metadata": {
        "id": "FW1ztOw3PRFA"
      }
    },
    {
      "cell_type": "code",
      "execution_count": 13,
      "metadata": {
        "colab": {
          "base_uri": "https://localhost:8080/",
          "height": 300
        },
        "id": "YnaL0-wDOga-",
        "outputId": "ea1187d6-b882-4766-d742-e9838df7f7a6"
      },
      "outputs": [
        {
          "output_type": "execute_result",
          "data": {
            "text/plain": [
              "   \"distant\"  \"talkatv\"  \"carelss\"  \"hardwrk\"  \"anxious\"  \"agreebl\"  \"tense\"  \\\n",
              "0          3          8          2          7          5          8        4   \n",
              "1          6          6          2          5          1          8        2   \n",
              "2          3          7          6          7          8          8        2   \n",
              "3          7          3          3          5          8          6        7   \n",
              "4          7          6          7          6          7          8        7   \n",
              "\n",
              "   \"kind\"  \"opposng\"  \"relaxed\"  ...  \"lazy\"  \"coopera\"  \"quiet\"  \"organiz\"  \\\n",
              "0       8          5          7  ...       2          7        6          6   \n",
              "1       9          2          8  ...       5          8        7          4   \n",
              "2       8          3          7  ...       3          8        4          7   \n",
              "3       2          3          3  ...       6          6        7          5   \n",
              "4       8          5          5  ...       5          7        8          6   \n",
              "\n",
              "   \"criticl\"  \"lax\"  \"laidbck\"  \"withdrw\"  \"givinup\"  \"easygon\"  \n",
              "0          4      3          7          2          2          7  \n",
              "1          5      5          7          6          2          8  \n",
              "2          6      6          6          4          3          7  \n",
              "3          5      3          3          7          5          5  \n",
              "4          6      4          4          6          4          7  \n",
              "\n",
              "[5 rows x 32 columns]"
            ],
            "text/html": [
              "\n",
              "  <div id=\"df-3c04ff8d-e0c0-4098-bfaf-6d0e884ef832\">\n",
              "    <div class=\"colab-df-container\">\n",
              "      <div>\n",
              "<style scoped>\n",
              "    .dataframe tbody tr th:only-of-type {\n",
              "        vertical-align: middle;\n",
              "    }\n",
              "\n",
              "    .dataframe tbody tr th {\n",
              "        vertical-align: top;\n",
              "    }\n",
              "\n",
              "    .dataframe thead th {\n",
              "        text-align: right;\n",
              "    }\n",
              "</style>\n",
              "<table border=\"1\" class=\"dataframe\">\n",
              "  <thead>\n",
              "    <tr style=\"text-align: right;\">\n",
              "      <th></th>\n",
              "      <th>\"distant\"</th>\n",
              "      <th>\"talkatv\"</th>\n",
              "      <th>\"carelss\"</th>\n",
              "      <th>\"hardwrk\"</th>\n",
              "      <th>\"anxious\"</th>\n",
              "      <th>\"agreebl\"</th>\n",
              "      <th>\"tense\"</th>\n",
              "      <th>\"kind\"</th>\n",
              "      <th>\"opposng\"</th>\n",
              "      <th>\"relaxed\"</th>\n",
              "      <th>...</th>\n",
              "      <th>\"lazy\"</th>\n",
              "      <th>\"coopera\"</th>\n",
              "      <th>\"quiet\"</th>\n",
              "      <th>\"organiz\"</th>\n",
              "      <th>\"criticl\"</th>\n",
              "      <th>\"lax\"</th>\n",
              "      <th>\"laidbck\"</th>\n",
              "      <th>\"withdrw\"</th>\n",
              "      <th>\"givinup\"</th>\n",
              "      <th>\"easygon\"</th>\n",
              "    </tr>\n",
              "  </thead>\n",
              "  <tbody>\n",
              "    <tr>\n",
              "      <th>0</th>\n",
              "      <td>3</td>\n",
              "      <td>8</td>\n",
              "      <td>2</td>\n",
              "      <td>7</td>\n",
              "      <td>5</td>\n",
              "      <td>8</td>\n",
              "      <td>4</td>\n",
              "      <td>8</td>\n",
              "      <td>5</td>\n",
              "      <td>7</td>\n",
              "      <td>...</td>\n",
              "      <td>2</td>\n",
              "      <td>7</td>\n",
              "      <td>6</td>\n",
              "      <td>6</td>\n",
              "      <td>4</td>\n",
              "      <td>3</td>\n",
              "      <td>7</td>\n",
              "      <td>2</td>\n",
              "      <td>2</td>\n",
              "      <td>7</td>\n",
              "    </tr>\n",
              "    <tr>\n",
              "      <th>1</th>\n",
              "      <td>6</td>\n",
              "      <td>6</td>\n",
              "      <td>2</td>\n",
              "      <td>5</td>\n",
              "      <td>1</td>\n",
              "      <td>8</td>\n",
              "      <td>2</td>\n",
              "      <td>9</td>\n",
              "      <td>2</td>\n",
              "      <td>8</td>\n",
              "      <td>...</td>\n",
              "      <td>5</td>\n",
              "      <td>8</td>\n",
              "      <td>7</td>\n",
              "      <td>4</td>\n",
              "      <td>5</td>\n",
              "      <td>5</td>\n",
              "      <td>7</td>\n",
              "      <td>6</td>\n",
              "      <td>2</td>\n",
              "      <td>8</td>\n",
              "    </tr>\n",
              "    <tr>\n",
              "      <th>2</th>\n",
              "      <td>3</td>\n",
              "      <td>7</td>\n",
              "      <td>6</td>\n",
              "      <td>7</td>\n",
              "      <td>8</td>\n",
              "      <td>8</td>\n",
              "      <td>2</td>\n",
              "      <td>8</td>\n",
              "      <td>3</td>\n",
              "      <td>7</td>\n",
              "      <td>...</td>\n",
              "      <td>3</td>\n",
              "      <td>8</td>\n",
              "      <td>4</td>\n",
              "      <td>7</td>\n",
              "      <td>6</td>\n",
              "      <td>6</td>\n",
              "      <td>6</td>\n",
              "      <td>4</td>\n",
              "      <td>3</td>\n",
              "      <td>7</td>\n",
              "    </tr>\n",
              "    <tr>\n",
              "      <th>3</th>\n",
              "      <td>7</td>\n",
              "      <td>3</td>\n",
              "      <td>3</td>\n",
              "      <td>5</td>\n",
              "      <td>8</td>\n",
              "      <td>6</td>\n",
              "      <td>7</td>\n",
              "      <td>2</td>\n",
              "      <td>3</td>\n",
              "      <td>3</td>\n",
              "      <td>...</td>\n",
              "      <td>6</td>\n",
              "      <td>6</td>\n",
              "      <td>7</td>\n",
              "      <td>5</td>\n",
              "      <td>5</td>\n",
              "      <td>3</td>\n",
              "      <td>3</td>\n",
              "      <td>7</td>\n",
              "      <td>5</td>\n",
              "      <td>5</td>\n",
              "    </tr>\n",
              "    <tr>\n",
              "      <th>4</th>\n",
              "      <td>7</td>\n",
              "      <td>6</td>\n",
              "      <td>7</td>\n",
              "      <td>6</td>\n",
              "      <td>7</td>\n",
              "      <td>8</td>\n",
              "      <td>7</td>\n",
              "      <td>8</td>\n",
              "      <td>5</td>\n",
              "      <td>5</td>\n",
              "      <td>...</td>\n",
              "      <td>5</td>\n",
              "      <td>7</td>\n",
              "      <td>8</td>\n",
              "      <td>6</td>\n",
              "      <td>6</td>\n",
              "      <td>4</td>\n",
              "      <td>4</td>\n",
              "      <td>6</td>\n",
              "      <td>4</td>\n",
              "      <td>7</td>\n",
              "    </tr>\n",
              "  </tbody>\n",
              "</table>\n",
              "<p>5 rows × 32 columns</p>\n",
              "</div>\n",
              "      <button class=\"colab-df-convert\" onclick=\"convertToInteractive('df-3c04ff8d-e0c0-4098-bfaf-6d0e884ef832')\"\n",
              "              title=\"Convert this dataframe to an interactive table.\"\n",
              "              style=\"display:none;\">\n",
              "        \n",
              "  <svg xmlns=\"http://www.w3.org/2000/svg\" height=\"24px\"viewBox=\"0 0 24 24\"\n",
              "       width=\"24px\">\n",
              "    <path d=\"M0 0h24v24H0V0z\" fill=\"none\"/>\n",
              "    <path d=\"M18.56 5.44l.94 2.06.94-2.06 2.06-.94-2.06-.94-.94-2.06-.94 2.06-2.06.94zm-11 1L8.5 8.5l.94-2.06 2.06-.94-2.06-.94L8.5 2.5l-.94 2.06-2.06.94zm10 10l.94 2.06.94-2.06 2.06-.94-2.06-.94-.94-2.06-.94 2.06-2.06.94z\"/><path d=\"M17.41 7.96l-1.37-1.37c-.4-.4-.92-.59-1.43-.59-.52 0-1.04.2-1.43.59L10.3 9.45l-7.72 7.72c-.78.78-.78 2.05 0 2.83L4 21.41c.39.39.9.59 1.41.59.51 0 1.02-.2 1.41-.59l7.78-7.78 2.81-2.81c.8-.78.8-2.07 0-2.86zM5.41 20L4 18.59l7.72-7.72 1.47 1.35L5.41 20z\"/>\n",
              "  </svg>\n",
              "      </button>\n",
              "      \n",
              "  <style>\n",
              "    .colab-df-container {\n",
              "      display:flex;\n",
              "      flex-wrap:wrap;\n",
              "      gap: 12px;\n",
              "    }\n",
              "\n",
              "    .colab-df-convert {\n",
              "      background-color: #E8F0FE;\n",
              "      border: none;\n",
              "      border-radius: 50%;\n",
              "      cursor: pointer;\n",
              "      display: none;\n",
              "      fill: #1967D2;\n",
              "      height: 32px;\n",
              "      padding: 0 0 0 0;\n",
              "      width: 32px;\n",
              "    }\n",
              "\n",
              "    .colab-df-convert:hover {\n",
              "      background-color: #E2EBFA;\n",
              "      box-shadow: 0px 1px 2px rgba(60, 64, 67, 0.3), 0px 1px 3px 1px rgba(60, 64, 67, 0.15);\n",
              "      fill: #174EA6;\n",
              "    }\n",
              "\n",
              "    [theme=dark] .colab-df-convert {\n",
              "      background-color: #3B4455;\n",
              "      fill: #D2E3FC;\n",
              "    }\n",
              "\n",
              "    [theme=dark] .colab-df-convert:hover {\n",
              "      background-color: #434B5C;\n",
              "      box-shadow: 0px 1px 3px 1px rgba(0, 0, 0, 0.15);\n",
              "      filter: drop-shadow(0px 1px 2px rgba(0, 0, 0, 0.3));\n",
              "      fill: #FFFFFF;\n",
              "    }\n",
              "  </style>\n",
              "\n",
              "      <script>\n",
              "        const buttonEl =\n",
              "          document.querySelector('#df-3c04ff8d-e0c0-4098-bfaf-6d0e884ef832 button.colab-df-convert');\n",
              "        buttonEl.style.display =\n",
              "          google.colab.kernel.accessAllowed ? 'block' : 'none';\n",
              "\n",
              "        async function convertToInteractive(key) {\n",
              "          const element = document.querySelector('#df-3c04ff8d-e0c0-4098-bfaf-6d0e884ef832');\n",
              "          const dataTable =\n",
              "            await google.colab.kernel.invokeFunction('convertToInteractive',\n",
              "                                                     [key], {});\n",
              "          if (!dataTable) return;\n",
              "\n",
              "          const docLinkHtml = 'Like what you see? Visit the ' +\n",
              "            '<a target=\"_blank\" href=https://colab.research.google.com/notebooks/data_table.ipynb>data table notebook</a>'\n",
              "            + ' to learn more about interactive tables.';\n",
              "          element.innerHTML = '';\n",
              "          dataTable['output_type'] = 'display_data';\n",
              "          await google.colab.output.renderOutput(dataTable, element);\n",
              "          const docLink = document.createElement('div');\n",
              "          docLink.innerHTML = docLinkHtml;\n",
              "          element.appendChild(docLink);\n",
              "        }\n",
              "      </script>\n",
              "    </div>\n",
              "  </div>\n",
              "  "
            ]
          },
          "metadata": {},
          "execution_count": 13
        }
      ],
      "source": [
        "dataset = pd.DataFrame(data,columns=np.array(header.split(),dtype=object))\n",
        "dataset.head()"
      ]
    },
    {
      "cell_type": "code",
      "execution_count": 14,
      "metadata": {
        "colab": {
          "base_uri": "https://localhost:8080/"
        },
        "id": "KWMPN6bCOgbA",
        "outputId": "11bd2756-776a-4af1-a3c7-488d1bea3922"
      },
      "outputs": [
        {
          "output_type": "execute_result",
          "data": {
            "text/plain": [
              "array(['\"distant\"', '\"talkatv\"', '\"carelss\"', '\"hardwrk\"', '\"anxious\"',\n",
              "       '\"agreebl\"', '\"tense\"', '\"kind\"', '\"opposng\"', '\"relaxed\"',\n",
              "       '\"disorgn\"', '\"outgoin\"', '\"approvn\"', '\"shy\"', '\"discipl\"',\n",
              "       '\"harsh\"', '\"persevr\"', '\"friendl\"', '\"worryin\"', '\"respnsi\"',\n",
              "       '\"contrar\"', '\"sociabl\"', '\"lazy\"', '\"coopera\"', '\"quiet\"',\n",
              "       '\"organiz\"', '\"criticl\"', '\"lax\"', '\"laidbck\"', '\"withdrw\"',\n",
              "       '\"givinup\"', '\"easygon\"'], dtype=object)"
            ]
          },
          "metadata": {},
          "execution_count": 14
        }
      ],
      "source": [
        "np.array(list(dataset.columns),dtype=object)"
      ]
    },
    {
      "cell_type": "code",
      "execution_count": 15,
      "metadata": {
        "colab": {
          "base_uri": "https://localhost:8080/"
        },
        "id": "w4kvb9LxOgbB",
        "outputId": "0c2a507f-2571-476c-bd24-3af853769825"
      },
      "outputs": [
        {
          "output_type": "execute_result",
          "data": {
            "text/plain": [
              "\"distant\"    0\n",
              "\"talkatv\"    0\n",
              "\"carelss\"    0\n",
              "\"hardwrk\"    0\n",
              "\"anxious\"    0\n",
              "\"agreebl\"    0\n",
              "\"tense\"      0\n",
              "\"kind\"       0\n",
              "\"opposng\"    0\n",
              "\"relaxed\"    0\n",
              "\"disorgn\"    0\n",
              "\"outgoin\"    0\n",
              "\"approvn\"    0\n",
              "\"shy\"        0\n",
              "\"discipl\"    0\n",
              "\"harsh\"      0\n",
              "\"persevr\"    0\n",
              "\"friendl\"    0\n",
              "\"worryin\"    0\n",
              "\"respnsi\"    0\n",
              "\"contrar\"    0\n",
              "\"sociabl\"    0\n",
              "\"lazy\"       0\n",
              "\"coopera\"    0\n",
              "\"quiet\"      0\n",
              "\"organiz\"    0\n",
              "\"criticl\"    0\n",
              "\"lax\"        0\n",
              "\"laidbck\"    0\n",
              "\"withdrw\"    0\n",
              "\"givinup\"    0\n",
              "\"easygon\"    0\n",
              "dtype: int64"
            ]
          },
          "metadata": {},
          "execution_count": 15
        }
      ],
      "source": [
        "dataset.isnull().sum()"
      ]
    },
    {
      "cell_type": "code",
      "execution_count": 16,
      "metadata": {
        "id": "ChsTvs_XOgbC"
      },
      "outputs": [],
      "source": [
        "from sklearn.preprocessing import StandardScaler"
      ]
    },
    {
      "cell_type": "code",
      "execution_count": 17,
      "metadata": {
        "colab": {
          "base_uri": "https://localhost:8080/",
          "height": 456
        },
        "id": "4oohSoETOgbD",
        "outputId": "9977c9e5-7d22-4ea6-cfda-6b683bb417fa"
      },
      "outputs": [
        {
          "output_type": "execute_result",
          "data": {
            "text/plain": [
              "   \"distant\"  \"talkatv\"  \"carelss\"  \"hardwrk\"  \"anxious\"  \"agreebl\"   \"tense\"  \\\n",
              "0  -0.488390   1.265587  -0.788318   0.046253  -0.064666   1.005322 -0.323008   \n",
              "1   1.187091   0.072391  -0.788318  -1.427667  -2.196418   1.005322 -1.373331   \n",
              "2  -0.488390   0.668989   1.428247   0.046253   1.534148   1.005322 -1.373331   \n",
              "3   1.745584  -1.717404  -0.234177  -1.427667   1.534148  -0.455298  1.252478   \n",
              "4   1.745584   0.072391   1.982388  -0.690707   1.001210   1.005322  1.252478   \n",
              "5  -0.488390   0.072391   2.536529  -0.690707   0.468272   0.275012 -0.848169   \n",
              "6   1.745584   0.072391  -0.788318   1.520172   1.001210   1.005322  0.727316   \n",
              "7  -1.046883   0.072391  -0.788318   0.783212  -1.663480   0.275012 -0.323008   \n",
              "8   0.070104   0.668989  -0.234177  -0.690707  -1.130542   0.275012 -0.848169   \n",
              "9  -0.488390  -0.524208  -0.788318   0.783212  -1.130542   0.275012 -0.848169   \n",
              "\n",
              "     \"kind\"  \"opposng\"  \"relaxed\"  ...    \"lazy\"  \"coopera\"   \"quiet\"  \\\n",
              "0  0.826566   0.717681   0.901710  ... -1.149738   0.264088  0.760729   \n",
              "1  1.623135  -1.160338   1.492145  ...  0.441695   1.105648  1.298641   \n",
              "2  0.826566  -0.534332   0.901710  ... -0.619260   1.105648 -0.315095   \n",
              "3 -3.952850  -0.534332  -1.460029  ...  0.972172  -0.577472  1.298641   \n",
              "4  0.826566   0.717681  -0.279160  ...  0.441695   0.264088  1.836553   \n",
              "5 -1.563142  -0.534332   0.901710  ...  0.972172  -0.577472 -0.315095   \n",
              "6  0.029996  -1.160338  -0.869595  ... -0.088783   1.105648  0.760729   \n",
              "7  0.029996   0.091675   1.492145  ... -0.619260   1.105648  0.222817   \n",
              "8  0.029996   0.717681   0.311275  ... -0.619260   0.264088  0.222817   \n",
              "9 -1.563142   0.091675  -0.279160  ... -0.088783   0.264088  1.298641   \n",
              "\n",
              "   \"organiz\"  \"criticl\"     \"lax\"  \"laidbck\"  \"withdrw\"  \"givinup\"  \"easygon\"  \n",
              "0  -0.081040  -0.671279 -0.648872   0.985611  -0.989317  -0.430324   0.589672  \n",
              "1  -1.100441  -0.098294  0.553302   0.985611   1.273331  -0.430324   1.216035  \n",
              "2   0.428660   0.474690  1.154389   0.426083   0.142007   0.216515   0.589672  \n",
              "3  -0.590741  -0.098294 -0.648872  -1.252498   1.838993   1.510194  -0.663054  \n",
              "4  -0.081040   0.474690 -0.047785  -0.692971   1.273331   0.863355   0.589672  \n",
              "5  -1.100441   0.474690  2.957651   2.104665  -0.989317   0.216515   1.216035  \n",
              "6  -0.081040  -0.671279 -0.648872  -1.812025   0.707669   2.157034  -0.036691  \n",
              "7   0.428660   1.047675 -0.648872   0.426083  -0.423655  -1.077164   0.589672  \n",
              "8  -0.081040  -0.098294 -0.648872  -0.692971   0.142007  -0.430324  -0.663054  \n",
              "9   0.938360   1.047675  0.553302  -0.133444   1.273331  -0.430324   0.589672  \n",
              "\n",
              "[10 rows x 32 columns]"
            ],
            "text/html": [
              "\n",
              "  <div id=\"df-654a2c13-0ce9-438a-b689-1d229a596104\">\n",
              "    <div class=\"colab-df-container\">\n",
              "      <div>\n",
              "<style scoped>\n",
              "    .dataframe tbody tr th:only-of-type {\n",
              "        vertical-align: middle;\n",
              "    }\n",
              "\n",
              "    .dataframe tbody tr th {\n",
              "        vertical-align: top;\n",
              "    }\n",
              "\n",
              "    .dataframe thead th {\n",
              "        text-align: right;\n",
              "    }\n",
              "</style>\n",
              "<table border=\"1\" class=\"dataframe\">\n",
              "  <thead>\n",
              "    <tr style=\"text-align: right;\">\n",
              "      <th></th>\n",
              "      <th>\"distant\"</th>\n",
              "      <th>\"talkatv\"</th>\n",
              "      <th>\"carelss\"</th>\n",
              "      <th>\"hardwrk\"</th>\n",
              "      <th>\"anxious\"</th>\n",
              "      <th>\"agreebl\"</th>\n",
              "      <th>\"tense\"</th>\n",
              "      <th>\"kind\"</th>\n",
              "      <th>\"opposng\"</th>\n",
              "      <th>\"relaxed\"</th>\n",
              "      <th>...</th>\n",
              "      <th>\"lazy\"</th>\n",
              "      <th>\"coopera\"</th>\n",
              "      <th>\"quiet\"</th>\n",
              "      <th>\"organiz\"</th>\n",
              "      <th>\"criticl\"</th>\n",
              "      <th>\"lax\"</th>\n",
              "      <th>\"laidbck\"</th>\n",
              "      <th>\"withdrw\"</th>\n",
              "      <th>\"givinup\"</th>\n",
              "      <th>\"easygon\"</th>\n",
              "    </tr>\n",
              "  </thead>\n",
              "  <tbody>\n",
              "    <tr>\n",
              "      <th>0</th>\n",
              "      <td>-0.488390</td>\n",
              "      <td>1.265587</td>\n",
              "      <td>-0.788318</td>\n",
              "      <td>0.046253</td>\n",
              "      <td>-0.064666</td>\n",
              "      <td>1.005322</td>\n",
              "      <td>-0.323008</td>\n",
              "      <td>0.826566</td>\n",
              "      <td>0.717681</td>\n",
              "      <td>0.901710</td>\n",
              "      <td>...</td>\n",
              "      <td>-1.149738</td>\n",
              "      <td>0.264088</td>\n",
              "      <td>0.760729</td>\n",
              "      <td>-0.081040</td>\n",
              "      <td>-0.671279</td>\n",
              "      <td>-0.648872</td>\n",
              "      <td>0.985611</td>\n",
              "      <td>-0.989317</td>\n",
              "      <td>-0.430324</td>\n",
              "      <td>0.589672</td>\n",
              "    </tr>\n",
              "    <tr>\n",
              "      <th>1</th>\n",
              "      <td>1.187091</td>\n",
              "      <td>0.072391</td>\n",
              "      <td>-0.788318</td>\n",
              "      <td>-1.427667</td>\n",
              "      <td>-2.196418</td>\n",
              "      <td>1.005322</td>\n",
              "      <td>-1.373331</td>\n",
              "      <td>1.623135</td>\n",
              "      <td>-1.160338</td>\n",
              "      <td>1.492145</td>\n",
              "      <td>...</td>\n",
              "      <td>0.441695</td>\n",
              "      <td>1.105648</td>\n",
              "      <td>1.298641</td>\n",
              "      <td>-1.100441</td>\n",
              "      <td>-0.098294</td>\n",
              "      <td>0.553302</td>\n",
              "      <td>0.985611</td>\n",
              "      <td>1.273331</td>\n",
              "      <td>-0.430324</td>\n",
              "      <td>1.216035</td>\n",
              "    </tr>\n",
              "    <tr>\n",
              "      <th>2</th>\n",
              "      <td>-0.488390</td>\n",
              "      <td>0.668989</td>\n",
              "      <td>1.428247</td>\n",
              "      <td>0.046253</td>\n",
              "      <td>1.534148</td>\n",
              "      <td>1.005322</td>\n",
              "      <td>-1.373331</td>\n",
              "      <td>0.826566</td>\n",
              "      <td>-0.534332</td>\n",
              "      <td>0.901710</td>\n",
              "      <td>...</td>\n",
              "      <td>-0.619260</td>\n",
              "      <td>1.105648</td>\n",
              "      <td>-0.315095</td>\n",
              "      <td>0.428660</td>\n",
              "      <td>0.474690</td>\n",
              "      <td>1.154389</td>\n",
              "      <td>0.426083</td>\n",
              "      <td>0.142007</td>\n",
              "      <td>0.216515</td>\n",
              "      <td>0.589672</td>\n",
              "    </tr>\n",
              "    <tr>\n",
              "      <th>3</th>\n",
              "      <td>1.745584</td>\n",
              "      <td>-1.717404</td>\n",
              "      <td>-0.234177</td>\n",
              "      <td>-1.427667</td>\n",
              "      <td>1.534148</td>\n",
              "      <td>-0.455298</td>\n",
              "      <td>1.252478</td>\n",
              "      <td>-3.952850</td>\n",
              "      <td>-0.534332</td>\n",
              "      <td>-1.460029</td>\n",
              "      <td>...</td>\n",
              "      <td>0.972172</td>\n",
              "      <td>-0.577472</td>\n",
              "      <td>1.298641</td>\n",
              "      <td>-0.590741</td>\n",
              "      <td>-0.098294</td>\n",
              "      <td>-0.648872</td>\n",
              "      <td>-1.252498</td>\n",
              "      <td>1.838993</td>\n",
              "      <td>1.510194</td>\n",
              "      <td>-0.663054</td>\n",
              "    </tr>\n",
              "    <tr>\n",
              "      <th>4</th>\n",
              "      <td>1.745584</td>\n",
              "      <td>0.072391</td>\n",
              "      <td>1.982388</td>\n",
              "      <td>-0.690707</td>\n",
              "      <td>1.001210</td>\n",
              "      <td>1.005322</td>\n",
              "      <td>1.252478</td>\n",
              "      <td>0.826566</td>\n",
              "      <td>0.717681</td>\n",
              "      <td>-0.279160</td>\n",
              "      <td>...</td>\n",
              "      <td>0.441695</td>\n",
              "      <td>0.264088</td>\n",
              "      <td>1.836553</td>\n",
              "      <td>-0.081040</td>\n",
              "      <td>0.474690</td>\n",
              "      <td>-0.047785</td>\n",
              "      <td>-0.692971</td>\n",
              "      <td>1.273331</td>\n",
              "      <td>0.863355</td>\n",
              "      <td>0.589672</td>\n",
              "    </tr>\n",
              "    <tr>\n",
              "      <th>5</th>\n",
              "      <td>-0.488390</td>\n",
              "      <td>0.072391</td>\n",
              "      <td>2.536529</td>\n",
              "      <td>-0.690707</td>\n",
              "      <td>0.468272</td>\n",
              "      <td>0.275012</td>\n",
              "      <td>-0.848169</td>\n",
              "      <td>-1.563142</td>\n",
              "      <td>-0.534332</td>\n",
              "      <td>0.901710</td>\n",
              "      <td>...</td>\n",
              "      <td>0.972172</td>\n",
              "      <td>-0.577472</td>\n",
              "      <td>-0.315095</td>\n",
              "      <td>-1.100441</td>\n",
              "      <td>0.474690</td>\n",
              "      <td>2.957651</td>\n",
              "      <td>2.104665</td>\n",
              "      <td>-0.989317</td>\n",
              "      <td>0.216515</td>\n",
              "      <td>1.216035</td>\n",
              "    </tr>\n",
              "    <tr>\n",
              "      <th>6</th>\n",
              "      <td>1.745584</td>\n",
              "      <td>0.072391</td>\n",
              "      <td>-0.788318</td>\n",
              "      <td>1.520172</td>\n",
              "      <td>1.001210</td>\n",
              "      <td>1.005322</td>\n",
              "      <td>0.727316</td>\n",
              "      <td>0.029996</td>\n",
              "      <td>-1.160338</td>\n",
              "      <td>-0.869595</td>\n",
              "      <td>...</td>\n",
              "      <td>-0.088783</td>\n",
              "      <td>1.105648</td>\n",
              "      <td>0.760729</td>\n",
              "      <td>-0.081040</td>\n",
              "      <td>-0.671279</td>\n",
              "      <td>-0.648872</td>\n",
              "      <td>-1.812025</td>\n",
              "      <td>0.707669</td>\n",
              "      <td>2.157034</td>\n",
              "      <td>-0.036691</td>\n",
              "    </tr>\n",
              "    <tr>\n",
              "      <th>7</th>\n",
              "      <td>-1.046883</td>\n",
              "      <td>0.072391</td>\n",
              "      <td>-0.788318</td>\n",
              "      <td>0.783212</td>\n",
              "      <td>-1.663480</td>\n",
              "      <td>0.275012</td>\n",
              "      <td>-0.323008</td>\n",
              "      <td>0.029996</td>\n",
              "      <td>0.091675</td>\n",
              "      <td>1.492145</td>\n",
              "      <td>...</td>\n",
              "      <td>-0.619260</td>\n",
              "      <td>1.105648</td>\n",
              "      <td>0.222817</td>\n",
              "      <td>0.428660</td>\n",
              "      <td>1.047675</td>\n",
              "      <td>-0.648872</td>\n",
              "      <td>0.426083</td>\n",
              "      <td>-0.423655</td>\n",
              "      <td>-1.077164</td>\n",
              "      <td>0.589672</td>\n",
              "    </tr>\n",
              "    <tr>\n",
              "      <th>8</th>\n",
              "      <td>0.070104</td>\n",
              "      <td>0.668989</td>\n",
              "      <td>-0.234177</td>\n",
              "      <td>-0.690707</td>\n",
              "      <td>-1.130542</td>\n",
              "      <td>0.275012</td>\n",
              "      <td>-0.848169</td>\n",
              "      <td>0.029996</td>\n",
              "      <td>0.717681</td>\n",
              "      <td>0.311275</td>\n",
              "      <td>...</td>\n",
              "      <td>-0.619260</td>\n",
              "      <td>0.264088</td>\n",
              "      <td>0.222817</td>\n",
              "      <td>-0.081040</td>\n",
              "      <td>-0.098294</td>\n",
              "      <td>-0.648872</td>\n",
              "      <td>-0.692971</td>\n",
              "      <td>0.142007</td>\n",
              "      <td>-0.430324</td>\n",
              "      <td>-0.663054</td>\n",
              "    </tr>\n",
              "    <tr>\n",
              "      <th>9</th>\n",
              "      <td>-0.488390</td>\n",
              "      <td>-0.524208</td>\n",
              "      <td>-0.788318</td>\n",
              "      <td>0.783212</td>\n",
              "      <td>-1.130542</td>\n",
              "      <td>0.275012</td>\n",
              "      <td>-0.848169</td>\n",
              "      <td>-1.563142</td>\n",
              "      <td>0.091675</td>\n",
              "      <td>-0.279160</td>\n",
              "      <td>...</td>\n",
              "      <td>-0.088783</td>\n",
              "      <td>0.264088</td>\n",
              "      <td>1.298641</td>\n",
              "      <td>0.938360</td>\n",
              "      <td>1.047675</td>\n",
              "      <td>0.553302</td>\n",
              "      <td>-0.133444</td>\n",
              "      <td>1.273331</td>\n",
              "      <td>-0.430324</td>\n",
              "      <td>0.589672</td>\n",
              "    </tr>\n",
              "  </tbody>\n",
              "</table>\n",
              "<p>10 rows × 32 columns</p>\n",
              "</div>\n",
              "      <button class=\"colab-df-convert\" onclick=\"convertToInteractive('df-654a2c13-0ce9-438a-b689-1d229a596104')\"\n",
              "              title=\"Convert this dataframe to an interactive table.\"\n",
              "              style=\"display:none;\">\n",
              "        \n",
              "  <svg xmlns=\"http://www.w3.org/2000/svg\" height=\"24px\"viewBox=\"0 0 24 24\"\n",
              "       width=\"24px\">\n",
              "    <path d=\"M0 0h24v24H0V0z\" fill=\"none\"/>\n",
              "    <path d=\"M18.56 5.44l.94 2.06.94-2.06 2.06-.94-2.06-.94-.94-2.06-.94 2.06-2.06.94zm-11 1L8.5 8.5l.94-2.06 2.06-.94-2.06-.94L8.5 2.5l-.94 2.06-2.06.94zm10 10l.94 2.06.94-2.06 2.06-.94-2.06-.94-.94-2.06-.94 2.06-2.06.94z\"/><path d=\"M17.41 7.96l-1.37-1.37c-.4-.4-.92-.59-1.43-.59-.52 0-1.04.2-1.43.59L10.3 9.45l-7.72 7.72c-.78.78-.78 2.05 0 2.83L4 21.41c.39.39.9.59 1.41.59.51 0 1.02-.2 1.41-.59l7.78-7.78 2.81-2.81c.8-.78.8-2.07 0-2.86zM5.41 20L4 18.59l7.72-7.72 1.47 1.35L5.41 20z\"/>\n",
              "  </svg>\n",
              "      </button>\n",
              "      \n",
              "  <style>\n",
              "    .colab-df-container {\n",
              "      display:flex;\n",
              "      flex-wrap:wrap;\n",
              "      gap: 12px;\n",
              "    }\n",
              "\n",
              "    .colab-df-convert {\n",
              "      background-color: #E8F0FE;\n",
              "      border: none;\n",
              "      border-radius: 50%;\n",
              "      cursor: pointer;\n",
              "      display: none;\n",
              "      fill: #1967D2;\n",
              "      height: 32px;\n",
              "      padding: 0 0 0 0;\n",
              "      width: 32px;\n",
              "    }\n",
              "\n",
              "    .colab-df-convert:hover {\n",
              "      background-color: #E2EBFA;\n",
              "      box-shadow: 0px 1px 2px rgba(60, 64, 67, 0.3), 0px 1px 3px 1px rgba(60, 64, 67, 0.15);\n",
              "      fill: #174EA6;\n",
              "    }\n",
              "\n",
              "    [theme=dark] .colab-df-convert {\n",
              "      background-color: #3B4455;\n",
              "      fill: #D2E3FC;\n",
              "    }\n",
              "\n",
              "    [theme=dark] .colab-df-convert:hover {\n",
              "      background-color: #434B5C;\n",
              "      box-shadow: 0px 1px 3px 1px rgba(0, 0, 0, 0.15);\n",
              "      filter: drop-shadow(0px 1px 2px rgba(0, 0, 0, 0.3));\n",
              "      fill: #FFFFFF;\n",
              "    }\n",
              "  </style>\n",
              "\n",
              "      <script>\n",
              "        const buttonEl =\n",
              "          document.querySelector('#df-654a2c13-0ce9-438a-b689-1d229a596104 button.colab-df-convert');\n",
              "        buttonEl.style.display =\n",
              "          google.colab.kernel.accessAllowed ? 'block' : 'none';\n",
              "\n",
              "        async function convertToInteractive(key) {\n",
              "          const element = document.querySelector('#df-654a2c13-0ce9-438a-b689-1d229a596104');\n",
              "          const dataTable =\n",
              "            await google.colab.kernel.invokeFunction('convertToInteractive',\n",
              "                                                     [key], {});\n",
              "          if (!dataTable) return;\n",
              "\n",
              "          const docLinkHtml = 'Like what you see? Visit the ' +\n",
              "            '<a target=\"_blank\" href=https://colab.research.google.com/notebooks/data_table.ipynb>data table notebook</a>'\n",
              "            + ' to learn more about interactive tables.';\n",
              "          element.innerHTML = '';\n",
              "          dataTable['output_type'] = 'display_data';\n",
              "          await google.colab.output.renderOutput(dataTable, element);\n",
              "          const docLink = document.createElement('div');\n",
              "          docLink.innerHTML = docLinkHtml;\n",
              "          element.appendChild(docLink);\n",
              "        }\n",
              "      </script>\n",
              "    </div>\n",
              "  </div>\n",
              "  "
            ]
          },
          "metadata": {},
          "execution_count": 17
        }
      ],
      "source": [
        "scaler =  StandardScaler()\n",
        "dataframe = scaler.fit_transform(dataset)\n",
        "dataframe = pd.DataFrame(data=dataframe,columns=dataset.columns)\n",
        "dataframe.head(10)"
      ]
    },
    {
      "cell_type": "markdown",
      "source": [
        "##STEPS INVOLVED IN FACTOR ANALYSIS\n",
        "The various steps involved in factor analysis are\n",
        "\n",
        "1. Bartlett’s Test of Sphericity and KMO Test\n",
        "2. Determining the number of factors\n",
        "3. Interpreting the factors\n"
      ],
      "metadata": {
        "id": "ZvI4PXCGQnpl"
      }
    },
    {
      "cell_type": "markdown",
      "source": [
        "##BARTLETT’S TEST OF SPHERICITY\n",
        "1. Bartlett’s test checks whether the correlation is present in the given data. \n",
        "2. It tests the null hypothesis (H0) that correlation matrix is an Identical matrix. Identical matrix consists all the diagonal elements as 1. So, the null hypothesis assumes that no correlation is present among the variables. We want to reject this null hypothesis because factor analysis aims at explaining the common variance i.e. the variation due to correlation among the variables.\n",
        "3.  If the p test statistic value is less than 0.05, we can decide that the correlation is not an Identical matrix i.e. correlation is present among the variables with 95% confidence level.\n",
        "\n"
      ],
      "metadata": {
        "id": "usU2342gQ4V4"
      }
    },
    {
      "cell_type": "code",
      "execution_count": 18,
      "metadata": {
        "id": "zDPDwnjMOgbG"
      },
      "outputs": [],
      "source": [
        "from factor_analyzer.factor_analyzer import calculate_bartlett_sphericity,calculate_kmo"
      ]
    },
    {
      "cell_type": "code",
      "execution_count": 19,
      "metadata": {
        "colab": {
          "base_uri": "https://localhost:8080/"
        },
        "id": "t1IoiSZ1OgbH",
        "outputId": "37d34c0c-a098-4e00-c122-2c9266e9c5cc"
      },
      "outputs": [
        {
          "output_type": "stream",
          "name": "stdout",
          "text": [
            "Bartlett Sphericity Test\n",
            "Chi squared value :  4023.800388782071\n",
            "p value :  0.0\n"
          ]
        }
      ],
      "source": [
        "chi2,p = calculate_bartlett_sphericity(dataframe)\n",
        "print(\"Bartlett Sphericity Test\")\n",
        "print(\"Chi squared value : \",chi2)\n",
        "print(\"p value : \",p)"
      ]
    },
    {
      "cell_type": "markdown",
      "source": [
        "Since, the p test statistic is less than 0.05, we can conclude that correlation is present among the variables which is a green signal to apply factor analysis."
      ],
      "metadata": {
        "id": "oddQYQjvRVI6"
      }
    },
    {
      "cell_type": "markdown",
      "source": [
        "##KAISER-MEYER-OLKIN (KMO) TEST\n",
        "1. KMO Test measures the proportion of variance that might be common variance among the variables.\n",
        "2.  Larger proportions are expected as it represents more correlation is present among the variables there by giving way for application of dimensionality reduction techniques such as Factor Analysis.\n",
        "3.  KMO score is always between 0 to 1 and values more than 0.6 are much appreciated. We can also say it as a measure of how suited our data is for factor analysis.\n",
        "\n"
      ],
      "metadata": {
        "id": "dZbb-20DRi_6"
      }
    },
    {
      "cell_type": "code",
      "execution_count": 20,
      "metadata": {
        "colab": {
          "base_uri": "https://localhost:8080/"
        },
        "id": "FurqNF7-OgbJ",
        "outputId": "9caaae9d-0ce3-4e60-a056-443532f0f48c"
      },
      "outputs": [
        {
          "output_type": "stream",
          "name": "stdout",
          "text": [
            "KMO Test Statisitc 0.8423659914570744\n"
          ]
        }
      ],
      "source": [
        "kmo_all,kmo_model = calculate_kmo(dataset)\n",
        "print(\"KMO Test Statisitc\",kmo_model)"
      ]
    },
    {
      "cell_type": "markdown",
      "source": [
        "1. The function will return the proportion of variance for each variables which is stored in the variable ‘kmo_vars’ and the proportion of variance for the whole of our data is stored in ‘kmo_model’.\n",
        "2.  we can see that our data has an overall proportion of variance of 0.84. It shows that our data has more correlation and dimensionality reduction techniques such as the factor analysis can be applied.\n",
        "\n"
      ],
      "metadata": {
        "id": "hfuXxwvCRx1_"
      }
    },
    {
      "cell_type": "markdown",
      "source": [
        "##DETERMINING THE NUMBER OF FACTORS\n",
        "The number of factors in our dataset is equal to the number of variables in our dataset. All the factors are not gonna provide a significant amount of useful information about the common variance among the variables. So we have to decide the number of factors. The number of factors can be decided on the basis of the amount of common variance the factors explain. In general, we will plot the factors and their eigen values. Eigen values are nothing but the amount of variance the factor explains. We will select the number of factors whose eigen values are greater than 1.\n",
        "\n",
        "But why should we choose the factors whose eigen values are greater than 1?The answer is very simple. In a standard normal distribution with mean 0 and Standard deviation 1, the variance will be 1. Since we have standard scaled the data the variance of a feature is 1. This is the reason for selecting factors whose eigen values(variance) are greater than 1 i.e. the factors which explain more variance than a single observed variable.\n",
        "\n"
      ],
      "metadata": {
        "id": "MCbuqq3QSRVA"
      }
    },
    {
      "cell_type": "code",
      "execution_count": 21,
      "metadata": {
        "id": "Da4klfYfOgbL"
      },
      "outputs": [],
      "source": [
        "from factor_analyzer import FactorAnalyzer"
      ]
    },
    {
      "cell_type": "code",
      "execution_count": 22,
      "metadata": {
        "id": "jeHBT0nOOgbL"
      },
      "outputs": [],
      "source": [
        "fa = FactorAnalyzer(rotation = None,impute = \"drop\",n_factors=dataframe.shape[1])"
      ]
    },
    {
      "cell_type": "code",
      "execution_count": 23,
      "metadata": {
        "colab": {
          "base_uri": "https://localhost:8080/"
        },
        "id": "q3HmKH66OgbM",
        "outputId": "6ab6856f-48dd-47cb-bf3d-4f17e5820622"
      },
      "outputs": [
        {
          "output_type": "execute_result",
          "data": {
            "text/plain": [
              "FactorAnalyzer(impute='drop', n_factors=32, rotation=None, rotation_kwargs={})"
            ]
          },
          "metadata": {},
          "execution_count": 23
        }
      ],
      "source": [
        "fa.fit(dataframe)"
      ]
    },
    {
      "cell_type": "code",
      "execution_count": 24,
      "metadata": {
        "id": "A6bCGEtvOgbN"
      },
      "outputs": [],
      "source": [
        "ev,_ = fa.get_eigenvalues()"
      ]
    },
    {
      "cell_type": "code",
      "execution_count": 25,
      "metadata": {
        "colab": {
          "base_uri": "https://localhost:8080/",
          "height": 295
        },
        "id": "O3f6TA2xOgbO",
        "outputId": "1e9a07ce-d6bf-45c8-cb9f-8a55060c6c7a"
      },
      "outputs": [
        {
          "output_type": "display_data",
          "data": {
            "text/plain": [
              "<Figure size 432x288 with 1 Axes>"
            ],
            "image/png": "[encoded data removed]"
          },
          "metadata": {
            "needs_background": "light"
          }
        }
      ],
      "source": [
        "plt.scatter(range(1,dataframe.shape[1]+1),ev)\n",
        "plt.plot(range(1,dataframe.shape[1]+1),ev)\n",
        "plt.title('Scree Plot')\n",
        "plt.xlabel('Factors')\n",
        "plt.ylabel('Eigen Value')\n",
        "plt.grid()"
      ]
    },
    {
      "cell_type": "markdown",
      "source": [
        "The eigen values function will return the original eigen values and the common factor eigen values. Now, we are going to consider only the original eigen values. From the graph we can see that the eigen values drops below 1 from the 7th factor. So, the optimal number of factors are 6.\n",
        "\n"
      ],
      "metadata": {
        "id": "56uuAHfCSV30"
      }
    },
    {
      "cell_type": "markdown",
      "source": [
        "INTERPRETING THE FACTORS\n",
        "Create an optimal number of factors i.e. 6 in our case. Then, we have to interpret the factors by making use of loadings, variance and commonalities.\n",
        "\n",
        "\n"
      ],
      "metadata": {
        "id": "01zYZiPKSkzm"
      }
    },
    {
      "cell_type": "markdown",
      "source": [
        "##LOADINGS\n"
      ],
      "metadata": {
        "id": "KhcFKGTVSm7z"
      }
    },
    {
      "cell_type": "code",
      "execution_count": 26,
      "metadata": {
        "colab": {
          "base_uri": "https://localhost:8080/"
        },
        "id": "3AajyCpIOgbO",
        "outputId": "c062a37f-f51e-4f91-f68e-05a0c6704db9"
      },
      "outputs": [
        {
          "output_type": "execute_result",
          "data": {
            "text/plain": [
              "FactorAnalyzer(n_factors=6, rotation='varimax', rotation_kwargs={})"
            ]
          },
          "metadata": {},
          "execution_count": 26
        }
      ],
      "source": [
        "fa = FactorAnalyzer(n_factors=6,rotation='varimax')\n",
        "fa.fit(dataset)"
      ]
    },
    {
      "cell_type": "code",
      "execution_count": 27,
      "metadata": {
        "colab": {
          "base_uri": "https://localhost:8080/"
        },
        "id": "Vs_ESImyOgbP",
        "outputId": "4c381c53-604c-41e2-c727-e3e23c702c25"
      },
      "outputs": [
        {
          "output_type": "stream",
          "name": "stdout",
          "text": [
            "    EigenValues\n",
            "0      7.302799\n",
            "1      4.548282\n",
            "2      3.139369\n",
            "3      2.287701\n",
            "4      1.872118\n",
            "5      1.162963\n",
            "6      0.929010\n",
            "7      0.858765\n",
            "8      0.797746\n",
            "9      0.714349\n",
            "10     0.698059\n",
            "11     0.639627\n",
            "12     0.624140\n",
            "13     0.542297\n",
            "14     0.507577\n",
            "15     0.473236\n",
            "16     0.466436\n",
            "17     0.444508\n",
            "18     0.429618\n",
            "19     0.404030\n",
            "20     0.389440\n",
            "21     0.367948\n",
            "22     0.328853\n",
            "23     0.300986\n",
            "24     0.296353\n",
            "25     0.279923\n",
            "26     0.252422\n",
            "27     0.236597\n",
            "28     0.219695\n",
            "29     0.201011\n",
            "30     0.149950\n",
            "31     0.134192\n"
          ]
        }
      ],
      "source": [
        "with np.printoptions(suppress=True,precision=6):\n",
        "    print(pd.DataFrame(fa.get_eigenvalues()[0],columns=['EigenValues']))"
      ]
    },
    {
      "cell_type": "code",
      "execution_count": 28,
      "metadata": {
        "colab": {
          "base_uri": "https://localhost:8080/"
        },
        "id": "S6Xfy78DOgbR",
        "outputId": "265e8db4-7b9e-4aca-9c96-1880d6a4eeb8"
      },
      "outputs": [
        {
          "output_type": "stream",
          "name": "stdout",
          "text": [
            "                  0         1         2         3         4         5\n",
            "\"distant\"  0.609023 -0.006397  0.073777 -0.094768  0.281190  0.137020\n",
            "\"talkatv\" -0.759229  0.063613 -0.034403  0.096989  0.146306  0.132109\n",
            "\"carelss\"  0.056199 -0.306297  0.070390 -0.035685  0.224019  0.630871\n",
            "\"hardwrk\" -0.170320  0.680222  0.142007  0.121206  0.060352 -0.166850\n",
            "\"anxious\"  0.170813 -0.022046  0.694277  0.153762  0.208925  0.114961\n",
            "\"agreebl\" -0.022760  0.040577 -0.063251  0.631000 -0.193389  0.096209\n",
            "\"tense\"    0.163876  0.025240  0.773851  0.013027  0.259396  0.061163\n",
            "\"kind\"    -0.120286  0.223273  0.035653  0.606016 -0.177133 -0.220756\n",
            "\"opposng\" -0.015363 -0.079381  0.089695 -0.134643  0.644569  0.068352\n",
            "\"relaxed\" -0.023995 -0.125786 -0.691357  0.339581 -0.066510  0.045164\n",
            "\"disorgn\"  0.017247 -0.368660 -0.023374  0.014760  0.074966  0.774337\n",
            "\"outgoin\" -0.829508  0.081210 -0.050024  0.244690  0.013635 -0.020429\n",
            "\"approvn\" -0.270433  0.134104 -0.122642  0.495630 -0.127813 -0.032620\n",
            "\"shy\"      0.707028 -0.216965  0.160746 -0.016591 -0.084376  0.028470\n",
            "\"discipl\"  0.063201  0.684959  0.036728  0.078588  0.037654 -0.140762\n",
            "\"harsh\"    0.075012 -0.021657  0.055905 -0.238784  0.622997  0.177457\n",
            "\"persevr\" -0.141440  0.632397  0.101032  0.160115  0.032225 -0.062097\n",
            "\"friendl\" -0.513036  0.155738  0.057163  0.529069 -0.161657 -0.066502\n",
            "\"worryin\"  0.164505 -0.067652  0.739516  0.041652  0.144234  0.000828\n",
            "\"respnsi\" -0.015850  0.609257  0.063686  0.220448  0.005358 -0.390588\n",
            "\"contrar\"  0.052861 -0.081265  0.142047 -0.155189  0.721941  0.128788\n",
            "\"sociabl\" -0.745446 -0.051271 -0.087828  0.245017 -0.073997 -0.059447\n",
            "\"lazy\"     0.167140 -0.669694  0.074560  0.035958  0.172042  0.233665\n",
            "\"coopera\" -0.110514  0.183958 -0.112152  0.547880 -0.301326 -0.055101\n",
            "\"quiet\"    0.790610 -0.140256  0.174115  0.154349  0.013043 -0.028419\n",
            "\"organiz\" -0.084075  0.430921  0.006574  0.104943  0.022603 -0.728646\n",
            "\"criticl\"  0.082629  0.115144  0.149714 -0.095832  0.600087 -0.127486\n",
            "\"lax\"      0.034308 -0.388767 -0.222267  0.231207  0.108615  0.252745\n",
            "\"laidbck\" -0.027893 -0.189072 -0.597199  0.276212  0.086742  0.149815\n",
            "\"withdrw\"  0.741118 -0.078285  0.124374 -0.094687  0.253960  0.135324\n",
            "\"givinup\"  0.348679 -0.462694  0.220257 -0.097837  0.165687  0.141039\n",
            "\"easygon\" -0.143163 -0.156623 -0.447404  0.433874 -0.000227  0.001274\n"
          ]
        }
      ],
      "source": [
        "with np.printoptions(suppress=True,precision=6):\n",
        "    print(pd.DataFrame(fa.loadings_,index=dataframe.columns))"
      ]
    },
    {
      "cell_type": "markdown",
      "source": [
        "Loadings indicate how much a factor explains a variable. The loading score will range from -1 to 1.Values close to -1 or 1 indicate that the factor have influence on these variables. Values close to 0 indicates that the factor has lower influencer on the variable.\n",
        "\n",
        "For example, in Factor 0, we can see that the features ‘distant’ and ‘shy’ talkative have high loadings than other variables. From this we can see that Factor 0, explains the common variance in people who are reserved i.e. the variance among the people who are distant and shy.\n",
        "\n"
      ],
      "metadata": {
        "id": "h8DOorhzS2sU"
      }
    },
    {
      "cell_type": "markdown",
      "source": [
        "##VARIANCE\n",
        "The amount of variance explained by each factors can be found out using the ‘get_factor_variance’ function.\n",
        "\n"
      ],
      "metadata": {
        "id": "GygVOomfS95V"
      }
    },
    {
      "cell_type": "code",
      "execution_count": 29,
      "metadata": {
        "colab": {
          "base_uri": "https://localhost:8080/"
        },
        "id": "o26Fc3wpOgbR",
        "outputId": "80f93133-0f94-4a12-f7ff-bf118c9b9963"
      },
      "outputs": [
        {
          "output_type": "stream",
          "name": "stdout",
          "text": [
            "                         0         1         2         3         4         5\n",
            "Variance          4.563760  3.254322  2.985727  2.448254  2.339837  2.108028\n",
            "Proportional Var  0.142617  0.101698  0.093304  0.076508  0.073120  0.065876\n",
            "Cumulative Var    0.142617  0.244315  0.337619  0.414127  0.487247  0.553123\n"
          ]
        }
      ],
      "source": [
        "with np.printoptions(suppress=True,precision=6):\n",
        "    print(pd.DataFrame(fa.get_factor_variance(),index=['Variance','Proportional Var','Cumulative Var']))"
      ]
    },
    {
      "cell_type": "markdown",
      "source": [
        "The first row represents the variance explained by each factors. Proportional variance is the variance explained by a factor out of the total variance. Cumulative variance is nothing but the cumulative sum of proportional variances of each factor. In our case, the 6 factors together are able to explain 55.3% of the total variance.\n",
        "\n",
        "In unrotated cases, the variances would be equal to the eigen values. Rotation changes the distribution of proportional variance but the cumulative variance will remain the same. Oblique rotations allow correlation between the factors while the orthogonal rotations keep the factors uncorrelated.\n",
        "\n"
      ],
      "metadata": {
        "id": "HHTXE6JFTB-0"
      }
    },
    {
      "cell_type": "markdown",
      "source": [
        "##COMMUNALITIES\n",
        "Communality is the proportion of each variable’s variance that can be explained by the factors. Rotations doesn’t have any influence over the communality of the variables.\n",
        "\n"
      ],
      "metadata": {
        "id": "UDewy55eTH8f"
      }
    },
    {
      "cell_type": "code",
      "execution_count": 30,
      "metadata": {
        "colab": {
          "base_uri": "https://localhost:8080/"
        },
        "id": "nK8-lZmPOgbS",
        "outputId": "9f81d1c0-905e-4bc1-c1c3-ce41365e147f"
      },
      "outputs": [
        {
          "output_type": "stream",
          "name": "stdout",
          "text": [
            "           Uniqueness\n",
            "\"distant\"    0.516784\n",
            "\"talkatv\"    0.370076\n",
            "\"carelss\"    0.448613\n",
            "\"hardwrk\"    0.441951\n",
            "\"anxious\"    0.407808\n",
            "\"agreebl\"    0.549019\n",
            "\"tense\"      0.302465\n",
            "\"kind\"       0.487045\n",
            "\"opposng\"    0.547148\n",
            "\"relaxed\"    0.383848\n",
            "\"disorgn\"    0.257811\n",
            "\"outgoin\"    0.242343\n",
            "\"approvn\"    0.630792\n",
            "\"shy\"        0.418993\n",
            "\"discipl\"    0.498081\n",
            "\"harsh\"      0.514145\n",
            "\"persevr\"    0.539329\n",
            "\"friendl\"    0.398803\n",
            "\"worryin\"    0.398938\n",
            "\"respnsi\"    0.423313\n",
            "\"contrar\"    0.408556\n",
            "\"sociabl\"    0.364925\n",
            "\"lazy\"       0.432525\n",
            "\"coopera\"    0.547362\n",
            "\"quiet\"      0.300147\n",
            "\"organiz\"    0.264746\n",
            "\"criticl\"    0.571959\n",
            "\"lax\"        0.669146\n",
            "\"laidbck\"    0.500565\n",
            "\"withdrw\"    0.337374\n",
            "\"givinup\"    0.558908\n",
            "\"easygon\"    0.566556\n"
          ]
        }
      ],
      "source": [
        "with np.printoptions(suppress=True,precision=6):\n",
        "    print(pd.DataFrame(fa.get_uniquenesses(),index=dataframe.columns,columns=['Uniqueness']))"
      ]
    },
    {
      "cell_type": "code",
      "execution_count": 31,
      "metadata": {
        "colab": {
          "base_uri": "https://localhost:8080/"
        },
        "id": "6Mpa2xPGOgbT",
        "outputId": "e65198a6-2a73-42ff-a9d9-49868c48e849"
      },
      "outputs": [
        {
          "output_type": "stream",
          "name": "stdout",
          "text": [
            "           Communalities\n",
            "\"distant\"       0.483216\n",
            "\"talkatv\"       0.629924\n",
            "\"carelss\"       0.551387\n",
            "\"hardwrk\"       0.558049\n",
            "\"anxious\"       0.592192\n",
            "\"agreebl\"       0.450981\n",
            "\"tense\"         0.697535\n",
            "\"kind\"          0.512955\n",
            "\"opposng\"       0.452852\n",
            "\"relaxed\"       0.616152\n",
            "\"disorgn\"       0.742189\n",
            "\"outgoin\"       0.757657\n",
            "\"approvn\"       0.369208\n",
            "\"shy\"           0.581007\n",
            "\"discipl\"       0.501919\n",
            "\"harsh\"         0.485855\n",
            "\"persevr\"       0.460671\n",
            "\"friendl\"       0.601197\n",
            "\"worryin\"       0.601062\n",
            "\"respnsi\"       0.576687\n",
            "\"contrar\"       0.591444\n",
            "\"sociabl\"       0.635075\n",
            "\"lazy\"          0.567475\n",
            "\"coopera\"       0.452638\n",
            "\"quiet\"         0.699853\n",
            "\"organiz\"       0.735254\n",
            "\"criticl\"       0.428041\n",
            "\"lax\"           0.330854\n",
            "\"laidbck\"       0.499435\n",
            "\"withdrw\"       0.662626\n",
            "\"givinup\"       0.441092\n",
            "\"easygon\"       0.433444\n"
          ]
        }
      ],
      "source": [
        "with np.printoptions(precision=4,suppress=True):\n",
        "    print(pd.DataFrame(fa.get_communalities(),index=dataframe.columns,columns=['Communalities']))"
      ]
    },
    {
      "cell_type": "code",
      "execution_count": 31,
      "metadata": {
        "id": "QZo_VOmgOgbW"
      },
      "outputs": [],
      "source": []
    },
    {
      "cell_type": "markdown",
      "source": [
        "The proportion of each variable’s variance that are explained by the factors can be inferred from the above. For example, we could consider the variable ‘talkatv’ about 62.9% of its variance are explained by all the factors together.\n",
        "\n",
        "That’s all about the factor analysis which can be used to find the underlying variance due to correlation among the observed variables like my heart which finds the creamy layer of the Oreo despite the unappetizing outer crunchy biscuits.\n",
        "\n"
      ],
      "metadata": {
        "id": "d1Tid7FUTUZR"
      }
    }
  ],
  "metadata": {
    "kernelspec": {
      "display_name": "Python 3",
      "language": "python",
      "name": "python3"
    },
    "language_info": {
      "codemirror_mode": {
        "name": "ipython",
        "version": 3
      },
      "file_extension": ".py",
      "mimetype": "text/x-python",
      "name": "python",
      "nbconvert_exporter": "python",
      "pygments_lexer": "ipython3",
      "version": "3.7.3"
    },
    "colab": {
      "provenance": []
    }
  },
  "nbformat": 4,
  "nbformat_minor": 0
}