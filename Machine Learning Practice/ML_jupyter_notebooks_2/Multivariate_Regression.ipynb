{
  "nbformat": 4,
  "nbformat_minor": 0,
  "metadata": {
    "colab": {
      "name": "Multivariate Regression.ipynb",
      "provenance": []
    },
    "kernelspec": {
      "name": "python3",
      "display_name": "Python 3"
    },
    "language_info": {
      "name": "python"
    }
  },
  "cells": [
    {
      "cell_type": "markdown",
      "source": [
        "## 5.8 Multivariate Regression"
      ],
      "metadata": {
        "id": "aP9w5ebGtEHP"
      }
    },
    {
      "cell_type": "markdown",
      "source": [
        "#### 1.study pages 449  to 461 of Applied statistics and probability for Engineers(Douglas C. Montgomery, George C. Runger.pdf)\n",
        "\n",
        "#### 2.Answer following questions from Ethem Alpaydin 5.8 Multivariate Regression"
      ],
      "metadata": {
        "id": "reeYF7IADCcf"
      }
    },
    {
      "cell_type": "markdown",
      "source": [
        "### Q.what is formula for multivariate linear Regression?\n",
        "\n",
        "### Ans.\n",
        "\n",
        "(Hint:Use\n",
        "\n",
        " $r^t$=output \n",
        " \n",
        " $x^t_d$=input\n",
        " \n",
        " $w_d$=weights\n",
        " \n",
        " $ϵ$=noise\n",
        " \n",
        " d=dimension of input,t=1 to N is number of the equation)"
      ],
      "metadata": {
        "id": "5xl-9wdbtPXr"
      }
    },
    {
      "cell_type": "markdown",
      "source": [
        "## Q.what is difference between multiple regression vs multivariate regression?"
      ],
      "metadata": {
        "id": "5HLYr-gUut0P"
      }
    },
    {
      "cell_type": "markdown",
      "source": [
        "## Q.What are assumptions about mean and variance of noise $ϵ$ in Multivariate linear regression?"
      ],
      "metadata": {
        "id": "JBkGm0dovLJC"
      }
    },
    {
      "cell_type": "markdown",
      "source": [
        "## Q.How to get is Maximum likelihood in multivariate linear regression?\n",
        "\n",
        "\n"
      ],
      "metadata": {
        "id": "bTyD16HbvnoK"
      }
    },
    {
      "cell_type": "markdown",
      "source": [
        "## Q.What is formula for Maximum likelihood in multivariate linear regression?\n",
        "\n",
        "(Hint:Use\n",
        "\n",
        " $r^t$=output\n",
        " \n",
        " $x^t_1$=input\n",
        " \n",
        " $w_1$=weights\n",
        " \n",
        " $Σ$=summation\n",
        "\n",
        " $\\frac{1}{2}$=fraction)"
      ],
      "metadata": {
        "id": "a2OZml18xEC6"
      }
    },
    {
      "cell_type": "markdown",
      "source": [
        "## Q.How to get normal equations from Maximum likelihood Equation?"
      ],
      "metadata": {
        "id": "AHavmyIAx9a_"
      }
    },
    {
      "cell_type": "markdown",
      "source": [
        "## Q.write normal equations obtained from Maximum likelihood Equation\n",
        "\n",
        "\n",
        "((Hint:Use\n",
        "\n",
        " $r^t$=output\n",
        " \n",
        " $x^t_1$=input\n",
        " \n",
        " $w_1$=weights\n",
        " \n",
        " $Σ$=summation)"
      ],
      "metadata": {
        "id": "c36aqjTYy1t-"
      }
    },
    {
      "cell_type": "markdown",
      "source": [
        "## Q.Represent multivariate linear regression in matrix notation"
      ],
      "metadata": {
        "id": "l9TKH2_OzYEP"
      }
    },
    {
      "cell_type": "markdown",
      "source": [
        "## Q.How to get  equation 5.39 from matrix notation"
      ],
      "metadata": {
        "id": "8XG12L3mAd1Z"
      }
    },
    {
      "cell_type": "markdown",
      "source": [
        "## Q how to get multivariate polynomial regression equation from equation 5.35"
      ],
      "metadata": {
        "id": "4kFMvBGrA2fd"
      }
    },
    {
      "cell_type": "markdown",
      "source": [
        "## Q.when will multivariate polynomial regeression be used?"
      ],
      "metadata": {
        "id": "rN9suQsKBpAl"
      }
    },
    {
      "cell_type": "markdown",
      "source": [
        "## Q how to get multivariate nonlinear  regression equation from equation 5.35"
      ],
      "metadata": {
        "id": "4Mw4vTCEB1Wm"
      }
    },
    {
      "cell_type": "markdown",
      "source": [
        "## Q Write three examples of  multivariate nonlinear  regression "
      ],
      "metadata": {
        "id": "Av8-jR-0CDxw"
      }
    },
    {
      "cell_type": "markdown",
      "source": [
        "## Q write two advantages of multivariate linear regression"
      ],
      "metadata": {
        "id": "uxHLsBf_CQfn"
      }
    },
    {
      "cell_type": "markdown",
      "source": [
        "## Q how to change multi output regression problems into single output regression problems"
      ],
      "metadata": {
        "id": "Yvu_zMSmCqbY"
      }
    }
  ]
}