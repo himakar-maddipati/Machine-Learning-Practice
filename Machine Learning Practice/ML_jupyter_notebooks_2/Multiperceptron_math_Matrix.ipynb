{
  "nbformat": 4,
  "nbformat_minor": 0,
  "metadata": {
    "colab": {
      "name": "Multiperceptron_math_(1) (2).ipynb",
      "provenance": [],
      "collapsed_sections": []
    },
    "kernelspec": {
      "name": "python3",
      "display_name": "Python 3"
    },
    "language_info": {
      "name": "python"
    }
  },
  "cells": [
    {
      "cell_type": "markdown",
      "source": [
        "1. Explanation\n",
        "2. Different activation functions\n",
        "3. Description of dataset\n",
        "4. Get Dataset\n",
        "5. preprocess Dataset\n",
        "6. Test Train split\n",
        "7. Design neural network\n",
        "8. Explanation for neural network\n",
        "9. Build neural network\n",
        "10. Dimensions of Neural network weights,errors,layer inputs\n",
        "11. Functions for Activation Functions and Derivatives\n",
        "12. Forward pass Functions\n",
        "13. Backward pass Functions\n",
        "14. Calculate Forward and backpropagation \n",
        "15. Predict\n",
        "16. How to choose Activation functions\n"
      ],
      "metadata": {
        "id": "3NL4H76RVkvY"
      }
    },
    {
      "cell_type": "markdown",
      "source": [
        "## 1.Explanation\n",
        " Neural Network Programming\n",
        "\n",
        "   This is a starter code in Python 3.6 for a 2-hidden-layer neural network.\n",
        "   You need to have numpy and pandas installed before running this code.\n",
        "\n",
        "####   Below are the meaning of symbols:\n",
        "  train - training dataset - can be a link to a URL or a local file\n",
        "         - you can assume the last column will the label column\n",
        "\n",
        "   train - test dataset - can be a link to a URL or a local file\n",
        "         - you can assume the last column will the label column\n",
        "\n",
        "   h1 - number of neurons in the first hidden layer\n",
        "\n",
        "   h2 - number of neurons in the second hidden layer\n",
        "\n",
        "   X - vector of features for each instance\n",
        "\n",
        "   y - output for each instance\n",
        "\n",
        "  w01, delta01, X01 - weights, updates and outputs for connection from layer 0 (input) to layer 1 (first hidden)\n",
        "\n",
        "  w12, delata12, X12 - weights, updates and outputs for connection from layer 1 (first hidden) to layer 2 (second hidden)\n",
        "\n",
        "   w23, delta23, X23 - weights, updates and outputs for connection from layer 2 (second hidden) to layer 3 (output layer)\n",
        "\n",
        "   "
      ],
      "metadata": {
        "id": "UAx61I3q3fcv"
      }
    },
    {
      "cell_type": "code",
      "execution_count": 179,
      "metadata": {
        "id": "o9m8hK3w3Q1m"
      },
      "outputs": [],
      "source": [
        "import numpy as np\n",
        "import pandas as pd\n",
        "from sklearn.impute import SimpleImputer\n",
        "from sklearn.preprocessing import StandardScaler\n",
        "from sklearn.model_selection import train_test_split\n",
        "\n",
        "\n",
        "\n"
      ]
    },
    {
      "cell_type": "markdown",
      "source": [
        "## 2.Different activation functions\n",
        "\n",
        "tanh Formula is :$\\frac{(e^x – e^{-x})}{(e^x + e^{-x})} $\n",
        "\n",
        "ReLU formula is : f(x) = max(0,x)\n",
        "\n",
        "sigmoid Formula is :$\\frac{1}{(1 + e^{-x})} $\n",
        "\n",
        "\n"
      ],
      "metadata": {
        "id": "8mw5G1J8_gag"
      }
    },
    {
      "cell_type": "markdown",
      "source": [
        "## 3.Description of dataset\n",
        "\n",
        "***Attribute Information:***\n",
        "\n",
        "\n",
        "1. age: 10-19, 20-29, 30-39, 40-49, 50-59, 60-69, 70-79, 80-89, 90-99.\n",
        "2. menopause: lt40, ge40, premeno.\n",
        "3. tumor-size: 0-4, 5-9, 10-14, 15-19, 20-24, 25-29, 30-34, 35-39, 40-44, 45-49, 50-54, 55-59.\n",
        "4. inv-nodes: 0-2, 3-5, 6-8, 9-11, 12-14, 15-17, 18-20, 21-23, 24-26, 27-29, 30-32, 33-35, 36-39.\n",
        "5. node-caps: yes, no.\n",
        "6. deg-malig: 1, 2, 3.\n",
        "7. breast: left, right.\n",
        "8. breast-quad: left-up, left-low, right-up, right-low, central.\n",
        "9. irradiat: yes, no.\n",
        "\n",
        "***Classes***\n",
        "\n",
        " no-recurrence-events, recurrence-events\n"
      ],
      "metadata": {
        "id": "pUnbiIFeYPiL"
      }
    },
    {
      "cell_type": "markdown",
      "source": [
        "## 4.Get Dataset"
      ],
      "metadata": {
        "id": "A4JXyZ50QVAi"
      }
    },
    {
      "cell_type": "code",
      "source": [
        "header = True\n",
        "np.random.seed(1)\n",
        "\n",
        "#dataset_file=\"breast-cancer.csv\"\n",
        "\n",
        "dataset_file=\"breast-cancer.csv\"\n",
        "raw_input = pd.read_csv(dataset_file, header=None)\n",
        "print(raw_input.head())"
      ],
      "metadata": {
        "colab": {
          "base_uri": "https://localhost:8080/"
        },
        "id": "DvdlUMZrGQjB",
        "outputId": "5a81385b-a318-41f3-8418-776dca86428b"
      },
      "execution_count": 180,
      "outputs": [
        {
          "output_type": "stream",
          "name": "stdout",
          "text": [
            "       0        1      2    3   4  5      6          7   8  \\\n",
            "0  30-39  premeno  30-34  0-2  no  3   left   left_low  no   \n",
            "1  40-49  premeno  20-24  0-2  no  2  right   right_up  no   \n",
            "2  40-49  premeno  20-24  0-2  no  2   left   left_low  no   \n",
            "3  60-69     ge40  15-19  0-2  no  2  right    left_up  no   \n",
            "4  40-49  premeno    0-4  0-2  no  2  right  right_low  no   \n",
            "\n",
            "                      9  \n",
            "0  no-recurrence-events  \n",
            "1  no-recurrence-events  \n",
            "2  no-recurrence-events  \n",
            "3  no-recurrence-events  \n",
            "4  no-recurrence-events  \n"
          ]
        }
      ]
    },
    {
      "cell_type": "markdown",
      "source": [
        "## 5.preprocess dataset"
      ],
      "metadata": {
        "id": "CBDZHtCrG2oH"
      }
    },
    {
      "cell_type": "code",
      "source": [
        "#\n",
        "# TODO: Write code for pre-processing the dataset, which would include standardization, normalization,\n",
        "#   categorical to numerical, etc\n",
        "#\n",
        "\n",
        "df = raw_input\n",
        "\n",
        "#Convert categorical attributes to numerical attributes\n",
        "for col in df:\n",
        "    if df[col].dtype == 'object':\n",
        "        df[col] = df[col].astype('category').cat.codes.astype('int64')\n",
        "\n",
        "arr = df.values\n",
        "print(\"\\ncategories converted to numbers\\n\")\n",
        "print(arr)\n",
        "print(\"\\n---------\\n\")\n",
        "#Handle null or missing values\n",
        "imputer = SimpleImputer(missing_values=np.nan, strategy='mean')\n",
        "imputer = imputer.fit(arr)\n",
        "arr = imputer.transform(arr)\n",
        "print(\"\\nmissing values filled with mean\\n\")\n",
        "print(arr)\n",
        "print(\"\\n---------\\n\")\n",
        "#Standardization, converting mean to 0 and standard deviation to 1\n",
        "scaler = StandardScaler().fit(arr)\n",
        "arr = scaler.transform(arr)\n",
        "print(\"\\nstandardixation mean=0 sd=1\\n\")\n",
        "print(arr)\n",
        "print(\"\\n---------\\n\")\n",
        "train_dataset = pd.DataFrame(arr)\n",
        "\n",
        "\n"
      ],
      "metadata": {
        "colab": {
          "base_uri": "https://localhost:8080/"
        },
        "id": "7HFBzAeAG1tw",
        "outputId": "5ac2122b-112f-4846-9c55-b7e3f4bd3333"
      },
      "execution_count": 181,
      "outputs": [
        {
          "output_type": "stream",
          "name": "stdout",
          "text": [
            "\n",
            "categories converted to numbers\n",
            "\n",
            "[[1 2 5 ... 2 0 0]\n",
            " [2 2 3 ... 5 0 0]\n",
            " [2 2 3 ... 2 0 0]\n",
            " ...\n",
            " [4 0 3 ... 3 0 1]\n",
            " [2 0 5 ... 2 0 1]\n",
            " [3 0 5 ... 2 0 1]]\n",
            "\n",
            "---------\n",
            "\n",
            "\n",
            "missing values filled with mean\n",
            "\n",
            "[[1. 2. 5. ... 2. 0. 0.]\n",
            " [2. 2. 3. ... 5. 0. 0.]\n",
            " [2. 2. 3. ... 2. 0. 0.]\n",
            " ...\n",
            " [4. 0. 3. ... 3. 0. 1.]\n",
            " [2. 0. 5. ... 2. 0. 1.]\n",
            " [3. 0. 5. ... 2. 0. 1.]]\n",
            "\n",
            "---------\n",
            "\n",
            "\n",
            "standardixation mean=0 sd=1\n",
            "\n",
            "[[-1.64777909  0.94072828  0.45037804 ... -0.70434692 -0.5585039\n",
            "  -0.65029653]\n",
            " [-0.65772695  0.94072828 -0.49674049 ...  2.03017641 -0.5585039\n",
            "  -0.65029653]\n",
            " [-0.65772695  0.94072828 -0.49674049 ... -0.70434692 -0.5585039\n",
            "  -0.65029653]\n",
            " ...\n",
            " [ 1.32237733 -1.08982483 -0.49674049 ...  0.20716086 -0.5585039\n",
            "   1.53776002]\n",
            " [-0.65772695 -1.08982483  0.45037804 ... -0.70434692 -0.5585039\n",
            "   1.53776002]\n",
            " [ 0.33232519 -1.08982483  0.45037804 ... -0.70434692 -0.5585039\n",
            "   1.53776002]]\n",
            "\n",
            "---------\n",
            "\n"
          ]
        }
      ]
    },
    {
      "cell_type": "markdown",
      "source": [
        "## 6.test train split"
      ],
      "metadata": {
        "id": "JIeVrmiNIzpF"
      }
    },
    {
      "cell_type": "code",
      "source": [
        "# train refers to the training dataset\n",
        "# test refers to the testing dataset\n",
        "\n",
        "\n",
        "train_test_split_size=0.10\n",
        "\n",
        "ncols = len(train_dataset.columns)\n",
        "nrows = len(train_dataset.index)\n",
        "X = train_dataset.iloc[:, 0:(ncols -1)].values.reshape(nrows, ncols-1)\n",
        "y = train_dataset.iloc[:, (ncols-1)].values.reshape(nrows, 1)\n",
        "print(\"length of X[0]\",len(X[0]))\n",
        "#\n",
        "# Find number of input and output layers from the dataset\n",
        "#\n",
        "input_layer_size = len(X[0])\n",
        "if not isinstance(y[0], np.ndarray):\n",
        "    output_layer_size = 1\n",
        "else:\n",
        "    output_layer_size = len(y[0])\n",
        "\n",
        "# Split dataset into training set and testing set on the basis of test set size\n",
        "X_train, X_test, y_train, y_test = train_test_split(X, y, test_size=train_test_split_size)\n"
      ],
      "metadata": {
        "id": "1_ciYHJ4I3u9",
        "colab": {
          "base_uri": "https://localhost:8080/"
        },
        "outputId": "78ebe5cb-999a-4c85-9389-4c7cd584cd47"
      },
      "execution_count": 182,
      "outputs": [
        {
          "output_type": "stream",
          "name": "stdout",
          "text": [
            "length of X[0] 9\n"
          ]
        }
      ]
    },
    {
      "cell_type": "markdown",
      "source": [
        "## 7.Design neural network (multiperceptron)\n",
        "\n"
      ],
      "metadata": {
        "id": "w-CSYWU-JU8W"
      }
    },
    {
      "cell_type": "code",
      "source": [
        "# no need to understand code\n",
        "from matplotlib import pyplot\n",
        "from math import cos, sin, atan\n",
        "\n",
        "\n",
        "class Neuron():\n",
        "    def __init__(self, x, y):\n",
        "        self.x = x\n",
        "        self.y = y\n",
        "\n",
        "    def draw(self, neuron_radius):\n",
        "        circle = pyplot.Circle((self.x, self.y), radius=neuron_radius, fill=False)\n",
        "        pyplot.gca().add_patch(circle)\n",
        "\n",
        "\n",
        "class Layer():\n",
        "    def __init__(self, network, number_of_neurons, number_of_neurons_in_widest_layer):\n",
        "        self.vertical_distance_between_layers = 12\n",
        "        self.horizontal_distance_between_neurons = 4\n",
        "        self.neuron_radius = 0.5\n",
        "        self.number_of_neurons_in_widest_layer = number_of_neurons_in_widest_layer\n",
        "        self.previous_layer = self.__get_previous_layer(network)\n",
        "        self.y = self.__calculate_layer_y_position()\n",
        "        self.neurons = self.__intialise_neurons(number_of_neurons)\n",
        "\n",
        "    def __intialise_neurons(self, number_of_neurons):\n",
        "        neurons = []\n",
        "        x = self.__calculate_left_margin_so_layer_is_centered(number_of_neurons)\n",
        "        for iteration in range(number_of_neurons):\n",
        "            neuron = Neuron(x, self.y)\n",
        "            neurons.append(neuron)\n",
        "            x += self.horizontal_distance_between_neurons\n",
        "        return neurons\n",
        "\n",
        "    def __calculate_left_margin_so_layer_is_centered(self, number_of_neurons):\n",
        "        return self.horizontal_distance_between_neurons * (self.number_of_neurons_in_widest_layer - number_of_neurons) / 2\n",
        "\n",
        "    def __calculate_layer_y_position(self):\n",
        "        if self.previous_layer:\n",
        "            return self.previous_layer.y + self.vertical_distance_between_layers\n",
        "        else:\n",
        "            return 0\n",
        "\n",
        "    def __get_previous_layer(self, network):\n",
        "        if len(network.layers) > 0:\n",
        "            return network.layers[-1]\n",
        "        else:\n",
        "            return None\n",
        "\n",
        "    def __line_between_two_neurons(self, neuron1, neuron2):\n",
        "        angle = atan((neuron2.x - neuron1.x) / float(neuron2.y - neuron1.y))\n",
        "        x_adjustment = self.neuron_radius * sin(angle)\n",
        "        y_adjustment = self.neuron_radius * cos(angle)\n",
        "        line = pyplot.Line2D((neuron1.x - x_adjustment, neuron2.x + x_adjustment), (neuron1.y - y_adjustment, neuron2.y + y_adjustment))\n",
        "        pyplot.gca().add_line(line)\n",
        "\n",
        "    def draw(self, layerType=0):\n",
        "        for neuron in self.neurons:\n",
        "            neuron.draw( self.neuron_radius )\n",
        "            if self.previous_layer:\n",
        "                for previous_layer_neuron in self.previous_layer.neurons:\n",
        "                    self.__line_between_two_neurons(neuron, previous_layer_neuron)\n",
        "        # write Text\n",
        "        x_text = self.number_of_neurons_in_widest_layer * self.horizontal_distance_between_neurons\n",
        "        if layerType == 0:\n",
        "            pyplot.text(x_text, self.y, 'Input Layer[w01(9x4),delta01(9x4)]', fontsize = 12)\n",
        "        elif layerType == -1:\n",
        "            pyplot.text(x_text, self.y, 'Output Layer[deltaOut(1x1)]', fontsize = 12)\n",
        "        elif layerType == 1:\n",
        "            pyplot.text(x_text, self.y, 'Hidden Layer1[w12(4x2),delta12(4x2)] ', fontsize = 12)\n",
        "        else:\n",
        "            pyplot.text(x_text, self.y, 'Hidden Layer[w23(2x1),delta23(2x1)] ', fontsize = 12)\n",
        "\n",
        "class NeuralNetwork():\n",
        "    def __init__(self, number_of_neurons_in_widest_layer):\n",
        "        self.number_of_neurons_in_widest_layer = number_of_neurons_in_widest_layer\n",
        "        self.layers = []\n",
        "        self.layertype = 0\n",
        "\n",
        "    def add_layer(self, number_of_neurons ):\n",
        "        layer = Layer(self, number_of_neurons, self.number_of_neurons_in_widest_layer)\n",
        "        self.layers.append(layer)\n",
        "\n",
        "    def draw(self):\n",
        "        pyplot.figure()\n",
        "        for i in range( len(self.layers) ):\n",
        "            layer = self.layers[i]\n",
        "            if i == len(self.layers)-1:\n",
        "                i = -1\n",
        "            layer.draw( i )\n",
        "        pyplot.axis('scaled')\n",
        "        pyplot.axis('off')\n",
        "        pyplot.title( 'Neural Network architecture', fontsize=15 )\n",
        "        pyplot.show()\n",
        "\n",
        "class DrawNN():\n",
        "    def __init__( self, neural_network ):\n",
        "        self.neural_network = neural_network\n",
        "\n",
        "    def draw( self ):\n",
        "        widest_layer = max( self.neural_network )\n",
        "        network = NeuralNetwork( widest_layer )\n",
        "        for l in self.neural_network:\n",
        "            network.add_layer(l)\n",
        "        network.draw()\n"
      ],
      "metadata": {
        "id": "0oygl9F-Bsyl"
      },
      "execution_count": 183,
      "outputs": []
    },
    {
      "cell_type": "code",
      "source": [
        "network = DrawNN( [9,4,2,1] )\n",
        "network.draw()\n",
        "\n"
      ],
      "metadata": {
        "colab": {
          "base_uri": "https://localhost:8080/",
          "height": 266
        },
        "id": "vPu-DokkBywQ",
        "outputId": "bf1e6284-9149-4545-b6b9-8e5d70b6be92"
      },
      "execution_count": 184,
      "outputs": [
        {
          "output_type": "display_data",
          "data": {
            "text/plain": [
              "<Figure size 432x288 with 1 Axes>"
            ],
            "image/png": "[encoded data removed]"
          },
          "metadata": {
            "needs_background": "light"
          }
        }
      ]
    },
    {
      "cell_type": "markdown",
      "source": [
        "## 8.Explanation for neural network\n",
        "\n",
        "*** number of weights between layers = (no. of nodes in previous layer) x (no. of nodes in following layer)***\n",
        "\n",
        "*** number of errors between layers = (no. of nodes in previous layer) x (no. of nodes in following layer)***\n",
        "\n",
        "1. Input Layer:Nine Inputs from dataset each row which has nine attibutes\n",
        "   \n",
        "\n",
        "2. Hidden Layer1:four nodes\n",
        "   \n",
        "   w01=weights array with shape(9x4) for multiplying nine dataset inputs\n",
        "\n",
        "   delta01=backpropagation error shape(9x4) from four nodes of Hiddenlayer1 to nine dataset inputweights\n",
        "\n",
        "3. Hidden Layer2:Two nodes\n",
        "\n",
        "   w12=weights array with shape(4x2) for multiplying four outputs from Hidden Layer1 \n",
        "\n",
        "   delta01=backpropagation error shape(4x2) from two nodes of Hiddenlayer2 to four nodes of HiddenLayer1 weights\n",
        "\n",
        "4. Output: one node\n",
        "\n",
        "   w23=weights array with shape(2x1) for multiplying four outputs from Hidden Layer2 \n",
        "\n",
        "   delta23=backpropagation error shape(2x1) from one node of Output to two nodes of HiddenLayer2 weights\n",
        "\n",
        "5. deltaOut=backpropagation error shape(1x1) from one Final Output \n"
      ],
      "metadata": {
        "id": "iK2Ek-xLC6Is"
      }
    },
    {
      "cell_type": "markdown",
      "source": [
        "## 9.Build neural network"
      ],
      "metadata": {
        "id": "TCMGkzl9QM3s"
      }
    },
    {
      "cell_type": "code",
      "source": [
        " # h1 and h2 represent the number of nodes in 1st and 2nd hidden layers\n",
        "h1 = 4\n",
        "h2 = 2\n",
        "\n",
        "\n",
        "\n",
        "# assign random weights to matrices in network\n",
        "# number of weights connecting layers = (no. of nodes in previous layer) x (no. of nodes in following layer)\n",
        "w01 = 2 * np.random.random((input_layer_size, h1)) - 1\n",
        "X01 = X_train\n",
        "delta01 = np.zeros((input_layer_size, h1))\n",
        "w12 = 2 * np.random.random((h1, h2)) - 1\n",
        "X12 = np.zeros((len(X_train), h1))\n",
        "delta12 = np.zeros((h1, h2))\n",
        "w23 = 2 * np.random.random((h2, output_layer_size)) - 1\n",
        "X23 = np.zeros((len(X_train), h2))\n",
        "delta23 = np.zeros((h2, output_layer_size))\n",
        "deltaOut = np.zeros((output_layer_size, 1))\n"
      ],
      "metadata": {
        "id": "EEQ0AAgn3ekm"
      },
      "execution_count": 185,
      "outputs": []
    },
    {
      "cell_type": "markdown",
      "source": [
        "## 10.dimensions of weights ,errors and inputs for different layers"
      ],
      "metadata": {
        "id": "INVjdM1gP-11"
      }
    },
    {
      "cell_type": "code",
      "source": [
        "print(\"\\n w01 shape\\n\",w01.shape)\n",
        "\n",
        "print(\"\\n w12 shape\\n\",w12.shape)\n",
        "\n",
        "print(\"\\n w23 shape\\n\",w23.shape)\n",
        "#print(\"\\n w23 typw \\n\",type(w23))\n",
        "print(\"\\n delta01 shape\\n\",delta01.shape)\n",
        "print(\"\\n delta12 shape\\n\",delta12.shape)\n",
        "\n",
        "\n",
        "print(\"\\n delta23 shape\\n\",delta23.shape)\n",
        "#print(\"\\n delta23 type \\n\",type(delta23))\n",
        "print(\"\\n deltaOut shape\\n\",deltaOut.shape)\n",
        "\n",
        "print(\"\\n X01 shape\\n\",X01.shape)\n",
        "\n",
        "print(\"\\n X12 shape\\n\",X12.shape)\n",
        "print(\"\\n X23 shape\\n\",X23.shape)\n",
        "\n",
        "print(\"\\n lenx[0] \\n\",len(X[0]))\n",
        "print(\"\\n leny[0] \\n\",len(y[0]))\n",
        "print(\"\\n processed dataset\\n\")\n",
        "#train_dataset.head(5)"
      ],
      "metadata": {
        "colab": {
          "base_uri": "https://localhost:8080/"
        },
        "id": "VBoc6N1YPzDo",
        "outputId": "16516c99-c1c0-44a0-e288-eb8fbc5416a0"
      },
      "execution_count": 186,
      "outputs": [
        {
          "output_type": "stream",
          "name": "stdout",
          "text": [
            "\n",
            " w01 shape\n",
            " (9, 4)\n",
            "\n",
            " w12 shape\n",
            " (4, 2)\n",
            "\n",
            " w23 shape\n",
            " (2, 1)\n",
            "\n",
            " delta01 shape\n",
            " (9, 4)\n",
            "\n",
            " delta12 shape\n",
            " (4, 2)\n",
            "\n",
            " delta23 shape\n",
            " (2, 1)\n",
            "\n",
            " deltaOut shape\n",
            " (1, 1)\n",
            "\n",
            " X01 shape\n",
            " (257, 9)\n",
            "\n",
            " X12 shape\n",
            " (257, 4)\n",
            "\n",
            " X23 shape\n",
            " (257, 2)\n",
            "\n",
            " lenx[0] \n",
            " 9\n",
            "\n",
            " leny[0] \n",
            " 1\n",
            "\n",
            " processed dataset\n",
            "\n"
          ]
        }
      ]
    },
    {
      "cell_type": "markdown",
      "source": [
        "## 11.Functions for Activation function and Their derivatives "
      ],
      "metadata": {
        "id": "mhRnA4GTPy1b"
      }
    },
    {
      "cell_type": "code",
      "source": [
        "# TODO: Select activation function, from sigmoid, tanh and ReLu\n",
        "#\n",
        "def activation(x, act=\"sigmoid\"):\n",
        "    if act == \"sigmoid\":\n",
        "        return sigmoid(x)\n",
        "    elif act == \"tanh\":\n",
        "        return tanh(x)\n",
        "    elif act == \"relu\":\n",
        "        #print(\"relu\")\n",
        "        return relu(x)\n",
        "    return None\n",
        "\n",
        "#\n",
        "# TODO: Define the function for tanh, ReLu and their derivatives\n",
        "#\n",
        "# def activation_derivative(x, activation=\"sigmoid\"):\n",
        "#     if activation == \"sigmoid\":\n",
        "#         sigmoid_derivative(x)\n",
        "#     elif activation == \"tanh\":\n",
        "#         tanh_derivative(x)\n",
        "#     elif activation == \"relu\":\n",
        "#         print(\"relu_derivative\")\n",
        "#         relu_derivative(x)\n",
        "\n",
        "def sigmoid( x):\n",
        "    return 1 / (1 + np.exp(-x))\n",
        "\n",
        "# derivative of sigmoid function, indicates confidence about existing weight\n",
        "\n",
        "def sigmoid_derivative(x):\n",
        "    return x * (1 - x)\n",
        "\n",
        "# tanh function\n",
        "def tanh(x):\n",
        "    return np.tanh(x)\n",
        "\n",
        "# derivative of tanh function\n",
        "def tanh_derivative(x):\n",
        "    return 1 - np.tanh(x) ** 2\n",
        "\n",
        "# ReLu function\n",
        "def relu(x):\n",
        "    return np.maximum(0, x)\n",
        "\n",
        "# derivative of Relu function (Assuming a derivative value of 0 for x=0)\n",
        "def relu_derivative( x):\n",
        "    #print(\"relu derivative\")\n",
        "    return (x > 0) * 1\n",
        "\n",
        "\n",
        "\n"
      ],
      "metadata": {
        "id": "fLDqbaMkO2qq"
      },
      "execution_count": 187,
      "outputs": []
    },
    {
      "cell_type": "markdown",
      "source": [
        "## 12.Forward pass calculations function"
      ],
      "metadata": {
        "id": "AvOaD693Pcow"
      }
    },
    {
      "cell_type": "code",
      "source": [
        "\n",
        "def forward_pass(input,act):\n",
        "    #act=\"sigmoid\"\n",
        "    # pass our inputs through our neural network\n",
        "    in1 = np.dot(input, w01)\n",
        "    X12 = activation(in1, act)\n",
        "    in2 = np.dot(X12, w12)\n",
        "    X23 = activation(in2, act)\n",
        "    in3 = np.dot(X23, w23)\n",
        "    out = activation(in3, act)\n",
        "    return out\n",
        "\n"
      ],
      "metadata": {
        "id": "kZfbLB_9O3bt"
      },
      "execution_count": 188,
      "outputs": []
    },
    {
      "cell_type": "markdown",
      "source": [
        "## 13.backpropagation function"
      ],
      "metadata": {
        "id": "IPAtQzLbPXaQ"
      }
    },
    {
      "cell_type": "code",
      "source": [
        "def backward_pass(out,w23,w12,w01,act):\n",
        "    #act=\"sigmoid\"\n",
        "    # pass our inputs through our neural network\n",
        "    deltaOut=compute_output_delta(out, act)\n",
        "    delta23=compute_hidden_layer2_delta(act)\n",
        "    delta12=compute_hidden_layer1_delta(act)\n",
        "    #print(\"before return backward_pass\")\n",
        "    update_layer2 = learning_rate * X23.T.dot(deltaOut)\n",
        "    update_layer1 = learning_rate * X12.T.dot(delta23)\n",
        "    update_input = learning_rate * X01.T.dot(delta12)\n",
        "    w23 = w23 + update_layer2\n",
        "    w12 = w12 + update_layer1\n",
        "    w01 = w01 + update_input\n",
        "    return \n",
        "\n",
        "# TODO: Implement other activation functions\n",
        "def compute_output_delta(out, activation=\"sigmoid\"):\n",
        "    diff = y_train - out\n",
        "    delta_output = None\n",
        "    if activation == \"sigmoid\":\n",
        "        delta_output = diff * (sigmoid_derivative(out))\n",
        "    elif activation == \"tanh\":\n",
        "        delta_output = diff * (tanh_derivative(out))\n",
        "    elif activation == \"relu\":\n",
        "        delta_output = diff * (relu_derivative(out))\n",
        "    return delta_output\n",
        "\n",
        "# TODO: Implement other activation functions\n",
        "def compute_hidden_layer2_delta(activation=\"sigmoid\"):\n",
        "    #deltaOut=deltaOut.T\n",
        "    prod = deltaOut.dot(w23.T)\n",
        "    delta_hidden_layer2 = None\n",
        "    if activation == \"sigmoid\":\n",
        "        delta_hidden_layer2 = prod * (sigmoid_derivative(X23))\n",
        "    elif activation == \"tanh\":\n",
        "        delta_hidden_layer2 = prod * (tanh_derivative(X23))\n",
        "    elif activation == \"relu\":\n",
        "        delta_hidden_layer2 = prod * (relu_derivative(X23))\n",
        "    return delta_hidden_layer2\n",
        "\n",
        "# TODO: Implement other activation functions\n",
        "def compute_hidden_layer1_delta(activation=\"sigmoid\"):\n",
        "    # print(\"inside hidden_layer1_delta\")\n",
        "    # print(\"delta23 shape\",delta23.shape)\n",
        "    # print(\"w12 shape\",w12.shape)\n",
        "    d23=delta23.transpose()\n",
        "    #print(\"d23 shape\",d23.shape)\n",
        "    prod = d23.dot(w12.T)\n",
        "    delta_hidden_layer1 = None\n",
        "    if activation == \"sigmoid\":\n",
        "        delta_hidden_layer1 = prod * (sigmoid_derivative(X12))\n",
        "    elif activation == \"tanh\":\n",
        "        delta_hidden_layer1 = prod * (tanh_derivative(X12))\n",
        "    elif activation == \"relu\":\n",
        "        delta_hidden_layer1 = prod * (relu_derivative(X12))\n",
        "    #print(\"before return compute_hidden_layer1_delta\")\n",
        "    return delta_hidden_layer1\n",
        "\n",
        "\n"
      ],
      "metadata": {
        "id": "QeIAp88pO4KM"
      },
      "execution_count": 189,
      "outputs": []
    },
    {
      "cell_type": "markdown",
      "source": [
        "## 14. Calculate Forward  and back propagation for neural network"
      ],
      "metadata": {
        "id": "lozzBwr9JmO7"
      }
    },
    {
      "cell_type": "code",
      "source": [
        "#act = \"tanh\"\n",
        "act = \"relu\"\n",
        "#act = \"sigmoid\"\n"
      ],
      "metadata": {
        "id": "GWP9wRPJRwHj"
      },
      "execution_count": 190,
      "outputs": []
    },
    {
      "cell_type": "code",
      "source": [
        "\n",
        "#print(type(X_train))\n",
        "max_iterations = 1000\n",
        "learning_rate = 0.05\n",
        "for iteration in range(max_iterations):\n",
        "    out = forward_pass(X_train,act)\n",
        "    #print(out.shape)\n",
        "    error = 0.5 * np.power((out - y_train), 2)\n",
        "    #print(\"\\n before backpass \\n\")\n",
        "    # print(deltaOut.shape)\n",
        "    # print(delta23.shape)\n",
        "    # print(delta12.shape)\n",
        "\n",
        "    backward_pass(out,w23,w12,w01,act)\n",
        "print(\"\\n activation function used \\n\",act) \n",
        "print(\"Training on \" + str((1-train_test_split_size)*100) + \"% data and testing on \" + str(train_test_split_size*100) + \"% data using the activation function as \" + str(act))\n",
        "\n",
        "print(\"After \" + str(max_iterations) + \" iterations, and having learning rate as \" + str(learning_rate) + \", the total error is \" + str(np.sum(error)))\n",
        "print(\"\\nThe final weight vectors are (starting from input to output layers)\\n\")\n",
        "print(\"\\n weights w01 \\n\",w01)\n",
        "print(\"\\n weights w12 \\n\",w12)\n",
        "print(\"\\n weights w23 \\n\",w23)\n"
      ],
      "metadata": {
        "colab": {
          "base_uri": "https://localhost:8080/"
        },
        "id": "Ye6wpr4mKXpO",
        "outputId": "82a8e512-a280-4508-825b-71610232f4e7"
      },
      "execution_count": 191,
      "outputs": [
        {
          "output_type": "stream",
          "name": "stdout",
          "text": [
            "\n",
            " activation function used \n",
            " relu\n",
            "Training on 90.0% data and testing on 10.0% data using the activation function as relu\n",
            "After 1000 iterations, and having learning rate as 0.05, the total error is 126.18814749780508\n",
            "\n",
            "The final weight vectors are (starting from input to output layers)\n",
            "\n",
            "\n",
            " weights w01 \n",
            " [[ 0.61667749 -0.26324629  0.21841398 -0.93030455]\n",
            " [-0.29084554 -0.84296007  0.3863704  -0.97457467]\n",
            " [-0.08090943  0.92263452 -0.33162956 -0.05583316]\n",
            " [-0.7892175   0.00615181  0.77137972  0.06875468]\n",
            " [-0.43704647 -0.29083062  0.7925605  -0.51702172]\n",
            " [-0.95223181  0.93145361 -0.1400642  -0.30742297]\n",
            " [ 0.15413526 -0.74694768  0.90008662 -0.37277834]\n",
            " [ 0.90566225 -0.56321354 -0.5025996   0.72760359]\n",
            " [-0.52946334  0.63020011  0.08779447 -0.61747946]]\n",
            "\n",
            " weights w12 \n",
            " [[ 0.17767988 -0.90372641]\n",
            " [-0.96825404 -0.90057797]\n",
            " [-0.20116942  0.15380792]\n",
            " [ 0.73503491  0.57232448]]\n",
            "\n",
            " weights w23 \n",
            " [[-0.49059449]\n",
            " [-0.83549019]]\n"
          ]
        }
      ]
    },
    {
      "cell_type": "markdown",
      "source": [
        "## 15.prediction"
      ],
      "metadata": {
        "id": "vQ6p-V_3Jx2U"
      }
    },
    {
      "cell_type": "code",
      "source": [
        "out = forward_pass(X_test,act)\n",
        "error = 0.5 * np.power((out - y_test), 2)\n",
        "print(\"\\n prediction error \\n\",np.sum(error))\n"
      ],
      "metadata": {
        "colab": {
          "base_uri": "https://localhost:8080/"
        },
        "id": "Qwai5IB44amX",
        "outputId": "5dbd1002-d5c8-416e-e0d6-e8bf948849c3"
      },
      "execution_count": 192,
      "outputs": [
        {
          "output_type": "stream",
          "name": "stdout",
          "text": [
            "\n",
            " prediction error \n",
            " 16.811852502194906\n"
          ]
        }
      ]
    },
    {
      "cell_type": "markdown",
      "source": [
        "## 16.how to choose activation function\n",
        "\n",
        "https://machinelearningmastery.com/choose-an-activation-function-for-deep-learning/#:~:text=Tanh%20Hidden%20Layer%20Activation%20Function&text=1%20to%201.-,The%20larger%20the%20input%20(more%20positive)%2C%20the%20closer%20the,x%20%2B%20e%5E%2Dx)\n"
      ],
      "metadata": {
        "id": "jfc5MIHuWA77"
      }
    }
  ]
}