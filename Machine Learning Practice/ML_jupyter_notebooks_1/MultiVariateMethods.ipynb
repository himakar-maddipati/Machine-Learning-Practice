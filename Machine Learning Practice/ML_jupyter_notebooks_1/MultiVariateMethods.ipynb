{
  "cells": [
    {
      "cell_type": "markdown",
      "id": "0a7f6e33-5b2d-4cdf-b5cf-27fa00abf9ee",
      "metadata": {
        "tags": [],
        "id": "0a7f6e33-5b2d-4cdf-b5cf-27fa00abf9ee"
      },
      "source": [
        "##  Multivariate Data\n"
      ]
    },
    {
      "cell_type": "markdown",
      "id": "e361d6cf-c009-4ea3-a8e9-203ddf6cc627",
      "metadata": {
        "id": "e361d6cf-c009-4ea3-a8e9-203ddf6cc627"
      },
      "source": [
        "### 1.How to represent Machine Learning Input data in Matrix?"
      ]
    },
    {
      "cell_type": "markdown",
      "id": "3a47a388-9537-4486-8951-116de1443701",
      "metadata": {
        "id": "3a47a388-9537-4486-8951-116de1443701"
      },
      "source": [
        "\\begin{equation*}\n",
        "X=\\begin{vmatrix}\n",
        "\\mathbf{X^1_1} & \\mathbf{X^1_2} &.. &\\mathbf{X^1_d} \\\\\n",
        "\\mathbf{X^2_1} & \\mathbf{X^2_2} &.. &\\mathbf{X^2_d} \\\\\n",
        "\\vdots\\\\\n",
        "\\mathbf{X^N_1} & \\mathbf{X^N_2} &.. &\\mathbf{X^N_d} \\\\\n",
        "\\end{vmatrix}  \n",
        "\\end{equation*}"
      ]
    },
    {
      "cell_type": "markdown",
      "id": "456d360c-241e-42cd-8a7b-204d7e8ff70c",
      "metadata": {
        "id": "456d360c-241e-42cd-8a7b-204d7e8ff70c"
      },
      "source": [
        "## 2. what is d in above Matrix?\n"
      ]
    },
    {
      "cell_type": "markdown",
      "id": "ef668699-50a6-4e63-9dd4-b15aee744cfa",
      "metadata": {
        "id": "ef668699-50a6-4e63-9dd4-b15aee744cfa"
      },
      "source": [
        "#### d=variables(inputs/features/attributes)\n"
      ]
    },
    {
      "cell_type": "markdown",
      "source": [
        "## 3.what is N in above Matrix?"
      ],
      "metadata": {
        "id": "ghwswQui1jia"
      },
      "id": "ghwswQui1jia"
    },
    {
      "cell_type": "markdown",
      "source": [
        "#### N=events\n",
        "#### N rows=observations or instances or examples "
      ],
      "metadata": {
        "id": "egHrSKFp1qja"
      },
      "id": "egHrSKFp1qja"
    },
    {
      "cell_type": "markdown",
      "id": "9f867395-a9b8-4231-a63c-4f62b8c558c5",
      "metadata": {
        "id": "9f867395-a9b8-4231-a63c-4f62b8c558c5"
      },
      "source": [
        "## 4.what is covariance and correlation in multivariate(bivariate) distribution?"
      ]
    },
    {
      "cell_type": "markdown",
      "id": "c0748af0-2ab3-4f7f-807c-4d3db009c6c0",
      "metadata": {
        "id": "c0748af0-2ab3-4f7f-807c-4d3db009c6c0"
      },
      "source": [
        "### For population\n",
        "$\\boldsymbol{COV(X_i,X_j)=σ_{ij}=\\frac{\\sum(x_i-\\bar{x_i})(x_j-\\bar{x_j})}{N}}$\n",
        "\n",
        "### For sample\n",
        "$\\boldsymbol{COV(X_i,X_j)=σ_{ij}=\\frac{\\sum(x_i-\\bar{x_i})(x_j-\\bar{x_j})}{N-1}}$"
      ]
    },
    {
      "cell_type": "markdown",
      "id": "39ff9551-e22d-48e9-8014-5eec87652b43",
      "metadata": {
        "id": "39ff9551-e22d-48e9-8014-5eec87652b43"
      },
      "source": [
        "$\\boldsymbol{COrr(X_i , X_j)=\\frac{COV(X_i,X_j)}{\\sqrt{\\sigma^2_{x_i}\\sigma^2_{X_j}}}}$= pearson correlation coefficient\n",
        "\n",
        "$\\boldsymbol{COrr(X_i , X_j)=\\frac{COV(X_i,X_j)}{\\sigma_{x_i}\\sigma_{X_j}}}$= pearson correlation coefficient\n",
        "\n",
        "\n",
        "\n"
      ]
    },
    {
      "cell_type": "markdown",
      "id": "1e1cc0ae-583c-4fdf-bac1-b87ec2e15dae",
      "metadata": {
        "id": "1e1cc0ae-583c-4fdf-bac1-b87ec2e15dae"
      },
      "source": [
        "## EXAMPLE For calculation of Covariation and Correlation \n",
        "\n",
        "### $X_i$ 2  8 18 20 28 30\n",
        "\n",
        "### $x_j$ 5 12 18 23 45 50"
      ]
    },
    {
      "cell_type": "markdown",
      "id": "9aa511a2-25dd-4814-8164-a0f5953433cc",
      "metadata": {
        "id": "9aa511a2-25dd-4814-8164-a0f5953433cc"
      },
      "source": [
        "### Number of observations = 6\n",
        "\n",
        "### Mean of $X_i$ = 17.67\n",
        "\n",
        "### Mean of $x_j$ = 25.5\n",
        "\n"
      ]
    },
    {
      "cell_type": "markdown",
      "id": "c791e7f8-d20d-49ec-8ec9-53eaed17d922",
      "metadata": {
        "id": "c791e7f8-d20d-49ec-8ec9-53eaed17d922"
      },
      "source": [
        "\n",
        "### variance of $X_i =σ^2_i= \\frac{[(2−17.67)^2+(8−17.67)^2+(18−17.67)^2+(20−17.67)^2+(28−17.67)^2+(30−17.67)^2] }{5} = 120.66$\n",
        "\n",
        "### variance of $x_j =σ^2_j= \\frac{[(5−25.5)^2+(12−25.5)^2+(18−25.5)^2+(23−25.5)^2+(45−25.5)^2+(50−25.5)^2] }{5}= 329.1$\n",
        "\n"
      ]
    },
    {
      "cell_type": "markdown",
      "id": "a5903e03-3716-4041-b063-945ca5b842b9",
      "metadata": {
        "id": "a5903e03-3716-4041-b063-945ca5b842b9"
      },
      "source": [
        "\n",
        "$Cov(X_i,X_j)=\\frac{(2 – 17.67)(5 – 25.5) + (8 – 17.67)(12 – 25.5) + (18 – 17.67)(18 – 25.5) + (20 – 17.67)(23 – 25.5) + (28 – 17.67)(45 – 25.5) + (30 – 17.67)(50 – 25.5)}{5} =189.4$"
      ]
    },
    {
      "cell_type": "markdown",
      "id": "b136ef22-295b-468d-844f-6dd6b628d5e8",
      "metadata": {
        "id": "b136ef22-295b-468d-844f-6dd6b628d5e8"
      },
      "source": [
        "\n",
        "\n",
        "\n",
        "$Corr(X_i,X_j)=\\frac{189.4}{\\sqrt{120.66} * \\sqrt{329.1}} =0.95$"
      ]
    },
    {
      "cell_type": "markdown",
      "id": "8789f357-8909-42ff-82b3-30894c29fa98",
      "metadata": {
        "id": "8789f357-8909-42ff-82b3-30894c29fa98"
      },
      "source": [
        "## 5.What is pearson correlation coefficient?"
      ]
    },
    {
      "cell_type": "markdown",
      "id": "5fda5225-c4ca-4f96-a734-7f6ab5f71fe8",
      "metadata": {
        "id": "5fda5225-c4ca-4f96-a734-7f6ab5f71fe8"
      },
      "source": [
        "$\\boldsymbol\\rho_{x_i x_j}=\\frac{Cov(X_i,X_j)}{\\sigma_{x_i} \\sigma_{x_j}}$\n",
        "\n",
        "We use following formula frequently\n",
        "\n",
        "$\\boldsymbol Cov(X_i,X_j)=\\boldsymbol\\rho_{x_i x_j}*{\\sigma_{x_i} \\sigma_{x_j}}$\n"
      ]
    },
    {
      "cell_type": "markdown",
      "source": [
        "## 6. How to represent Covariance matrix"
      ],
      "metadata": {
        "id": "e5iEePuWwBUh"
      },
      "id": "e5iEePuWwBUh"
    },
    {
      "cell_type": "markdown",
      "source": [
        "### Covariance matrix for Bivariate normal distribution\n",
        "\n",
        "\\begin{equation*}\n",
        "Σ=\\begin{vmatrix}\n",
        "\\mathbf{\\sigma^2_i} & \\mathbf{\\sigma_{12}} \\\\\n",
        "\\mathbf{\\sigma_{12}} & \\mathbf{\\sigma^2_j} \\\\\n",
        "\\end{vmatrix}  \n",
        "\\end{equation*}"
      ],
      "metadata": {
        "id": "m1BWf-IFs7za"
      },
      "id": "m1BWf-IFs7za"
    },
    {
      "cell_type": "markdown",
      "source": [
        "### frequently used Covariance matrix for Bivariate normal distribution\n",
        "\n",
        "\\begin{equation*}\n",
        "Σ=\\begin{vmatrix}\n",
        "\\mathbf{\\sigma^2_i} & \\mathbf{ρ*\\sigma_1\\sigma_2} \\\\\n",
        "\\mathbf{ρ*\\sigma_1\\sigma_2} & \\mathbf{\\sigma^2_j} \\\\\n",
        "\\end{vmatrix}  \n",
        "\\end{equation*}"
      ],
      "metadata": {
        "id": "CHIdSJQmtzlB"
      },
      "id": "CHIdSJQmtzlB"
    },
    {
      "cell_type": "markdown",
      "source": [
        "## Covariance matrix for Multivariate normal distribution\n",
        "\n",
        "\\begin{equation*}\n",
        "Σ=\\begin{vmatrix}\n",
        "\\mathbf{\\sigma^2_1} & \\mathbf{\\sigma_{12}} & \\mathbf{\\sigma_{13}} & \\mathbf{\\sigma_{14}}& \\mathbf{\\sigma_{15}} \\\\\n",
        "\\mathbf{\\sigma_{12}} & \\mathbf{\\sigma^2_2} & \\mathbf{\\sigma_{23}} & \\mathbf{\\sigma_{24}}& \\mathbf{\\sigma_{25}} \\\\\n",
        "\\mathbf{\\sigma_{31}} & \\mathbf{\\sigma_{32}} & \\mathbf{\\sigma^2_3} & \\mathbf{\\sigma_{34}}& \\mathbf{\\sigma_{35}} \\\\\n",
        "\\mathbf{\\sigma_{41}} & \\mathbf{\\sigma_{42}} & \\mathbf{\\sigma_{43}} & \\mathbf{\\sigma^2_4}& \\mathbf{\\sigma_{45}} \\\\\n",
        "\\mathbf{\\sigma_{51}} & \\mathbf{\\sigma_{52}} & \\mathbf{\\sigma_{53}} & \\mathbf{\\sigma_{54}}& \\mathbf{\\sigma^2_5} \\\\\n",
        "\\end{vmatrix}  \n",
        "\\end{equation*}\n"
      ],
      "metadata": {
        "id": "r0Apn6VQp8YV"
      },
      "id": "r0Apn6VQp8YV"
    },
    {
      "cell_type": "markdown",
      "source": [
        "## 7.why we require Covariance matrix?\n",
        "\n",
        "probability density function for multivariate distribution is as follows\n",
        "\n",
        "$p(x)=\\frac{1}{(2π)^{\\frac{d}{2}}|Σ|^\\frac{1}{2}}exp[-\\frac{1}{2}(X-μ)^TΣ^{-1}(X-μ)] $\n",
        "\n",
        "where X is input variables matrix\n",
        "\n",
        "$μ$ is Mean matrix for each column of input\n",
        "\n",
        "d is number of inputs\n",
        "\n",
        "$Σ$ is covariance matrix\n",
        "\n",
        "for multivariate normal distribution probability density function has Covariance matrix.\n",
        "\n",
        "**For analysis and plotting of multivariate distribution Covariance matrix is required**"
      ],
      "metadata": {
        "id": "hzXi98XCsull"
      },
      "id": "hzXi98XCsull"
    },
    {
      "cell_type": "markdown",
      "id": "165cdfa1-25e7-4ebd-bde8-e74944044122",
      "metadata": {
        "id": "165cdfa1-25e7-4ebd-bde8-e74944044122"
      },
      "source": [
        "## 8.what is difference between covariance and correlation"
      ]
    },
    {
      "cell_type": "markdown",
      "id": "fea2b5d9-e343-4fbd-a09b-63578d80f216",
      "metadata": {
        "id": "fea2b5d9-e343-4fbd-a09b-63578d80f216"
      },
      "source": [
        "<table><tbody>\n",
        "<tr>\n",
        "<td>\n",
        "<h3><strong>Basis for comparison</strong></h3>\n",
        "</td>\n",
        "<td>\n",
        "<h3><strong>Covariance</strong></h3>\n",
        "</td>\n",
        "<td>\n",
        "<h3><strong>Correlation</strong></h3>\n",
        "</td>\n",
        "</tr>\n",
        "<tr>\n",
        "<td>\n",
        "<p><strong>Definition</strong></p>\n",
        "</td>\n",
        "<td>\n",
        "<p>Covariance is an indicator of the extent to which 2 random variables are dependent on each other. A higher number denotes higher dependency.</p>\n",
        "</td>\n",
        "<td>\n",
        "<p>Correlation is a statistical measure that indicates how strongly two variables are related.</p>\n",
        "</td>\n",
        "</tr>\n",
        "<tr>\n",
        "<td>\n",
        "<p><strong>Values</strong></p>\n",
        "</td>\n",
        "<td>\n",
        "<p>The value of covariance lies in the range of -∞ and +∞.</p>\n",
        "</td>\n",
        "<td>\n",
        "<p>Correlation is limited to values between the range -1 and +1</p>\n",
        "</td>\n",
        "</tr>\n",
        "<tr>\n",
        "<td>\n",
        "<p><strong>Change in scale</strong></p>\n",
        "</td>\n",
        "<td>\n",
        "<p>Affects covariance</p>\n",
        "</td>\n",
        "<td>\n",
        "<p>Does not affect the correlation</p>\n",
        "</td>\n",
        "</tr>\n",
        "<tr>\n",
        "<td>\n",
        "<p><strong>Unit-free measure</strong></p>\n",
        "</td>\n",
        "<td>\n",
        "<p>No</p>\n",
        "</td>\n",
        "<td>\n",
        "<p>Yes</p>\n",
        "</td>\n",
        "</tr>\n",
        "</tbody></table>"
      ]
    },
    {
      "cell_type": "markdown",
      "id": "51829d7b-f63a-4c41-b748-162e3bc53697",
      "metadata": {
        "id": "51829d7b-f63a-4c41-b748-162e3bc53697"
      },
      "source": [
        "## 9.What is data simplification?"
      ]
    },
    {
      "cell_type": "markdown",
      "id": "e3726750-cd6b-4d3b-bb33-53ba0e0cff2f",
      "metadata": {
        "id": "e3726750-cd6b-4d3b-bb33-53ba0e0cff2f"
      },
      "source": [
        "### summarising large data with few variables"
      ]
    },
    {
      "cell_type": "markdown",
      "id": "8f4e575c-8170-4a2c-8993-f795392f0197",
      "metadata": {
        "id": "8f4e575c-8170-4a2c-8993-f795392f0197"
      },
      "source": [
        "## 10.What is exploratory data analysis?"
      ]
    },
    {
      "cell_type": "markdown",
      "id": "bd3a308b-1b61-4f23-aa4e-037361a44d72",
      "metadata": {
        "id": "bd3a308b-1b61-4f23-aa4e-037361a44d72"
      },
      "source": [
        "###  generating hypotheses about data"
      ]
    },
    {
      "cell_type": "markdown",
      "id": "f05715ad-e7bd-439e-8185-6e190290bcc7",
      "metadata": {
        "id": "f05715ad-e7bd-439e-8185-6e190290bcc7"
      },
      "source": [
        "## 11. what is multivariate classification?"
      ]
    },
    {
      "cell_type": "markdown",
      "id": "e6cfe6fc-8a88-49b7-9f5b-238fa606b6df",
      "metadata": {
        "id": "e6cfe6fc-8a88-49b7-9f5b-238fa606b6df"
      },
      "source": [
        "### when predicted variable is discrete"
      ]
    },
    {
      "cell_type": "markdown",
      "id": "36fb6a0a-ac57-45d6-a042-8418d65dae11",
      "metadata": {
        "id": "36fb6a0a-ac57-45d6-a042-8418d65dae11"
      },
      "source": [
        "## 12.What is multivariate regression?"
      ]
    },
    {
      "cell_type": "markdown",
      "id": "13e1a41f-4881-4a91-bdca-07eec96f66ff",
      "metadata": {
        "id": "13e1a41f-4881-4a91-bdca-07eec96f66ff"
      },
      "source": [
        "\n",
        "### when predicted variable is numeric"
      ]
    },
    {
      "cell_type": "markdown",
      "source": [
        "## 13.create matrix in python"
      ],
      "metadata": {
        "id": "Xn3na6nOesZK"
      },
      "id": "Xn3na6nOesZK"
    },
    {
      "cell_type": "code",
      "source": [
        "# Python code to demonstrate the\n",
        "# use of numpy.cov\n",
        "import numpy as np\n",
        "\n",
        "x = [2, 8, 18, 20,28,30]\n",
        "\n",
        "y = [5, 12, 18,23, 45,50]\n",
        "\n",
        "# find out covariance with respect columns\n",
        "cov_mat = np.stack((x, y), axis = 0)\n",
        "print(cov_mat)\n"
      ],
      "metadata": {
        "colab": {
          "base_uri": "https://localhost:8080/"
        },
        "id": "a_WcS9olf5Nm",
        "outputId": "ff3e427d-fc25-453f-fdd6-308971bfd75c"
      },
      "id": "a_WcS9olf5Nm",
      "execution_count": null,
      "outputs": [
        {
          "output_type": "stream",
          "name": "stdout",
          "text": [
            "[[ 2  8 18 20 28 30]\n",
            " [ 5 12 18 23 45 50]]\n"
          ]
        }
      ]
    },
    {
      "cell_type": "markdown",
      "source": [
        "## 14.Calculate Covariance Matrix"
      ],
      "metadata": {
        "id": "DszrBBe202p0"
      },
      "id": "DszrBBe202p0"
    },
    {
      "cell_type": "code",
      "source": [
        "print(np.cov(cov_mat))\n"
      ],
      "metadata": {
        "colab": {
          "base_uri": "https://localhost:8080/"
        },
        "id": "swJI7VYNmTSF",
        "outputId": "37281388-ef11-4c42-ed65-161f5668d166"
      },
      "id": "swJI7VYNmTSF",
      "execution_count": null,
      "outputs": [
        {
          "output_type": "stream",
          "name": "stdout",
          "text": [
            "[[120.66666667 189.4       ]\n",
            " [189.4        329.1       ]]\n"
          ]
        }
      ]
    },
    {
      "cell_type": "markdown",
      "source": [
        "## 15.calculate Correlation coefficient"
      ],
      "metadata": {
        "id": "0XyXlFDQ1JFI"
      },
      "id": "0XyXlFDQ1JFI"
    },
    {
      "cell_type": "code",
      "source": [
        "corr = np.corrcoef(cov_mat)\n",
        "print(corr)"
      ],
      "metadata": {
        "colab": {
          "base_uri": "https://localhost:8080/"
        },
        "id": "oLOhZuoGl5nw",
        "outputId": "fc887d7e-b0b0-433f-f8d9-747ae0486bf0"
      },
      "id": "oLOhZuoGl5nw",
      "execution_count": null,
      "outputs": [
        {
          "output_type": "stream",
          "name": "stdout",
          "text": [
            "[[1.        0.9504349]\n",
            " [0.9504349 1.       ]]\n"
          ]
        }
      ]
    },
    {
      "cell_type": "code",
      "source": [
        "from scipy.stats import pearsonr\n",
        "# Apply the pearsonr()\n",
        "corr, _ = pearsonr(x, y)\n",
        "print('Pearsons correlation: %.3f' % corr)\n"
      ],
      "metadata": {
        "colab": {
          "base_uri": "https://localhost:8080/"
        },
        "id": "EBXrAsnmm-WY",
        "outputId": "0dd6a1e2-9dff-40d3-c865-861a75caa416"
      },
      "id": "EBXrAsnmm-WY",
      "execution_count": null,
      "outputs": [
        {
          "output_type": "stream",
          "name": "stdout",
          "text": [
            "Pearsons correlation: 0.950\n"
          ]
        }
      ]
    }
  ],
  "metadata": {
    "kernelspec": {
      "display_name": "Python 3 (ipykernel)",
      "language": "python",
      "name": "python3"
    },
    "language_info": {
      "codemirror_mode": {
        "name": "ipython",
        "version": 3
      },
      "file_extension": ".py",
      "mimetype": "text/x-python",
      "name": "python",
      "nbconvert_exporter": "python",
      "pygments_lexer": "ipython3",
      "version": "3.9.10"
    },
    "colab": {
      "provenance": []
    }
  },
  "nbformat": 4,
  "nbformat_minor": 5
}