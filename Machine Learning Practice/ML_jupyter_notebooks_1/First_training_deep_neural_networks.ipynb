{
  "cells": [
    {
      "cell_type": "markdown",
      "metadata": {
        "id": "HpcfeYjEgejY"
      },
      "source": [
        "**Training Deep Neural Networks**"
      ]
    },
    {
      "cell_type": "markdown",
      "metadata": {
        "id": "0AyAcV11gejp"
      },
      "source": [
        "# Setup"
      ]
    },
    {
      "cell_type": "markdown",
      "metadata": {
        "id": "-6J0mDqTgejr"
      },
      "source": [
        "First, let's import a few common modules, ensure MatplotLib plots figures inline and prepare a function to save the figures. We also check that Python 3.5 or later is installed (although Python 2.x may work, it is deprecated so we strongly recommend you use Python 3 instead), as well as Scikit-Learn ≥0.20 and TensorFlow ≥2.0."
      ]
    },
    {
      "cell_type": "code",
      "execution_count": null,
      "metadata": {
        "id": "Ftwq9dUrgejt"
      },
      "outputs": [],
      "source": [
        "# Python ≥3.5 is required\n",
        "import sys\n",
        "assert sys.version_info >= (3, 5)\n",
        "\n",
        "# Scikit-Learn ≥0.20 is required\n",
        "import sklearn\n",
        "assert sklearn.__version__ >= \"0.20\"\n",
        "\n",
        "try:\n",
        "    # %tensorflow_version only exists in Colab.\n",
        "    %tensorflow_version 2.x\n",
        "except Exception:\n",
        "    pass\n",
        "\n",
        "# TensorFlow ≥2.0 is required\n",
        "import tensorflow as tf\n",
        "from tensorflow import keras\n",
        "assert tf.__version__ >= \"2.0\"\n",
        "\n",
        "%load_ext tensorboard\n",
        "\n",
        "# Common imports\n",
        "import numpy as np\n",
        "import os\n",
        "\n",
        "# to make this notebook's output stable across runs\n",
        "np.random.seed(42)\n",
        "\n",
        "# To plot pretty figures\n",
        "%matplotlib inline\n",
        "import matplotlib as mpl\n",
        "import matplotlib.pyplot as plt\n",
        "mpl.rc('axes', labelsize=14)\n",
        "mpl.rc('xtick', labelsize=12)\n",
        "mpl.rc('ytick', labelsize=12)\n",
        "\n",
        "# Where to save the figures\n",
        "PROJECT_ROOT_DIR = \".\"\n",
        "CHAPTER_ID = \"deep\"\n",
        "IMAGES_PATH = os.path.join(PROJECT_ROOT_DIR, \"images\", CHAPTER_ID)\n",
        "os.makedirs(IMAGES_PATH, exist_ok=True)\n",
        "\n",
        "def save_fig(fig_id, tight_layout=True, fig_extension=\"png\", resolution=300):\n",
        "    path = os.path.join(IMAGES_PATH, fig_id + \".\" + fig_extension)\n",
        "    print(\"Saving figure\", fig_id)\n",
        "    if tight_layout:\n",
        "        plt.tight_layout()\n",
        "    plt.savefig(path, format=fig_extension, dpi=resolution)"
      ]
    },
    {
      "cell_type": "markdown",
      "metadata": {
        "id": "A04SAPzsgej1"
      },
      "source": [
        "# Vanishing/Exploding Gradients Problem"
      ]
    },
    {
      "cell_type": "markdown",
      "source": [
        "Unfortunately, ***gradients often get smaller and smaller*** as the algorithm progresses\n",
        "down to the lower layers. As a result, the Gradient Descent update leaves the lower\n",
        "layers’ connection weights virtually unchanged, and training never converges to a\n",
        "good solution. We call this the ***vanishing gradients problem***. In some cases, the opposite\n",
        "can happen: ***the gradients can grow bigger and bigger*** until layers get insanely\n",
        "large weight updates and the algorithm diverges. This is the ***exploding gradients problem,***\n",
        "which surfaces in recurrent neural networks (see Chapter 15). More generally,\n",
        "deep neural networks suffer from unstable gradients; different layers may learn at\n",
        "widely different speeds."
      ],
      "metadata": {
        "id": "W6jNz-tdgijD"
      }
    },
    {
      "cell_type": "code",
      "execution_count": null,
      "metadata": {
        "id": "EoToxE3wgej3"
      },
      "outputs": [],
      "source": [
        "def logit(z):\n",
        "    return 1 / (1 + np.exp(-z))"
      ]
    },
    {
      "cell_type": "code",
      "source": [
        "def der_logit(z):\n",
        "    return (1 -logit(z))*(logit(z))"
      ],
      "metadata": {
        "id": "52bcJ66Nkduz"
      },
      "execution_count": null,
      "outputs": []
    },
    {
      "cell_type": "code",
      "execution_count": null,
      "metadata": {
        "colab": {
          "base_uri": "https://localhost:8080/",
          "height": 314
        },
        "id": "BudZ5MfPgej5",
        "outputId": "4ac167b1-1041-4303-d99a-ba3523fcb6a2"
      },
      "outputs": [
        {
          "output_type": "stream",
          "name": "stdout",
          "text": [
            "Saving figure sigmoid_saturation_plot\n"
          ]
        },
        {
          "output_type": "display_data",
          "data": {
            "text/plain": [
              "<Figure size 432x288 with 1 Axes>"
            ],
            "image/png": "[encoded data removed]"
          },
          "metadata": {
            "needs_background": "light"
          }
        }
      ],
      "source": [
        "z = np.linspace(-5, 5, 200)\n",
        "\n",
        "plt.plot([-5, 5], [0, 0], 'k-')\n",
        "plt.plot([-5, 5], [1, 1], 'k--')\n",
        "plt.plot([0, 0], [-0.2, 1.2], 'k-')\n",
        "plt.plot([-5, 5], [-3/4, 7/4], 'g--')\n",
        "plt.plot(z, logit(z), \"b-\", linewidth=2)\n",
        "plt.plot(z, der_logit(z), \"r-\", linewidth=2)\n",
        "\n",
        "props = dict(facecolor='black', shrink=0.1)\n",
        "plt.annotate('Saturating', xytext=(3.5, 0.7), xy=(5, 1), arrowprops=props, fontsize=14, ha=\"center\")\n",
        "plt.annotate('Saturating', xytext=(-3.5, 0.3), xy=(-5, 0), arrowprops=props, fontsize=14, ha=\"center\")\n",
        "plt.annotate('Linear', xytext=(2, 0.2), xy=(0, 0.5), arrowprops=props, fontsize=14, ha=\"center\")\n",
        "plt.annotate('derivative', xytext=(2, -0.2), xy=(0, 0.2), arrowprops=props, fontsize=14, ha=\"center\")\n",
        "plt.grid(True)\n",
        "plt.title(\"Sigmoid activation function\", fontsize=14)\n",
        "plt.axis([-5, 5, -0.2, 1.2])\n",
        "\n",
        "save_fig(\"sigmoid_saturation_plot\")\n",
        "plt.show()"
      ]
    },
    {
      "cell_type": "markdown",
      "source": [
        "1. Looking at the logistic activation function (see Figure above), you can see that when ***inputs become large (negative or positive),*** the function saturates at 0 or 1, with a ***derivative extremely close to 0***. \n",
        "\n",
        "2. Thus, when ***backpropagation*** kicks in it has virtually\n",
        "no gradient to propagate back through the network; and what ***little gradient exists***\n",
        "keeps getting diluted as backpropagation progresses down through the top layers, so\n",
        "there is ***really nothing left for the lower layers.***"
      ],
      "metadata": {
        "id": "RriKJhWygnqM"
      }
    },
    {
      "cell_type": "markdown",
      "source": [
        "Q.what is gradient(derivative) for logistic activation function at saturation(at 0.0 and 1.0)from the above plot? what is their effect on backpropagation?"
      ],
      "metadata": {
        "id": "FLqwz1KrEO7I"
      }
    },
    {
      "cell_type": "code",
      "execution_count": null,
      "metadata": {
        "id": "S5SLzh19vWHS"
      },
      "outputs": [],
      "source": [
        "def sigmoid(z):\n",
        "    return 1 / (1 + np.exp(-z))\n",
        "\n",
        "def relu(z):\n",
        "    return np.maximum(0, z)\n",
        "\n",
        "def derivative(f, z, eps=0.000001):\n",
        "    return (f(z + eps) - f(z - eps))/(2 * eps)"
      ]
    },
    {
      "cell_type": "code",
      "execution_count": null,
      "metadata": {
        "colab": {
          "base_uri": "https://localhost:8080/",
          "height": 314
        },
        "id": "i5CdT5kwvWHT",
        "outputId": "90ec5d2c-0a8e-411a-924c-48030a6ba255"
      },
      "outputs": [
        {
          "output_type": "stream",
          "name": "stdout",
          "text": [
            "Saving figure activation_functions_plot\n"
          ]
        },
        {
          "output_type": "display_data",
          "data": {
            "text/plain": [
              "<Figure size 792x288 with 2 Axes>"
            ],
            "image/png": "[encoded data removed]"
          },
          "metadata": {
            "needs_background": "light"
          }
        }
      ],
      "source": [
        "z = np.linspace(-5, 5, 200)\n",
        "\n",
        "plt.figure(figsize=(11,4))\n",
        "\n",
        "plt.subplot(121)\n",
        "plt.plot(z, np.sign(z), \"r-\", linewidth=1, label=\"Step\")\n",
        "plt.plot(z, sigmoid(z), \"g--\", linewidth=2, label=\"Sigmoid\")\n",
        "plt.plot(z, np.tanh(z), \"b-\", linewidth=2, label=\"Tanh\")\n",
        "plt.plot(z, relu(z), \"m-.\", linewidth=2, label=\"ReLU\")\n",
        "plt.grid(True)\n",
        "plt.legend(loc=\"center right\", fontsize=14)\n",
        "plt.title(\"Activation functions\", fontsize=14)\n",
        "plt.axis([-5, 5, -1.2, 1.2])\n",
        "\n",
        "plt.subplot(122)\n",
        "plt.plot(z, derivative(np.sign, z), \"r-\", linewidth=1, label=\"Step\")\n",
        "plt.plot(0, 0, \"ro\", markersize=5)\n",
        "plt.plot(0, 0, \"rx\", markersize=10)\n",
        "plt.plot(z, derivative(sigmoid, z), \"g--\", linewidth=2, label=\"Sigmoid\")\n",
        "plt.plot(z, derivative(np.tanh, z), \"b-\", linewidth=2, label=\"Tanh\")\n",
        "plt.plot(z, derivative(relu, z), \"m-.\", linewidth=2, label=\"ReLU\")\n",
        "plt.grid(True)\n",
        "plt.legend(loc=\"center right\", fontsize=14)\n",
        "plt.title(\"Derivatives\", fontsize=14)\n",
        "plt.axis([-5, 5, -0.2, 1.2])\n",
        "\n",
        "save_fig(\"activation_functions_plot\")\n",
        "plt.show()"
      ]
    },
    {
      "cell_type": "markdown",
      "source": [
        "$Step(z) =0 \\ $ if z < 0 \n",
        "\n",
        "$Step(z) =1 \\$ if  z ≥ 0\n",
        "\n",
        "\n",
        "$Sigmoid(z) =\\frac{1}{1+e^{-z}} \\ $ \n",
        "\n",
        "\n",
        "$Tanh(z) =\\frac{e^{z}-e^{-z}}{e^{z}+e^{-z}} \\ $\n",
        "\n",
        "\n",
        "$ReLU(z) =max(0,z)\\ $ \n"
      ],
      "metadata": {
        "id": "gVk9zZQPyILp"
      }
    },
    {
      "cell_type": "markdown",
      "source": [
        "Q WHAT are gradients(derivatives) at saturation for different functions in plots above? what is their effect on backpropagation?\n",
        "\n",
        "Q ReLU does not saturate for positive values True or False?\n",
        "\n",
        "Q ReLU does not saturate for negative values True or False?"
      ],
      "metadata": {
        "id": "CkjjMI1hEy4r"
      }
    },
    {
      "cell_type": "markdown",
      "source": [
        "\n",
        "1. ReLU activation function ***does not saturate***\n",
        "for positive values (and because it is fast to compute).\n",
        "\n",
        "2. ***Gradient*** of the ReLU function is ***zero when its input is negative***\n",
        "\n",
        "3.  Problem is ***dying ReLUs:*** during training, some neurons effectively “die,” meaning inputs are negative for all instances in the training set. When this happens, it just keeps outputting zeros, and Gradient Descent does not affect it anymore because the gradient of the ReLU function is zero when its input is negative\n"
      ],
      "metadata": {
        "id": "aLS-f4GGuit7"
      }
    },
    {
      "cell_type": "markdown",
      "source": [
        "## Weights Initialization\n",
        "\n",
        "link for understanding Weights initialisation\n",
        "\n",
        "https://medium.com/guidona-softpedia/weight-initialization-methods-in-neural-networks-a3e7a793cee5\n",
        "\n",
        "https://wandb.ai/sayakpaul/weight-initialization-tb/reports/Effects-of-Weight-Initialization-on-Neural-Networks--Vmlldzo2ODY0NA"
      ],
      "metadata": {
        "id": "z-7hwc1SKqr8"
      }
    },
    {
      "cell_type": "markdown",
      "metadata": {
        "id": "i1hbtaF_gej8"
      },
      "source": [
        "## Xavier and He Initialization"
      ]
    },
    {
      "cell_type": "markdown",
      "source": [
        "##Problem\n",
        "In their paper, Glorot and Bengio propose a way to significantly alleviate the unstable\n",
        "gradients problem. They point out that we need ***the signal to flow properly in both\n",
        "directions:*** in the forward direction when making predictions, and in the reverse\n",
        "direction when backpropagating gradients. ***We don’t want the signal to die out, nor\n",
        "do we want it to explode and saturate.***\n",
        "##Solution\n",
        " For the signal to flow properly, the authors\n",
        "argue that we need the ***variance of the outputs of each layer to be equal to the variance\n",
        "of its inputs,and we need the gradients to have equal variance before and after\n",
        "flowing through a layer in the reverse direction*** (please check out the paper if you are\n",
        "interested in the mathematical details). \n",
        "\n",
        "1. It is actually not possible to guarantee both\n",
        "unless the layer has an ***equal number of inputs and neurons*** (these numbers are called\n",
        "the fan-in and fan-out of the layer),\n",
        "\n",
        "2. but Glorot and Bengio proposed a good compromise\n",
        "that has proven to work very well in practice: the connection weights of each\n",
        "layer must be initialized randomly as described in Equation below, where $fan_{avg }= \\frac{(fan_{in}\n",
        "+ fan_{out})}{2}$. This initialization strategy is called Xavier initialization or Glorot initialization,\n",
        "after the paper’s first author.\n",
        "\n",
        "\n",
        "\n",
        "Equations for ***Glorot initialization*** (when using the logistic activation function)\n",
        "\n",
        "Normal distribution with mean 0 and variance$ σ^2 = \\frac{1}\n",
        "{fan_{avg}}$\n",
        "\n",
        "Or a uniform distribution between −r and + r, with r = $ \\sqrt \\frac{3}\n",
        "{fan_{avg}}$\n",
        "\n",
        "\n",
        "\n",
        "If you replace $\\ fan_{avg}$ with $\\ fan_{in}$ in Equations above, you get an initialization strategy that\n",
        "Yann LeCun proposed in the 1990s. He called it ***LeCun initialization. Genevieve Orr***\n",
        "and Klaus-Robert Müller even recommended it in their 1998 book Neural Networks:\n",
        "Tricks of the Trade (Springer). ***LeCun initialization is equivalent to Glorot initialization***\n",
        "when $ \\ fan_{in} = fan_{out}$\n",
        "\n",
        "###Significance\n",
        "\n",
        " It took over a decade for researchers to realize how important\n",
        "this trick is. Using Glorot initialization can ***speed up training considerably***, and it is\n",
        "one of the tricks that led to the success of Deep Learning.\n"
      ],
      "metadata": {
        "id": "-lWw9SA6mCN5"
      }
    },
    {
      "cell_type": "markdown",
      "source": [
        "\n",
        "Some papers have provided similar ***strategies for different activation functions.***\n",
        "\n",
        "These strategies differ only by the scale of the variance and whether they use $ \\ fan_{avg} \\ $or $ \\ fan_{in} \\ $\n",
        " as shown in Table below (for the uniform distribution, just compute r = $\\sqrt {3σ^2}$).\n",
        "\n",
        "\n",
        "| Initialization| Activation    | normal $σ^2$     |$Uniform \\sqrt{3σ^2}$  |\n",
        "| :---          |      :----:   |             ---: |               ---: |\n",
        "| Glorot        | None,tanh,logistic,softmax | $\\frac{1}{fan_{avg}}$ |$\\sqrt{\\frac{3}{fan_{avg}}}$|   \n",
        "| He            | RELU         | $\\frac{2}{fan_{in}}$         | $\\sqrt{\\frac{6}{fan_{in}}}$                   |\n",
        "| Lecun         | SELU         | $\\frac{1}{fan_{in}}$         |  $\\sqrt{\\frac{3}{fan_{in}}}$                  |\n",
        "\n",
        "\n",
        "1. The initialization strategy for the ReLU activation function (and its variants, including\n",
        "the ELU activation described shortly) is sometimes called He initialization, after\n",
        "the paper’s first author. \n",
        "\n",
        "2. The SELU activation function will be explained later in this\n",
        "chapter. It should be used with LeCun initialization (preferably with a normal distribution,\n",
        "as we will see)."
      ],
      "metadata": {
        "id": "G_F93fhZqoqI"
      }
    },
    {
      "cell_type": "markdown",
      "source": [
        "## Different initialisers in keras"
      ],
      "metadata": {
        "id": "g-WTi5DEv7tD"
      }
    },
    {
      "cell_type": "code",
      "execution_count": null,
      "metadata": {
        "id": "9ycwKEvpgej9",
        "outputId": "bbd258dd-85dd-446a-a9f6-2c067b1a3d4e"
      },
      "outputs": [
        {
          "data": {
            "text/plain": [
              "['Constant',\n",
              " 'GlorotNormal',\n",
              " 'GlorotUniform',\n",
              " 'Identity',\n",
              " 'Initializer',\n",
              " 'Ones',\n",
              " 'Orthogonal',\n",
              " 'RandomNormal',\n",
              " 'RandomUniform',\n",
              " 'TruncatedNormal',\n",
              " 'VarianceScaling',\n",
              " 'Zeros',\n",
              " 'constant',\n",
              " 'deserialize',\n",
              " 'get',\n",
              " 'glorot_normal',\n",
              " 'glorot_uniform',\n",
              " 'he_normal',\n",
              " 'he_uniform',\n",
              " 'identity',\n",
              " 'lecun_normal',\n",
              " 'lecun_uniform',\n",
              " 'ones',\n",
              " 'orthogonal',\n",
              " 'serialize',\n",
              " 'zeros']"
            ]
          },
          "execution_count": 4,
          "metadata": {},
          "output_type": "execute_result"
        }
      ],
      "source": [
        "[name for name in dir(keras.initializers) if not name.startswith(\"_\")]"
      ]
    },
    {
      "cell_type": "markdown",
      "source": [
        "## Usage of initialiser in keras\n",
        "\n",
        "By ***default, Keras uses Glorot initialization with a uniform distribution. ***When creating\n",
        "a layer, you can change this to He initialization by setting kernel_initial\n",
        "izer=\"he_uniform\" or kernel_initializer=\"he_normal\" like this:"
      ],
      "metadata": {
        "id": "yyhQ4I21wHxe"
      }
    },
    {
      "cell_type": "code",
      "execution_count": null,
      "metadata": {
        "id": "A_Ed9Djngej-",
        "outputId": "d6b721f3-6039-49ed-f094-62cc0c70a385"
      },
      "outputs": [
        {
          "data": {
            "text/plain": [
              "<tensorflow.python.keras.layers.core.Dense at 0x7fc228455278>"
            ]
          },
          "execution_count": 5,
          "metadata": {},
          "output_type": "execute_result"
        }
      ],
      "source": [
        "keras.layers.Dense(10, activation=\"relu\", kernel_initializer=\"he_normal\")"
      ]
    },
    {
      "cell_type": "markdown",
      "source": [
        "##Change initialiser parameters\n",
        "\n",
        "If you want He initialization with a ***uniform distribution*** but based on $fan_{avg}$ rather\n",
        "than $fan_{in}$, you can use the VarianceScaling initializer like this:\n"
      ],
      "metadata": {
        "id": "X7qI9NVawTaJ"
      }
    },
    {
      "cell_type": "code",
      "execution_count": null,
      "metadata": {
        "id": "yvwS-Abygej_",
        "outputId": "bea31673-8af5-4abc-ae7f-4964cea3ce81"
      },
      "outputs": [
        {
          "data": {
            "text/plain": [
              "<tensorflow.python.keras.layers.core.Dense at 0x7fc25bba6e10>"
            ]
          },
          "execution_count": 6,
          "metadata": {},
          "output_type": "execute_result"
        }
      ],
      "source": [
        "init = keras.initializers.VarianceScaling(scale=2., mode='fan_avg',\n",
        "                                          distribution='uniform')\n",
        "keras.layers.Dense(10, activation=\"relu\", kernel_initializer=init)"
      ]
    },
    {
      "cell_type": "markdown",
      "metadata": {
        "id": "Ia2lEzP4gekA"
      },
      "source": [
        "## Nonsaturating Activation Functions"
      ]
    },
    {
      "cell_type": "markdown",
      "metadata": {
        "id": "Z59S2S3ZgekB"
      },
      "source": [
        "### Leaky ReLU"
      ]
    },
    {
      "cell_type": "code",
      "execution_count": null,
      "metadata": {
        "id": "nJe-zRSUgekC"
      },
      "outputs": [],
      "source": [
        "def leaky_relu(z, alpha=0.01):\n",
        "    return np.maximum(alpha*z, z)"
      ]
    },
    {
      "cell_type": "code",
      "execution_count": null,
      "metadata": {
        "id": "OjiWfnU2gekD",
        "outputId": "5a515646-0c5d-459b-f795-3a593c772dec",
        "colab": {
          "base_uri": "https://localhost:8080/",
          "height": 314
        }
      },
      "outputs": [
        {
          "output_type": "stream",
          "name": "stdout",
          "text": [
            "Saving figure leaky_relu_plot\n"
          ]
        },
        {
          "output_type": "display_data",
          "data": {
            "text/plain": [
              "<Figure size 792x288 with 2 Axes>"
            ],
            "image/png": "[encoded data removed]"
          },
          "metadata": {
            "needs_background": "light"
          }
        }
      ],
      "source": [
        "z = np.linspace(-5, 5, 200)\n",
        "\n",
        "plt.figure(figsize=(11,4))\n",
        "plt.subplot(121)\n",
        "\n",
        "plt.plot(z, leaky_relu(z, 0.05), \"b-\", linewidth=2)\n",
        "\n",
        "plt.plot([-5, 5], [0, 0], 'k-')\n",
        "plt.plot([0, 0], [-0.5, 4.2], 'k-')\n",
        "plt.grid(True)\n",
        "props = dict(facecolor='black', shrink=0.1)\n",
        "plt.annotate('Leak', xytext=(-3.5, 0.5), xy=(-5, -0.2), arrowprops=props, fontsize=14, ha=\"center\")\n",
        "plt.title(\"Leaky ReLU activation function\", fontsize=14)\n",
        "plt.axis([-5, 5, -0.5, 4.2])\n",
        "\n",
        "plt.subplot(122)\n",
        "\n",
        "\n",
        "plt.plot(z, derivative(leaky_relu, z), \"r-.\", linewidth=2, label=\"leaky_ReLU\")\n",
        "#plt.plot([-5, 5], [0, 0], 'k-')\n",
        "plt.plot([0, 0], [-0.5, 4.2], 'k-')\n",
        "plt.grid(True)\n",
        "props = dict(facecolor='black', shrink=0.1)\n",
        "\n",
        "plt.title(\"Leaky ReLU Derivative\", fontsize=14)\n",
        "plt.axis([-5, 5, -0.5, 4.2])\n",
        "\n",
        "\n",
        "save_fig(\"leaky_relu_plot\")\n",
        "plt.show()"
      ]
    },
    {
      "cell_type": "markdown",
      "source": [
        "1. ReLU activation function ***does not saturate***\n",
        "for positive values (and because it is fast to compute).\n",
        "\n",
        "2. ***Gradient*** of the ReLU function is ***zero when its input is negative***\n",
        "\n",
        "3.  Problem is ***dying ReLUs:*** during training, some neurons effectively “die,” meaning inputs are negative for all instances in the training set. When this happens, it just keeps outputting zeros, and Gradient Descent does not affect it anymore because the gradient of the ReLU function is zero when its input is negative\n",
        "\n",
        "4. ***To solve this problem,*** you may want to use a variant of the ReLU function, such as the ***leaky ReLU.***"
      ],
      "metadata": {
        "id": "aCivhkfUmgOK"
      }
    },
    {
      "cell_type": "markdown",
      "source": [
        " 1. This function is defined as ***LeakyReLUα(z) = max(αz, z)*** (see\n",
        "Figure above). The ***hyperparameter α defines how much the function “leaks”:*** it is the ***slope of the function for z < 0*** and is typically set to 0.01. This small slope ensures that ***leaky ReLUs never die;*** they can go into a long coma, but they have a chance to eventually wake up.\n",
        "\n",
        " 2. A 2015 paper5 compared several variants of the ReLU activation function,\n",
        "and one of its conclusions was that the ***leaky variants always outperformed the\n",
        "strict ReLU activation function.*** In fact, setting α = 0.2 (a huge leak) seemed to result in better performance than α = 0.01 (a small leak).\n",
        "\n",
        " 3. The paper also evaluated the ***randomized leaky ReLU (RReLU), where α is picked randomly*** in a given range during training and is fixed to an average value during testing. ***RReLU also performed fairly well*** and seemed to act as a regularizer (reducing the risk of overfitting the training set). \n",
        "\n",
        "4. Finally, the paper evaluated the *** parametric leaky ReLU (PReLU), where α is authorized to be learned during training*** (instead of being a hyperparameter, it becomes a parameter that can be modified by backpropagation like any other parameter). ***PReLU was reported to strongly outperform ReLU on large image datasets, but on smaller datasets it runs the risk of overfitting the training set.***"
      ],
      "metadata": {
        "id": "gNZaAyt2t4nJ"
      }
    },
    {
      "cell_type": "code",
      "execution_count": null,
      "metadata": {
        "id": "YS3bW84WgekE",
        "outputId": "dd1354cc-0873-4c9f-afe7-ecff87728e76"
      },
      "outputs": [
        {
          "data": {
            "text/plain": [
              "['deserialize',\n",
              " 'elu',\n",
              " 'exponential',\n",
              " 'get',\n",
              " 'hard_sigmoid',\n",
              " 'linear',\n",
              " 'relu',\n",
              " 'selu',\n",
              " 'serialize',\n",
              " 'sigmoid',\n",
              " 'softmax',\n",
              " 'softplus',\n",
              " 'softsign',\n",
              " 'tanh']"
            ]
          },
          "execution_count": 9,
          "metadata": {},
          "output_type": "execute_result"
        }
      ],
      "source": [
        "[m for m in dir(keras.activations) if not m.startswith(\"_\")]"
      ]
    },
    {
      "cell_type": "code",
      "execution_count": null,
      "metadata": {
        "id": "Ap-wVVycgekF",
        "outputId": "fedde499-5c9d-4fcf-f7cc-9ac9ee398239"
      },
      "outputs": [
        {
          "data": {
            "text/plain": [
              "['LeakyReLU', 'PReLU', 'ReLU', 'ThresholdedReLU']"
            ]
          },
          "execution_count": 10,
          "metadata": {},
          "output_type": "execute_result"
        }
      ],
      "source": [
        "[m for m in dir(keras.layers) if \"relu\" in m.lower()]"
      ]
    },
    {
      "cell_type": "markdown",
      "metadata": {
        "id": "OGTn8PyNgekG"
      },
      "source": [
        "Let's train a neural network on Fashion MNIST using the Leaky ReLU:"
      ]
    },
    {
      "cell_type": "code",
      "execution_count": null,
      "metadata": {
        "id": "Ess7RWligekG"
      },
      "outputs": [],
      "source": [
        "(X_train_full, y_train_full), (X_test, y_test) = keras.datasets.fashion_mnist.load_data()\n",
        "X_train_full = X_train_full / 255.0\n",
        "X_test = X_test / 255.0\n",
        "X_valid, X_train = X_train_full[:5000], X_train_full[5000:]\n",
        "y_valid, y_train = y_train_full[:5000], y_train_full[5000:]"
      ]
    },
    {
      "cell_type": "code",
      "execution_count": null,
      "metadata": {
        "id": "MjtYzoVGgekH"
      },
      "outputs": [],
      "source": [
        "tf.random.set_seed(42)\n",
        "np.random.seed(42)\n",
        "\n",
        "model = keras.models.Sequential([\n",
        "    keras.layers.Flatten(input_shape=[28, 28]),\n",
        "    keras.layers.Dense(300, kernel_initializer=\"he_normal\"),\n",
        "    keras.layers.LeakyReLU(),\n",
        "    keras.layers.Dense(100, kernel_initializer=\"he_normal\"),\n",
        "    keras.layers.LeakyReLU(),\n",
        "    keras.layers.Dense(10, activation=\"softmax\")\n",
        "])"
      ]
    },
    {
      "cell_type": "code",
      "execution_count": null,
      "metadata": {
        "id": "23W9J2w6gekI"
      },
      "outputs": [],
      "source": [
        "model.compile(loss=\"sparse_categorical_crossentropy\",\n",
        "              optimizer=keras.optimizers.SGD(lr=1e-3),\n",
        "              metrics=[\"accuracy\"])"
      ]
    },
    {
      "cell_type": "code",
      "execution_count": null,
      "metadata": {
        "scrolled": true,
        "id": "potG7S-qgekJ",
        "outputId": "8aec2374-f5f1-4785-ea90-4a467b1686d7"
      },
      "outputs": [
        {
          "name": "stdout",
          "output_type": "stream",
          "text": [
            "Train on 55000 samples, validate on 5000 samples\n",
            "Epoch 1/10\n",
            "55000/55000 [==============================] - 2s 41us/sample - loss: 1.2810 - accuracy: 0.6205 - val_loss: 0.8869 - val_accuracy: 0.7160\n",
            "Epoch 2/10\n",
            "55000/55000 [==============================] - 2s 38us/sample - loss: 0.7952 - accuracy: 0.7369 - val_loss: 0.7132 - val_accuracy: 0.7626\n",
            "Epoch 3/10\n",
            "55000/55000 [==============================] - 2s 37us/sample - loss: 0.6817 - accuracy: 0.7726 - val_loss: 0.6385 - val_accuracy: 0.7894\n",
            "Epoch 4/10\n",
            "55000/55000 [==============================] - 2s 37us/sample - loss: 0.6219 - accuracy: 0.7942 - val_loss: 0.5931 - val_accuracy: 0.8016\n",
            "Epoch 5/10\n",
            "55000/55000 [==============================] - 2s 38us/sample - loss: 0.5830 - accuracy: 0.8074 - val_loss: 0.5607 - val_accuracy: 0.8170\n",
            "Epoch 6/10\n",
            "55000/55000 [==============================] - 2s 38us/sample - loss: 0.5552 - accuracy: 0.8172 - val_loss: 0.5355 - val_accuracy: 0.8238\n",
            "Epoch 7/10\n",
            "55000/55000 [==============================] - 2s 40us/sample - loss: 0.5339 - accuracy: 0.8226 - val_loss: 0.5166 - val_accuracy: 0.8298\n",
            "Epoch 8/10\n",
            "55000/55000 [==============================] - 2s 43us/sample - loss: 0.5173 - accuracy: 0.8262 - val_loss: 0.5043 - val_accuracy: 0.8356\n",
            "Epoch 9/10\n",
            "55000/55000 [==============================] - 2s 38us/sample - loss: 0.5039 - accuracy: 0.8306 - val_loss: 0.4889 - val_accuracy: 0.8384\n",
            "Epoch 10/10\n",
            "55000/55000 [==============================] - 2s 38us/sample - loss: 0.4923 - accuracy: 0.8333 - val_loss: 0.4816 - val_accuracy: 0.8394\n"
          ]
        }
      ],
      "source": [
        "history = model.fit(X_train, y_train, epochs=10,\n",
        "                    validation_data=(X_valid, y_valid))"
      ]
    },
    {
      "cell_type": "markdown",
      "metadata": {
        "id": "XINAgp4FgekK"
      },
      "source": [
        "Now let's try PReLU:"
      ]
    },
    {
      "cell_type": "code",
      "execution_count": null,
      "metadata": {
        "id": "CukfCxZfgekK"
      },
      "outputs": [],
      "source": [
        "tf.random.set_seed(42)\n",
        "np.random.seed(42)\n",
        "\n",
        "model = keras.models.Sequential([\n",
        "    keras.layers.Flatten(input_shape=[28, 28]),\n",
        "    keras.layers.Dense(300, kernel_initializer=\"he_normal\"),\n",
        "    keras.layers.PReLU(),\n",
        "    keras.layers.Dense(100, kernel_initializer=\"he_normal\"),\n",
        "    keras.layers.PReLU(),\n",
        "    keras.layers.Dense(10, activation=\"softmax\")\n",
        "])"
      ]
    },
    {
      "cell_type": "code",
      "execution_count": null,
      "metadata": {
        "id": "8bBwlGVVgekL"
      },
      "outputs": [],
      "source": [
        "model.compile(loss=\"sparse_categorical_crossentropy\",\n",
        "              optimizer=keras.optimizers.SGD(lr=1e-3),\n",
        "              metrics=[\"accuracy\"])"
      ]
    },
    {
      "cell_type": "code",
      "execution_count": null,
      "metadata": {
        "id": "9Ze3oaN7gekM",
        "outputId": "004dbcc3-eb95-4c60-d240-38cde5cdf43c"
      },
      "outputs": [
        {
          "name": "stdout",
          "output_type": "stream",
          "text": [
            "Train on 55000 samples, validate on 5000 samples\n",
            "Epoch 1/10\n",
            "55000/55000 [==============================] - 3s 47us/sample - loss: 1.3452 - accuracy: 0.6203 - val_loss: 0.9241 - val_accuracy: 0.7170\n",
            "Epoch 2/10\n",
            "55000/55000 [==============================] - 2s 41us/sample - loss: 0.8196 - accuracy: 0.7364 - val_loss: 0.7314 - val_accuracy: 0.7600\n",
            "Epoch 3/10\n",
            "55000/55000 [==============================] - 2s 41us/sample - loss: 0.6970 - accuracy: 0.7701 - val_loss: 0.6517 - val_accuracy: 0.7880\n",
            "Epoch 4/10\n",
            "55000/55000 [==============================] - 2s 40us/sample - loss: 0.6333 - accuracy: 0.7914 - val_loss: 0.6032 - val_accuracy: 0.8050\n",
            "Epoch 5/10\n",
            "55000/55000 [==============================] - 2s 41us/sample - loss: 0.5916 - accuracy: 0.8049 - val_loss: 0.5689 - val_accuracy: 0.8162\n",
            "Epoch 6/10\n",
            "55000/55000 [==============================] - 2s 40us/sample - loss: 0.5619 - accuracy: 0.8143 - val_loss: 0.5416 - val_accuracy: 0.8222\n",
            "Epoch 7/10\n",
            "55000/55000 [==============================] - 2s 40us/sample - loss: 0.5391 - accuracy: 0.8208 - val_loss: 0.5213 - val_accuracy: 0.8300\n",
            "Epoch 8/10\n",
            "55000/55000 [==============================] - 2s 41us/sample - loss: 0.5214 - accuracy: 0.8258 - val_loss: 0.5075 - val_accuracy: 0.8348\n",
            "Epoch 9/10\n",
            "55000/55000 [==============================] - 2s 42us/sample - loss: 0.5070 - accuracy: 0.8287 - val_loss: 0.4917 - val_accuracy: 0.8380\n",
            "Epoch 10/10\n",
            "55000/55000 [==============================] - 2s 40us/sample - loss: 0.4946 - accuracy: 0.8322 - val_loss: 0.4839 - val_accuracy: 0.8378\n"
          ]
        }
      ],
      "source": [
        "history = model.fit(X_train, y_train, epochs=10,\n",
        "                    validation_data=(X_valid, y_valid))"
      ]
    },
    {
      "cell_type": "markdown",
      "metadata": {
        "id": "BDNhKZ0agekN"
      },
      "source": [
        "### ELU"
      ]
    },
    {
      "cell_type": "code",
      "execution_count": null,
      "metadata": {
        "id": "y96nzi_BgekN"
      },
      "outputs": [],
      "source": [
        "def elu(z, alpha=1):\n",
        "    return np.where(z < 0, alpha * (np.exp(z) - 1), z)"
      ]
    },
    {
      "cell_type": "code",
      "execution_count": null,
      "metadata": {
        "id": "9qRdGl3mgekO",
        "outputId": "35df3f76-d179-4912-9a91-85b84c443ba9",
        "colab": {
          "base_uri": "https://localhost:8080/",
          "height": 314
        }
      },
      "outputs": [
        {
          "output_type": "stream",
          "name": "stdout",
          "text": [
            "Saving figure elu_plot\n"
          ]
        },
        {
          "output_type": "display_data",
          "data": {
            "text/plain": [
              "<Figure size 432x288 with 1 Axes>"
            ],
            "image/png": "[encoded data removed]"
          },
          "metadata": {
            "needs_background": "light"
          }
        }
      ],
      "source": [
        "plt.plot(z, elu(z), \"b-\", linewidth=2)\n",
        "plt.plot(z, derivative(elu, z), \"r-.\", linewidth=2, label=\"eLU\")\n",
        "\n",
        "plt.plot([-5, 5], [0, 0], 'k-')\n",
        "plt.plot([-5, 5], [-1, -1], 'k--')\n",
        "plt.plot([0, 0], [-2.2, 3.2], 'k-')\n",
        "plt.grid(True)\n",
        "plt.title(r\"ELU activation function ($\\alpha=1$)\", fontsize=14)\n",
        "plt.axis([-5, 5, -2.2, 3.2])\n",
        "\n",
        "save_fig(\"elu_plot\")\n",
        "plt.show()"
      ]
    },
    {
      "cell_type": "markdown",
      "source": [
        "Last but not least, a 2015 paper by Djork-Arné Clevert et al.6 proposed a new activation function called the ***exponential linear unit (ELU)*** that outperformed all the ReLU variants in the authors’ experiments: ***training time was reduced, and the neural network performed better on the test set.*** \n",
        "\n",
        "Figure above graphs the function, and Equation below shows its definition.\n",
        "\n",
        "$ELU_α(z) =α (exp (z − 1)) \\ $ if z < 0 \n",
        "\n",
        "$ELU_α(z) =z \\$ if  z ≥ 0"
      ],
      "metadata": {
        "id": "4u0agMdkwuZY"
      }
    },
    {
      "cell_type": "markdown",
      "metadata": {
        "id": "fq92b1ERgekP"
      },
      "source": [
        "Implementing ELU in TensorFlow is trivial, just specify the activation function when building each layer:"
      ]
    },
    {
      "cell_type": "code",
      "execution_count": null,
      "metadata": {
        "id": "aIsqYZNCgekP",
        "outputId": "ef9bfb7c-a9d4-46c0-ce62-bd397006b0bc"
      },
      "outputs": [
        {
          "data": {
            "text/plain": [
              "<tensorflow.python.keras.layers.core.Dense at 0x7fc208500a90>"
            ]
          },
          "execution_count": 20,
          "metadata": {},
          "output_type": "execute_result"
        }
      ],
      "source": [
        "keras.layers.Dense(10, activation=\"elu\")"
      ]
    },
    {
      "cell_type": "markdown",
      "metadata": {
        "id": "4HjBt6w8gekQ"
      },
      "source": [
        "### SELU"
      ]
    },
    {
      "cell_type": "markdown",
      "metadata": {
        "id": "lAWokh-zgekR"
      },
      "source": [
        "This activation function was proposed in this [great paper](https://arxiv.org/pdf/1706.02515.pdf) by Günter Klambauer, Thomas Unterthiner and Andreas Mayr, published in June 2017. \n",
        "\n",
        "During training, a neural network composed exclusively of a stack of dense layers using the ***SELU activation function and LeCun initialization.***\n",
        "\n",
        "This  will self-normalize: ***the output of each layer will tend to preserve the same mean and variance during training, which solves the vanishing/exploding gradients problem.***\n",
        "\n",
        " As a result, this activation function ***outperforms the other activation functions*** very significantly for such neural nets, so you should really try it out.\n",
        "\n",
        "###Problems \n",
        "  Unfortunately, the ***self-normalizing property of the SELU activation function is easily broken:*** you cannot use ℓ<sub>1</sub> or ℓ<sub>2</sub> regularization, regular dropout, max-norm, skip connections or other non-sequential topologies (so recurrent neural networks won't self-normalize).\n",
        "  \n",
        "However, in practice it ***works quite well with sequential CNNs.***\n",
        "   \n",
        " If you break self-normalization, SELU will not necessarily outperform other activation functions.\n",
        "\n",
        "###Procedure For SELU\n",
        "1. The input features must be standardized (mean 0 and standard deviation 1).\n",
        "2. Every hidden layer’s weights must be initialized with LeCun normal initialization.\n",
        "In Keras, this means setting kernel_initializer=\"lecun_normal\".\n",
        "3. The network’s architecture must be sequential."
      ]
    },
    {
      "cell_type": "code",
      "execution_count": null,
      "metadata": {
        "id": "iyomuNGNgekR"
      },
      "outputs": [],
      "source": [
        "from scipy.special import erfc\n",
        "\n",
        "# alpha and scale to self normalize with mean 0 and standard deviation 1\n",
        "# (see equation 14 in the paper):\n",
        "alpha_0_1 = -np.sqrt(2 / np.pi) / (erfc(1/np.sqrt(2)) * np.exp(1/2) - 1)\n",
        "scale_0_1 = (1 - erfc(1 / np.sqrt(2)) * np.sqrt(np.e)) * np.sqrt(2 * np.pi) * (2 * erfc(np.sqrt(2))*np.e**2 + np.pi*erfc(1/np.sqrt(2))**2*np.e - 2*(2+np.pi)*erfc(1/np.sqrt(2))*np.sqrt(np.e)+np.pi+2)**(-1/2)"
      ]
    },
    {
      "cell_type": "code",
      "execution_count": null,
      "metadata": {
        "id": "sE1v6omIgekS"
      },
      "outputs": [],
      "source": [
        "def selu(z, scale=scale_0_1, alpha=alpha_0_1):\n",
        "    return scale * elu(z, alpha)"
      ]
    },
    {
      "cell_type": "code",
      "execution_count": null,
      "metadata": {
        "id": "kGAv72tLgekT",
        "outputId": "057f2718-c609-4078-c83a-ec5aa877e45b",
        "colab": {
          "base_uri": "https://localhost:8080/",
          "height": 314
        }
      },
      "outputs": [
        {
          "output_type": "stream",
          "name": "stdout",
          "text": [
            "Saving figure selu_plot\n"
          ]
        },
        {
          "output_type": "display_data",
          "data": {
            "text/plain": [
              "<Figure size 432x288 with 1 Axes>"
            ],
            "image/png": "[encoded data removed]"
          },
          "metadata": {
            "needs_background": "light"
          }
        }
      ],
      "source": [
        "plt.plot(z, selu(z), \"b-\", linewidth=2)\n",
        "plt.plot(z, derivative(selu, z), \"r-.\", linewidth=2, label=\"SeLU\")\n",
        "\n",
        "plt.plot([-5, 5], [0, 0], 'k-')\n",
        "plt.plot([-5, 5], [-1.758, -1.758], 'k--')\n",
        "plt.plot([0, 0], [-2.2, 3.2], 'k-')\n",
        "plt.grid(True)\n",
        "plt.title(\"SELU activation function\", fontsize=14)\n",
        "plt.axis([-5, 5, -2.2, 3.2])\n",
        "\n",
        "save_fig(\"selu_plot\")\n",
        "plt.show()"
      ]
    },
    {
      "cell_type": "markdown",
      "metadata": {
        "id": "LHXobkzDgekU"
      },
      "source": [
        "$SELU(z)=λz \\ $ if z>0\n",
        "\n",
        "$SELU(z)=λ(αe^z-α) \\ $ if z<0\n",
        "\n",
        "1. By default, the SELU hyperparameters (`scale` and `alpha`) are tuned in such a way that the mean output of each neuron remains close to 0, and the standard deviation remains close to 1 (assuming the inputs are standardized with mean 0 and standard deviation 1 too).\n",
        "2. Using this activation function, even a 1,000 layer deep neural network preserves roughly mean 0 and standard deviation 1 across all layers, avoiding the exploding/vanishing gradients problem:"
      ]
    },
    {
      "cell_type": "code",
      "execution_count": null,
      "metadata": {
        "id": "RaVmiPOygekU",
        "outputId": "93c30ef5-8bb9-499b-cdf6-1610017eba09"
      },
      "outputs": [
        {
          "name": "stdout",
          "output_type": "stream",
          "text": [
            "Layer 0: mean -0.00, std deviation 1.00\n",
            "Layer 100: mean 0.02, std deviation 0.96\n",
            "Layer 200: mean 0.01, std deviation 0.90\n",
            "Layer 300: mean -0.02, std deviation 0.92\n",
            "Layer 400: mean 0.05, std deviation 0.89\n",
            "Layer 500: mean 0.01, std deviation 0.93\n",
            "Layer 600: mean 0.02, std deviation 0.92\n",
            "Layer 700: mean -0.02, std deviation 0.90\n",
            "Layer 800: mean 0.05, std deviation 0.83\n",
            "Layer 900: mean 0.02, std deviation 1.00\n"
          ]
        }
      ],
      "source": [
        "np.random.seed(42)\n",
        "Z = np.random.normal(size=(500, 100)) # standardized inputs\n",
        "for layer in range(1000):\n",
        "    W = np.random.normal(size=(100, 100), scale=np.sqrt(1 / 100)) # LeCun initialization\n",
        "    Z = selu(np.dot(Z, W))\n",
        "    means = np.mean(Z, axis=0).mean()\n",
        "    stds = np.std(Z, axis=0).mean()\n",
        "    if layer % 100 == 0:\n",
        "        print(\"Layer {}: mean {:.2f}, std deviation {:.2f}\".format(layer, means, stds))"
      ]
    },
    {
      "cell_type": "markdown",
      "metadata": {
        "id": "GulSb2ydgekV"
      },
      "source": [
        "Using SELU is easy:"
      ]
    },
    {
      "cell_type": "code",
      "execution_count": null,
      "metadata": {
        "id": "14qDpX0RgekW",
        "outputId": "8a460e72-e914-4b48-95cf-54e145cb54dc"
      },
      "outputs": [
        {
          "data": {
            "text/plain": [
              "<tensorflow.python.keras.layers.core.Dense at 0x7fc228758668>"
            ]
          },
          "execution_count": 25,
          "metadata": {},
          "output_type": "execute_result"
        }
      ],
      "source": [
        "keras.layers.Dense(10, activation=\"selu\",\n",
        "                   kernel_initializer=\"lecun_normal\")"
      ]
    },
    {
      "cell_type": "markdown",
      "metadata": {
        "id": "h0_IVjkEgekW"
      },
      "source": [
        "Let's create a neural net for Fashion MNIST with 100 hidden layers, using the SELU activation function:"
      ]
    },
    {
      "cell_type": "code",
      "execution_count": null,
      "metadata": {
        "id": "g-8vaiGmgekX"
      },
      "outputs": [],
      "source": [
        "np.random.seed(42)\n",
        "tf.random.set_seed(42)"
      ]
    },
    {
      "cell_type": "code",
      "execution_count": null,
      "metadata": {
        "id": "TJ6MFKsagekY"
      },
      "outputs": [],
      "source": [
        "model = keras.models.Sequential()\n",
        "model.add(keras.layers.Flatten(input_shape=[28, 28]))\n",
        "model.add(keras.layers.Dense(300, activation=\"selu\",\n",
        "                             kernel_initializer=\"lecun_normal\"))\n",
        "for layer in range(99):\n",
        "    model.add(keras.layers.Dense(100, activation=\"selu\",\n",
        "                                 kernel_initializer=\"lecun_normal\"))\n",
        "model.add(keras.layers.Dense(10, activation=\"softmax\"))"
      ]
    },
    {
      "cell_type": "code",
      "execution_count": null,
      "metadata": {
        "id": "jHeGqQ1dgekY"
      },
      "outputs": [],
      "source": [
        "model.compile(loss=\"sparse_categorical_crossentropy\",\n",
        "              optimizer=keras.optimizers.SGD(lr=1e-3),\n",
        "              metrics=[\"accuracy\"])"
      ]
    },
    {
      "cell_type": "markdown",
      "metadata": {
        "id": "r70rveU2gekZ"
      },
      "source": [
        "Now let's train it. Do not forget to scale the inputs to mean 0 and standard deviation 1:"
      ]
    },
    {
      "cell_type": "code",
      "execution_count": null,
      "metadata": {
        "id": "NMEp-CUPgekZ"
      },
      "outputs": [],
      "source": [
        "pixel_means = X_train.mean(axis=0, keepdims=True)\n",
        "pixel_stds = X_train.std(axis=0, keepdims=True)\n",
        "X_train_scaled = (X_train - pixel_means) / pixel_stds\n",
        "X_valid_scaled = (X_valid - pixel_means) / pixel_stds\n",
        "X_test_scaled = (X_test - pixel_means) / pixel_stds"
      ]
    },
    {
      "cell_type": "code",
      "execution_count": null,
      "metadata": {
        "id": "90_aR2e_geka",
        "outputId": "71b4f6e9-7469-4f0a-a79b-c0417d446009"
      },
      "outputs": [
        {
          "name": "stdout",
          "output_type": "stream",
          "text": [
            "Train on 55000 samples, validate on 5000 samples\n",
            "Epoch 1/5\n",
            "55000/55000 [==============================] - 13s 238us/sample - loss: 1.1277 - accuracy: 0.5573 - val_loss: 0.8152 - val_accuracy: 0.6700\n",
            "Epoch 2/5\n",
            "55000/55000 [==============================] - 11s 198us/sample - loss: 0.6935 - accuracy: 0.7383 - val_loss: 0.5806 - val_accuracy: 0.7928\n",
            "Epoch 3/5\n",
            "55000/55000 [==============================] - 11s 196us/sample - loss: 0.5871 - accuracy: 0.7865 - val_loss: 0.6876 - val_accuracy: 0.7462\n",
            "Epoch 4/5\n",
            "55000/55000 [==============================] - 11s 199us/sample - loss: 0.5281 - accuracy: 0.8134 - val_loss: 0.5236 - val_accuracy: 0.8230\n",
            "Epoch 5/5\n",
            "55000/55000 [==============================] - 11s 201us/sample - loss: 0.4824 - accuracy: 0.8327 - val_loss: 0.5201 - val_accuracy: 0.8312\n"
          ]
        }
      ],
      "source": [
        "history = model.fit(X_train_scaled, y_train, epochs=5,\n",
        "                    validation_data=(X_valid_scaled, y_valid))"
      ]
    },
    {
      "cell_type": "markdown",
      "metadata": {
        "id": "c_bIgMz3geka"
      },
      "source": [
        "Now look at what happens if we try to use the ReLU activation function instead:"
      ]
    },
    {
      "cell_type": "code",
      "execution_count": null,
      "metadata": {
        "id": "yLOSuZxWgekb"
      },
      "outputs": [],
      "source": [
        "np.random.seed(42)\n",
        "tf.random.set_seed(42)"
      ]
    },
    {
      "cell_type": "code",
      "execution_count": null,
      "metadata": {
        "id": "X_wUYqCagekp"
      },
      "outputs": [],
      "source": [
        "model = keras.models.Sequential()\n",
        "model.add(keras.layers.Flatten(input_shape=[28, 28]))\n",
        "model.add(keras.layers.Dense(300, activation=\"relu\", kernel_initializer=\"he_normal\"))\n",
        "for layer in range(99):\n",
        "    model.add(keras.layers.Dense(100, activation=\"relu\", kernel_initializer=\"he_normal\"))\n",
        "model.add(keras.layers.Dense(10, activation=\"softmax\"))"
      ]
    },
    {
      "cell_type": "code",
      "execution_count": null,
      "metadata": {
        "id": "xJkxXTP-gekq"
      },
      "outputs": [],
      "source": [
        "model.compile(loss=\"sparse_categorical_crossentropy\",\n",
        "              optimizer=keras.optimizers.SGD(lr=1e-3),\n",
        "              metrics=[\"accuracy\"])"
      ]
    },
    {
      "cell_type": "code",
      "execution_count": null,
      "metadata": {
        "id": "jkLIutZPgekr",
        "outputId": "00b8afc7-2456-47a1-faa7-fcab4832f19e"
      },
      "outputs": [
        {
          "name": "stdout",
          "output_type": "stream",
          "text": [
            "Train on 55000 samples, validate on 5000 samples\n",
            "Epoch 1/5\n",
            "55000/55000 [==============================] - 12s 213us/sample - loss: 1.7518 - accuracy: 0.2797 - val_loss: 1.2328 - val_accuracy: 0.4720\n",
            "Epoch 2/5\n",
            "55000/55000 [==============================] - 10s 177us/sample - loss: 1.1922 - accuracy: 0.4982 - val_loss: 1.0247 - val_accuracy: 0.5354\n",
            "Epoch 3/5\n",
            "55000/55000 [==============================] - 10s 178us/sample - loss: 0.9390 - accuracy: 0.6180 - val_loss: 1.0809 - val_accuracy: 0.5118\n",
            "Epoch 4/5\n",
            "55000/55000 [==============================] - 10s 178us/sample - loss: 0.7787 - accuracy: 0.6937 - val_loss: 0.7067 - val_accuracy: 0.7344\n",
            "Epoch 5/5\n",
            "55000/55000 [==============================] - 10s 180us/sample - loss: 0.7465 - accuracy: 0.7122 - val_loss: 0.9720 - val_accuracy: 0.5702\n"
          ]
        }
      ],
      "source": [
        "history = model.fit(X_train_scaled, y_train, epochs=5,\n",
        "                    validation_data=(X_valid_scaled, y_valid))"
      ]
    },
    {
      "cell_type": "markdown",
      "metadata": {
        "id": "SDmJtblCgeks"
      },
      "source": [
        "Not great at all, we suffered from the vanishing/exploding gradients problem."
      ]
    },
    {
      "cell_type": "markdown",
      "source": [
        " ***which activation function should you use for the hidden layers\n",
        "of your deep neural networks? ***\n",
        "\n",
        "***In general SELU > ELU > leaky ReLU (and its variants) > ReLU > tanh> Sigmoid.***\n",
        "\n",
        "\n",
        " 1. If the ***network’s architecture prevents it from selfnormalizing,***\n",
        "then ELU may perform better than SELU (since SELU\n",
        "is not smooth at z = 0).\n",
        "\n",
        " 2. If you care a lot about ***runtime latency***, then\n",
        "you may prefer leaky ReLU. If you don’t want to tweak yet another\n",
        "hyperparameter, you may use the default α values used by Keras\n",
        "(e.g., 0.3 for leaky ReLU).\n",
        "\n",
        " 3. If you have ***spare time and computing power,*** you can use cross-validation to evaluate other activation functions, such as RReLU if your network is overfitting or PReLU if you have a huge training set.\n",
        "\n",
        " 4. That said, because ***ReLU is the most used activation function (by far),*** many libraries and hardware accelerators provide ReLU-specific optimizations; therefore, if speed is your priority, ReLU might still be the best choice."
      ],
      "metadata": {
        "id": "yHGpof3Y3nfV"
      }
    },
    {
      "cell_type": "markdown",
      "metadata": {
        "id": "2aLQ_BaXgekt"
      },
      "source": [
        "# Batch Normalization\n",
        "\n",
        "Link for visual understanding of batch Normalization\n",
        "\n",
        "https://towardsdatascience.com/batch-norm-explained-visually-how-it-works-and-why-neural-networks-need-it-b18919692739"
      ]
    },
    {
      "cell_type": "code",
      "execution_count": null,
      "metadata": {
        "id": "SVRjNiHVgeku"
      },
      "outputs": [],
      "source": [
        "model = keras.models.Sequential([\n",
        "    keras.layers.Flatten(input_shape=[28, 28]),\n",
        "    keras.layers.BatchNormalization(),\n",
        "    keras.layers.Dense(300, activation=\"relu\"),\n",
        "    keras.layers.BatchNormalization(),\n",
        "    keras.layers.Dense(100, activation=\"relu\"),\n",
        "    keras.layers.BatchNormalization(),\n",
        "    keras.layers.Dense(10, activation=\"softmax\")\n",
        "])"
      ]
    },
    {
      "cell_type": "code",
      "execution_count": null,
      "metadata": {
        "id": "SR2SJ5XQgekv",
        "outputId": "c69ea99b-7bf1-45ce-b104-aea69de6e1ea"
      },
      "outputs": [
        {
          "name": "stdout",
          "output_type": "stream",
          "text": [
            "Model: \"sequential_4\"\n",
            "_________________________________________________________________\n",
            "Layer (type)                 Output Shape              Param #   \n",
            "=================================================================\n",
            "flatten_4 (Flatten)          (None, 784)               0         \n",
            "_________________________________________________________________\n",
            "batch_normalization (BatchNo (None, 784)               3136      \n",
            "_________________________________________________________________\n",
            "dense_212 (Dense)            (None, 300)               235500    \n",
            "_________________________________________________________________\n",
            "batch_normalization_1 (Batch (None, 300)               1200      \n",
            "_________________________________________________________________\n",
            "dense_213 (Dense)            (None, 100)               30100     \n",
            "_________________________________________________________________\n",
            "batch_normalization_2 (Batch (None, 100)               400       \n",
            "_________________________________________________________________\n",
            "dense_214 (Dense)            (None, 10)                1010      \n",
            "=================================================================\n",
            "Total params: 271,346\n",
            "Trainable params: 268,978\n",
            "Non-trainable params: 2,368\n",
            "_________________________________________________________________\n"
          ]
        }
      ],
      "source": [
        "model.summary()"
      ]
    },
    {
      "cell_type": "code",
      "execution_count": null,
      "metadata": {
        "id": "jk8fqbTOgekw",
        "outputId": "45655a20-fe45-4a33-f628-8302e824fa84"
      },
      "outputs": [
        {
          "data": {
            "text/plain": [
              "[('batch_normalization/gamma:0', True),\n",
              " ('batch_normalization/beta:0', True),\n",
              " ('batch_normalization/moving_mean:0', False),\n",
              " ('batch_normalization/moving_variance:0', False)]"
            ]
          },
          "execution_count": 37,
          "metadata": {},
          "output_type": "execute_result"
        }
      ],
      "source": [
        "bn1 = model.layers[1]\n",
        "[(var.name, var.trainable) for var in bn1.variables]"
      ]
    },
    {
      "cell_type": "code",
      "execution_count": null,
      "metadata": {
        "id": "gl0pKltqgekx",
        "outputId": "18774a84-5c45-4012-865f-570ac3b9442f"
      },
      "outputs": [
        {
          "data": {
            "text/plain": [
              "[<tf.Operation 'cond/Identity' type=Identity>,\n",
              " <tf.Operation 'cond_1/Identity' type=Identity>]"
            ]
          },
          "execution_count": 38,
          "metadata": {},
          "output_type": "execute_result"
        }
      ],
      "source": [
        "bn1.updates"
      ]
    },
    {
      "cell_type": "code",
      "execution_count": null,
      "metadata": {
        "id": "xwMuNXtNgeky"
      },
      "outputs": [],
      "source": [
        "model.compile(loss=\"sparse_categorical_crossentropy\",\n",
        "              optimizer=keras.optimizers.SGD(lr=1e-3),\n",
        "              metrics=[\"accuracy\"])"
      ]
    },
    {
      "cell_type": "code",
      "execution_count": null,
      "metadata": {
        "id": "k7LpwxVlgeky",
        "outputId": "0c94025c-f24c-4eca-9ce9-537d71db52ba"
      },
      "outputs": [
        {
          "name": "stdout",
          "output_type": "stream",
          "text": [
            "Train on 55000 samples, validate on 5000 samples\n",
            "Epoch 1/10\n",
            "55000/55000 [==============================] - 3s 63us/sample - loss: 0.8760 - accuracy: 0.7122 - val_loss: 0.5509 - val_accuracy: 0.8224\n",
            "Epoch 2/10\n",
            "55000/55000 [==============================] - 3s 54us/sample - loss: 0.5737 - accuracy: 0.8039 - val_loss: 0.4723 - val_accuracy: 0.8460\n",
            "Epoch 3/10\n",
            "55000/55000 [==============================] - 3s 54us/sample - loss: 0.5143 - accuracy: 0.8231 - val_loss: 0.4376 - val_accuracy: 0.8570\n",
            "Epoch 4/10\n",
            "55000/55000 [==============================] - 3s 55us/sample - loss: 0.4826 - accuracy: 0.8333 - val_loss: 0.4135 - val_accuracy: 0.8638\n",
            "Epoch 5/10\n",
            "55000/55000 [==============================] - 3s 54us/sample - loss: 0.4571 - accuracy: 0.8415 - val_loss: 0.3990 - val_accuracy: 0.8654\n",
            "Epoch 6/10\n",
            "55000/55000 [==============================] - 3s 53us/sample - loss: 0.4432 - accuracy: 0.8456 - val_loss: 0.3870 - val_accuracy: 0.8710\n",
            "Epoch 7/10\n",
            "55000/55000 [==============================] - 3s 56us/sample - loss: 0.4255 - accuracy: 0.8515 - val_loss: 0.3782 - val_accuracy: 0.8698\n",
            "Epoch 8/10\n",
            "55000/55000 [==============================] - 3s 54us/sample - loss: 0.4150 - accuracy: 0.8536 - val_loss: 0.3708 - val_accuracy: 0.8758\n",
            "Epoch 9/10\n",
            "55000/55000 [==============================] - 3s 54us/sample - loss: 0.4016 - accuracy: 0.8596 - val_loss: 0.3634 - val_accuracy: 0.8750\n",
            "Epoch 10/10\n",
            "55000/55000 [==============================] - 3s 55us/sample - loss: 0.3915 - accuracy: 0.8629 - val_loss: 0.3601 - val_accuracy: 0.8758\n"
          ]
        }
      ],
      "source": [
        "history = model.fit(X_train, y_train, epochs=10,\n",
        "                    validation_data=(X_valid, y_valid))"
      ]
    },
    {
      "cell_type": "markdown",
      "metadata": {
        "id": "aExR50Ragekz"
      },
      "source": [
        "Sometimes applying BN before the activation function works better (there's a debate on this topic). Moreover, the layer before a `BatchNormalization` layer does not need to have bias terms, since the `BatchNormalization` layer some as well, it would be a waste of parameters, so you can set `use_bias=False` when creating those layers:"
      ]
    },
    {
      "cell_type": "code",
      "execution_count": null,
      "metadata": {
        "id": "AaG5Xx1qgek0"
      },
      "outputs": [],
      "source": [
        "model = keras.models.Sequential([\n",
        "    keras.layers.Flatten(input_shape=[28, 28]),\n",
        "    keras.layers.BatchNormalization(),\n",
        "    keras.layers.Dense(300, use_bias=False),\n",
        "    keras.layers.BatchNormalization(),\n",
        "    keras.layers.Activation(\"relu\"),\n",
        "    keras.layers.Dense(100, use_bias=False),\n",
        "    keras.layers.BatchNormalization(),\n",
        "    keras.layers.Activation(\"relu\"),\n",
        "    keras.layers.Dense(10, activation=\"softmax\")\n",
        "])"
      ]
    },
    {
      "cell_type": "code",
      "execution_count": null,
      "metadata": {
        "id": "q17TCwu1gek0"
      },
      "outputs": [],
      "source": [
        "model.compile(loss=\"sparse_categorical_crossentropy\",\n",
        "              optimizer=keras.optimizers.SGD(lr=1e-3),\n",
        "              metrics=[\"accuracy\"])"
      ]
    },
    {
      "cell_type": "code",
      "execution_count": null,
      "metadata": {
        "id": "Yc5nlp6Ugek1",
        "outputId": "6101cc9d-20aa-4211-c57c-d616e337acb2"
      },
      "outputs": [
        {
          "name": "stdout",
          "output_type": "stream",
          "text": [
            "Train on 55000 samples, validate on 5000 samples\n",
            "Epoch 1/10\n",
            "55000/55000 [==============================] - 4s 64us/sample - loss: 0.8656 - accuracy: 0.7094 - val_loss: 0.5650 - val_accuracy: 0.8098\n",
            "Epoch 2/10\n",
            "55000/55000 [==============================] - 3s 55us/sample - loss: 0.5766 - accuracy: 0.8018 - val_loss: 0.4834 - val_accuracy: 0.8358\n",
            "Epoch 3/10\n",
            "55000/55000 [==============================] - 3s 55us/sample - loss: 0.5184 - accuracy: 0.8216 - val_loss: 0.4461 - val_accuracy: 0.8470\n",
            "Epoch 4/10\n",
            "55000/55000 [==============================] - 3s 55us/sample - loss: 0.4852 - accuracy: 0.8314 - val_loss: 0.4226 - val_accuracy: 0.8558\n",
            "Epoch 5/10\n",
            "55000/55000 [==============================] - 3s 54us/sample - loss: 0.4579 - accuracy: 0.8399 - val_loss: 0.4086 - val_accuracy: 0.8604\n",
            "Epoch 6/10\n",
            "55000/55000 [==============================] - 3s 55us/sample - loss: 0.4406 - accuracy: 0.8457 - val_loss: 0.3974 - val_accuracy: 0.8640\n",
            "Epoch 7/10\n",
            "55000/55000 [==============================] - 3s 55us/sample - loss: 0.4263 - accuracy: 0.8498 - val_loss: 0.3883 - val_accuracy: 0.8676\n",
            "Epoch 8/10\n",
            "55000/55000 [==============================] - 3s 55us/sample - loss: 0.4152 - accuracy: 0.8530 - val_loss: 0.3803 - val_accuracy: 0.8682\n",
            "Epoch 9/10\n",
            "55000/55000 [==============================] - 3s 55us/sample - loss: 0.4032 - accuracy: 0.8564 - val_loss: 0.3738 - val_accuracy: 0.8718\n",
            "Epoch 10/10\n",
            "55000/55000 [==============================] - 3s 55us/sample - loss: 0.3937 - accuracy: 0.8623 - val_loss: 0.3690 - val_accuracy: 0.8732\n"
          ]
        }
      ],
      "source": [
        "history = model.fit(X_train, y_train, epochs=10,\n",
        "                    validation_data=(X_valid, y_valid))"
      ]
    },
    {
      "cell_type": "markdown",
      "metadata": {
        "id": "hszPZNSWgek2"
      },
      "source": [
        "## Gradient Clipping"
      ]
    },
    {
      "cell_type": "markdown",
      "source": [
        "Another popular technique to mitigate the exploding gradients problem is to ***clip the\n",
        "gradients during backpropagation*** so that they never exceed some threshold. This is\n",
        "called Gradient Clipping. This technique is most often used in recurrent neural networks,\n",
        "as ***Batch Normalization is tricky to use in RNNs***, as we will see in Chapter 15.\n",
        "For other types of networks, BN is usually sufficient.\n",
        "\n"
      ],
      "metadata": {
        "id": "3TkHgn_HW_YY"
      }
    },
    {
      "cell_type": "markdown",
      "source": [
        "This optimizer will ***clip every component of the gradient vector to a value*** between ***–1.0 and 1.0.*** This means that all the partial derivatives of the loss (with regard to each and every trainable parameter) will be clipped between –1.0 and 1.0.\n",
        "\n",
        " The threshold is a hyperparameter you can tune. Note that it may ***change the orientation of the gradient vector.*** For instance, if the original gradient vector is [0.9, 100.0], it points mostly in the direction of the second axis; but once you clip it by value, you get [0.9, 1.0], which points roughly in the diagonal between the two axes. In practice, this approach works well. \n",
        "\n",
        "If you want to ensure that Gradient Clipping does not change the direction\n",
        "of the gradient vector, you should ***clip by norm*** by setting clipnorm instead of clipvalue. This will clip the whole gradient if its *** ℓ2 norm is greater than the threshold you picked.*** For example, if you set clipnorm=1.0, then the vector [0.9, 100.0] will be clipped to [0.00899964, 0.9999595], preserving its orientation but almost eliminating the first component.\n",
        "\n",
        " If you observe that the gradients explode during training (you can track the size of the gradients using TensorBoard), ***you may want to try both clipping by value and clipping by norm, with different thresholds, and see which option performs best on the validation set.*** "
      ],
      "metadata": {
        "id": "JXYUUDiIXPF3"
      }
    },
    {
      "cell_type": "markdown",
      "metadata": {
        "id": "0_-OEzKrgek2"
      },
      "source": [
        "All Keras optimizers accept `clipnorm` or `clipvalue` arguments:"
      ]
    },
    {
      "cell_type": "code",
      "execution_count": null,
      "metadata": {
        "id": "DxU1ki0Dgek3"
      },
      "outputs": [],
      "source": [
        "optimizer = keras.optimizers.SGD(clipvalue=1.0)"
      ]
    },
    {
      "cell_type": "code",
      "execution_count": null,
      "metadata": {
        "id": "6rQsmw0Tgek4"
      },
      "outputs": [],
      "source": [
        "optimizer = keras.optimizers.SGD(clipnorm=1.0)"
      ]
    }
  ],
  "metadata": {
    "kernelspec": {
      "display_name": "Python 3",
      "language": "python",
      "name": "python3"
    },
    "language_info": {
      "codemirror_mode": {
        "name": "ipython",
        "version": 3
      },
      "file_extension": ".py",
      "mimetype": "text/x-python",
      "name": "python",
      "nbconvert_exporter": "python",
      "pygments_lexer": "ipython3",
      "version": "3.7.3"
    },
    "nav_menu": {
      "height": "360px",
      "width": "416px"
    },
    "toc": {
      "navigate_menu": true,
      "number_sections": true,
      "sideBar": true,
      "threshold": 6,
      "toc_cell": false,
      "toc_section_display": "block",
      "toc_window_display": false
    },
    "colab": {
      "provenance": [],
      "collapsed_sections": [
        "BDNhKZ0agekN",
        "4HjBt6w8gekQ",
        "hszPZNSWgek2",
        "fGrV5Gl_gek4",
        "eDvq_OYogek5",
        "pGGMvDqdgelF",
        "FUH1xtdJgelG",
        "6j9oe-nSgelH",
        "VuKYE4DsgelI",
        "_g0vnEhhgelI",
        "dhD9qFlmgelJ",
        "jBd_8RLvgelK",
        "LWqTmg0mgelL",
        "29YveTSVgelL",
        "3wn8hn5EgelN",
        "b63bmNl0gelV",
        "zaoBJRXIgelZ",
        "sVEBwFbRgelb",
        "-OTCT-V5gele",
        "6op3Pprigelh",
        "8hHs1VUEgeli",
        "Ln-UZjSmgelj",
        "fTUcMXlggelm",
        "sV6LNFsNgelt",
        "bYitULAAgelu",
        "t93Bvp4-gelv",
        "JKnzA-sugelv",
        "90nJkbNNgelw",
        "0qbfKNgYgel3",
        "pd7-SCVygel4",
        "u87l_WzCgel6",
        "bVE-utxogel-"
      ]
    }
  },
  "nbformat": 4,
  "nbformat_minor": 0
}