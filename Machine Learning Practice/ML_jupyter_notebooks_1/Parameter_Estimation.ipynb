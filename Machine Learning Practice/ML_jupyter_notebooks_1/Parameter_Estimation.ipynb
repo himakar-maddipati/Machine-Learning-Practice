{
  "nbformat": 4,
  "nbformat_minor": 0,
  "metadata": {
    "colab": {
      "provenance": []
    },
    "kernelspec": {
      "name": "python3",
      "display_name": "Python 3"
    },
    "language_info": {
      "name": "python"
    }
  },
  "cells": [
    {
      "cell_type": "markdown",
      "source": [
        "\n",
        "\n",
        "## 1.Represent Mean Vector for Multivariate Data(Distibution)\n",
        "\n",
        "**E[X]=μ=$[μ_1,...,\\mu_d]^T$**\n",
        "\n",
        "where each element of matrix represents mean of column"
      ],
      "metadata": {
        "id": "st9z21FO2X44"
      }
    },
    {
      "cell_type": "code",
      "source": [
        "import numpy as np\n",
        "\n",
        "arr = np.array([[2,3,4],\n",
        "                [3,6,7],\n",
        "                [5,7,8]])\n",
        "a= np.average(arr,axis=0)\n",
        "# axis =0 for columnwise mean \n",
        "#axis=1 for row wise mean\n",
        "print(a)\n"
      ],
      "metadata": {
        "colab": {
          "base_uri": "https://localhost:8080/"
        },
        "id": "0-02V_ID4VtR",
        "outputId": "9cd62308-954c-49d2-ec88-88a97f57a478"
      },
      "execution_count": null,
      "outputs": [
        {
          "output_type": "stream",
          "name": "stdout",
          "text": [
            "[3.33333333 5.33333333 6.33333333]\n"
          ]
        }
      ]
    },
    {
      "cell_type": "markdown",
      "source": [
        "## 2.Variance for variable\n",
        "\n",
        "variance of $X_i=σ_i$"
      ],
      "metadata": {
        "id": "SmvPu1mf6SZM"
      }
    },
    {
      "cell_type": "markdown",
      "source": [
        "## 3.Formula for Correlation of Two variable\n",
        "\n",
        "$σ_{ij}\\equiv Cov(X_i,X_j)=E[(X_i-μ_i)(X_j-μ_j)] =E(X_iX_j)-E(X_i)μ_j-μ_iE(X_j)+μ_iμ_j=E[X_iX_j]-\\mu_i\\mu_j ....(1)$\n",
        "\n",
        "we know that\n",
        "\n",
        "$E(X_i)=\\mu_i$\n",
        "\n",
        "$E(X_j)=\\mu_j$\n",
        "\n",
        "substitute above two  in equation (1)\n",
        "\n",
        "$σ_{ij}\\equiv Cov(X_i,X_j)=E[(X_i-μ_i)(X_j-μ_j)] =E(X_iX_j)-μ_i μ_j-μ_iμ_j+μ_iμ_j=E[X_iX_j]-\\mu_i\\mu_j ....(2)$\n"
      ],
      "metadata": {
        "id": "LzTp0WcM4rqk"
      }
    },
    {
      "cell_type": "code",
      "source": [
        "arr = np.array([[2,3],\n",
        "                [3,6],[8,2]])\n",
        "print(arr.shape)\n",
        "a=np.cov(arr,rowvar=0)\n",
        "#rowvar=1 means each row is variable\n",
        "#rowvar=o means each column is variable\n",
        "\n",
        "print(a)\n"
      ],
      "metadata": {
        "colab": {
          "base_uri": "https://localhost:8080/"
        },
        "id": "K2ZajrrAK8Q_",
        "outputId": "70aa4d63-5366-4348-fd43-259f101072da"
      },
      "execution_count": null,
      "outputs": [
        {
          "output_type": "stream",
          "name": "stdout",
          "text": [
            "(3, 2)\n",
            "[[10.33333333 -3.83333333]\n",
            " [-3.83333333  4.33333333]]\n"
          ]
        }
      ]
    },
    {
      "cell_type": "markdown",
      "source": [
        "## 4.Covariance Matrix\n",
        "\t\n",
        "$Σ=\\begin{bmatrix} \n",
        "\tσ^2_1 & σ_{12} &...& σ_{1d} \\\\\n",
        "\tσ_{21} & σ^2_2 &...& σ_{2d}\\\\\n",
        "  : \\\\\n",
        "\tσ_{d1} & σ_{d2} &...& σ^2_d \\\\\n",
        "  \\end{bmatrix}$\n",
        "\t\n",
        "\t\n"
      ],
      "metadata": {
        "id": "Z5lXgEWdP2lP"
      }
    },
    {
      "cell_type": "markdown",
      "source": [
        "## 5.Properties of Covariance Matrix\n",
        "\n",
        "In terms of variables d\n",
        "\n",
        "SIZE OF Covariance Matrix=_________\n",
        "\n",
        "no of variances=_________________\n",
        "\n",
        "no of covriances=_______________\n",
        "\n",
        "what are diagonal elements of Covariance Matrix=______________\n",
        "\n",
        "what are off diagonal elements of Covariance Matrix=___________\n",
        "\n",
        "Is covariance Matrix symmetric?\n",
        "\n",
        "If covariance is positive the variables are=__________\n",
        "\n",
        "If covariance is negative the variables are=__________\n"
      ],
      "metadata": {
        "id": "lYSFvpzHTNrD"
      }
    },
    {
      "cell_type": "markdown",
      "source": [
        "\n",
        "## 6.Vector-matrix notation  for Correlation Matrix\n",
        "\n",
        "$Σ\\equiv Cov(X)=E[(X-μ)(X-μ)^T] =E[XX^T]-\\mu\\mu^T $\n",
        "\n"
      ],
      "metadata": {
        "id": "1-za4r_2Uko9"
      }
    },
    {
      "cell_type": "markdown",
      "source": [
        "## 7.Correlation\n",
        "\n",
        "\n",
        "$\\boldsymbol Corr(X_i,X_j)≡ρ_{ij}=\\frac{σ_{ij}}{σ_iσ_j}$\n",
        "\n",
        "**The correlation between variables $X_i$ and $X_j $is a statistic normalized between\n",
        "−1 and +1**\n",
        "\n",
        "If the two variables are independent their variance and correlation is zero"
      ],
      "metadata": {
        "id": "MRrCUliCet9V"
      }
    },
    {
      "cell_type": "markdown",
      "source": [
        "## 8.Examples of different correlations\n",
        "\n",
        "**positive correlation**\n",
        "\n",
        "$Σ=\n",
        "\\begin{bmatrix} \n",
        "\t10 & 1 \\\\\n",
        "\t1 & 6\\\\\n",
        "\\end{bmatrix}$\n",
        "\n",
        "**negative correlation**\n",
        "\n",
        "$Σ=\n",
        "\\begin{bmatrix} \n",
        "\t10 & -1 \\\\\n",
        "\t-1 & 6\\\\\n",
        "\\end{bmatrix}$\n",
        "\n",
        "**zero correlation**\n",
        "\n",
        "$Σ=\n",
        "\\begin{bmatrix} \n",
        "\t10 & 0 \\\\\n",
        "\t0 & 6\\\\\n",
        "\\end{bmatrix}$\n",
        "\n"
      ],
      "metadata": {
        "id": "9M5yaLf9hpvW"
      }
    },
    {
      "cell_type": "markdown",
      "source": [
        "## 9.Multivariate Sample Mean\n",
        "\n",
        "Sample Mean\n",
        "\n",
        "**m**=**$\\frac{Σ^N_{t=1}X^t}{N}$**\n",
        "\n",
        "sample column Mean\n",
        "\n",
        "$m_i$=**$\\frac{Σ^N_{t=1}X^t_i}{N}$**,i=1....d"
      ],
      "metadata": {
        "id": "O7d4U9K7i--3"
      }
    },
    {
      "cell_type": "markdown",
      "source": [
        "## 10.Sample Covariance\n",
        "\n",
        "Sample CoVariance Matrix= **$S$**\n",
        "\n",
        "Sample Variance\n",
        "\n",
        "**$S^2_i$**=**$\\frac{Σ^N_{t=1}(x^t_i-m_i)^2}{N}$**\n",
        "\n",
        "sample CoVariance\n",
        "\n",
        "**$S^2_i$**=**$\\frac{Σ^N_{t=1}(x^t_i-m_i)(x^t_j-m_j)}{N}$**\n",
        "\n",
        "\n",
        "Both Variance and Covariance can be divided by N-1\n"
      ],
      "metadata": {
        "id": "W99pYTRTkdvg"
      }
    },
    {
      "cell_type": "markdown",
      "source": [
        "## 11.Sample Correlation\n",
        "\n",
        "**$r_{ij}=\\frac{s_{ij}}{σ_iσ_j}$**\n",
        "\n",
        "Sample correlation Matrix is **R**"
      ],
      "metadata": {
        "id": "ZUvMMBb2klIo"
      }
    },
    {
      "cell_type": "markdown",
      "source": [
        "## 12.Identify N and d from Matrix\n",
        "\n",
        "$X=\n",
        "\\begin{bmatrix} \n",
        "\t10 & 1 &3 \\\\\n",
        "\t1 & 6 &2\\\\\n",
        "  7 & 8 &9\\\\\n",
        "\\end{bmatrix}$\n",
        "\n",
        "d=_____________\n",
        "\n",
        "N=__________\n",
        "\n",
        "for usage in above sample mean,variance,correlation formulae\n"
      ],
      "metadata": {
        "id": "NAShtDV-nYzy"
      }
    },
    {
      "cell_type": "markdown",
      "source": [
        "## 5.3 Estimation of Missing Values\n",
        "\n",
        "What is Imputation?\n",
        "\n",
        "Filling of  Missing Data by Estimating  \n",
        "\n",
        "Types of Imputation\n",
        "\n",
        "1.Mean Imputation\n",
        "\n",
        "2.Regression Imputation"
      ],
      "metadata": {
        "id": "Hq47Tu530inp"
      }
    },
    {
      "cell_type": "markdown",
      "source": [
        "## Mean Imputation\n",
        "\n",
        "Numeric Data: missing values are replaced with mean\n",
        "Discrete Data:missing data filled with most repeated value"
      ],
      "metadata": {
        "id": "TOTSORZc17_N"
      }
    },
    {
      "cell_type": "markdown",
      "source": [
        "## Regression Imputation\n",
        "\n",
        "Missing values are estimated by regression or classification"
      ],
      "metadata": {
        "id": "PL3PiKoQ2csk"
      }
    },
    {
      "cell_type": "markdown",
      "source": [
        "## Scikit learn Imputation\n",
        "\n",
        "https://scikit-learn.org/stable/modules/impute.html"
      ],
      "metadata": {
        "id": "5xkpl4QN3L_z"
      }
    }
  ]
}