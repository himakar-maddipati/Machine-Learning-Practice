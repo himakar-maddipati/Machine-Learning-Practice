{
  "nbformat": 4,
  "nbformat_minor": 0,
  "metadata": {
    "colab": {
      "provenance": []
    },
    "kernelspec": {
      "name": "python3",
      "display_name": "Python 3"
    },
    "language_info": {
      "name": "python"
    }
  },
  "cells": [
    {
      "cell_type": "markdown",
      "source": [
        "#  Discrete Features"
      ],
      "metadata": {
        "id": "OsYa6TNZfuV2"
      }
    },
    {
      "cell_type": "markdown",
      "source": [
        "## 1.Training data\n",
        "\n",
        "There are six sports documents\n",
        "\n",
        "there are five news documents"
      ],
      "metadata": {
        "id": "GP2VqCWtn5cs"
      }
    },
    {
      "cell_type": "markdown",
      "source": [
        "## 2.Create Vocabulary(bag of words)\n",
        "\n",
        "From the **training data create vocabulary array** consisting of unique words common to sports and news documents\n",
        "\n",
        "(while creating vocabulary donot consider words like :a,an,the,is...etc)\n",
        "\n",
        "$ V=\n",
        "\\begin{bmatrix}\n",
        " defence,drink,field,goal,performance,speed,tutor,variance\\\\ \n",
        "  \\end{bmatrix}$\n",
        "\n",
        "Mathematically we can write as:\n",
        "\n",
        "$ V=\n",
        "\\begin{bmatrix}\n",
        " x_1,x_2,x_3,x_4,x_5,x_6,x_7,x_8\\\\ \n",
        "  \\end{bmatrix}$\n"
      ],
      "metadata": {
        "id": "oSZY1lSMmvLI"
      }
    },
    {
      "cell_type": "markdown",
      "source": [
        "## 3. Represent vocabulary elements in the six sports documents as an  array\n",
        "\n",
        "$ C^{sports}=\n",
        "\\begin{bmatrix}\n",
        " 1&0&0&0&1&1&1&1\\\\ \n",
        " 0&0&1&0&1&1&0&0\\\\\n",
        " 0&1&0&1&0&1&1&0\\\\ \n",
        " 1&0&0&1&0&1&0&1\\\\\n",
        " 1&0&0&0&1&0&1&1\\\\ \n",
        " 0&0&1&1&0&0&1&1\\\\\n",
        " \\end{bmatrix}$\n",
        "\n",
        " Here each row represents vocabulary present in one sports document \n",
        "\n",
        " **Explanation for first row:**\n",
        "\n",
        " Vocabulary is:\n",
        "\n",
        " $       V=\n",
        "\\begin{bmatrix}\n",
        " defence,drink,field,goal,performance,speed,tutor,variance\\\\ \n",
        "  \\end{bmatrix}$\n",
        "\n",
        "$ C^{sports}[0]=\n",
        "\\begin{bmatrix}\n",
        " 1&0&0&0&1&1&1&1\\\\ \n",
        "  \\end{bmatrix}$\n",
        "\n",
        "  first sports document has unique words :\n",
        "  **defence,perormance,speed,tutor,variance**\n",
        "\n",
        "  identify unique words in sixth sports document____________\n",
        "\n"
      ],
      "metadata": {
        "id": "_LRHqYM5o3kp"
      }
    },
    {
      "cell_type": "markdown",
      "source": [
        "## 4.Represent vocabulary elements in the Five News documents as an  array\n",
        "\n",
        "$ C^{news}=\n",
        "\\begin{bmatrix}\n",
        " 0&1&1&0&0&0&1&0\\\\ \n",
        " 1&1&0&1&0&0&1&1\\\\\n",
        " 0&1&1&0&0&1&0&0\\\\ \n",
        " 0&0&0&0&0&0&0&0\\\\\n",
        " 0&0&1&0&1&0&1&0\\\\ \n",
        "  \\end{bmatrix}$\n",
        "\n",
        " Here each row represents unique vocabulary present in one news document \n",
        "\n",
        " **Explanation for first row:**\n",
        "\n",
        " Vocabulary is:\n",
        "\n",
        " $       V=\n",
        "\\begin{bmatrix}\n",
        " defence,drink,field,goal,performance,speed,tutor,variance\\\\ \n",
        "  \\end{bmatrix}$\n",
        "\n",
        "$ C^{news}[0]=\n",
        "\\begin{bmatrix}\n",
        " 0&1&1&0&0&0&1&0\\\\ \n",
        "  \\end{bmatrix}$\n",
        "\n",
        "  first news document has unique words :\n",
        "  **drink,field,tutor**\n",
        "\n",
        "  identify unique words in second news document____________\n",
        "\n"
      ],
      "metadata": {
        "id": "wkWsi3wmsYO-"
      }
    },
    {
      "cell_type": "markdown",
      "source": [
        "## 5.Test Data\n",
        " given following two documents we have to classify them into sports or news documents Using naive bayes classifier\n",
        "\n",
        "$ x_j=\n",
        "\\begin{bmatrix}\n",
        " x_1&x_2&x_3&x_4&x_5&x_6&x_7&x_8\\\\ \n",
        "  \\end{bmatrix}$\n",
        "\n",
        "$ X_1=\n",
        "\\begin{bmatrix}\n",
        " 1 \\ & \\ 0 \\ & \\ 0 \\ & \\ 1 \\ & \\ 1 \\ &  \\ 1 \\ & \\ 0 \\ & \\ 1\\\\ \n",
        "  \\end{bmatrix}$\n",
        "\n",
        "$ X_2=\n",
        "\\begin{bmatrix}\n",
        " 0 \\ & \\ 1 \\ & \\ 1 \\ & \\ 0 \\ & \\ 1 \\ & \\ 0 \\ & \\ 1 \\ & \\ 0\\\\ \n",
        "  \\end{bmatrix}$\n"
      ],
      "metadata": {
        "id": "B0x46C8Nv87_"
      }
    },
    {
      "cell_type": "markdown",
      "source": [
        "## 6.what are words present in $X_1$ and $ X_2$?_______________"
      ],
      "metadata": {
        "id": "_Sg8iG17ws6f"
      }
    },
    {
      "cell_type": "markdown",
      "source": [
        "## 7.Discriminant Function\n",
        "\n",
        "Naive bayes classifier Estimate :\n",
        "\n",
        "$P(C_{sports}/X_1)=P(X_1/D_{sports})P(D_{sports})$\n",
        "\n",
        "Use bernoulli distribution\n",
        "\n",
        "$P(X_1/D_{sports})=$ product of probabilities of words in $X_1$ Document\n",
        "\n",
        "$P(X_1/D_{sports})=∏^d_{j=1}P^{x_j}_{(sports)j} {(1-P_{(sports)j})}^(1-{x_j})$\n",
        "\n",
        "\n",
        " Here $x_j$ represents $word_j i.e.,(word_1 to word_8 )$  in $X_1$ document\n",
        "\n",
        " Here $x_j$ is a random bernouli variable with value =1 if word is present in $X_1$ document  or 0 if absent\n",
        "\n",
        "Here $P_{(sports)j}$ is probability of $word_j$ in sports document\n",
        "\n",
        "$logP(X_1/D_{sports})=Σ^d_{j=1}[{x_j}P_{(sports)j} +(1-x_j){(1-P_{(sports)j})}]$ ...(1)\n",
        "\n",
        "\n",
        "The discriminant function is :\n",
        "\n",
        "\n",
        "$g_{sports}(X_1) = log P(X_1|C_{sports}) + log P(C_{sports})$\n",
        "\n",
        "substitute ..(1) in above equation\n",
        "\n",
        "$g_{sports}(X_1) = Σ^d_{j=1}[{x_j}P_{(sports)j} +(1-x_j){(1-P_{(sports)j})}] + log P(C_{sports})$\n",
        "\n",
        "General discriminant equation is:\n",
        "$g_i(X_1) = Σ^d_{j=1}[{x_j}P_{ij} +(1-x_j){(1-P_{ij})}] + log P(C_{sports})$\n",
        "\n",
        "Here $P(C_{sports})$ is calculated from training data\n",
        "\n",
        "Here $P_{ij}=P_{(sports)j}$ is calculated from training data\n",
        "\n",
        "Here $x_j$ is calculated from test data=1 or 0\n"
      ],
      "metadata": {
        "id": "I-j08deKEqxI"
      }
    },
    {
      "cell_type": "markdown",
      "source": [
        "## 8.how to find priors and likelihoods?\n",
        "\n",
        "**priors**\n",
        "\n",
        "$P(C_{sports})=\\frac{No \\ of \\ sports \\ documents \\ in \\ training data}{Total \\ documents \\  in \\ training data}$\n",
        "\n",
        "$P(C_{sports})=\\frac{6}{11}$\n",
        "\n",
        "$P(C_{news})=\\frac{5}{11}$\n",
        "\n",
        "***likelihoods**\n",
        "\n",
        "$P_{ij}=P_{(sports)j} =\\frac{Total\\ word_j 's \\ in Sports\\ Documents}{Total \\ Sports \\ documents}$\n",
        "\n",
        "$P_{i1}=P_{(sports)1}=\\frac{3}{6}$\n",
        "\n",
        "$P_{i2}=P_{(sports)2}=\\frac{1}{6}$\n",
        "\n",
        "$P_{i3}=P_{(sports)3}=\\frac{2}{6}$\n",
        "\n",
        "$P_{i4}=P_{(sports)4}=\\frac{3}{6}$\n",
        "\n",
        "$P_{i5}=P_{(sports)5}=\\frac{3}{6}$\n",
        "\n",
        "$P_{i6}=P_{(sports)6}=\\frac{4}{6}$\n",
        "\n",
        "$P_{i7}=P_{(sports)7}=\\frac{4}{6}$\n",
        "\n",
        "$P_{i8}=P_{(sports)8}=\\frac{4}{6}$\n",
        "\n",
        "$P_{i1}=P_{(news)1}=\\frac{1}{5}$\n",
        "\n",
        "$P_{i2}=P_{(news)2}=\\frac{3}{5}$\n",
        "\n",
        "$P_{i3}=P_{(news)3}=\\frac{3}{5}$\n",
        "\n",
        "$P_{i4}=P_{(news)4}=\\frac{1}{5}$\n",
        "\n",
        "$P_{i5}=P_{(news)5}=\\frac{1}{5}$\n",
        "\n",
        "$P_{i6}=P_{(news)6}=\\frac{1}{5}$\n",
        "\n",
        "$P_{i7}=P_{(news)7}=\\frac{3}{5}$\n",
        "\n",
        "$P_{i8}=P_{(news)8}=\\frac{1}{5}$\n",
        "\n",
        "\n",
        "**Here $x_j$ for test documents**\n",
        "\n",
        "$ x_j=\n",
        "\\begin{bmatrix}\n",
        " x_1&x_2&x_3&x_4&x_5&x_6&x_7&x_8\\\\ \n",
        "  \\end{bmatrix}$\n",
        "\n",
        "$ X_1=\n",
        "\\begin{bmatrix}\n",
        " 1 \\ & \\ 0 \\ & \\ 0 \\ & \\ 1 \\ & \\ 1 \\ &  \\ 1 \\ & \\ 0 \\ & \\ 1\\\\ \n",
        "  \\end{bmatrix}$\n",
        "\n",
        "$ X_2=\n",
        "\\begin{bmatrix}\n",
        " 0 \\ & \\ 1 \\ & \\ 1 \\ & \\ 0 \\ & \\ 1 \\ & \\ 0 \\ & \\ 1 \\ & \\ 0\\\\ \n",
        "  \\end{bmatrix}$\n",
        "\n"
      ],
      "metadata": {
        "id": "5wXshxpnEQ-s"
      }
    },
    {
      "cell_type": "markdown",
      "source": [
        "## 9.Calculate values and classify  $X_1$ and $X_2$ as sports or news documents"
      ],
      "metadata": {
        "id": "hgF81rISr1eq"
      }
    },
    {
      "cell_type": "code",
      "source": [
        "import warnings\n",
        "warnings.filterwarnings('ignore')\n"
      ],
      "metadata": {
        "id": "MFwvaYotiiho"
      },
      "execution_count": null,
      "outputs": []
    },
    {
      "cell_type": "code",
      "execution_count": null,
      "metadata": {
        "id": "j7LxVGFrfpS_"
      },
      "outputs": [],
      "source": [
        "import numpy as np\n",
        "from sklearn.feature_extraction.text import CountVectorizer\n",
        " \n",
        "vectorizer = CountVectorizer()\n"
      ]
    },
    {
      "cell_type": "code",
      "source": [
        "# Create sample set of documents\n",
        "#\n",
        "docs = np.array(['Mirabai has won a silver medal in weight lifting in Tokyo olympics 2021',\n",
        "                 'Sindhu has won a bronze medal in badminton in Tokyo olympics',\n",
        "                 'Indian hockey team is in top four team in Tokyo olympics 2021 after 40 years'])\n",
        "#\n",
        "# Fit the bag-of-words model\n",
        "#\n",
        "bag = vectorizer.fit_transform(docs)\n",
        "#"
      ],
      "metadata": {
        "id": "ujwYHZ5vgfll"
      },
      "execution_count": null,
      "outputs": []
    },
    {
      "cell_type": "code",
      "source": [
        "# Get unique words / tokens found in all the documents. The unique words / tokens represents\n",
        "# the features\n",
        "#\n",
        "print(vectorizer.get_feature_names())\n",
        "#\n"
      ],
      "metadata": {
        "colab": {
          "base_uri": "https://localhost:8080/"
        },
        "id": "nGU-n1Ebgfxy",
        "outputId": "d07ce2d5-c9be-407f-952f-db1281b54af9"
      },
      "execution_count": null,
      "outputs": [
        {
          "output_type": "stream",
          "name": "stdout",
          "text": [
            "['2021', '40', 'after', 'badminton', 'bronze', 'four', 'has', 'hockey', 'in', 'indian', 'is', 'lifting', 'medal', 'mirabai', 'olympics', 'silver', 'sindhu', 'team', 'tokyo', 'top', 'weight', 'won', 'years']\n"
          ]
        }
      ]
    },
    {
      "cell_type": "code",
      "source": [
        "# Associate the indices with each unique word\n",
        "#\n",
        "print(vectorizer.vocabulary_)\n",
        "#\n"
      ],
      "metadata": {
        "colab": {
          "base_uri": "https://localhost:8080/"
        },
        "id": "OwglwIf8hN7F",
        "outputId": "1ae72904-a917-4245-c24d-050761864d88"
      },
      "execution_count": null,
      "outputs": [
        {
          "output_type": "stream",
          "name": "stdout",
          "text": [
            "{'mirabai': 13, 'has': 6, 'won': 21, 'silver': 15, 'medal': 12, 'in': 8, 'weight': 20, 'lifting': 11, 'tokyo': 18, 'olympics': 14, '2021': 0, 'sindhu': 16, 'bronze': 4, 'badminton': 3, 'indian': 9, 'hockey': 7, 'team': 17, 'is': 10, 'top': 19, 'four': 5, 'after': 2, '40': 1, 'years': 22}\n"
          ]
        }
      ]
    },
    {
      "cell_type": "code",
      "source": [
        "# Print the numerical feature vector\n",
        "#\n",
        "print(bag.toarray())"
      ],
      "metadata": {
        "colab": {
          "base_uri": "https://localhost:8080/"
        },
        "id": "lGCfMIOTg4Rx",
        "outputId": "e04c05bf-7b20-4d77-f61e-ed40a933f8cf"
      },
      "execution_count": null,
      "outputs": [
        {
          "output_type": "stream",
          "name": "stdout",
          "text": [
            "[[1 0 0 0 0 0 1 0 2 0 0 1 1 1 1 1 0 0 1 0 1 1 0]\n",
            " [0 0 0 1 1 0 1 0 2 0 0 0 1 0 1 0 1 0 1 0 0 1 0]\n",
            " [1 1 1 0 0 1 0 1 2 1 1 0 0 0 1 0 0 2 1 1 0 0 1]]\n"
          ]
        }
      ]
    }
  ]
}