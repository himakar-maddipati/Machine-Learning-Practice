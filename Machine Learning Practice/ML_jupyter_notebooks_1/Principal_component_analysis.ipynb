{
  "nbformat": 4,
  "nbformat_minor": 0,
  "metadata": {
    "colab": {
      "provenance": []
    },
    "kernelspec": {
      "name": "python3",
      "display_name": "Python 3"
    },
    "language_info": {
      "name": "python"
    }
  },
  "cells": [
    {
      "cell_type": "markdown",
      "source": [
        "## Q.what are projection methods used for ?\n",
        "\n",
        "For mapping input dimensions d to k(k<d)"
      ],
      "metadata": {
        "id": "C4oK3yOCTcXB"
      }
    },
    {
      "cell_type": "markdown",
      "source": [
        "## Q.what is matrix projection formula of x in the direction of w?\n",
        "\n",
        "$Z=W^T.x$"
      ],
      "metadata": {
        "id": "j22l15D8US6h"
      }
    },
    {
      "cell_type": "markdown",
      "source": [
        "## Q principal Principal component analysis (PCA) is supervised or  unsupervised method?\n",
        "\n",
        "Unsupervised as it uses only input features only"
      ],
      "metadata": {
        "id": "59tEWSDWUmRB"
      }
    },
    {
      "cell_type": "markdown",
      "source": [
        "## Q What is criteria for maximization in PCA?\n",
        "\n",
        "Variance"
      ],
      "metadata": {
        "id": "LGT_jcvFVJct"
      }
    },
    {
      "cell_type": "markdown",
      "source": [
        "## Q In PCA samples are projected onto _____________\n",
        "\n",
        "unit vectors $W=[w_1,w_2]$"
      ],
      "metadata": {
        "id": "11s2sa3ZV0Qw"
      }
    },
    {
      "cell_type": "markdown",
      "source": [
        "## Q In PCA the projections of samples on Principal component should show maximum or minimum varaiance?\n",
        "\n",
        "Maximum"
      ],
      "metadata": {
        "id": "EQ1t39aOWDnM"
      }
    },
    {
      "cell_type": "markdown",
      "source": [
        "## Q Why we take $||w_1||=1$(magnitude of vector along Principal component)?\n",
        "\n",
        "To make direction important and to get unique solution"
      ],
      "metadata": {
        "id": "X8zLvSBTXTlA"
      }
    },
    {
      "cell_type": "markdown",
      "source": [
        "## 1. Normal Distribution of  sample and its Projection  \n",
        "\n",
        "let sample X follow normal distribution\n",
        "$  X \\sim \\mathcal{N_d}(\\mu,\\,\\sigma^{2})\\,$\n",
        "\n",
        "\n",
        "Let W be projections  matrix of X $W \\in R^d$\n",
        "\n",
        "$ W^T x = w_1x_1 + w_2x_2 +· · ·+w_dx_d ∼\\mathcal{N}(w^Tμ,w^TΣw)$\n",
        "\n",
        "\n"
      ],
      "metadata": {
        "id": "jl2jFUlemg16"
      }
    },
    {
      "cell_type": "markdown",
      "source": [
        "### 2.Find Estimate $E[W^T x]$ and Variance  Var($W^T x$) of Projection($W$)\n",
        "\n",
        "\n",
        "\n",
        "$E[w^T x] = w^TE[x] = w^Tμ$\n",
        "\n",
        "**Above equation tells that estimate of projection depends on mean of sample**\n",
        "\n",
        "$Var(w^T x) = E[(w^T x − w^Tμ)^2] = E[(w^T x − w^Tμ)(w^T x − w^Tμ)]$\n",
        "\n",
        "$Var(w^T x)= E[w^T (x − μ)(x − μ)^Tw] = w^T E[(x − μ)(x − μ)^T ]w$\n",
        "\n",
        "$Var(w^T x) = w^TΣw$\n",
        "\n",
        "**Above equation tells that Variance  of projection depends on variance of sample**\n",
        "\n"
      ],
      "metadata": {
        "id": "desuLG0xuXSt"
      }
    },
    {
      "cell_type": "markdown",
      "source": [
        "## Q How  lagrangian multiplyer is used  for maximisation \n",
        " \n",
        "https://www.khanacademy.org/math/multivariable-calculus/applications-of-multivariable-derivatives/constrained-optimization/a/lagrange-multipliers-examples"
      ],
      "metadata": {
        "id": "MTOJyPUxdyJq"
      }
    },
    {
      "cell_type": "markdown",
      "source": [
        "## Properties of orthogonal Matrix\n",
        "\n",
        "https://www.nagwa.com/en/explainers/476190725258/\n",
        "\n",
        "https://www.algebrapracticeproblems.com/orthogonal-matrix/\n",
        "\n",
        "Properties:\n",
        "\n",
        "### 1.square matrix A is orthogonal if $A^TA=I_n$,where is $I$ is  𝑛×𝑛identity matrix.\n",
        "### 2.For a matrix 𝐴  to be orthogonal, determinent |𝐴|=±1\n",
        "### 3. if $c_1,c_2....c_n$ are columns of square matrix A if $c_i.c_i=1$ for all i=1,2...n and $c_i.c_j=0$ for $ i \\neq j $ then A is orthogonal\n",
        "### 4.if A and B are orthogonal to each other then $A^T.B=0$"
      ],
      "metadata": {
        "id": "9i0G1Qx_dzNR"
      }
    },
    {
      "cell_type": "markdown",
      "source": [
        "## 3. Derive First principal component for projections\n",
        "\n",
        "***Formulate Maximisation of Variance along vector $w1$ as Lagrangian problem***\n",
        "\n",
        "we know\n",
        "\n",
        " ***Var($Z_1$)=$w^T_1Σw_1$***\n",
        "\n",
        " Constraint is:\n",
        "\n",
        " $w^T_1w_1=1$  as $w_1$ is orthogonal matrix with norm=1(unit vector)\n",
        "\n",
        " ***Lagrangian formula is: Var($z_1$)-α(constraint)***\n",
        "\n",
        " ${max}_{w_1} w^T_1Σw_1 − α(w^T_1w_1− 1)$\n",
        "\n",
        " Taking the derivative with respect to $w_1$ and setting it equal to 0, we\n",
        "have\n",
        "$2Σw_1 − 2αw_1 = 0$\n",
        "\n",
        "$ Σw_1 = αw_1$\n",
        "\n",
        "multiply both sides by $w^T_1$\n",
        "\n",
        "$w^T_1Σw_1 = αw^T_1=\\alpha$\n",
        "\n",
        "From  above equation $w_1$ is an eigenvector of Σ and $ λ_1=α $ the corresponding eigenvalue.\n",
        "Because we want to maximize we choose the eigenvector with the largest eigenvalue for the variance\n",
        "\n",
        "Another relation between $\\Sigma\\,w_1,\\alpha\\$ to find diagonal variance vector\n",
        "\n",
        "multiply both sides by $w^T_1$\n",
        "\n",
        "$w^T_1Σw_1 = αw^T_1w_1=\\alpha$\n",
        "\n",
        "$w^T_1Σw_1 = \\alpha$\n"
      ],
      "metadata": {
        "id": "P4pflwr0hF2b"
      }
    },
    {
      "cell_type": "markdown",
      "source": [
        "## 4. Derive Second principal component for projections\n",
        "\n",
        "second principal component $w_2$ will be orthogonal to $w_1$\n",
        "\n",
        "$\\therefore w^T_2w_1=0$\n",
        "\n",
        "***Formulate Maximisation of Variance along vector $w2$ as Lagrangian problem***\n",
        "\n",
        "we know\n",
        "\n",
        " ***Var($Z_2$)=$w^T_2Σw_2$***\n",
        "\n",
        " Constraints are:\n",
        "\n",
        " $w^T_2w_2=1$  as $w_2$ is orthogonal matrix with norm=1(unit vector)\n",
        "\n",
        "  $ w^T_2w_1=0$ as $w_2$ is orthogonal to $w_1$\n",
        "\n",
        "  ***Lagrangian formula is: Var($z_2$)-α(constraint1)-β(constraint2)***\n",
        "\n",
        "\n",
        "\n",
        " ${max}_{w_2} w^T_2Σw_2 − α(w^T_2w_2− 1)-β(w^T_2w_1-0)$\n",
        "\n",
        " Taking the derivative with respect to $w_2$ and setting it equal to 0, we\n",
        "have\n",
        "$2Σw_2 − 2αw_2-βw_1 = 0$\n",
        "\n",
        "\n",
        "\n",
        "multiply both sides by $w^T_2$\n",
        "\n",
        "$2w^T_2Σw_2 − 2αw^T_2w_2-βw^T_2w_1 = 0$\n",
        "\n",
        "because $ w^T_2w_1=0$ the above equation becomes:\n",
        "\n",
        "$2w^T_2Σw_2 − 2αw^T_2w_2= 0$\n",
        "\n",
        "$\\therefore Σw_2 = αw_2$\n",
        "\n",
        "From  above equation $w_2$ is an eigenvector of Σ and $λ_2=\\alpha$ the corresponding eigenvalue.\n",
        "\n",
        "relationship of eigen values\n",
        "\n",
        "***$\\lambda_1 >\\lambda_2$***\n",
        "\n",
        "relationship of eigen vectors\n",
        "\n",
        "***$w_1 >w_2$***"
      ],
      "metadata": {
        "id": "KlQ2sMCNlYnc"
      }
    },
    {
      "cell_type": "markdown",
      "source": [
        "## 5.Alternative derivation for Projections\n",
        "\n",
        "Let A=input array with each element substracted with mean\n",
        "\n",
        "then Covariance of A is $Σ$=$A^T.A$\n",
        "\n",
        "Length of projections=P=A.W\n",
        "\n",
        "We know variance along P is $σ^2=P^T.P$ \n",
        "\n",
        "variance along projection line=$σ^2=P^T.P=(AW)^T.AW=W^T(A^T.A)W=W^T\\Sigma W$\n",
        "\n",
        "\n",
        " We have to maximise variance along P which is following equation\n",
        "\n",
        "$σ^2=W^T\\Sigma W$\n",
        "\n",
        "substituting  $ΣW=λW$\n",
        "\n",
        "$σ^2=W^T\\lambda W$\n",
        "\n",
        "As $w_1 ,w_2$ are orthogonal we have following relations\n",
        "\n",
        "$w^T_1.w_1=1$ and $w^T_2.w_2=1$ and  $w_1.w_2=0$\n",
        "\n",
        "$σ^2=W^T\\lambda W=\\lambda W^TW=λ$\n",
        "\n",
        "****Therefore variance along P is eigen values array $\\lambda=[\\lambda_1,\\lambda_2]$ for 2 dimensions****\n",
        "\n",
        "****Therefore variance along Eigen vectors(W=[$w_1,w_2$]) is eigen values array $\\lambda=[\\lambda_1,\\lambda_2]$ for two dimensions****\n",
        "\n",
        "For 2dimensions  the first eigenvector  explains 95% of the total variance.\n",
        "\n",
        "So Reduced Dataset=projection of A onto $w_1$=$A.w_1$\n",
        "\n"
      ],
      "metadata": {
        "id": "JP7Y9zCnwXMv"
      }
    },
    {
      "cell_type": "markdown",
      "source": [
        "##6.Procedure for Projection calculation\n",
        "\n",
        "1. Mean-center the data by subtracting each feature from its mean.\n",
        "2. Find the covariance matrix of the centered data $Σ =(A^T)A$\n",
        "3. Apply eigen-decomposition to $Σ$.\n",
        "4. Order the eigenvectors w.r.t the eigenvalues in descending order.\n",
        "5. Choose the first n eigenvectors that explain 95% of the total variance.\n",
        "6. Create a matrix W, where each column is one of the chosen vectors.\n",
        "7. Project the dat onto the subspace defined by:\n",
        "\n",
        "Reduced Dataset=$A.W$"
      ],
      "metadata": {
        "id": "wKObi8dA5BOv"
      }
    },
    {
      "cell_type": "markdown",
      "source": [
        "## 7. properties of Projections(Eigen vectors)\n",
        "\n",
        "### 1.because $Σ \\,$is symmetric, for two different eigenvalues, the eigenvectors are orthogonal.($w_1 ,w_2$ are orthogonal)\n",
        "\n",
        "### 2.If Σ is positive definite ($x^TΣx > 0$, for all nonnull x), then all its eigenvalues are positive.\n",
        "\n",
        "### 3.Since $Σ$ is singular (singular means determinent value =0) then its rank, the effective dimensionality, is k with k < d and $λ_i$, i = k + 1, . . . , d are 0\n",
        "\n",
        "### 4.The k eigenvectors with nonzero eigenvalues are the dimensions of the reduced space\n",
        "\n",
        "### 5.The first eigenvector (the one with the largest eigenvalue), w1, namely, the principal component, explains the largest part of the variance; the second explains the second largest; and so on."
      ],
      "metadata": {
        "id": "py6uPcwD0i9c"
      }
    },
    {
      "cell_type": "markdown",
      "source": [
        "## 8.Given $Σ$ find eigen vectors and eigen values\n",
        "\n",
        "$ Σ=\n",
        "\\begin{bmatrix}\n",
        " 6 & 4\\\\ \n",
        " 4 & 5\\\\\n",
        " \\end{bmatrix}$\n",
        "\n",
        "we know\n",
        "\n",
        "$ Σw = \\lambda w$\n",
        "\n",
        "$\\therefore Σw-\\lambda w=0$\n",
        "\n",
        "since $w$ is nonzero we can write above equation as follows:\n",
        "\n",
        "$\\therefore determinant \\, of \\,|Σ-\\lambda I|=0$\n",
        "\n",
        "$ Σ=\n",
        "\\begin{bmatrix}\n",
        " 6-\\lambda & 4\\\\ \n",
        " 4 & 5-\\lambda\\\\\n",
        " \\end{bmatrix}=0$\n",
        "\n",
        " $\\therefore \\,$($6-\\lambda$)($5-\\lambda$)-(4)(4)=0\n",
        "\n",
        "$\\therefore \\,\\lambda^2-11\\lambda+14=0$\n",
        "\n",
        "***solving quadratic equation the eigen values are $\\lambda_1=9.5,\\ \\lambda_2=1.5$***\n",
        "\n",
        "because $wΣ=\\lambda w$ we can write as:\n",
        "\n",
        "$ Σ=\n",
        "\\begin{bmatrix}\n",
        " 6 & 4\\\\ \n",
        " 4 & 5\\\\\n",
        " \\end{bmatrix}\\begin{bmatrix}\n",
        " x\\\\ \n",
        " y\\\\\n",
        " \\end{bmatrix}=\\lambda_1\\begin{bmatrix}\n",
        " x\\\\ \n",
        " y\\\\\n",
        " \\end{bmatrix}$\n",
        "\n",
        "$ Σ=\n",
        "\\begin{bmatrix}\n",
        " 6 & 4\\\\ \n",
        " 4 & 5\\\\\n",
        " \\end{bmatrix}\\begin{bmatrix}\n",
        " x\\\\ \n",
        " y\\\\\n",
        " \\end{bmatrix}=9.5\\begin{bmatrix}\n",
        " x\\\\ \n",
        " y\\\\\n",
        " \\end{bmatrix}$\n",
        "\n",
        " $6x+4y=9.5x$\n",
        "\n",
        " $4x+5y=9.5y$\n",
        "\n",
        "on simplifying\n",
        "\n",
        "$-3.5x+4y=0$\n",
        " \n",
        " $4x-4.5y=0$ \n",
        "\n",
        " on simplifying\n",
        "\n",
        " $0.5x-0.5y=0 \\,\\therefore x=y$\n",
        "\n",
        "let x=1 then y=1 we get eigen vector $w_1=\\begin{bmatrix}\n",
        " 1\\\\ \n",
        " 1\\\\\n",
        " \\end{bmatrix}$\n",
        "\n",
        " similarly for $\\lambda_2=1.5,\\,$ we get eigen vector $w_2=\\begin{bmatrix}\n",
        " -1\\\\ \n",
        " 1\\\\\n",
        " \\end{bmatrix}$\n",
        "\n",
        " we can get projection of given input=A by using $(A.w_1),\\,$ along direction of maximum variance and $(A.w_2),\\,$ perpendicular to maximum variance \n",
        "\n",
        "\n",
        "\n",
        "\n"
      ],
      "metadata": {
        "id": "R0b8VlwqQN2r"
      }
    },
    {
      "cell_type": "markdown",
      "source": [
        "## 9.Calculate Projections,W=unit vectors along variance(Eigen vectors) and Diagonal variances(Eigen values)"
      ],
      "metadata": {
        "id": "enDwzHqvw136"
      }
    },
    {
      "cell_type": "code",
      "source": [
        "from numpy import array\n",
        "from numpy import mean\n",
        "from numpy import cov\n",
        "from numpy.linalg import eig\n",
        "# define a matrix\n",
        "A = array([[1, 2], [3, 4], [5, 6]])\n",
        "print(\"given Input A\\n\")\n",
        "print(A)\n",
        "# calculate the mean of each column\n",
        "M = mean(A.T, axis=1)\n",
        "print(\"\\n Mean of each column \\n\")\n",
        "\n",
        "print(M)\n",
        "# center columns by subtracting column means\n",
        "C = A - M\n",
        "print(\"\\n C=normalised array elements(substract mean fronm each element of Array) \\n\")\n",
        "\n",
        "print(C)\n",
        "# calculate covariance matrix of centered matrix\n",
        "V = cov(C.T)\n",
        "print(\"\\n covariance matrix V \\n\")\n",
        "\n",
        "print(V)\n",
        "# eigendecomposition of covariance matrix\n",
        "values, vectors = eig(V)\n",
        "print(\"\\n w=Eigen Vectors(unit vectors along variance)\\n\")\n",
        "\n",
        "print(vectors)\n",
        "print(\"\\n variance=Eigen Values \\n\")\n",
        "print(values)\n",
        "# project data\n",
        "P = C.dot(vectors)\n",
        "print(\"\\n projection of Input C.w\\n\")\n",
        "print(P)"
      ],
      "metadata": {
        "colab": {
          "base_uri": "https://localhost:8080/"
        },
        "id": "--u9K8c7e17V",
        "outputId": "bddddc50-4066-4ab2-dbbe-8eeae61a91ed"
      },
      "execution_count": null,
      "outputs": [
        {
          "output_type": "stream",
          "name": "stdout",
          "text": [
            "given Input A\n",
            "\n",
            "[[1 2]\n",
            " [3 4]\n",
            " [5 6]]\n",
            "\n",
            " Mean of each column \n",
            "\n",
            "[3. 4.]\n",
            "\n",
            " C=normalised array elements(substract mean fronm each element of Array) \n",
            "\n",
            "[[-2. -2.]\n",
            " [ 0.  0.]\n",
            " [ 2.  2.]]\n",
            "\n",
            " covariance matrix V \n",
            "\n",
            "[[4. 4.]\n",
            " [4. 4.]]\n",
            "\n",
            " w=Eigen Vectors(unit vectors along variance)\n",
            "\n",
            "[[ 0.70710678 -0.70710678]\n",
            " [ 0.70710678  0.70710678]]\n",
            "\n",
            " variance=Eigen Values \n",
            "\n",
            "[8. 0.]\n",
            "\n",
            " projection of Input C.w\n",
            "\n",
            "[[-2.82842712  0.        ]\n",
            " [ 0.          0.        ]\n",
            " [ 2.82842712  0.        ]]\n"
          ]
        }
      ]
    },
    {
      "cell_type": "markdown",
      "source": [
        "## 10. Using SKLEARN:Calculate Projections,W=unit vectors along variance(Eigen vectors) and Diagonal variances(Eigen values)"
      ],
      "metadata": {
        "id": "Wm91H5T6xVJ_"
      }
    },
    {
      "cell_type": "code",
      "source": [
        "# Principal Component Analysis\n",
        "from numpy import array\n",
        "from sklearn.decomposition import PCA\n",
        "# define a matrix\n",
        "A = array([[1, 2], [3, 4], [5, 6]])\n",
        "print(\"given Input A\\n\")\n",
        "\n",
        "print(A)\n",
        "# create the PCA instance\n",
        "pca = PCA(2)\n",
        "# fit on data\n",
        "pca.fit(A)\n",
        "# access values and vectors\n",
        "print(\"\\n PCA components A\\n\")\n",
        "\n",
        "print(pca.components_)\n",
        "print(\"\\n PCA variance A\\n\")\n",
        "\n",
        "print(pca.explained_variance_)\n",
        "# transform data\n",
        "B = pca.transform(A)\n",
        "print(\"\\n projection of  A\\n\")\n",
        "\n",
        "print(B)"
      ],
      "metadata": {
        "colab": {
          "base_uri": "https://localhost:8080/"
        },
        "id": "tCsbDNkqmHY5",
        "outputId": "0556755e-cb1e-4a01-e9da-9d8617035dc8"
      },
      "execution_count": null,
      "outputs": [
        {
          "output_type": "stream",
          "name": "stdout",
          "text": [
            "given Input A\n",
            "\n",
            "[[1 2]\n",
            " [3 4]\n",
            " [5 6]]\n",
            "\n",
            " PCA components A\n",
            "\n",
            "[[ 0.70710678  0.70710678]\n",
            " [-0.70710678  0.70710678]]\n",
            "\n",
            " PCA variance A\n",
            "\n",
            "[8. 0.]\n",
            "\n",
            " projection of  A\n",
            "\n",
            "[[-2.82842712e+00 -2.22044605e-16]\n",
            " [ 0.00000000e+00  0.00000000e+00]\n",
            " [ 2.82842712e+00  2.22044605e-16]]\n"
          ]
        }
      ]
    },
    {
      "cell_type": "markdown",
      "source": [
        "## 11.Function to Calculate Projections,W=unit vectors along variance(Eigen vectors) and Diagonal variances(Eigen values)"
      ],
      "metadata": {
        "id": "Kl1OjpDIxgij"
      }
    },
    {
      "cell_type": "code",
      "source": [
        "from numpy import array\n",
        "from numpy import mean\n",
        "from numpy import cov\n",
        "from numpy.linalg import eig\n",
        "def Calc_PCA(A):\n",
        "    # define a matrix\n",
        "    #A = array([[1, 2], [3, 4], [5, 6]])\n",
        "    print(\"given Input A\\n\")\n",
        "    print(A)\n",
        "    # calculate the mean of each column\n",
        "    M = mean(A.T, axis=1)\n",
        "    print(\"\\n Mean of each column \\n\")\n",
        "    print(M)\n",
        "    # center columns by subtracting column means\n",
        "    C = A - M\n",
        "    print(\"\\n C=normalised array elements(substract mean fronm each element of Array) \\n\")\n",
        "    print(C)\n",
        "    # calculate covariance matrix of centered matrix\n",
        "    V = cov(C.T)\n",
        "    print(\"\\n covariance matrix V \\n\")\n",
        "    print(V)\n",
        "    # eigendecomposition of covariance matrix\n",
        "    values, vectors = eig(V)\n",
        "    print(\"\\n w=Eigen Vectors(unit vectors along variance) \\n\")\n",
        "    print(vectors)\n",
        "    print(\"\\n variance=Eigen Values \\n\")\n",
        "    print(values)\n",
        "    # project data\n",
        "    P = C.dot(vectors)\n",
        "    print(\"\\n projection of Input C.w\\n\")\n",
        "    print(P)"
      ],
      "metadata": {
        "id": "GEIYjUoyj7mS"
      },
      "execution_count": null,
      "outputs": []
    },
    {
      "cell_type": "markdown",
      "source": [
        "## 12.calculate PCA "
      ],
      "metadata": {
        "id": "YcOUujo96BJx"
      }
    },
    {
      "cell_type": "code",
      "source": [
        "A = array([[1, 2,3], [4, 5,6], [7, 8,9]])\n",
        "Calc_PCA(A)"
      ],
      "metadata": {
        "colab": {
          "base_uri": "https://localhost:8080/"
        },
        "id": "stkecafblSW9",
        "outputId": "c36650c5-1b4f-4d4f-984d-facbf22c1fad"
      },
      "execution_count": null,
      "outputs": [
        {
          "output_type": "stream",
          "name": "stdout",
          "text": [
            "given Input A\n",
            "\n",
            "[[1 2 3]\n",
            " [4 5 6]\n",
            " [7 8 9]]\n",
            "\n",
            " Mean of each column \n",
            "\n",
            "[4. 5. 6.]\n",
            "\n",
            " C=normalised array elements(substract mean fronm each element of Array) \n",
            "\n",
            "[[-3. -3. -3.]\n",
            " [ 0.  0.  0.]\n",
            " [ 3.  3.  3.]]\n",
            "\n",
            " covariance matrix V \n",
            "\n",
            "[[9. 9. 9.]\n",
            " [9. 9. 9.]\n",
            " [9. 9. 9.]]\n",
            "\n",
            " w=Eigen Vectors(unit vectors along variance) \n",
            "\n",
            "[[-0.81649658  0.57735027  0.        ]\n",
            " [ 0.40824829  0.57735027 -0.70710678]\n",
            " [ 0.40824829  0.57735027  0.70710678]]\n",
            "\n",
            " variance=Eigen Values \n",
            "\n",
            "[ 0. 27.  0.]\n",
            "\n",
            " projection of Input C.w\n",
            "\n",
            "[[ 1.11022302e-16 -5.19615242e+00  4.44089210e-16]\n",
            " [ 0.00000000e+00  0.00000000e+00  0.00000000e+00]\n",
            " [-1.11022302e-16  5.19615242e+00 -4.44089210e-16]]\n"
          ]
        }
      ]
    },
    {
      "cell_type": "markdown",
      "source": [
        "### 13 Spectral decomposition of S(S=Estimate of  Covariance matrix)\n",
        "\n",
        "### Estimate Covariance from Eigen values and Eigen vectors\n",
        "\n",
        "Let S be estimate of Covariance matrix of given data\n",
        "\n",
        "C=unit vector along maximum variance(Eigen Vectors)\n",
        "\n",
        "$\\lambda$ = variances(Eigen values)\n",
        "\n",
        "$ \\therefore S=C (\\lambda I )C^T$\n",
        "\n",
        "we can write as\n",
        "\n",
        "$S=C DC^T$\n",
        "\n",
        "where D=diagonal matrix having eigen values\n",
        "\n",
        "***Proof***\n",
        "$S = SCC^T$ because $CC^T=1$\n",
        "\n",
        "$S= S(c_1, c_2, . . . , c_d)C^T$\n",
        "\n",
        "$S= (Sc_1, Sc_2, . . . , Sc_d)C^T$\n",
        "\n",
        "$S= (λ_1c_1, λ_2c_2, . . . , λ_dc_d)C^T$\n",
        "\n",
        "$S= λ_1c_1c^T_1+· · ·+λ_dc_dc^T_d$\n",
        "\n",
        " $S= CDC^T$\n",
        "\n"
      ],
      "metadata": {
        "id": "GFh3ebHI0p9z"
      }
    },
    {
      "cell_type": "code",
      "source": [
        "import numpy as np\n",
        "from numpy.linalg import multi_dot\n",
        "\n",
        "A = array([[1, 12,30], [8, 5,21], [7, 4,9]])\n",
        "M = mean(A.T, axis=1)\n",
        "print(\"\\n Mean of each column \\n\")\n",
        "print(M)\n",
        "# center columns by subtracting column means\n",
        "C = A - M\n",
        "print(\"\\n C=normalised array elements(substract mean fronm each element of Array) \\n\")\n",
        "print(C)\n",
        "# calculate covariance matrix of centered matrix\n",
        "V = cov(C.T)\n",
        "Eigenvalues, Eigenvectors = eig(V)\n",
        "print(\"\\n Eigen Values \\n\",Eigenvalues)\n",
        "print(\"\\n Eigen Vectors \\n\",Eigenvectors)\n",
        "Ei_val_sort=np.sort(Eigenvalues)[::-1]\n",
        "\n",
        "print(\"\\n Ei_val_sort \\n\",Ei_val_sort)\n",
        "I = np.identity(3)\n",
        "D = np.diag(Eigenvalues)\n",
        "S = np.linalg.multi_dot([Eigenvectors, D, Eigenvectors.T])\n",
        "\n",
        "print(\"\\n Diagonal Matrix of eigen values(variances) D \\n\",D)\n",
        "\n",
        "print(\"\\n Estimated Covariance MatrixS \\n\",S)\n",
        "\n",
        "print(\"\\n covariance matrix V \\n\")\n",
        "print(V)\n"
      ],
      "metadata": {
        "id": "q_Iug3vWhdvd",
        "colab": {
          "base_uri": "https://localhost:8080/"
        },
        "outputId": "70f550d2-c523-4331-d6ca-e3bbee5a2d66"
      },
      "execution_count": null,
      "outputs": [
        {
          "output_type": "stream",
          "name": "stdout",
          "text": [
            "\n",
            " Mean of each column \n",
            "\n",
            "[ 5.33333333  7.         20.        ]\n",
            "\n",
            " C=normalised array elements(substract mean fronm each element of Array) \n",
            "\n",
            "[[ -4.33333333   5.          10.        ]\n",
            " [  2.66666667  -2.           1.        ]\n",
            " [  1.66666667  -3.         -11.        ]]\n",
            "\n",
            " Eigen Values \n",
            " [1.35429566e+02 8.90376724e+00 2.99085883e-15]\n",
            "\n",
            " Eigen Vectors \n",
            " [[-0.26508201  0.73552445 -0.62348642]\n",
            " [ 0.34908173 -0.52954936 -0.77312316]\n",
            " [ 0.89881782  0.42258876  0.11638413]]\n",
            "\n",
            " Ei_val_sort \n",
            " [1.35429566e+02 8.90376724e+00 2.99085883e-15]\n",
            "\n",
            " Diagonal Matrix of eigen values(variances) D \n",
            " [[1.35429566e+02 0.00000000e+00 0.00000000e+00]\n",
            " [0.00000000e+00 8.90376724e+00 0.00000000e+00]\n",
            " [0.00000000e+00 0.00000000e+00 2.99085883e-15]]\n",
            "\n",
            " Estimated Covariance MatrixS \n",
            " [[ 14.33333333 -16.         -29.5       ]\n",
            " [-16.          19.          40.5       ]\n",
            " [-29.5         40.5        111.        ]]\n",
            "\n",
            " covariance matrix V \n",
            "\n",
            "[[ 14.33333333 -16.         -29.5       ]\n",
            " [-16.          19.          40.5       ]\n",
            " [-29.5         40.5        111.        ]]\n"
          ]
        }
      ]
    },
    {
      "cell_type": "markdown",
      "source": [
        "### 14 Q.What is proportion of variance?\n",
        "\n",
        "***PCA procedure:***\n",
        "\n",
        "1.Even if all eigenvalues are greater than 0,  we understand that some eigenvalues have little contribution to variance and may be discarded. \n",
        "\n",
        "because if $|S| \\,is \\,small\\ we \\ know  \\ that $$|S|=\\prod^d_{i=1} λ_i$\n",
        "\n",
        "2.Then, we take into account the leading k components that explain more than, for example,90 percent, of the variance. When $λ_i$ are sorted in descending order.\n",
        " \n",
        "3.The  proportion of variance explained by the k principal components is\n",
        "variance\n",
        "\n",
        "proportion of variance=$\\frac{ \\lambda_1+\\lambda_2+...+\\lambda_k }{\\lambda_1+\\lambda_2+...+\\lambda_k+...+\\lambda_d }$\n",
        "\n",
        "where d=number of dimensions\n",
        "      \n",
        "k=no of principal components\n",
        "\n",
        "***Uses***\n",
        "\n",
        "1.If the dimensions are ***highly correlated***, there will be a small number of\n",
        "eigenvectors with large eigenvalues and ***k will be much smaller than d*** and\n",
        "a large reduction in dimensionality may be attained. This is typically the\n",
        "case in many  ***image and speech processing tasks *** where nearby inputs (in\n",
        "space or time) are highly correlated. \n",
        "\n",
        "2.If the dimensions are ***not correlated, k will be as large as d ***and there is no gain through PCA."
      ],
      "metadata": {
        "id": "IJ1IxBBQ_7eY"
      }
    },
    {
      "cell_type": "code",
      "source": [
        "#import sys\n",
        "#sys.getdefaultencoding()\n",
        "\n",
        "print(\"\\n covariance determinent |S| \\n\",np.linalg.det(V))\n",
        "Ei_prod=Eigenvalues[0]*Eigenvalues[1]*Eigenvalues[2]\n",
        "print(\"\\n product of eigen values \\u03BB \\n\",Ei_prod)\n"
      ],
      "metadata": {
        "colab": {
          "base_uri": "https://localhost:8080/"
        },
        "id": "ri2k0nbd0kwO",
        "outputId": "a2902c4b-0d13-4abf-9c3b-766cd588e320"
      },
      "execution_count": null,
      "outputs": [
        {
          "output_type": "stream",
          "name": "stdout",
          "text": [
            "\n",
            " covariance determinent |S| \n",
            " 3.0837554731988364e-12\n",
            "\n",
            " product of eigen values λ \n",
            " 3.6064772703132648e-12\n"
          ]
        }
      ]
    },
    {
      "cell_type": "markdown",
      "source": [
        "### 15 SCREE GRAPH\n",
        "\n",
        "1.scree graph Scree graph is the plot of variance explained as a function of the number of eigenvectors (see figure below).\n",
        "\n",
        "2.By visually analyzing it, one can also decide on k=principal components. \n",
        "\n",
        "3.At the “elbow,”in the following figure  adding another eigenvector does not\n",
        "significantly increase the variance explained."
      ],
      "metadata": {
        "id": "4ZgsmzOU7s56"
      }
    },
    {
      "cell_type": "code",
      "source": [
        "import matplotlib.pyplot as plt\n",
        "import numpy as np\n",
        "\n",
        "PC_components = [1,2,3]\n",
        "Eigensum=np.sum(Eigenvalues)\n",
        "Prop_variance=[(Eigenvalues[0]/Eigensum),((Eigenvalues[0]+Eigenvalues[1])/Eigensum),(Eigensum/Eigensum)]\n",
        "print(\"\\n Prop_variance \\n\",Prop_variance)\n",
        "fig, axs = plt.subplots(nrows=1, ncols=2)\n",
        "#fig.suptitle('Vertically stacked subplots')\n",
        "axs[0].plot(PC_components, Eigenvalues, 'o-', linewidth=2, color='blue')\n",
        "axs[1].plot(PC_components, Prop_variance, 'o-', linewidth=2, color='blue')\n",
        "#plt.plot(PC_components, Eigenvalues, 'o-', linewidth=2, color='blue')\n",
        "#plt.plot(PC_components, Prop_variance, 'o-', linewidth=2, color='blue')\n",
        "\n",
        "plt.title('Scree Plot')\n",
        "plt.xlabel('Principal Component')\n",
        "plt.ylabel('Variance Explained')\n",
        "plt.show()\n"
      ],
      "metadata": {
        "colab": {
          "base_uri": "https://localhost:8080/",
          "height": 347
        },
        "id": "PRJthW9-_5J1",
        "outputId": "1376f56c-00f5-4d0a-e43e-367259467be4"
      },
      "execution_count": null,
      "outputs": [
        {
          "output_type": "stream",
          "name": "stdout",
          "text": [
            "\n",
            " Prop_variance \n",
            " [0.9383110815095959, 1.0, 1.0]\n"
          ]
        },
        {
          "output_type": "display_data",
          "data": {
            "text/plain": [
              "<Figure size 432x288 with 2 Axes>"
            ],
            "image/png": "[encoded data removed]"
          },
          "metadata": {
            "needs_background": "light"
          }
        }
      ]
    },
    {
      "cell_type": "markdown",
      "source": [
        "### 16 PCA selecting Eigen vectors Another approach:\n",
        "\n",
        "1. If the ***average of eigenvalues is equal to the average input variance***. \n",
        "\n",
        "2. we keep only the *** eigenvectors with eigenvalues greater than the average eigenvalue***, we keep only those that have variance higher than the average input variance."
      ],
      "metadata": {
        "id": "PUYGaFxBrsvm"
      }
    },
    {
      "cell_type": "markdown",
      "source": [
        "### 17 Preprocessing  Inputs before PCA analysis\n",
        "\n",
        " 1. If the ***variances*** of the original $x_i$ dimensions vary considerably, they \n",
        "affect the direction of the principal components ***more than the correlations.***\n",
        "\n",
        " 2. so a common procedure is to preprocess the data so that each\n",
        "dimension has ***mean 0 and unit variance, before using PCA.*** \n",
        "\n",
        "3. Or, one may use the eigenvectors of the ***correlation matrix, R, instead of the covariance matrix, S,*** for the correlations to be effective and not the individual variances."
      ],
      "metadata": {
        "id": "l4NxHa8a9_Qi"
      }
    },
    {
      "cell_type": "markdown",
      "source": [
        "### 18 PCA and Outliers\n",
        "\n",
        "1. PCA explains ***variance and is sensitive to outliers***. A few points distant from the center would have a large effect on the variances and thus the\n",
        "eigenvectors.\n",
        "\n",
        "2. ***Robust estimation*** methods allow calculating parameters in\n",
        "the presence of outliers. \n",
        "\n",
        "3. A simple method is to calculate the ***Mahalanobis distance of the data points***, discarding the isolated data points that are far away\n"
      ],
      "metadata": {
        "id": "gW1IVAAU-2NR"
      }
    },
    {
      "cell_type": "markdown",
      "source": [
        "### 19 PCA Visual analysis:\n",
        "\n",
        "1. If the ***first two principal components*** explain a large percentage of the\n",
        "variance, we can do visual analysis: We can ***plot the PCs*** in this two dimensional space (figure below) and search visually for ***structure, groups,\n",
        "outliers, normality, and so forth***. This plot gives a ***better pictorial description of the sample than a plot of any two of the original variables.***\n",
        "\n",
        "2. By looking at the dimensions of the principal components, we can also\n",
        "try to recover meaningful underlying variables that describe the data. For\n",
        "example, in image applications where the inputs are images, ***the eigenvectors\n",
        "can also be displayed as images*** and can be seen as templates for\n",
        "eigenfaces important features; they are typically named ***“eigenfaces,” “eigendigits,”***"
      ],
      "metadata": {
        "id": "sJYFM9SP_8Ur"
      }
    },
    {
      "cell_type": "code",
      "source": [
        "df = pd.DataFrame(np.random.randint(0,100,size=(15, 4)), columns=['X1','X2','X3','X4'])\n",
        "\n",
        "A = df.to_numpy()\n",
        "M = mean(A.T, axis=1)\n",
        "print(\"\\n Mean of each column \\n\")\n",
        "print(M)\n",
        "# center columns by subtracting column means\n",
        "C = A - M\n",
        "print(\"\\n C=normalised array elements(substract mean fronm each element of Array) \\n\")\n",
        "print(C)\n",
        "# calculate covariance matrix of centered matrix\n",
        "V = cov(C.T)\n",
        "Eigenvalues, Eigenvectors = eig(V)\n",
        "print(\"\\n Eigen Values \\n\",Eigenvalues)\n",
        "print(\"\\n Eigen Vectors \\n\",Eigenvectors)\n",
        "Ei_val_sort=np.sort(Eigenvalues)[::-1]\n",
        "\n",
        "print(\"\\n Ei_val_sort \\n\",Ei_val_sort)\n",
        "I = np.identity(3)\n",
        "D = np.diag(Eigenvalues)\n",
        "S = np.linalg.multi_dot([Eigenvectors, D, Eigenvectors.T])\n",
        "\n",
        "print(\"\\n Diagonal Matrix of eigen values(variances) D \\n\",D)\n",
        "\n",
        "print(\"\\n Estimated Covariance MatrixS \\n\",S)\n",
        "\n",
        "print(\"\\n covariance matrix V \\n\")\n",
        "print(V)\n",
        "\n"
      ],
      "metadata": {
        "colab": {
          "base_uri": "https://localhost:8080/"
        },
        "id": "7aMoD3UJuG13",
        "outputId": "b273dc06-ae55-4cce-8ff2-3f5ca8a45328"
      },
      "execution_count": null,
      "outputs": [
        {
          "output_type": "stream",
          "name": "stdout",
          "text": [
            "\n",
            " Mean of each column \n",
            "\n",
            "[33.66666667 50.8        47.         50.46666667]\n",
            "\n",
            " C=normalised array elements(substract mean fronm each element of Array) \n",
            "\n",
            "[[ -8.66666667   8.2         52.          44.53333333]\n",
            " [  1.33333333 -42.8         43.         -44.46666667]\n",
            " [-32.66666667   9.2        -38.          10.53333333]\n",
            " [  0.33333333 -34.8        -23.          31.53333333]\n",
            " [ 31.33333333 -30.8         12.         -23.46666667]\n",
            " [  5.33333333  16.2         19.         -11.46666667]\n",
            " [ -5.66666667   9.2         -6.         -32.46666667]\n",
            " [ 43.33333333  17.2        -14.         -31.46666667]\n",
            " [-18.66666667   8.2        -12.          17.53333333]\n",
            " [ 12.33333333  13.2         47.         -14.46666667]\n",
            " [  2.33333333 -16.8        -45.          48.53333333]\n",
            " [-27.66666667  20.2        -44.           8.53333333]\n",
            " [ -3.66666667  17.2         33.         -43.46666667]\n",
            " [  7.33333333  10.2        -39.          40.53333333]\n",
            " [ -6.66666667  -3.8         15.          -0.46666667]]\n",
            "\n",
            " Eigen Values \n",
            " [1658.92035192  282.28578063  602.57379977  474.89625815]\n",
            "\n",
            " Eigen Vectors \n",
            " [[ 0.19840718 -0.83906484 -0.15813776  0.48124551]\n",
            " [-0.04678007 -0.47359028 -0.17118259 -0.86268209]\n",
            " [ 0.73652298 -0.03633404  0.65842252 -0.15064369]\n",
            " [-0.6449652  -0.2652589   0.71565967  0.03858557]]\n",
            "\n",
            " Ei_val_sort \n",
            " [1658.92035192  602.57379977  474.89625815  282.28578063]\n",
            "\n",
            " Diagonal Matrix of eigen values(variances) D \n",
            " [[1658.92035192    0.            0.            0.        ]\n",
            " [   0.          282.28578063    0.            0.        ]\n",
            " [   0.            0.          602.57379977    0.        ]\n",
            " [   0.            0.            0.          474.89625815]]\n",
            "\n",
            " Estimated Covariance MatrixS \n",
            " [[ 389.0952381   -84.07142857  153.85714286 -208.83333333]\n",
            " [ -84.07142857  438.02857143  -58.5          -4.11428571]\n",
            " [ 153.85714286  -58.5        1172.28571429 -504.14285714]\n",
            " [-208.83333333   -4.11428571 -504.14285714 1019.26666667]]\n",
            "\n",
            " covariance matrix V \n",
            "\n",
            "[[ 389.0952381   -84.07142857  153.85714286 -208.83333333]\n",
            " [ -84.07142857  438.02857143  -58.5          -4.11428571]\n",
            " [ 153.85714286  -58.5        1172.28571429 -504.14285714]\n",
            " [-208.83333333   -4.11428571 -504.14285714 1019.26666667]]\n"
          ]
        }
      ]
    },
    {
      "cell_type": "markdown",
      "source": [
        "\n",
        "### 20 Visually identify groups, outliers,norms from  original data plot and PCA plots from following figure\n",
        "\n"
      ],
      "metadata": {
        "id": "PXD5tn7R4djJ"
      }
    },
    {
      "cell_type": "code",
      "source": [
        "import pandas as pd\n",
        "\n",
        "n = range(1,15+1)\n",
        "\n",
        "x=A[:,0]\n",
        "y=A[:,2]\n",
        "#plt.figure(figsize=(12, 12))\n",
        "\n",
        "fig, (ax1, ax2) = plt.subplots(1,2,figsize=(12,6))\n",
        "\n",
        "ax1.scatter(x,y)\n",
        "ax1.set_xlabel(\"X1\")\n",
        "ax1.set_ylabel(\"X3\")\n",
        "\n",
        "for i, txt in enumerate(n):\n",
        "    ax1.annotate(txt, (x[i], y[i]))\n",
        "\n",
        "P=A@Eigenvectors\n",
        "\n",
        "x=P[:,0]\n",
        "y=P[:,2]\n",
        "ax2.scatter(x,y)\n",
        "ax2.set_xlabel(\"PC1\")\n",
        "ax2.set_ylabel(\"PC3\")\n",
        "for i, txt in enumerate(n):\n",
        "    ax2.annotate(txt, (x[i], y[i]))\n",
        "plt.show()\n",
        "\n"
      ],
      "metadata": {
        "colab": {
          "base_uri": "https://localhost:8080/",
          "height": 388
        },
        "id": "ogxXfGnStBFY",
        "outputId": "baf651dc-703c-43f2-d589-1389f5b13ca2"
      },
      "execution_count": null,
      "outputs": [
        {
          "output_type": "display_data",
          "data": {
            "text/plain": [
              "<Figure size 864x432 with 2 Axes>"
            ],
            "image/png": "[encoded data removed]"
          },
          "metadata": {
            "needs_background": "light"
          }
        }
      ]
    },
    {
      "cell_type": "markdown",
      "source": [
        "### 21 why PCA is easy  for Classification? \n",
        "\n",
        "1. We know  that if $X ∼N_d(μ,Σ)$, \n",
        "2. then after projection $W^T x ∼N_k(W^Tμ,W^TΣW)$. \n",
        "3. If the sample contains d-variate normals, then\n",
        "it projects to k-variate normals allowing us to do parametric discrimination\n",
        "in this lower-dimensional space.\n",
        "\n",
        "4.  Because projections $z_j$ are uncorrelated, the new covariance matrices will be diagonal, and if they are normalized to have unit variance, Euclidean distance can be used in this new space, leading to a simple classifier."
      ],
      "metadata": {
        "id": "Iv9-n3JL58cf"
      }
    },
    {
      "cell_type": "markdown",
      "source": [
        "### 22 Reconstruction Error\n",
        "\n",
        "we know projection as follows from PCA:\n",
        "\n",
        "$z^t = W^T (x^t − μ)$\n",
        "\n",
        "From above equation we can back project X (reconstruct X)as follows \n",
        "\n",
        "\n",
        "$ {\\hat x}^t = Wz^t + μ$\n",
        "\n",
        "Reconstruction Error is:\n",
        "\n",
        "$ \\Sigma_t ||x^t-{\\hat x}^t||^2$\n",
        "\n",
        "1. for ***PCA*** dimensionality reduction we ***discard some eigenvectors*** with nonzero eigenvalues.\n",
        "2. there will be a ***reconstruction error*** and its magnitude will ***depend on the discarded eigenvalues***. \n",
        "3. In a visual recognition application—for example, ***face recognition***—displaying ${\\hat x}^t$allows a visual check for information loss during PCA\n"
      ],
      "metadata": {
        "id": "mWkSA0SU6zIg"
      }
    },
    {
      "cell_type": "markdown",
      "source": [
        "###  23 Karhunen-Loève expansion  for Classification\n",
        "\n",
        "1. PCA is unsupervised and does not use output information. It is a onegroup\n",
        "procedure. However, ***in the case of classification, there are multiple\n",
        " groups.***\n",
        "\n",
        "2.  Karhunen-Loève expansion allows using class information\n",
        "\n",
        "3. for example, instead of using the covariance matrix of the whole sample, we can estimate ***separate class covariance matrices, take their average (weighted\n",
        "by the priors) as the covariance matrix, and use its eigenvectors.***"
      ],
      "metadata": {
        "id": "FqW5Gb97-iaW"
      }
    },
    {
      "cell_type": "markdown",
      "source": [
        "### 24 Common principal components for Classification\n",
        "\n",
        " 1. we assume that the ***principal components  are the same for each class*** whereas the ***variances of these components differ for different classes:***\n",
        "\n",
        "$S_i = CD_iC^T$\n",
        "\n",
        "2. This allows pooling data and is a ***regularization method*** whose complexity is less than that of a common covariance matrix for all classes ***flexible while still allowing differentiation of $S_i$.***"
      ],
      "metadata": {
        "id": "tbR9Clpw_uC2"
      }
    },
    {
      "cell_type": "markdown",
      "source": [
        "### 25 Flexible discriminant analysis\n",
        "1. It is  discriminant analysis (Hastie, Tibshirani, and Buja 1994), which does a ***linear projection to a lower-dimensional space*** where all **features** are **uncorrelated** and then uses a **minimum distance classifier.**"
      ],
      "metadata": {
        "id": "wSM9HL3EBG6t"
      }
    }
  ]
}