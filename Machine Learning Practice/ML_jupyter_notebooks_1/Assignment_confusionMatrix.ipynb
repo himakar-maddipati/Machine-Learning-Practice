{
  "nbformat": 4,
  "nbformat_minor": 0,
  "metadata": {
    "colab": {
      "provenance": [],
      "collapsed_sections": []
    },
    "kernelspec": {
      "name": "python3",
      "display_name": "Python 3"
    },
    "language_info": {
      "name": "python"
    }
  },
  "cells": [
    {
      "cell_type": "code",
      "execution_count": 3,
      "metadata": {
        "id": "-A7dODyA3Byo"
      },
      "outputs": [],
      "source": [
        "import pandas as pd\n",
        "from google.colab import files\n",
        "import numpy as np\n",
        "from sklearn.metrics import accuracy_score\n",
        "from sklearn.metrics import confusion_matrix\n",
        "\n",
        "import matplotlib.pyplot as plt\n",
        "%matplotlib inline\n",
        "import seaborn as sns\n",
        "\n",
        "#uploaded = files.upload()"
      ]
    },
    {
      "cell_type": "code",
      "source": [
        "import io\n",
        "\n",
        "#data = pd.read_csv(io.BytesIO(uploaded['DUMD_train.csv']))\n",
        "data = pd.read_csv(\"./DUMD_train.csv\")\n",
        "data.head()"
      ],
      "metadata": {
        "colab": {
          "base_uri": "https://localhost:8080/",
          "height": 206
        },
        "id": "Cd0KIpUU3IwJ",
        "outputId": "cac8cbcd-059a-4869-a8ff-b878e6acaaf7"
      },
      "execution_count": 4,
      "outputs": [
        {
          "output_type": "execute_result",
          "data": {
            "text/plain": [
              "    STG   SCG   STR   LPR   PEG       UNS\n",
              "0  0.00  0.00  0.00  0.00  0.00  Very Low\n",
              "1  0.08  0.08  0.10  0.24  0.90      High\n",
              "2  0.10  0.10  0.15  0.65  0.30    Medium\n",
              "3  0.08  0.08  0.08  0.98  0.24       Low\n",
              "4  0.09  0.15  0.40  0.10  0.66    Medium"
            ],
            "text/html": [
              "\n",
              "  <div id=\"df-91896039-6b5b-4b68-bef0-616a750c3c8b\">\n",
              "    <div class=\"colab-df-container\">\n",
              "      <div>\n",
              "<style scoped>\n",
              "    .dataframe tbody tr th:only-of-type {\n",
              "        vertical-align: middle;\n",
              "    }\n",
              "\n",
              "    .dataframe tbody tr th {\n",
              "        vertical-align: top;\n",
              "    }\n",
              "\n",
              "    .dataframe thead th {\n",
              "        text-align: right;\n",
              "    }\n",
              "</style>\n",
              "<table border=\"1\" class=\"dataframe\">\n",
              "  <thead>\n",
              "    <tr style=\"text-align: right;\">\n",
              "      <th></th>\n",
              "      <th>STG</th>\n",
              "      <th>SCG</th>\n",
              "      <th>STR</th>\n",
              "      <th>LPR</th>\n",
              "      <th>PEG</th>\n",
              "      <th>UNS</th>\n",
              "    </tr>\n",
              "  </thead>\n",
              "  <tbody>\n",
              "    <tr>\n",
              "      <th>0</th>\n",
              "      <td>0.00</td>\n",
              "      <td>0.00</td>\n",
              "      <td>0.00</td>\n",
              "      <td>0.00</td>\n",
              "      <td>0.00</td>\n",
              "      <td>Very Low</td>\n",
              "    </tr>\n",
              "    <tr>\n",
              "      <th>1</th>\n",
              "      <td>0.08</td>\n",
              "      <td>0.08</td>\n",
              "      <td>0.10</td>\n",
              "      <td>0.24</td>\n",
              "      <td>0.90</td>\n",
              "      <td>High</td>\n",
              "    </tr>\n",
              "    <tr>\n",
              "      <th>2</th>\n",
              "      <td>0.10</td>\n",
              "      <td>0.10</td>\n",
              "      <td>0.15</td>\n",
              "      <td>0.65</td>\n",
              "      <td>0.30</td>\n",
              "      <td>Medium</td>\n",
              "    </tr>\n",
              "    <tr>\n",
              "      <th>3</th>\n",
              "      <td>0.08</td>\n",
              "      <td>0.08</td>\n",
              "      <td>0.08</td>\n",
              "      <td>0.98</td>\n",
              "      <td>0.24</td>\n",
              "      <td>Low</td>\n",
              "    </tr>\n",
              "    <tr>\n",
              "      <th>4</th>\n",
              "      <td>0.09</td>\n",
              "      <td>0.15</td>\n",
              "      <td>0.40</td>\n",
              "      <td>0.10</td>\n",
              "      <td>0.66</td>\n",
              "      <td>Medium</td>\n",
              "    </tr>\n",
              "  </tbody>\n",
              "</table>\n",
              "</div>\n",
              "      <button class=\"colab-df-convert\" onclick=\"convertToInteractive('df-91896039-6b5b-4b68-bef0-616a750c3c8b')\"\n",
              "              title=\"Convert this dataframe to an interactive table.\"\n",
              "              style=\"display:none;\">\n",
              "        \n",
              "  <svg xmlns=\"http://www.w3.org/2000/svg\" height=\"24px\"viewBox=\"0 0 24 24\"\n",
              "       width=\"24px\">\n",
              "    <path d=\"M0 0h24v24H0V0z\" fill=\"none\"/>\n",
              "    <path d=\"M18.56 5.44l.94 2.06.94-2.06 2.06-.94-2.06-.94-.94-2.06-.94 2.06-2.06.94zm-11 1L8.5 8.5l.94-2.06 2.06-.94-2.06-.94L8.5 2.5l-.94 2.06-2.06.94zm10 10l.94 2.06.94-2.06 2.06-.94-2.06-.94-.94-2.06-.94 2.06-2.06.94z\"/><path d=\"M17.41 7.96l-1.37-1.37c-.4-.4-.92-.59-1.43-.59-.52 0-1.04.2-1.43.59L10.3 9.45l-7.72 7.72c-.78.78-.78 2.05 0 2.83L4 21.41c.39.39.9.59 1.41.59.51 0 1.02-.2 1.41-.59l7.78-7.78 2.81-2.81c.8-.78.8-2.07 0-2.86zM5.41 20L4 18.59l7.72-7.72 1.47 1.35L5.41 20z\"/>\n",
              "  </svg>\n",
              "      </button>\n",
              "      \n",
              "  <style>\n",
              "    .colab-df-container {\n",
              "      display:flex;\n",
              "      flex-wrap:wrap;\n",
              "      gap: 12px;\n",
              "    }\n",
              "\n",
              "    .colab-df-convert {\n",
              "      background-color: #E8F0FE;\n",
              "      border: none;\n",
              "      border-radius: 50%;\n",
              "      cursor: pointer;\n",
              "      display: none;\n",
              "      fill: #1967D2;\n",
              "      height: 32px;\n",
              "      padding: 0 0 0 0;\n",
              "      width: 32px;\n",
              "    }\n",
              "\n",
              "    .colab-df-convert:hover {\n",
              "      background-color: #E2EBFA;\n",
              "      box-shadow: 0px 1px 2px rgba(60, 64, 67, 0.3), 0px 1px 3px 1px rgba(60, 64, 67, 0.15);\n",
              "      fill: #174EA6;\n",
              "    }\n",
              "\n",
              "    [theme=dark] .colab-df-convert {\n",
              "      background-color: #3B4455;\n",
              "      fill: #D2E3FC;\n",
              "    }\n",
              "\n",
              "    [theme=dark] .colab-df-convert:hover {\n",
              "      background-color: #434B5C;\n",
              "      box-shadow: 0px 1px 3px 1px rgba(0, 0, 0, 0.15);\n",
              "      filter: drop-shadow(0px 1px 2px rgba(0, 0, 0, 0.3));\n",
              "      fill: #FFFFFF;\n",
              "    }\n",
              "  </style>\n",
              "\n",
              "      <script>\n",
              "        const buttonEl =\n",
              "          document.querySelector('#df-91896039-6b5b-4b68-bef0-616a750c3c8b button.colab-df-convert');\n",
              "        buttonEl.style.display =\n",
              "          google.colab.kernel.accessAllowed ? 'block' : 'none';\n",
              "\n",
              "        async function convertToInteractive(key) {\n",
              "          const element = document.querySelector('#df-91896039-6b5b-4b68-bef0-616a750c3c8b');\n",
              "          const dataTable =\n",
              "            await google.colab.kernel.invokeFunction('convertToInteractive',\n",
              "                                                     [key], {});\n",
              "          if (!dataTable) return;\n",
              "\n",
              "          const docLinkHtml = 'Like what you see? Visit the ' +\n",
              "            '<a target=\"_blank\" href=https://colab.research.google.com/notebooks/data_table.ipynb>data table notebook</a>'\n",
              "            + ' to learn more about interactive tables.';\n",
              "          element.innerHTML = '';\n",
              "          dataTable['output_type'] = 'display_data';\n",
              "          await google.colab.output.renderOutput(dataTable, element);\n",
              "          const docLink = document.createElement('div');\n",
              "          docLink.innerHTML = docLinkHtml;\n",
              "          element.appendChild(docLink);\n",
              "        }\n",
              "      </script>\n",
              "    </div>\n",
              "  </div>\n",
              "  "
            ]
          },
          "metadata": {},
          "execution_count": 4
        }
      ]
    },
    {
      "cell_type": "code",
      "source": [
        "from sklearn.preprocessing import label_binarize\n",
        "arr=label_binarize(data['UNS'],classes=['High','Low','Medium','Very Low'],neg_label=0, pos_label=1,)\n",
        "print(arr)"
      ],
      "metadata": {
        "colab": {
          "base_uri": "https://localhost:8080/"
        },
        "id": "PJhpzPJ4XGax",
        "outputId": "b7661dff-3aeb-4d94-c094-ed2a1aee2fca"
      },
      "execution_count": 5,
      "outputs": [
        {
          "output_type": "stream",
          "name": "stdout",
          "text": [
            "[[0 0 0 1]\n",
            " [1 0 0 0]\n",
            " [0 0 1 0]\n",
            " ...\n",
            " [0 1 0 0]\n",
            " [0 0 1 0]\n",
            " [0 0 1 0]]\n"
          ]
        }
      ]
    },
    {
      "cell_type": "code",
      "source": [
        "from sklearn.preprocessing import LabelEncoder\n",
        "\n",
        "Encoder = LabelEncoder()\n",
        "\n",
        "\n",
        "\n",
        "data['UNS'] = Encoder.fit_transform(data['UNS'])\n",
        "\n",
        "data.head()\n",
        "\n",
        "#data.describe()"
      ],
      "metadata": {
        "colab": {
          "base_uri": "https://localhost:8080/",
          "height": 206
        },
        "id": "HIObP-Sv3MRz",
        "outputId": "07d8a431-04ab-444c-8906-8af8a87379d9"
      },
      "execution_count": 6,
      "outputs": [
        {
          "output_type": "execute_result",
          "data": {
            "text/plain": [
              "    STG   SCG   STR   LPR   PEG  UNS\n",
              "0  0.00  0.00  0.00  0.00  0.00    3\n",
              "1  0.08  0.08  0.10  0.24  0.90    0\n",
              "2  0.10  0.10  0.15  0.65  0.30    2\n",
              "3  0.08  0.08  0.08  0.98  0.24    1\n",
              "4  0.09  0.15  0.40  0.10  0.66    2"
            ],
            "text/html": [
              "\n",
              "  <div id=\"df-9cdced79-2c52-4515-a10a-eb084da10113\">\n",
              "    <div class=\"colab-df-container\">\n",
              "      <div>\n",
              "<style scoped>\n",
              "    .dataframe tbody tr th:only-of-type {\n",
              "        vertical-align: middle;\n",
              "    }\n",
              "\n",
              "    .dataframe tbody tr th {\n",
              "        vertical-align: top;\n",
              "    }\n",
              "\n",
              "    .dataframe thead th {\n",
              "        text-align: right;\n",
              "    }\n",
              "</style>\n",
              "<table border=\"1\" class=\"dataframe\">\n",
              "  <thead>\n",
              "    <tr style=\"text-align: right;\">\n",
              "      <th></th>\n",
              "      <th>STG</th>\n",
              "      <th>SCG</th>\n",
              "      <th>STR</th>\n",
              "      <th>LPR</th>\n",
              "      <th>PEG</th>\n",
              "      <th>UNS</th>\n",
              "    </tr>\n",
              "  </thead>\n",
              "  <tbody>\n",
              "    <tr>\n",
              "      <th>0</th>\n",
              "      <td>0.00</td>\n",
              "      <td>0.00</td>\n",
              "      <td>0.00</td>\n",
              "      <td>0.00</td>\n",
              "      <td>0.00</td>\n",
              "      <td>3</td>\n",
              "    </tr>\n",
              "    <tr>\n",
              "      <th>1</th>\n",
              "      <td>0.08</td>\n",
              "      <td>0.08</td>\n",
              "      <td>0.10</td>\n",
              "      <td>0.24</td>\n",
              "      <td>0.90</td>\n",
              "      <td>0</td>\n",
              "    </tr>\n",
              "    <tr>\n",
              "      <th>2</th>\n",
              "      <td>0.10</td>\n",
              "      <td>0.10</td>\n",
              "      <td>0.15</td>\n",
              "      <td>0.65</td>\n",
              "      <td>0.30</td>\n",
              "      <td>2</td>\n",
              "    </tr>\n",
              "    <tr>\n",
              "      <th>3</th>\n",
              "      <td>0.08</td>\n",
              "      <td>0.08</td>\n",
              "      <td>0.08</td>\n",
              "      <td>0.98</td>\n",
              "      <td>0.24</td>\n",
              "      <td>1</td>\n",
              "    </tr>\n",
              "    <tr>\n",
              "      <th>4</th>\n",
              "      <td>0.09</td>\n",
              "      <td>0.15</td>\n",
              "      <td>0.40</td>\n",
              "      <td>0.10</td>\n",
              "      <td>0.66</td>\n",
              "      <td>2</td>\n",
              "    </tr>\n",
              "  </tbody>\n",
              "</table>\n",
              "</div>\n",
              "      <button class=\"colab-df-convert\" onclick=\"convertToInteractive('df-9cdced79-2c52-4515-a10a-eb084da10113')\"\n",
              "              title=\"Convert this dataframe to an interactive table.\"\n",
              "              style=\"display:none;\">\n",
              "        \n",
              "  <svg xmlns=\"http://www.w3.org/2000/svg\" height=\"24px\"viewBox=\"0 0 24 24\"\n",
              "       width=\"24px\">\n",
              "    <path d=\"M0 0h24v24H0V0z\" fill=\"none\"/>\n",
              "    <path d=\"M18.56 5.44l.94 2.06.94-2.06 2.06-.94-2.06-.94-.94-2.06-.94 2.06-2.06.94zm-11 1L8.5 8.5l.94-2.06 2.06-.94-2.06-.94L8.5 2.5l-.94 2.06-2.06.94zm10 10l.94 2.06.94-2.06 2.06-.94-2.06-.94-.94-2.06-.94 2.06-2.06.94z\"/><path d=\"M17.41 7.96l-1.37-1.37c-.4-.4-.92-.59-1.43-.59-.52 0-1.04.2-1.43.59L10.3 9.45l-7.72 7.72c-.78.78-.78 2.05 0 2.83L4 21.41c.39.39.9.59 1.41.59.51 0 1.02-.2 1.41-.59l7.78-7.78 2.81-2.81c.8-.78.8-2.07 0-2.86zM5.41 20L4 18.59l7.72-7.72 1.47 1.35L5.41 20z\"/>\n",
              "  </svg>\n",
              "      </button>\n",
              "      \n",
              "  <style>\n",
              "    .colab-df-container {\n",
              "      display:flex;\n",
              "      flex-wrap:wrap;\n",
              "      gap: 12px;\n",
              "    }\n",
              "\n",
              "    .colab-df-convert {\n",
              "      background-color: #E8F0FE;\n",
              "      border: none;\n",
              "      border-radius: 50%;\n",
              "      cursor: pointer;\n",
              "      display: none;\n",
              "      fill: #1967D2;\n",
              "      height: 32px;\n",
              "      padding: 0 0 0 0;\n",
              "      width: 32px;\n",
              "    }\n",
              "\n",
              "    .colab-df-convert:hover {\n",
              "      background-color: #E2EBFA;\n",
              "      box-shadow: 0px 1px 2px rgba(60, 64, 67, 0.3), 0px 1px 3px 1px rgba(60, 64, 67, 0.15);\n",
              "      fill: #174EA6;\n",
              "    }\n",
              "\n",
              "    [theme=dark] .colab-df-convert {\n",
              "      background-color: #3B4455;\n",
              "      fill: #D2E3FC;\n",
              "    }\n",
              "\n",
              "    [theme=dark] .colab-df-convert:hover {\n",
              "      background-color: #434B5C;\n",
              "      box-shadow: 0px 1px 3px 1px rgba(0, 0, 0, 0.15);\n",
              "      filter: drop-shadow(0px 1px 2px rgba(0, 0, 0, 0.3));\n",
              "      fill: #FFFFFF;\n",
              "    }\n",
              "  </style>\n",
              "\n",
              "      <script>\n",
              "        const buttonEl =\n",
              "          document.querySelector('#df-9cdced79-2c52-4515-a10a-eb084da10113 button.colab-df-convert');\n",
              "        buttonEl.style.display =\n",
              "          google.colab.kernel.accessAllowed ? 'block' : 'none';\n",
              "\n",
              "        async function convertToInteractive(key) {\n",
              "          const element = document.querySelector('#df-9cdced79-2c52-4515-a10a-eb084da10113');\n",
              "          const dataTable =\n",
              "            await google.colab.kernel.invokeFunction('convertToInteractive',\n",
              "                                                     [key], {});\n",
              "          if (!dataTable) return;\n",
              "\n",
              "          const docLinkHtml = 'Like what you see? Visit the ' +\n",
              "            '<a target=\"_blank\" href=https://colab.research.google.com/notebooks/data_table.ipynb>data table notebook</a>'\n",
              "            + ' to learn more about interactive tables.';\n",
              "          element.innerHTML = '';\n",
              "          dataTable['output_type'] = 'display_data';\n",
              "          await google.colab.output.renderOutput(dataTable, element);\n",
              "          const docLink = document.createElement('div');\n",
              "          docLink.innerHTML = docLinkHtml;\n",
              "          element.appendChild(docLink);\n",
              "        }\n",
              "      </script>\n",
              "    </div>\n",
              "  </div>\n",
              "  "
            ]
          },
          "metadata": {},
          "execution_count": 6
        }
      ]
    },
    {
      "cell_type": "code",
      "source": [
        "from sklearn.preprocessing import label_binarize\n",
        "arr=label_binarize(data['UNS'],classes=[0,1,2,3],neg_label=0, pos_label=1)\n",
        "print(arr)\n",
        "data['VeryLow']=arr[:,3:]\n",
        "data['Low']=arr[:,1:2]\n",
        "data['Medium']=arr[:,2:3]\n",
        "data['High']=arr[:,0:1]\n",
        "\n"
      ],
      "metadata": {
        "colab": {
          "base_uri": "https://localhost:8080/"
        },
        "id": "R0ZkxW6C3iKm",
        "outputId": "4fcb038f-001c-41a0-ac18-8ecda182a683"
      },
      "execution_count": 7,
      "outputs": [
        {
          "output_type": "stream",
          "name": "stdout",
          "text": [
            "[[0 0 0 1]\n",
            " [1 0 0 0]\n",
            " [0 0 1 0]\n",
            " ...\n",
            " [0 1 0 0]\n",
            " [0 0 1 0]\n",
            " [0 0 1 0]]\n"
          ]
        }
      ]
    },
    {
      "cell_type": "code",
      "source": [
        "data.head()"
      ],
      "metadata": {
        "colab": {
          "base_uri": "https://localhost:8080/",
          "height": 206
        },
        "id": "FE0RirEP9p7o",
        "outputId": "8cb7c14b-159b-4e0e-a4de-1e8db6fecf21"
      },
      "execution_count": 8,
      "outputs": [
        {
          "output_type": "execute_result",
          "data": {
            "text/plain": [
              "    STG   SCG   STR   LPR   PEG  UNS  VeryLow  Low  Medium  High\n",
              "0  0.00  0.00  0.00  0.00  0.00    3        1    0       0     0\n",
              "1  0.08  0.08  0.10  0.24  0.90    0        0    0       0     1\n",
              "2  0.10  0.10  0.15  0.65  0.30    2        0    0       1     0\n",
              "3  0.08  0.08  0.08  0.98  0.24    1        0    1       0     0\n",
              "4  0.09  0.15  0.40  0.10  0.66    2        0    0       1     0"
            ],
            "text/html": [
              "\n",
              "  <div id=\"df-097d8089-c106-49f7-b308-b1866198dde6\">\n",
              "    <div class=\"colab-df-container\">\n",
              "      <div>\n",
              "<style scoped>\n",
              "    .dataframe tbody tr th:only-of-type {\n",
              "        vertical-align: middle;\n",
              "    }\n",
              "\n",
              "    .dataframe tbody tr th {\n",
              "        vertical-align: top;\n",
              "    }\n",
              "\n",
              "    .dataframe thead th {\n",
              "        text-align: right;\n",
              "    }\n",
              "</style>\n",
              "<table border=\"1\" class=\"dataframe\">\n",
              "  <thead>\n",
              "    <tr style=\"text-align: right;\">\n",
              "      <th></th>\n",
              "      <th>STG</th>\n",
              "      <th>SCG</th>\n",
              "      <th>STR</th>\n",
              "      <th>LPR</th>\n",
              "      <th>PEG</th>\n",
              "      <th>UNS</th>\n",
              "      <th>VeryLow</th>\n",
              "      <th>Low</th>\n",
              "      <th>Medium</th>\n",
              "      <th>High</th>\n",
              "    </tr>\n",
              "  </thead>\n",
              "  <tbody>\n",
              "    <tr>\n",
              "      <th>0</th>\n",
              "      <td>0.00</td>\n",
              "      <td>0.00</td>\n",
              "      <td>0.00</td>\n",
              "      <td>0.00</td>\n",
              "      <td>0.00</td>\n",
              "      <td>3</td>\n",
              "      <td>1</td>\n",
              "      <td>0</td>\n",
              "      <td>0</td>\n",
              "      <td>0</td>\n",
              "    </tr>\n",
              "    <tr>\n",
              "      <th>1</th>\n",
              "      <td>0.08</td>\n",
              "      <td>0.08</td>\n",
              "      <td>0.10</td>\n",
              "      <td>0.24</td>\n",
              "      <td>0.90</td>\n",
              "      <td>0</td>\n",
              "      <td>0</td>\n",
              "      <td>0</td>\n",
              "      <td>0</td>\n",
              "      <td>1</td>\n",
              "    </tr>\n",
              "    <tr>\n",
              "      <th>2</th>\n",
              "      <td>0.10</td>\n",
              "      <td>0.10</td>\n",
              "      <td>0.15</td>\n",
              "      <td>0.65</td>\n",
              "      <td>0.30</td>\n",
              "      <td>2</td>\n",
              "      <td>0</td>\n",
              "      <td>0</td>\n",
              "      <td>1</td>\n",
              "      <td>0</td>\n",
              "    </tr>\n",
              "    <tr>\n",
              "      <th>3</th>\n",
              "      <td>0.08</td>\n",
              "      <td>0.08</td>\n",
              "      <td>0.08</td>\n",
              "      <td>0.98</td>\n",
              "      <td>0.24</td>\n",
              "      <td>1</td>\n",
              "      <td>0</td>\n",
              "      <td>1</td>\n",
              "      <td>0</td>\n",
              "      <td>0</td>\n",
              "    </tr>\n",
              "    <tr>\n",
              "      <th>4</th>\n",
              "      <td>0.09</td>\n",
              "      <td>0.15</td>\n",
              "      <td>0.40</td>\n",
              "      <td>0.10</td>\n",
              "      <td>0.66</td>\n",
              "      <td>2</td>\n",
              "      <td>0</td>\n",
              "      <td>0</td>\n",
              "      <td>1</td>\n",
              "      <td>0</td>\n",
              "    </tr>\n",
              "  </tbody>\n",
              "</table>\n",
              "</div>\n",
              "      <button class=\"colab-df-convert\" onclick=\"convertToInteractive('df-097d8089-c106-49f7-b308-b1866198dde6')\"\n",
              "              title=\"Convert this dataframe to an interactive table.\"\n",
              "              style=\"display:none;\">\n",
              "        \n",
              "  <svg xmlns=\"http://www.w3.org/2000/svg\" height=\"24px\"viewBox=\"0 0 24 24\"\n",
              "       width=\"24px\">\n",
              "    <path d=\"M0 0h24v24H0V0z\" fill=\"none\"/>\n",
              "    <path d=\"M18.56 5.44l.94 2.06.94-2.06 2.06-.94-2.06-.94-.94-2.06-.94 2.06-2.06.94zm-11 1L8.5 8.5l.94-2.06 2.06-.94-2.06-.94L8.5 2.5l-.94 2.06-2.06.94zm10 10l.94 2.06.94-2.06 2.06-.94-2.06-.94-.94-2.06-.94 2.06-2.06.94z\"/><path d=\"M17.41 7.96l-1.37-1.37c-.4-.4-.92-.59-1.43-.59-.52 0-1.04.2-1.43.59L10.3 9.45l-7.72 7.72c-.78.78-.78 2.05 0 2.83L4 21.41c.39.39.9.59 1.41.59.51 0 1.02-.2 1.41-.59l7.78-7.78 2.81-2.81c.8-.78.8-2.07 0-2.86zM5.41 20L4 18.59l7.72-7.72 1.47 1.35L5.41 20z\"/>\n",
              "  </svg>\n",
              "      </button>\n",
              "      \n",
              "  <style>\n",
              "    .colab-df-container {\n",
              "      display:flex;\n",
              "      flex-wrap:wrap;\n",
              "      gap: 12px;\n",
              "    }\n",
              "\n",
              "    .colab-df-convert {\n",
              "      background-color: #E8F0FE;\n",
              "      border: none;\n",
              "      border-radius: 50%;\n",
              "      cursor: pointer;\n",
              "      display: none;\n",
              "      fill: #1967D2;\n",
              "      height: 32px;\n",
              "      padding: 0 0 0 0;\n",
              "      width: 32px;\n",
              "    }\n",
              "\n",
              "    .colab-df-convert:hover {\n",
              "      background-color: #E2EBFA;\n",
              "      box-shadow: 0px 1px 2px rgba(60, 64, 67, 0.3), 0px 1px 3px 1px rgba(60, 64, 67, 0.15);\n",
              "      fill: #174EA6;\n",
              "    }\n",
              "\n",
              "    [theme=dark] .colab-df-convert {\n",
              "      background-color: #3B4455;\n",
              "      fill: #D2E3FC;\n",
              "    }\n",
              "\n",
              "    [theme=dark] .colab-df-convert:hover {\n",
              "      background-color: #434B5C;\n",
              "      box-shadow: 0px 1px 3px 1px rgba(0, 0, 0, 0.15);\n",
              "      filter: drop-shadow(0px 1px 2px rgba(0, 0, 0, 0.3));\n",
              "      fill: #FFFFFF;\n",
              "    }\n",
              "  </style>\n",
              "\n",
              "      <script>\n",
              "        const buttonEl =\n",
              "          document.querySelector('#df-097d8089-c106-49f7-b308-b1866198dde6 button.colab-df-convert');\n",
              "        buttonEl.style.display =\n",
              "          google.colab.kernel.accessAllowed ? 'block' : 'none';\n",
              "\n",
              "        async function convertToInteractive(key) {\n",
              "          const element = document.querySelector('#df-097d8089-c106-49f7-b308-b1866198dde6');\n",
              "          const dataTable =\n",
              "            await google.colab.kernel.invokeFunction('convertToInteractive',\n",
              "                                                     [key], {});\n",
              "          if (!dataTable) return;\n",
              "\n",
              "          const docLinkHtml = 'Like what you see? Visit the ' +\n",
              "            '<a target=\"_blank\" href=https://colab.research.google.com/notebooks/data_table.ipynb>data table notebook</a>'\n",
              "            + ' to learn more about interactive tables.';\n",
              "          element.innerHTML = '';\n",
              "          dataTable['output_type'] = 'display_data';\n",
              "          await google.colab.output.renderOutput(dataTable, element);\n",
              "          const docLink = document.createElement('div');\n",
              "          docLink.innerHTML = docLinkHtml;\n",
              "          element.appendChild(docLink);\n",
              "        }\n",
              "      </script>\n",
              "    </div>\n",
              "  </div>\n",
              "  "
            ]
          },
          "metadata": {},
          "execution_count": 8
        }
      ]
    },
    {
      "cell_type": "code",
      "source": [
        "from sklearn import svm\n",
        "\n",
        "rbf1 = svm.SVC(kernel='linear', gamma=1.0, C=1.0,probability=True).fit(data[['LPR','PEG']], data['VeryLow'])\n",
        "print(rbf1.classes_)"
      ],
      "metadata": {
        "id": "q9muNiJwBlV-",
        "colab": {
          "base_uri": "https://localhost:8080/"
        },
        "outputId": "814fd9e6-cc39-4f9d-b0c0-2f0796d3081f"
      },
      "execution_count": 9,
      "outputs": [
        {
          "output_type": "stream",
          "name": "stdout",
          "text": [
            "[0 1]\n"
          ]
        }
      ]
    },
    {
      "cell_type": "code",
      "source": [
        "from sklearn import svm\n",
        "\n",
        "rbf2 = svm.SVC(kernel='linear', gamma=1.0, C=1.0,probability=True).fit(data[['LPR','PEG']], data.Low.values)"
      ],
      "metadata": {
        "id": "jvOFPWCZB6B0"
      },
      "execution_count": 10,
      "outputs": []
    },
    {
      "cell_type": "code",
      "source": [
        "from sklearn import svm\n",
        "\n",
        "rbf3 = svm.SVC(kernel='linear', gamma=1.0, C=1.0,probability=True).fit(data[['LPR','PEG']], data.Medium.values)"
      ],
      "metadata": {
        "id": "f-ytVsmmB_kj"
      },
      "execution_count": 11,
      "outputs": []
    },
    {
      "cell_type": "code",
      "source": [
        "from sklearn import svm\n",
        "\n",
        "rbf4 = svm.SVC(kernel='linear', gamma=1.0, C=1.0,probability=True).fit(data[['LPR','PEG']], data.High.values)"
      ],
      "metadata": {
        "id": "1g4pEBvBCCyK"
      },
      "execution_count": 12,
      "outputs": []
    },
    {
      "cell_type": "code",
      "source": [
        "#uploaded = files.upload()\n",
        "\n",
        "#test_data = pd.read_csv(io.BytesIO(uploaded['DUMD_test.csv']))\n",
        "test_data=pd.read_csv(\"./DUMD_test.csv\")\n",
        "test_data.head()\n"
      ],
      "metadata": {
        "colab": {
          "base_uri": "https://localhost:8080/",
          "height": 206
        },
        "id": "tnNiMM5UCPSB",
        "outputId": "9aa3e902-d293-4c27-efe1-e3ce75869f64"
      },
      "execution_count": 13,
      "outputs": [
        {
          "output_type": "execute_result",
          "data": {
            "text/plain": [
              "     STG    SCG    STR   LPR   PEG       UNS\n",
              "0  0.420  0.290  0.140  0.03  0.68    Medium\n",
              "1  0.100  0.100  0.520  0.78  0.34    Medium\n",
              "2  0.510  0.255  0.550  0.17  0.64    Medium\n",
              "3  0.250  0.540  0.310  0.25  0.08  Very Low\n",
              "4  0.258  0.250  0.295  0.33  0.77      High"
            ],
            "text/html": [
              "\n",
              "  <div id=\"df-c04db573-cd03-4e2a-b392-cbc89ac7fda8\">\n",
              "    <div class=\"colab-df-container\">\n",
              "      <div>\n",
              "<style scoped>\n",
              "    .dataframe tbody tr th:only-of-type {\n",
              "        vertical-align: middle;\n",
              "    }\n",
              "\n",
              "    .dataframe tbody tr th {\n",
              "        vertical-align: top;\n",
              "    }\n",
              "\n",
              "    .dataframe thead th {\n",
              "        text-align: right;\n",
              "    }\n",
              "</style>\n",
              "<table border=\"1\" class=\"dataframe\">\n",
              "  <thead>\n",
              "    <tr style=\"text-align: right;\">\n",
              "      <th></th>\n",
              "      <th>STG</th>\n",
              "      <th>SCG</th>\n",
              "      <th>STR</th>\n",
              "      <th>LPR</th>\n",
              "      <th>PEG</th>\n",
              "      <th>UNS</th>\n",
              "    </tr>\n",
              "  </thead>\n",
              "  <tbody>\n",
              "    <tr>\n",
              "      <th>0</th>\n",
              "      <td>0.420</td>\n",
              "      <td>0.290</td>\n",
              "      <td>0.140</td>\n",
              "      <td>0.03</td>\n",
              "      <td>0.68</td>\n",
              "      <td>Medium</td>\n",
              "    </tr>\n",
              "    <tr>\n",
              "      <th>1</th>\n",
              "      <td>0.100</td>\n",
              "      <td>0.100</td>\n",
              "      <td>0.520</td>\n",
              "      <td>0.78</td>\n",
              "      <td>0.34</td>\n",
              "      <td>Medium</td>\n",
              "    </tr>\n",
              "    <tr>\n",
              "      <th>2</th>\n",
              "      <td>0.510</td>\n",
              "      <td>0.255</td>\n",
              "      <td>0.550</td>\n",
              "      <td>0.17</td>\n",
              "      <td>0.64</td>\n",
              "      <td>Medium</td>\n",
              "    </tr>\n",
              "    <tr>\n",
              "      <th>3</th>\n",
              "      <td>0.250</td>\n",
              "      <td>0.540</td>\n",
              "      <td>0.310</td>\n",
              "      <td>0.25</td>\n",
              "      <td>0.08</td>\n",
              "      <td>Very Low</td>\n",
              "    </tr>\n",
              "    <tr>\n",
              "      <th>4</th>\n",
              "      <td>0.258</td>\n",
              "      <td>0.250</td>\n",
              "      <td>0.295</td>\n",
              "      <td>0.33</td>\n",
              "      <td>0.77</td>\n",
              "      <td>High</td>\n",
              "    </tr>\n",
              "  </tbody>\n",
              "</table>\n",
              "</div>\n",
              "      <button class=\"colab-df-convert\" onclick=\"convertToInteractive('df-c04db573-cd03-4e2a-b392-cbc89ac7fda8')\"\n",
              "              title=\"Convert this dataframe to an interactive table.\"\n",
              "              style=\"display:none;\">\n",
              "        \n",
              "  <svg xmlns=\"http://www.w3.org/2000/svg\" height=\"24px\"viewBox=\"0 0 24 24\"\n",
              "       width=\"24px\">\n",
              "    <path d=\"M0 0h24v24H0V0z\" fill=\"none\"/>\n",
              "    <path d=\"M18.56 5.44l.94 2.06.94-2.06 2.06-.94-2.06-.94-.94-2.06-.94 2.06-2.06.94zm-11 1L8.5 8.5l.94-2.06 2.06-.94-2.06-.94L8.5 2.5l-.94 2.06-2.06.94zm10 10l.94 2.06.94-2.06 2.06-.94-2.06-.94-.94-2.06-.94 2.06-2.06.94z\"/><path d=\"M17.41 7.96l-1.37-1.37c-.4-.4-.92-.59-1.43-.59-.52 0-1.04.2-1.43.59L10.3 9.45l-7.72 7.72c-.78.78-.78 2.05 0 2.83L4 21.41c.39.39.9.59 1.41.59.51 0 1.02-.2 1.41-.59l7.78-7.78 2.81-2.81c.8-.78.8-2.07 0-2.86zM5.41 20L4 18.59l7.72-7.72 1.47 1.35L5.41 20z\"/>\n",
              "  </svg>\n",
              "      </button>\n",
              "      \n",
              "  <style>\n",
              "    .colab-df-container {\n",
              "      display:flex;\n",
              "      flex-wrap:wrap;\n",
              "      gap: 12px;\n",
              "    }\n",
              "\n",
              "    .colab-df-convert {\n",
              "      background-color: #E8F0FE;\n",
              "      border: none;\n",
              "      border-radius: 50%;\n",
              "      cursor: pointer;\n",
              "      display: none;\n",
              "      fill: #1967D2;\n",
              "      height: 32px;\n",
              "      padding: 0 0 0 0;\n",
              "      width: 32px;\n",
              "    }\n",
              "\n",
              "    .colab-df-convert:hover {\n",
              "      background-color: #E2EBFA;\n",
              "      box-shadow: 0px 1px 2px rgba(60, 64, 67, 0.3), 0px 1px 3px 1px rgba(60, 64, 67, 0.15);\n",
              "      fill: #174EA6;\n",
              "    }\n",
              "\n",
              "    [theme=dark] .colab-df-convert {\n",
              "      background-color: #3B4455;\n",
              "      fill: #D2E3FC;\n",
              "    }\n",
              "\n",
              "    [theme=dark] .colab-df-convert:hover {\n",
              "      background-color: #434B5C;\n",
              "      box-shadow: 0px 1px 3px 1px rgba(0, 0, 0, 0.15);\n",
              "      filter: drop-shadow(0px 1px 2px rgba(0, 0, 0, 0.3));\n",
              "      fill: #FFFFFF;\n",
              "    }\n",
              "  </style>\n",
              "\n",
              "      <script>\n",
              "        const buttonEl =\n",
              "          document.querySelector('#df-c04db573-cd03-4e2a-b392-cbc89ac7fda8 button.colab-df-convert');\n",
              "        buttonEl.style.display =\n",
              "          google.colab.kernel.accessAllowed ? 'block' : 'none';\n",
              "\n",
              "        async function convertToInteractive(key) {\n",
              "          const element = document.querySelector('#df-c04db573-cd03-4e2a-b392-cbc89ac7fda8');\n",
              "          const dataTable =\n",
              "            await google.colab.kernel.invokeFunction('convertToInteractive',\n",
              "                                                     [key], {});\n",
              "          if (!dataTable) return;\n",
              "\n",
              "          const docLinkHtml = 'Like what you see? Visit the ' +\n",
              "            '<a target=\"_blank\" href=https://colab.research.google.com/notebooks/data_table.ipynb>data table notebook</a>'\n",
              "            + ' to learn more about interactive tables.';\n",
              "          element.innerHTML = '';\n",
              "          dataTable['output_type'] = 'display_data';\n",
              "          await google.colab.output.renderOutput(dataTable, element);\n",
              "          const docLink = document.createElement('div');\n",
              "          docLink.innerHTML = docLinkHtml;\n",
              "          element.appendChild(docLink);\n",
              "        }\n",
              "      </script>\n",
              "    </div>\n",
              "  </div>\n",
              "  "
            ]
          },
          "metadata": {},
          "execution_count": 13
        }
      ]
    },
    {
      "cell_type": "code",
      "source": [
        "test_data['UNS'].value_counts()\n"
      ],
      "metadata": {
        "colab": {
          "base_uri": "https://localhost:8080/"
        },
        "id": "jUFSrpuUeKYZ",
        "outputId": "4c0f791a-6b8e-49ec-8a32-3e150d7c0c11"
      },
      "execution_count": 14,
      "outputs": [
        {
          "output_type": "execute_result",
          "data": {
            "text/plain": [
              "Low         26\n",
              "Medium      22\n",
              "High        21\n",
              "Very Low    11\n",
              "Name: UNS, dtype: int64"
            ]
          },
          "metadata": {},
          "execution_count": 14
        }
      ]
    },
    {
      "cell_type": "code",
      "source": [
        "Encoder2 = LabelEncoder()\n",
        "test_data['UNS'] = Encoder2.fit_transform(test_data['UNS'])\n",
        "\n",
        "test_data.head()\n"
      ],
      "metadata": {
        "colab": {
          "base_uri": "https://localhost:8080/",
          "height": 206
        },
        "id": "z4sVcSaZeFVX",
        "outputId": "b8423d75-c60c-4b5d-f719-ed07fb096aa7"
      },
      "execution_count": 15,
      "outputs": [
        {
          "output_type": "execute_result",
          "data": {
            "text/plain": [
              "     STG    SCG    STR   LPR   PEG  UNS\n",
              "0  0.420  0.290  0.140  0.03  0.68    2\n",
              "1  0.100  0.100  0.520  0.78  0.34    2\n",
              "2  0.510  0.255  0.550  0.17  0.64    2\n",
              "3  0.250  0.540  0.310  0.25  0.08    3\n",
              "4  0.258  0.250  0.295  0.33  0.77    0"
            ],
            "text/html": [
              "\n",
              "  <div id=\"df-b7e13037-f8f9-4435-84d4-02055f243742\">\n",
              "    <div class=\"colab-df-container\">\n",
              "      <div>\n",
              "<style scoped>\n",
              "    .dataframe tbody tr th:only-of-type {\n",
              "        vertical-align: middle;\n",
              "    }\n",
              "\n",
              "    .dataframe tbody tr th {\n",
              "        vertical-align: top;\n",
              "    }\n",
              "\n",
              "    .dataframe thead th {\n",
              "        text-align: right;\n",
              "    }\n",
              "</style>\n",
              "<table border=\"1\" class=\"dataframe\">\n",
              "  <thead>\n",
              "    <tr style=\"text-align: right;\">\n",
              "      <th></th>\n",
              "      <th>STG</th>\n",
              "      <th>SCG</th>\n",
              "      <th>STR</th>\n",
              "      <th>LPR</th>\n",
              "      <th>PEG</th>\n",
              "      <th>UNS</th>\n",
              "    </tr>\n",
              "  </thead>\n",
              "  <tbody>\n",
              "    <tr>\n",
              "      <th>0</th>\n",
              "      <td>0.420</td>\n",
              "      <td>0.290</td>\n",
              "      <td>0.140</td>\n",
              "      <td>0.03</td>\n",
              "      <td>0.68</td>\n",
              "      <td>2</td>\n",
              "    </tr>\n",
              "    <tr>\n",
              "      <th>1</th>\n",
              "      <td>0.100</td>\n",
              "      <td>0.100</td>\n",
              "      <td>0.520</td>\n",
              "      <td>0.78</td>\n",
              "      <td>0.34</td>\n",
              "      <td>2</td>\n",
              "    </tr>\n",
              "    <tr>\n",
              "      <th>2</th>\n",
              "      <td>0.510</td>\n",
              "      <td>0.255</td>\n",
              "      <td>0.550</td>\n",
              "      <td>0.17</td>\n",
              "      <td>0.64</td>\n",
              "      <td>2</td>\n",
              "    </tr>\n",
              "    <tr>\n",
              "      <th>3</th>\n",
              "      <td>0.250</td>\n",
              "      <td>0.540</td>\n",
              "      <td>0.310</td>\n",
              "      <td>0.25</td>\n",
              "      <td>0.08</td>\n",
              "      <td>3</td>\n",
              "    </tr>\n",
              "    <tr>\n",
              "      <th>4</th>\n",
              "      <td>0.258</td>\n",
              "      <td>0.250</td>\n",
              "      <td>0.295</td>\n",
              "      <td>0.33</td>\n",
              "      <td>0.77</td>\n",
              "      <td>0</td>\n",
              "    </tr>\n",
              "  </tbody>\n",
              "</table>\n",
              "</div>\n",
              "      <button class=\"colab-df-convert\" onclick=\"convertToInteractive('df-b7e13037-f8f9-4435-84d4-02055f243742')\"\n",
              "              title=\"Convert this dataframe to an interactive table.\"\n",
              "              style=\"display:none;\">\n",
              "        \n",
              "  <svg xmlns=\"http://www.w3.org/2000/svg\" height=\"24px\"viewBox=\"0 0 24 24\"\n",
              "       width=\"24px\">\n",
              "    <path d=\"M0 0h24v24H0V0z\" fill=\"none\"/>\n",
              "    <path d=\"M18.56 5.44l.94 2.06.94-2.06 2.06-.94-2.06-.94-.94-2.06-.94 2.06-2.06.94zm-11 1L8.5 8.5l.94-2.06 2.06-.94-2.06-.94L8.5 2.5l-.94 2.06-2.06.94zm10 10l.94 2.06.94-2.06 2.06-.94-2.06-.94-.94-2.06-.94 2.06-2.06.94z\"/><path d=\"M17.41 7.96l-1.37-1.37c-.4-.4-.92-.59-1.43-.59-.52 0-1.04.2-1.43.59L10.3 9.45l-7.72 7.72c-.78.78-.78 2.05 0 2.83L4 21.41c.39.39.9.59 1.41.59.51 0 1.02-.2 1.41-.59l7.78-7.78 2.81-2.81c.8-.78.8-2.07 0-2.86zM5.41 20L4 18.59l7.72-7.72 1.47 1.35L5.41 20z\"/>\n",
              "  </svg>\n",
              "      </button>\n",
              "      \n",
              "  <style>\n",
              "    .colab-df-container {\n",
              "      display:flex;\n",
              "      flex-wrap:wrap;\n",
              "      gap: 12px;\n",
              "    }\n",
              "\n",
              "    .colab-df-convert {\n",
              "      background-color: #E8F0FE;\n",
              "      border: none;\n",
              "      border-radius: 50%;\n",
              "      cursor: pointer;\n",
              "      display: none;\n",
              "      fill: #1967D2;\n",
              "      height: 32px;\n",
              "      padding: 0 0 0 0;\n",
              "      width: 32px;\n",
              "    }\n",
              "\n",
              "    .colab-df-convert:hover {\n",
              "      background-color: #E2EBFA;\n",
              "      box-shadow: 0px 1px 2px rgba(60, 64, 67, 0.3), 0px 1px 3px 1px rgba(60, 64, 67, 0.15);\n",
              "      fill: #174EA6;\n",
              "    }\n",
              "\n",
              "    [theme=dark] .colab-df-convert {\n",
              "      background-color: #3B4455;\n",
              "      fill: #D2E3FC;\n",
              "    }\n",
              "\n",
              "    [theme=dark] .colab-df-convert:hover {\n",
              "      background-color: #434B5C;\n",
              "      box-shadow: 0px 1px 3px 1px rgba(0, 0, 0, 0.15);\n",
              "      filter: drop-shadow(0px 1px 2px rgba(0, 0, 0, 0.3));\n",
              "      fill: #FFFFFF;\n",
              "    }\n",
              "  </style>\n",
              "\n",
              "      <script>\n",
              "        const buttonEl =\n",
              "          document.querySelector('#df-b7e13037-f8f9-4435-84d4-02055f243742 button.colab-df-convert');\n",
              "        buttonEl.style.display =\n",
              "          google.colab.kernel.accessAllowed ? 'block' : 'none';\n",
              "\n",
              "        async function convertToInteractive(key) {\n",
              "          const element = document.querySelector('#df-b7e13037-f8f9-4435-84d4-02055f243742');\n",
              "          const dataTable =\n",
              "            await google.colab.kernel.invokeFunction('convertToInteractive',\n",
              "                                                     [key], {});\n",
              "          if (!dataTable) return;\n",
              "\n",
              "          const docLinkHtml = 'Like what you see? Visit the ' +\n",
              "            '<a target=\"_blank\" href=https://colab.research.google.com/notebooks/data_table.ipynb>data table notebook</a>'\n",
              "            + ' to learn more about interactive tables.';\n",
              "          element.innerHTML = '';\n",
              "          dataTable['output_type'] = 'display_data';\n",
              "          await google.colab.output.renderOutput(dataTable, element);\n",
              "          const docLink = document.createElement('div');\n",
              "          docLink.innerHTML = docLinkHtml;\n",
              "          element.appendChild(docLink);\n",
              "        }\n",
              "      </script>\n",
              "    </div>\n",
              "  </div>\n",
              "  "
            ]
          },
          "metadata": {},
          "execution_count": 15
        }
      ]
    },
    {
      "cell_type": "code",
      "source": [
        "#0=high,1=low,2=medium,verylow=3\n",
        "arr=label_binarize(test_data['UNS'],classes=[0,1,2,3])\n",
        "print(arr)\n",
        "test_data['VeryLow']=arr[:,3:]\n",
        "test_data['Low']=arr[:,1:2]\n",
        "test_data['Medium']=arr[:,2:3]\n",
        "test_data['High']=arr[:,0:1]"
      ],
      "metadata": {
        "colab": {
          "base_uri": "https://localhost:8080/"
        },
        "id": "6hYDjJgNCpND",
        "outputId": "3282cf94-6de4-49ca-fe52-4f4d468a2cd3"
      },
      "execution_count": 16,
      "outputs": [
        {
          "output_type": "stream",
          "name": "stdout",
          "text": [
            "[[0 0 1 0]\n",
            " [0 0 1 0]\n",
            " [0 0 1 0]\n",
            " [0 0 0 1]\n",
            " [1 0 0 0]\n",
            " [1 0 0 0]\n",
            " [0 0 1 0]\n",
            " [1 0 0 0]\n",
            " [0 1 0 0]\n",
            " [0 0 1 0]\n",
            " [0 0 1 0]\n",
            " [0 1 0 0]\n",
            " [1 0 0 0]\n",
            " [0 0 0 1]\n",
            " [1 0 0 0]\n",
            " [0 1 0 0]\n",
            " [0 0 1 0]\n",
            " [1 0 0 0]\n",
            " [0 1 0 0]\n",
            " [0 0 1 0]\n",
            " [0 1 0 0]\n",
            " [0 1 0 0]\n",
            " [0 0 1 0]\n",
            " [0 0 1 0]\n",
            " [0 0 1 0]\n",
            " [0 1 0 0]\n",
            " [0 0 1 0]\n",
            " [1 0 0 0]\n",
            " [0 0 1 0]\n",
            " [1 0 0 0]\n",
            " [1 0 0 0]\n",
            " [1 0 0 0]\n",
            " [0 0 1 0]\n",
            " [1 0 0 0]\n",
            " [0 1 0 0]\n",
            " [1 0 0 0]\n",
            " [0 1 0 0]\n",
            " [0 0 0 1]\n",
            " [0 1 0 0]\n",
            " [0 1 0 0]\n",
            " [0 0 1 0]\n",
            " [1 0 0 0]\n",
            " [0 1 0 0]\n",
            " [0 0 1 0]\n",
            " [0 1 0 0]\n",
            " [1 0 0 0]\n",
            " [0 1 0 0]\n",
            " [1 0 0 0]\n",
            " [0 0 0 1]\n",
            " [0 1 0 0]\n",
            " [0 0 1 0]\n",
            " [1 0 0 0]\n",
            " [0 1 0 0]\n",
            " [1 0 0 0]\n",
            " [0 1 0 0]\n",
            " [0 0 0 1]\n",
            " [0 1 0 0]\n",
            " [0 1 0 0]\n",
            " [0 0 1 0]\n",
            " [1 0 0 0]\n",
            " [1 0 0 0]\n",
            " [0 1 0 0]\n",
            " [0 0 0 1]\n",
            " [0 0 1 0]\n",
            " [0 0 0 1]\n",
            " [0 0 0 1]\n",
            " [0 0 0 1]\n",
            " [0 0 0 1]\n",
            " [1 0 0 0]\n",
            " [0 1 0 0]\n",
            " [0 1 0 0]\n",
            " [0 1 0 0]\n",
            " [0 1 0 0]\n",
            " [0 0 1 0]\n",
            " [0 0 1 0]\n",
            " [0 0 1 0]\n",
            " [0 1 0 0]\n",
            " [0 0 0 1]\n",
            " [1 0 0 0]\n",
            " [0 1 0 0]]\n"
          ]
        }
      ]
    },
    {
      "cell_type": "code",
      "source": [
        "test_data['UNS'].value_counts()"
      ],
      "metadata": {
        "colab": {
          "base_uri": "https://localhost:8080/"
        },
        "id": "1jKEs5jUnL2B",
        "outputId": "27f6fc05-c6cc-441a-c785-7e72a9528ef9"
      },
      "execution_count": 17,
      "outputs": [
        {
          "output_type": "execute_result",
          "data": {
            "text/plain": [
              "1    26\n",
              "2    22\n",
              "0    21\n",
              "3    11\n",
              "Name: UNS, dtype: int64"
            ]
          },
          "metadata": {},
          "execution_count": 17
        }
      ]
    },
    {
      "cell_type": "code",
      "source": [
        "test_data.head()"
      ],
      "metadata": {
        "colab": {
          "base_uri": "https://localhost:8080/",
          "height": 206
        },
        "id": "CwF3xsiXC46A",
        "outputId": "8d9bc7a4-3e18-4c43-ad34-8a927e7ee6ac"
      },
      "execution_count": 18,
      "outputs": [
        {
          "output_type": "execute_result",
          "data": {
            "text/plain": [
              "     STG    SCG    STR   LPR   PEG  UNS  VeryLow  Low  Medium  High\n",
              "0  0.420  0.290  0.140  0.03  0.68    2        0    0       1     0\n",
              "1  0.100  0.100  0.520  0.78  0.34    2        0    0       1     0\n",
              "2  0.510  0.255  0.550  0.17  0.64    2        0    0       1     0\n",
              "3  0.250  0.540  0.310  0.25  0.08    3        1    0       0     0\n",
              "4  0.258  0.250  0.295  0.33  0.77    0        0    0       0     1"
            ],
            "text/html": [
              "\n",
              "  <div id=\"df-f9621702-2517-4ccf-87a0-a2d83ab8205e\">\n",
              "    <div class=\"colab-df-container\">\n",
              "      <div>\n",
              "<style scoped>\n",
              "    .dataframe tbody tr th:only-of-type {\n",
              "        vertical-align: middle;\n",
              "    }\n",
              "\n",
              "    .dataframe tbody tr th {\n",
              "        vertical-align: top;\n",
              "    }\n",
              "\n",
              "    .dataframe thead th {\n",
              "        text-align: right;\n",
              "    }\n",
              "</style>\n",
              "<table border=\"1\" class=\"dataframe\">\n",
              "  <thead>\n",
              "    <tr style=\"text-align: right;\">\n",
              "      <th></th>\n",
              "      <th>STG</th>\n",
              "      <th>SCG</th>\n",
              "      <th>STR</th>\n",
              "      <th>LPR</th>\n",
              "      <th>PEG</th>\n",
              "      <th>UNS</th>\n",
              "      <th>VeryLow</th>\n",
              "      <th>Low</th>\n",
              "      <th>Medium</th>\n",
              "      <th>High</th>\n",
              "    </tr>\n",
              "  </thead>\n",
              "  <tbody>\n",
              "    <tr>\n",
              "      <th>0</th>\n",
              "      <td>0.420</td>\n",
              "      <td>0.290</td>\n",
              "      <td>0.140</td>\n",
              "      <td>0.03</td>\n",
              "      <td>0.68</td>\n",
              "      <td>2</td>\n",
              "      <td>0</td>\n",
              "      <td>0</td>\n",
              "      <td>1</td>\n",
              "      <td>0</td>\n",
              "    </tr>\n",
              "    <tr>\n",
              "      <th>1</th>\n",
              "      <td>0.100</td>\n",
              "      <td>0.100</td>\n",
              "      <td>0.520</td>\n",
              "      <td>0.78</td>\n",
              "      <td>0.34</td>\n",
              "      <td>2</td>\n",
              "      <td>0</td>\n",
              "      <td>0</td>\n",
              "      <td>1</td>\n",
              "      <td>0</td>\n",
              "    </tr>\n",
              "    <tr>\n",
              "      <th>2</th>\n",
              "      <td>0.510</td>\n",
              "      <td>0.255</td>\n",
              "      <td>0.550</td>\n",
              "      <td>0.17</td>\n",
              "      <td>0.64</td>\n",
              "      <td>2</td>\n",
              "      <td>0</td>\n",
              "      <td>0</td>\n",
              "      <td>1</td>\n",
              "      <td>0</td>\n",
              "    </tr>\n",
              "    <tr>\n",
              "      <th>3</th>\n",
              "      <td>0.250</td>\n",
              "      <td>0.540</td>\n",
              "      <td>0.310</td>\n",
              "      <td>0.25</td>\n",
              "      <td>0.08</td>\n",
              "      <td>3</td>\n",
              "      <td>1</td>\n",
              "      <td>0</td>\n",
              "      <td>0</td>\n",
              "      <td>0</td>\n",
              "    </tr>\n",
              "    <tr>\n",
              "      <th>4</th>\n",
              "      <td>0.258</td>\n",
              "      <td>0.250</td>\n",
              "      <td>0.295</td>\n",
              "      <td>0.33</td>\n",
              "      <td>0.77</td>\n",
              "      <td>0</td>\n",
              "      <td>0</td>\n",
              "      <td>0</td>\n",
              "      <td>0</td>\n",
              "      <td>1</td>\n",
              "    </tr>\n",
              "  </tbody>\n",
              "</table>\n",
              "</div>\n",
              "      <button class=\"colab-df-convert\" onclick=\"convertToInteractive('df-f9621702-2517-4ccf-87a0-a2d83ab8205e')\"\n",
              "              title=\"Convert this dataframe to an interactive table.\"\n",
              "              style=\"display:none;\">\n",
              "        \n",
              "  <svg xmlns=\"http://www.w3.org/2000/svg\" height=\"24px\"viewBox=\"0 0 24 24\"\n",
              "       width=\"24px\">\n",
              "    <path d=\"M0 0h24v24H0V0z\" fill=\"none\"/>\n",
              "    <path d=\"M18.56 5.44l.94 2.06.94-2.06 2.06-.94-2.06-.94-.94-2.06-.94 2.06-2.06.94zm-11 1L8.5 8.5l.94-2.06 2.06-.94-2.06-.94L8.5 2.5l-.94 2.06-2.06.94zm10 10l.94 2.06.94-2.06 2.06-.94-2.06-.94-.94-2.06-.94 2.06-2.06.94z\"/><path d=\"M17.41 7.96l-1.37-1.37c-.4-.4-.92-.59-1.43-.59-.52 0-1.04.2-1.43.59L10.3 9.45l-7.72 7.72c-.78.78-.78 2.05 0 2.83L4 21.41c.39.39.9.59 1.41.59.51 0 1.02-.2 1.41-.59l7.78-7.78 2.81-2.81c.8-.78.8-2.07 0-2.86zM5.41 20L4 18.59l7.72-7.72 1.47 1.35L5.41 20z\"/>\n",
              "  </svg>\n",
              "      </button>\n",
              "      \n",
              "  <style>\n",
              "    .colab-df-container {\n",
              "      display:flex;\n",
              "      flex-wrap:wrap;\n",
              "      gap: 12px;\n",
              "    }\n",
              "\n",
              "    .colab-df-convert {\n",
              "      background-color: #E8F0FE;\n",
              "      border: none;\n",
              "      border-radius: 50%;\n",
              "      cursor: pointer;\n",
              "      display: none;\n",
              "      fill: #1967D2;\n",
              "      height: 32px;\n",
              "      padding: 0 0 0 0;\n",
              "      width: 32px;\n",
              "    }\n",
              "\n",
              "    .colab-df-convert:hover {\n",
              "      background-color: #E2EBFA;\n",
              "      box-shadow: 0px 1px 2px rgba(60, 64, 67, 0.3), 0px 1px 3px 1px rgba(60, 64, 67, 0.15);\n",
              "      fill: #174EA6;\n",
              "    }\n",
              "\n",
              "    [theme=dark] .colab-df-convert {\n",
              "      background-color: #3B4455;\n",
              "      fill: #D2E3FC;\n",
              "    }\n",
              "\n",
              "    [theme=dark] .colab-df-convert:hover {\n",
              "      background-color: #434B5C;\n",
              "      box-shadow: 0px 1px 3px 1px rgba(0, 0, 0, 0.15);\n",
              "      filter: drop-shadow(0px 1px 2px rgba(0, 0, 0, 0.3));\n",
              "      fill: #FFFFFF;\n",
              "    }\n",
              "  </style>\n",
              "\n",
              "      <script>\n",
              "        const buttonEl =\n",
              "          document.querySelector('#df-f9621702-2517-4ccf-87a0-a2d83ab8205e button.colab-df-convert');\n",
              "        buttonEl.style.display =\n",
              "          google.colab.kernel.accessAllowed ? 'block' : 'none';\n",
              "\n",
              "        async function convertToInteractive(key) {\n",
              "          const element = document.querySelector('#df-f9621702-2517-4ccf-87a0-a2d83ab8205e');\n",
              "          const dataTable =\n",
              "            await google.colab.kernel.invokeFunction('convertToInteractive',\n",
              "                                                     [key], {});\n",
              "          if (!dataTable) return;\n",
              "\n",
              "          const docLinkHtml = 'Like what you see? Visit the ' +\n",
              "            '<a target=\"_blank\" href=https://colab.research.google.com/notebooks/data_table.ipynb>data table notebook</a>'\n",
              "            + ' to learn more about interactive tables.';\n",
              "          element.innerHTML = '';\n",
              "          dataTable['output_type'] = 'display_data';\n",
              "          await google.colab.output.renderOutput(dataTable, element);\n",
              "          const docLink = document.createElement('div');\n",
              "          docLink.innerHTML = docLinkHtml;\n",
              "          element.appendChild(docLink);\n",
              "        }\n",
              "      </script>\n",
              "    </div>\n",
              "  </div>\n",
              "  "
            ]
          },
          "metadata": {},
          "execution_count": 18
        }
      ]
    },
    {
      "cell_type": "code",
      "source": [
        "pred1 = rbf1.predict(test_data[['LPR','PEG']])\n",
        "print(pred1)\n",
        "print(type(pred1))\n",
        "\n"
      ],
      "metadata": {
        "colab": {
          "base_uri": "https://localhost:8080/"
        },
        "id": "Hlj_ir5VDxT0",
        "outputId": "fb0eb656-cc77-4a5a-ec55-3fce5498d8ff"
      },
      "execution_count": 19,
      "outputs": [
        {
          "output_type": "stream",
          "name": "stdout",
          "text": [
            "[0 0 0 1 0 0 0 0 0 0 0 0 0 1 0 0 0 0 0 0 0 0 0 0 0 0 0 0 0 0 0 0 0 0 0 0 0\n",
            " 0 0 0 0 0 0 0 0 0 0 0 1 0 0 0 0 0 0 0 0 0 0 0 0 0 1 0 0 0 1 1 0 0 0 0 0 0\n",
            " 0 0 0 0 0 0]\n",
            "<class 'numpy.ndarray'>\n"
          ]
        }
      ]
    },
    {
      "cell_type": "code",
      "source": [
        "print(test_data['VeryLow'].to_numpy())\n",
        "print(type(test_data['VeryLow']))\n"
      ],
      "metadata": {
        "colab": {
          "base_uri": "https://localhost:8080/"
        },
        "id": "nGFT-_UmblHy",
        "outputId": "45d72ae0-910e-4a00-8b80-359c51239644"
      },
      "execution_count": 20,
      "outputs": [
        {
          "output_type": "stream",
          "name": "stdout",
          "text": [
            "[0 0 0 1 0 0 0 0 0 0 0 0 0 1 0 0 0 0 0 0 0 0 0 0 0 0 0 0 0 0 0 0 0 0 0 0 0\n",
            " 1 0 0 0 0 0 0 0 0 0 0 1 0 0 0 0 0 0 1 0 0 0 0 0 0 1 0 1 1 1 1 0 0 0 0 0 0\n",
            " 0 0 0 1 0 0]\n",
            "<class 'pandas.core.series.Series'>\n"
          ]
        }
      ]
    },
    {
      "cell_type": "code",
      "source": [
        "accuracy1 = accuracy_score(test_data['VeryLow'], pred1)\n",
        "print(accuracy1)"
      ],
      "metadata": {
        "colab": {
          "base_uri": "https://localhost:8080/"
        },
        "id": "-qN30HPtSMuY",
        "outputId": "33b8e394-7a71-4ec0-c9ed-0ee3e55bff3c"
      },
      "execution_count": 21,
      "outputs": [
        {
          "output_type": "stream",
          "name": "stdout",
          "text": [
            "0.9375\n"
          ]
        }
      ]
    },
    {
      "cell_type": "code",
      "source": [
        "cf_matrix=confusion_matrix(test_data.VeryLow.values, pred1)\n",
        "print(cf_matrix)"
      ],
      "metadata": {
        "colab": {
          "base_uri": "https://localhost:8080/"
        },
        "id": "m6rcVDcYavUy",
        "outputId": "273dd2b4-ee5a-453b-b19a-1e5a2867295a"
      },
      "execution_count": 22,
      "outputs": [
        {
          "output_type": "stream",
          "name": "stdout",
          "text": [
            "[[69  0]\n",
            " [ 5  6]]\n"
          ]
        }
      ]
    },
    {
      "cell_type": "code",
      "source": [
        "_unique, _counts = np.unique(test_data.VeryLow.values, return_counts=True)\n",
        "_unique=['REST','VERYLOW']\n",
        "print('                Test Data:',dict(zip(_unique, _counts)))\n",
        "\n",
        "unique, counts = np.unique(pred1, return_counts=True)\n",
        "unique=['REST','VERYLOW']\n",
        "print('Predicted by Perceptron :',dict(zip(unique, counts)))\n"
      ],
      "metadata": {
        "colab": {
          "base_uri": "https://localhost:8080/"
        },
        "id": "yIFFAbl1bTgZ",
        "outputId": "e64ac84f-b6ad-4849-92fd-bd798cae6c77"
      },
      "execution_count": 23,
      "outputs": [
        {
          "output_type": "stream",
          "name": "stdout",
          "text": [
            "                Test Data: {'REST': 69, 'VERYLOW': 11}\n",
            "Predicted by Perceptron : {'REST': 74, 'VERYLOW': 6}\n"
          ]
        }
      ]
    },
    {
      "cell_type": "code",
      "source": [
        "plt.figure(figsize = (8,6))\n",
        "\n",
        "ax = sns.heatmap(cf_matrix, annot=True, cmap='OrRd')\n",
        "ax.set_title(' Confusion Matrix with labels\\n\\n');\n",
        "ax.set_xlabel('\\nPredicted Values')\n",
        "ax.set_ylabel('Actual Values ')\n",
        "## Ticket labels - List must be in alphabetical order\n",
        "ax.xaxis.set_ticklabels(['REST','VERYLOW'])\n",
        "ax.yaxis.set_ticklabels(['REST','VERYLOW'])                       \n",
        "## Display the visualization of the Confusion Matrix.\n",
        "\n",
        "plt.show()"
      ],
      "metadata": {
        "colab": {
          "base_uri": "https://localhost:8080/",
          "height": 446
        },
        "id": "mNahqK6xbTtR",
        "outputId": "0c371424-73ec-4c39-8b7c-d47140455bb2"
      },
      "execution_count": 24,
      "outputs": [
        {
          "output_type": "display_data",
          "data": {
            "text/plain": [
              "<Figure size 576x432 with 2 Axes>"
            ],
            "image/png": "[encoded data removed]"
          },
          "metadata": {
            "needs_background": "light"
          }
        }
      ]
    },
    {
      "cell_type": "code",
      "source": [
        "from sklearn.metrics import plot_confusion_matrix\n",
        " \n",
        "color = 'white'\n",
        "matrix = plot_confusion_matrix(rbf1, test_data[['LPR','PEG']], test_data['VeryLow'], cmap=plt.cm.Blues)\n",
        "matrix.ax_.set_title('Confusion Matrix', color=color)\n",
        "plt.xlabel('Predicted Label', color=color)\n",
        "plt.ylabel('True Label', color=color)\n",
        "plt.gcf().axes[0].tick_params(colors=color)\n",
        "plt.gcf().axes[1].tick_params(colors=color)\n",
        "plt.show()"
      ],
      "metadata": {
        "colab": {
          "base_uri": "https://localhost:8080/",
          "height": 350
        },
        "id": "F-mF2tGskejF",
        "outputId": "c1e70dd4-2350-41a2-db16-798f201d0f84"
      },
      "execution_count": 25,
      "outputs": [
        {
          "output_type": "stream",
          "name": "stderr",
          "text": [
            "/usr/local/lib/python3.7/dist-packages/sklearn/utils/deprecation.py:87: FutureWarning: Function plot_confusion_matrix is deprecated; Function `plot_confusion_matrix` is deprecated in 1.0 and will be removed in 1.2. Use one of the class methods: ConfusionMatrixDisplay.from_predictions or ConfusionMatrixDisplay.from_estimator.\n",
            "  warnings.warn(msg, category=FutureWarning)\n"
          ]
        },
        {
          "output_type": "display_data",
          "data": {
            "text/plain": [
              "<Figure size 432x288 with 2 Axes>"
            ],
            "image/png": "[encoded data removed]"
          },
          "metadata": {
            "needs_background": "dark"
          }
        }
      ]
    },
    {
      "cell_type": "code",
      "source": [
        "print(rbf1.predict_proba(test_data[['LPR','PEG']]))\n",
        "print(rbf1.predict_proba(test_data[['LPR','PEG']]).shape)\n"
      ],
      "metadata": {
        "colab": {
          "base_uri": "https://localhost:8080/"
        },
        "id": "n0zXMlDdaaTn",
        "outputId": "3c8c0084-6426-4e78-84f3-7ef70eaf9c1d"
      },
      "execution_count": 26,
      "outputs": [
        {
          "output_type": "stream",
          "name": "stdout",
          "text": [
            "[[9.99990028e-01 9.97230713e-06]\n",
            " [9.99962932e-01 3.70675186e-05]\n",
            " [9.99993763e-01 6.23672847e-06]\n",
            " [1.63004739e-02 9.83699526e-01]\n",
            " [9.99999900e-01 1.00000010e-07]\n",
            " [9.99999900e-01 1.00000010e-07]\n",
            " [9.99957111e-01 4.28892836e-05]\n",
            " [9.99999900e-01 1.00000010e-07]\n",
            " [9.80140954e-01 1.98590459e-02]\n",
            " [9.99997970e-01 2.02953448e-06]\n",
            " [9.99966297e-01 3.37034846e-05]\n",
            " [9.99433158e-01 5.66841517e-04]\n",
            " [9.99999900e-01 1.00000010e-07]\n",
            " [5.93532512e-02 9.40646749e-01]\n",
            " [9.99999900e-01 1.00000010e-07]\n",
            " [9.97467619e-01 2.53238103e-03]\n",
            " [9.99984355e-01 1.56448284e-05]\n",
            " [9.99999900e-01 1.00000010e-07]\n",
            " [9.81937431e-01 1.80625688e-02]\n",
            " [9.99996650e-01 3.34971736e-06]\n",
            " [8.73465039e-01 1.26534961e-01]\n",
            " [9.68135922e-01 3.18640778e-02]\n",
            " [9.99997637e-01 2.36323167e-06]\n",
            " [9.99987628e-01 1.23723258e-05]\n",
            " [9.99993270e-01 6.72994932e-06]\n",
            " [9.91605246e-01 8.39475427e-03]\n",
            " [9.99977255e-01 2.27452599e-05]\n",
            " [9.99999900e-01 1.00000010e-07]\n",
            " [9.99819017e-01 1.80983142e-04]\n",
            " [9.99999900e-01 1.00000010e-07]\n",
            " [9.99999900e-01 1.00000010e-07]\n",
            " [9.99999900e-01 1.00000010e-07]\n",
            " [9.99999750e-01 2.50256574e-07]\n",
            " [9.99999900e-01 1.00000010e-07]\n",
            " [8.71631147e-01 1.28368853e-01]\n",
            " [9.99999900e-01 1.00000010e-07]\n",
            " [9.71902965e-01 2.80970345e-02]\n",
            " [3.27552200e-01 6.72447800e-01]\n",
            " [9.98816984e-01 1.18301554e-03]\n",
            " [9.68335548e-01 3.16644516e-02]\n",
            " [9.99721420e-01 2.78579646e-04]\n",
            " [9.99999900e-01 1.00000010e-07]\n",
            " [9.69121836e-01 3.08781639e-02]\n",
            " [9.99962932e-01 3.70675142e-05]\n",
            " [9.94261308e-01 5.73869231e-03]\n",
            " [9.99999900e-01 1.00000010e-07]\n",
            " [9.34319318e-01 6.56806823e-02]\n",
            " [9.99999900e-01 1.00000010e-07]\n",
            " [3.60378891e-03 9.96396211e-01]\n",
            " [9.62724179e-01 3.72758210e-02]\n",
            " [9.99997782e-01 2.21799473e-06]\n",
            " [9.99999900e-01 1.00000010e-07]\n",
            " [9.54475462e-01 4.55245375e-02]\n",
            " [9.99999900e-01 1.00000010e-07]\n",
            " [9.93485453e-01 6.51454704e-03]\n",
            " [3.96780108e-01 6.03219892e-01]\n",
            " [9.62017234e-01 3.79827665e-02]\n",
            " [9.70265391e-01 2.97346085e-02]\n",
            " [9.99994034e-01 5.96588463e-06]\n",
            " [9.99999900e-01 1.00000010e-07]\n",
            " [9.99999900e-01 1.00000010e-07]\n",
            " [8.67749834e-01 1.32250166e-01]\n",
            " [1.18499994e-02 9.88150001e-01]\n",
            " [9.99974342e-01 2.56583011e-05]\n",
            " [4.18829231e-01 5.81170769e-01]\n",
            " [5.48325768e-01 4.51674232e-01]\n",
            " [5.97149993e-03 9.94028500e-01]\n",
            " [2.23831456e-02 9.77616854e-01]\n",
            " [9.99999900e-01 1.00000010e-07]\n",
            " [9.68335548e-01 3.16644516e-02]\n",
            " [9.66282789e-01 3.37172108e-02]\n",
            " [8.28745274e-01 1.71254726e-01]\n",
            " [9.34319318e-01 6.56806823e-02]\n",
            " [9.99999046e-01 9.54116814e-07]\n",
            " [9.99984747e-01 1.52528998e-05]\n",
            " [9.99949741e-01 5.02589300e-05]\n",
            " [6.28104961e-01 3.71895039e-01]\n",
            " [7.87898571e-02 9.21210143e-01]\n",
            " [9.99999900e-01 1.00000010e-07]\n",
            " [7.70102183e-01 2.29897817e-01]]\n",
            "(80, 2)\n"
          ]
        }
      ]
    },
    {
      "cell_type": "code",
      "source": [
        "pred2 = rbf2.predict(test_data[['LPR','PEG']])\n",
        "print(pred2)\n",
        "\n"
      ],
      "metadata": {
        "colab": {
          "base_uri": "https://localhost:8080/"
        },
        "id": "w-4VdR4TD3eX",
        "outputId": "ea5fcf30-3288-4ac8-ea5c-01bfac712a25"
      },
      "execution_count": 27,
      "outputs": [
        {
          "output_type": "stream",
          "name": "stdout",
          "text": [
            "[0 1 0 1 0 0 0 0 1 0 0 1 0 1 0 1 0 0 1 0 1 1 0 0 0 1 0 0 1 0 0 0 0 0 1 0 1\n",
            " 1 1 1 1 0 0 0 1 0 1 0 1 1 0 0 1 0 0 1 1 1 0 0 0 1 1 0 1 1 1 1 0 1 1 1 1 0\n",
            " 0 0 1 1 0 1]\n"
          ]
        }
      ]
    },
    {
      "cell_type": "code",
      "source": [
        "accuracy2 = accuracy_score(test_data.Low.values, pred2)\n",
        "print(accuracy2)"
      ],
      "metadata": {
        "colab": {
          "base_uri": "https://localhost:8080/"
        },
        "id": "LbO1IJjygd4Z",
        "outputId": "ea35bf8a-f53d-48f3-d5fe-705003af4b7a"
      },
      "execution_count": 28,
      "outputs": [
        {
          "output_type": "stream",
          "name": "stdout",
          "text": [
            "0.8\n"
          ]
        }
      ]
    },
    {
      "cell_type": "code",
      "source": [
        "cf_matrix=confusion_matrix(test_data.Low.values, pred2)\n",
        "print(cf_matrix)"
      ],
      "metadata": {
        "colab": {
          "base_uri": "https://localhost:8080/"
        },
        "id": "JsEy0Bbde9nS",
        "outputId": "155fa1a1-2a97-409a-c748-8c4873ffc523"
      },
      "execution_count": 29,
      "outputs": [
        {
          "output_type": "stream",
          "name": "stdout",
          "text": [
            "[[40 14]\n",
            " [ 2 24]]\n"
          ]
        }
      ]
    },
    {
      "cell_type": "code",
      "source": [
        "_unique, _counts = np.unique(test_data.Low.values, return_counts=True)\n",
        "\n",
        "_unique=['REST','LOW']\n",
        "print('        Test Data:',dict(zip(_unique, _counts)))\n",
        "\n",
        "unique, counts = np.unique(pred2, return_counts=True)\n",
        "unique=['REST','LOW']\n",
        "print('Predicted by SVM :',dict(zip(unique, counts)))\n"
      ],
      "metadata": {
        "colab": {
          "base_uri": "https://localhost:8080/"
        },
        "id": "ZVIJ8jd6fZP1",
        "outputId": "6324a513-e3c2-4d7c-f867-dc2adcfc56d2"
      },
      "execution_count": 30,
      "outputs": [
        {
          "output_type": "stream",
          "name": "stdout",
          "text": [
            "        Test Data: {'REST': 54, 'LOW': 26}\n",
            "Predicted by SVM : {'REST': 42, 'LOW': 38}\n"
          ]
        }
      ]
    },
    {
      "cell_type": "code",
      "source": [
        "plt.figure(figsize = (8,6))\n",
        "\n",
        "ax = sns.heatmap(cf_matrix, annot=True, cmap='OrRd')\n",
        "ax.set_title(' Confusion Matrix with labels\\n\\n');\n",
        "ax.set_xlabel('\\nPredicted Values')\n",
        "ax.set_ylabel('Actual Values ')\n",
        "## Ticket labels - List must be in alphabetical order\n",
        "ax.xaxis.set_ticklabels(['REST','LOW'])\n",
        "ax.yaxis.set_ticklabels(['REST','LOW'])                       \n",
        "## Display the visualization of the Confusion Matrix.\n",
        "\n",
        "plt.show()"
      ],
      "metadata": {
        "colab": {
          "base_uri": "https://localhost:8080/",
          "height": 446
        },
        "id": "TBgCHXZxx4Zf",
        "outputId": "684eeacb-6fc8-4f0e-ee1f-69860611c56a"
      },
      "execution_count": 31,
      "outputs": [
        {
          "output_type": "display_data",
          "data": {
            "text/plain": [
              "<Figure size 576x432 with 2 Axes>"
            ],
            "image/png": "[encoded data removed]"
          },
          "metadata": {
            "needs_background": "light"
          }
        }
      ]
    },
    {
      "cell_type": "code",
      "source": [
        "pred3 = rbf3.predict(test_data[['LPR','PEG']])\n",
        "print(pred3)\n",
        "\n"
      ],
      "metadata": {
        "colab": {
          "base_uri": "https://localhost:8080/"
        },
        "id": "1f__Qf6CD86k",
        "outputId": "106f833a-f4a9-4db5-e419-32bdcbd776cc"
      },
      "execution_count": 32,
      "outputs": [
        {
          "output_type": "stream",
          "name": "stdout",
          "text": [
            "[0 0 0 0 0 0 0 0 0 0 0 0 0 0 0 0 0 0 0 0 0 0 0 0 0 0 0 0 0 0 0 0 0 0 0 0 0\n",
            " 0 0 0 0 0 0 0 0 0 0 0 0 0 0 0 0 0 0 0 0 0 0 0 0 0 0 0 0 0 0 0 0 0 0 0 0 0\n",
            " 0 0 0 0 0 0]\n"
          ]
        }
      ]
    },
    {
      "cell_type": "code",
      "source": [
        "accuracy3 = accuracy_score(test_data.Medium.values, pred3)\n",
        "print(accuracy3)"
      ],
      "metadata": {
        "colab": {
          "base_uri": "https://localhost:8080/"
        },
        "id": "wO-Wd2iNghHD",
        "outputId": "81f0cc72-21b9-47a7-b84d-68622904f892"
      },
      "execution_count": 33,
      "outputs": [
        {
          "output_type": "stream",
          "name": "stdout",
          "text": [
            "0.725\n"
          ]
        }
      ]
    },
    {
      "cell_type": "code",
      "source": [
        "cf_matrix=confusion_matrix(test_data.Medium.values, pred3)\n",
        "print(cf_matrix)"
      ],
      "metadata": {
        "colab": {
          "base_uri": "https://localhost:8080/"
        },
        "id": "d3wHO1hDe-Te",
        "outputId": "9dffe9f1-88bf-44c2-8be5-1b24e75d48a6"
      },
      "execution_count": 34,
      "outputs": [
        {
          "output_type": "stream",
          "name": "stdout",
          "text": [
            "[[58  0]\n",
            " [22  0]]\n"
          ]
        }
      ]
    },
    {
      "cell_type": "code",
      "source": [
        "_unique, _counts = np.unique(test_data.Medium.values, return_counts=True)\n",
        "\n",
        "_unique=['REST','MEDIUM']\n",
        "print('                Test Data:',dict(zip(_unique, _counts)))\n",
        "\n",
        "unique, counts = np.unique(pred3, return_counts=True)\n",
        "unique=['REST','MEDIUM']\n",
        "\n",
        "print('Predicted by Perceptron :',dict(zip(unique, counts)))\n"
      ],
      "metadata": {
        "colab": {
          "base_uri": "https://localhost:8080/"
        },
        "id": "GZXkXHZQfb8T",
        "outputId": "eaaced42-0c2f-4890-8838-8eb8d0321af4"
      },
      "execution_count": 35,
      "outputs": [
        {
          "output_type": "stream",
          "name": "stdout",
          "text": [
            "                Test Data: {'REST': 58, 'MEDIUM': 22}\n",
            "Predicted by Perceptron : {'REST': 80}\n"
          ]
        }
      ]
    },
    {
      "cell_type": "code",
      "source": [
        "plt.figure(figsize = (8,6))\n",
        "\n",
        "ax = sns.heatmap(cf_matrix, annot=True, cmap='OrRd')\n",
        "ax.set_title(' Confusion Matrix with labels\\n\\n');\n",
        "ax.set_xlabel('\\nPredicted Values')\n",
        "ax.set_ylabel('Actual Values ')\n",
        "## Ticket labels - List must be in alphabetical order\n",
        "ax.xaxis.set_ticklabels(['REST','MEDIUM'])\n",
        "ax.yaxis.set_ticklabels(['REST','MEDIUM'])                       \n",
        "## Display the visualization of the Confusion Matrix.\n",
        "\n",
        "plt.show()"
      ],
      "metadata": {
        "colab": {
          "base_uri": "https://localhost:8080/",
          "height": 446
        },
        "id": "8WC7cHdwyDB3",
        "outputId": "78cd8168-f889-4cbd-a35f-01bcd6ac0b18"
      },
      "execution_count": 36,
      "outputs": [
        {
          "output_type": "display_data",
          "data": {
            "text/plain": [
              "<Figure size 576x432 with 2 Axes>"
            ],
            "image/png": "[encoded data removed]"
          },
          "metadata": {
            "needs_background": "light"
          }
        }
      ]
    },
    {
      "cell_type": "code",
      "source": [
        "pred4 = rbf4.predict(test_data[['LPR','PEG']])\n",
        "print(pred4)\n",
        "\n"
      ],
      "metadata": {
        "colab": {
          "base_uri": "https://localhost:8080/"
        },
        "id": "iAPMyFqzEAyQ",
        "outputId": "c9881f77-088d-4b97-f3b3-3920ec8159fd"
      },
      "execution_count": 37,
      "outputs": [
        {
          "output_type": "stream",
          "name": "stdout",
          "text": [
            "[0 0 0 0 1 1 0 1 0 0 0 0 1 0 1 0 0 1 0 0 0 0 0 0 0 0 0 1 0 1 1 1 0 1 0 1 0\n",
            " 0 0 0 0 1 0 0 0 1 0 1 0 0 0 1 0 1 0 0 0 0 0 1 1 0 0 0 0 0 0 0 1 0 0 0 0 0\n",
            " 0 0 0 0 1 0]\n"
          ]
        }
      ]
    },
    {
      "cell_type": "code",
      "source": [
        "accuracy4 = accuracy_score(test_data.High.values, pred4)\n",
        "print(accuracy4)"
      ],
      "metadata": {
        "colab": {
          "base_uri": "https://localhost:8080/"
        },
        "id": "Q7cHVNcOgi-T",
        "outputId": "69221ea9-8d22-4c60-f4d4-5e5ac95d8357"
      },
      "execution_count": 38,
      "outputs": [
        {
          "output_type": "stream",
          "name": "stdout",
          "text": [
            "1.0\n"
          ]
        }
      ]
    },
    {
      "cell_type": "code",
      "source": [
        "cf_matrix=confusion_matrix(test_data.High.values, pred4)\n",
        "print(cf_matrix)"
      ],
      "metadata": {
        "colab": {
          "base_uri": "https://localhost:8080/"
        },
        "id": "lN7hXFrfe-nV",
        "outputId": "369aa607-4654-4f04-846d-39cd92a948da"
      },
      "execution_count": 39,
      "outputs": [
        {
          "output_type": "stream",
          "name": "stdout",
          "text": [
            "[[59  0]\n",
            " [ 0 21]]\n"
          ]
        }
      ]
    },
    {
      "cell_type": "code",
      "source": [
        "_unique, _counts = np.unique(test_data.High.values, return_counts=True)\n",
        "\n",
        "_unique=['REST','HIGH']\n",
        "print('                Test Data:',dict(zip(_unique, _counts)))\n",
        "\n",
        "unique, counts = np.unique(pred4, return_counts=True)\n",
        "unique=['REST','HIGH']\n",
        "print('Predicted by Perceptron :',dict(zip(unique, counts)))\n"
      ],
      "metadata": {
        "colab": {
          "base_uri": "https://localhost:8080/"
        },
        "id": "SNukwmI4feTo",
        "outputId": "718f26bb-e51c-48fb-8918-6e32f6981d36"
      },
      "execution_count": 40,
      "outputs": [
        {
          "output_type": "stream",
          "name": "stdout",
          "text": [
            "                Test Data: {'REST': 59, 'HIGH': 21}\n",
            "Predicted by Perceptron : {'REST': 59, 'HIGH': 21}\n"
          ]
        }
      ]
    },
    {
      "cell_type": "code",
      "source": [
        "plt.figure(figsize = (8,6))\n",
        "\n",
        "ax = sns.heatmap(cf_matrix, annot=True, cmap='OrRd')\n",
        "ax.set_title(' Confusion Matrix with labels\\n\\n');\n",
        "ax.set_xlabel('\\nPredicted Values')\n",
        "ax.set_ylabel('Actual Values ')\n",
        "## Ticket labels - List must be in alphabetical order\n",
        "ax.xaxis.set_ticklabels(['REST','HIGH'])\n",
        "ax.yaxis.set_ticklabels(['REST','VERYLOWHIGH'])                       \n",
        "## Display the visualization of the Confusion Matrix.\n",
        "\n",
        "plt.show()"
      ],
      "metadata": {
        "colab": {
          "base_uri": "https://localhost:8080/",
          "height": 446
        },
        "id": "5k0JvdoYyK9Y",
        "outputId": "4463232d-d423-48e1-f925-f6f3216ffbd3"
      },
      "execution_count": 41,
      "outputs": [
        {
          "output_type": "display_data",
          "data": {
            "text/plain": [
              "<Figure size 576x432 with 2 Axes>"
            ],
            "image/png": "[encoded data removed]"
          },
          "metadata": {
            "needs_background": "light"
          }
        }
      ]
    },
    {
      "cell_type": "code",
      "source": [
        "from sklearn.metrics import accuracy_score\n",
        "accuracy1 = accuracy_score(test_data.VeryLow.values, pred1)\n",
        "print(accuracy1)"
      ],
      "metadata": {
        "colab": {
          "base_uri": "https://localhost:8080/"
        },
        "id": "juBZsGY4FID3",
        "outputId": "2f603d16-f9d8-436a-bdcd-426b7009d668"
      },
      "execution_count": 42,
      "outputs": [
        {
          "output_type": "stream",
          "name": "stdout",
          "text": [
            "0.9375\n"
          ]
        }
      ]
    },
    {
      "cell_type": "code",
      "source": [
        "def make_meshgrid(x, y, h=.02):\n",
        "    x_min, x_max = x.min() - 1, x.max() + 1\n",
        "    y_min, y_max = y.min() - 1, y.max() + 1\n",
        "    xx, yy = np.meshgrid(np.arange(x_min, x_max, h), np.arange(y_min, y_max, h))\n",
        "    return xx, yy\n",
        "\n",
        "def plot_contours(ax, clf, xx, yy, **params):\n",
        "    Z = clf.predict(np.c_[xx.ravel(), yy.ravel()])\n",
        "    Z = Z.reshape(xx.shape)\n",
        "    out = ax.contourf(xx, yy, Z, **params)\n",
        "    return out\n"
      ],
      "metadata": {
        "id": "2RjD83e2MlE6"
      },
      "execution_count": 43,
      "outputs": []
    },
    {
      "cell_type": "code",
      "source": [
        "import matplotlib.pyplot as plt\n",
        "def draw_decisionsurface(clf, y):\n",
        "    fig, ax = plt.subplots()\n",
        "    # title for the plots\n",
        "    title = ('Decision surface of linear SVC ')\n",
        "    # Set-up grid for plotting.\n",
        "    X0, X1 = test_data['PEG'], test_data['LPR']\n",
        "    xx, yy = make_meshgrid(X0, X1)\n",
        "\n",
        "    plot_contours(ax, clf, xx, yy, cmap=plt.cm.coolwarm, alpha=0.8)\n",
        "    ax.scatter(X0, X1, c=y, cmap=plt.cm.coolwarm, s=20, edgecolors='k')\n",
        "    ax.set_ylabel('PEG')\n",
        "    ax.set_xlabel('LPR')\n",
        "    ax.set_xticks(())\n",
        "    ax.set_yticks(())\n",
        "    ax.set_title(title)\n",
        "    ax.legend()\n",
        "    plt.show()\n"
      ],
      "metadata": {
        "id": "Q-Vq78_7N8-A"
      },
      "execution_count": 44,
      "outputs": []
    },
    {
      "cell_type": "code",
      "source": [
        "draw_decisionsurface(rbf1,test_data.VeryLow.values)"
      ],
      "metadata": {
        "colab": {
          "base_uri": "https://localhost:8080/",
          "height": 330
        },
        "id": "4c2-o1DBP9Vl",
        "outputId": "9fd5209b-93ec-4926-a276-1e41fc272bc1"
      },
      "execution_count": 45,
      "outputs": [
        {
          "output_type": "stream",
          "name": "stderr",
          "text": [
            "/usr/local/lib/python3.7/dist-packages/sklearn/base.py:451: UserWarning: X does not have valid feature names, but SVC was fitted with feature names\n",
            "  \"X does not have valid feature names, but\"\n",
            "WARNING:matplotlib.legend:No handles with labels found to put in legend.\n"
          ]
        },
        {
          "output_type": "display_data",
          "data": {
            "text/plain": [
              "<Figure size 432x288 with 1 Axes>"
            ],
            "image/png": "[encoded data removed]"
          },
          "metadata": {}
        }
      ]
    },
    {
      "cell_type": "code",
      "source": [
        "draw_decisionsurface(rbf2,test_data.Low.values)"
      ],
      "metadata": {
        "colab": {
          "base_uri": "https://localhost:8080/",
          "height": 330
        },
        "id": "E765KNswP9lq",
        "outputId": "566b2245-4f25-4e9d-8558-d17a8704c423"
      },
      "execution_count": 46,
      "outputs": [
        {
          "output_type": "stream",
          "name": "stderr",
          "text": [
            "/usr/local/lib/python3.7/dist-packages/sklearn/base.py:451: UserWarning: X does not have valid feature names, but SVC was fitted with feature names\n",
            "  \"X does not have valid feature names, but\"\n",
            "WARNING:matplotlib.legend:No handles with labels found to put in legend.\n"
          ]
        },
        {
          "output_type": "display_data",
          "data": {
            "text/plain": [
              "<Figure size 432x288 with 1 Axes>"
            ],
            "image/png": "[encoded data removed]"
          },
          "metadata": {}
        }
      ]
    },
    {
      "cell_type": "code",
      "source": [
        "draw_decisionsurface(rbf3,test_data.Medium.values)"
      ],
      "metadata": {
        "colab": {
          "base_uri": "https://localhost:8080/",
          "height": 330
        },
        "id": "OejH3VfiP956",
        "outputId": "7746c66f-76a8-459e-999f-810f6d87e3b5"
      },
      "execution_count": 47,
      "outputs": [
        {
          "output_type": "stream",
          "name": "stderr",
          "text": [
            "/usr/local/lib/python3.7/dist-packages/sklearn/base.py:451: UserWarning: X does not have valid feature names, but SVC was fitted with feature names\n",
            "  \"X does not have valid feature names, but\"\n",
            "WARNING:matplotlib.legend:No handles with labels found to put in legend.\n"
          ]
        },
        {
          "output_type": "display_data",
          "data": {
            "text/plain": [
              "<Figure size 432x288 with 1 Axes>"
            ],
            "image/png": "[encoded data removed]"
          },
          "metadata": {}
        }
      ]
    },
    {
      "cell_type": "code",
      "source": [
        "draw_decisionsurface(rbf4,test_data.High.values)"
      ],
      "metadata": {
        "colab": {
          "base_uri": "https://localhost:8080/",
          "height": 330
        },
        "id": "xKyxQXP9P-JG",
        "outputId": "2b7871f6-514a-4cd4-ff3e-2438eb93a769"
      },
      "execution_count": 48,
      "outputs": [
        {
          "output_type": "stream",
          "name": "stderr",
          "text": [
            "/usr/local/lib/python3.7/dist-packages/sklearn/base.py:451: UserWarning: X does not have valid feature names, but SVC was fitted with feature names\n",
            "  \"X does not have valid feature names, but\"\n",
            "WARNING:matplotlib.legend:No handles with labels found to put in legend.\n"
          ]
        },
        {
          "output_type": "display_data",
          "data": {
            "text/plain": [
              "<Figure size 432x288 with 1 Axes>"
            ],
            "image/png": "[encoded data removed]"
          },
          "metadata": {}
        }
      ]
    },
    {
      "cell_type": "code",
      "source": [
        "\n",
        "accuracy2 = accuracy_score(test_data.Low.values, pred2)\n",
        "print(accuracy2)"
      ],
      "metadata": {
        "colab": {
          "base_uri": "https://localhost:8080/"
        },
        "id": "gr495lKnFd_-",
        "outputId": "7c8128cb-1285-4a8d-a488-5dd36d7ed1d7"
      },
      "execution_count": 49,
      "outputs": [
        {
          "output_type": "stream",
          "name": "stdout",
          "text": [
            "0.8\n"
          ]
        }
      ]
    },
    {
      "cell_type": "code",
      "source": [
        "\n",
        "accuracy3 = accuracy_score(test_data.Medium.values, pred3)\n",
        "print(accuracy3)"
      ],
      "metadata": {
        "colab": {
          "base_uri": "https://localhost:8080/"
        },
        "id": "NlZlX5qzFlsY",
        "outputId": "13475fc6-d3a4-4650-debc-6af7aca03498"
      },
      "execution_count": 50,
      "outputs": [
        {
          "output_type": "stream",
          "name": "stdout",
          "text": [
            "0.725\n"
          ]
        }
      ]
    },
    {
      "cell_type": "code",
      "source": [
        "\n",
        "accuracy4 = accuracy_score(test_data.High.values, pred4)\n",
        "print(accuracy4)"
      ],
      "metadata": {
        "colab": {
          "base_uri": "https://localhost:8080/"
        },
        "id": "Opcjd9LdFs5W",
        "outputId": "69d62126-2fd1-4fda-9cf1-eff7d2ce4180"
      },
      "execution_count": 51,
      "outputs": [
        {
          "output_type": "stream",
          "name": "stdout",
          "text": [
            "1.0\n"
          ]
        }
      ]
    },
    {
      "cell_type": "code",
      "source": [
        "a=rbf1.predict_proba(test_data[['LPR','PEG']])\n",
        "print(a)\n"
      ],
      "metadata": {
        "colab": {
          "base_uri": "https://localhost:8080/"
        },
        "id": "U3LLA6MbIpui",
        "outputId": "891c24f4-dfdf-4209-a62a-e0f1dfc3b86b"
      },
      "execution_count": 52,
      "outputs": [
        {
          "output_type": "stream",
          "name": "stdout",
          "text": [
            "[[9.99990028e-01 9.97230713e-06]\n",
            " [9.99962932e-01 3.70675186e-05]\n",
            " [9.99993763e-01 6.23672847e-06]\n",
            " [1.63004739e-02 9.83699526e-01]\n",
            " [9.99999900e-01 1.00000010e-07]\n",
            " [9.99999900e-01 1.00000010e-07]\n",
            " [9.99957111e-01 4.28892836e-05]\n",
            " [9.99999900e-01 1.00000010e-07]\n",
            " [9.80140954e-01 1.98590459e-02]\n",
            " [9.99997970e-01 2.02953448e-06]\n",
            " [9.99966297e-01 3.37034846e-05]\n",
            " [9.99433158e-01 5.66841517e-04]\n",
            " [9.99999900e-01 1.00000010e-07]\n",
            " [5.93532512e-02 9.40646749e-01]\n",
            " [9.99999900e-01 1.00000010e-07]\n",
            " [9.97467619e-01 2.53238103e-03]\n",
            " [9.99984355e-01 1.56448284e-05]\n",
            " [9.99999900e-01 1.00000010e-07]\n",
            " [9.81937431e-01 1.80625688e-02]\n",
            " [9.99996650e-01 3.34971736e-06]\n",
            " [8.73465039e-01 1.26534961e-01]\n",
            " [9.68135922e-01 3.18640778e-02]\n",
            " [9.99997637e-01 2.36323167e-06]\n",
            " [9.99987628e-01 1.23723258e-05]\n",
            " [9.99993270e-01 6.72994932e-06]\n",
            " [9.91605246e-01 8.39475427e-03]\n",
            " [9.99977255e-01 2.27452599e-05]\n",
            " [9.99999900e-01 1.00000010e-07]\n",
            " [9.99819017e-01 1.80983142e-04]\n",
            " [9.99999900e-01 1.00000010e-07]\n",
            " [9.99999900e-01 1.00000010e-07]\n",
            " [9.99999900e-01 1.00000010e-07]\n",
            " [9.99999750e-01 2.50256574e-07]\n",
            " [9.99999900e-01 1.00000010e-07]\n",
            " [8.71631147e-01 1.28368853e-01]\n",
            " [9.99999900e-01 1.00000010e-07]\n",
            " [9.71902965e-01 2.80970345e-02]\n",
            " [3.27552200e-01 6.72447800e-01]\n",
            " [9.98816984e-01 1.18301554e-03]\n",
            " [9.68335548e-01 3.16644516e-02]\n",
            " [9.99721420e-01 2.78579646e-04]\n",
            " [9.99999900e-01 1.00000010e-07]\n",
            " [9.69121836e-01 3.08781639e-02]\n",
            " [9.99962932e-01 3.70675142e-05]\n",
            " [9.94261308e-01 5.73869231e-03]\n",
            " [9.99999900e-01 1.00000010e-07]\n",
            " [9.34319318e-01 6.56806823e-02]\n",
            " [9.99999900e-01 1.00000010e-07]\n",
            " [3.60378891e-03 9.96396211e-01]\n",
            " [9.62724179e-01 3.72758210e-02]\n",
            " [9.99997782e-01 2.21799473e-06]\n",
            " [9.99999900e-01 1.00000010e-07]\n",
            " [9.54475462e-01 4.55245375e-02]\n",
            " [9.99999900e-01 1.00000010e-07]\n",
            " [9.93485453e-01 6.51454704e-03]\n",
            " [3.96780108e-01 6.03219892e-01]\n",
            " [9.62017234e-01 3.79827665e-02]\n",
            " [9.70265391e-01 2.97346085e-02]\n",
            " [9.99994034e-01 5.96588463e-06]\n",
            " [9.99999900e-01 1.00000010e-07]\n",
            " [9.99999900e-01 1.00000010e-07]\n",
            " [8.67749834e-01 1.32250166e-01]\n",
            " [1.18499994e-02 9.88150001e-01]\n",
            " [9.99974342e-01 2.56583011e-05]\n",
            " [4.18829231e-01 5.81170769e-01]\n",
            " [5.48325768e-01 4.51674232e-01]\n",
            " [5.97149993e-03 9.94028500e-01]\n",
            " [2.23831456e-02 9.77616854e-01]\n",
            " [9.99999900e-01 1.00000010e-07]\n",
            " [9.68335548e-01 3.16644516e-02]\n",
            " [9.66282789e-01 3.37172108e-02]\n",
            " [8.28745274e-01 1.71254726e-01]\n",
            " [9.34319318e-01 6.56806823e-02]\n",
            " [9.99999046e-01 9.54116814e-07]\n",
            " [9.99984747e-01 1.52528998e-05]\n",
            " [9.99949741e-01 5.02589300e-05]\n",
            " [6.28104961e-01 3.71895039e-01]\n",
            " [7.87898571e-02 9.21210143e-01]\n",
            " [9.99999900e-01 1.00000010e-07]\n",
            " [7.70102183e-01 2.29897817e-01]]\n"
          ]
        }
      ]
    },
    {
      "cell_type": "code",
      "source": [
        "import numpy as np\n",
        "res=[]\n",
        "for i in a:\n",
        "  res.append(np.argmax(i))\n",
        "  \n",
        "print(res)"
      ],
      "metadata": {
        "colab": {
          "base_uri": "https://localhost:8080/"
        },
        "id": "nvopd5KvsSVU",
        "outputId": "189281ce-ecbf-41be-9c19-312f5baa0c5c"
      },
      "execution_count": 53,
      "outputs": [
        {
          "output_type": "stream",
          "name": "stdout",
          "text": [
            "[0, 0, 0, 1, 0, 0, 0, 0, 0, 0, 0, 0, 0, 1, 0, 0, 0, 0, 0, 0, 0, 0, 0, 0, 0, 0, 0, 0, 0, 0, 0, 0, 0, 0, 0, 0, 0, 1, 0, 0, 0, 0, 0, 0, 0, 0, 0, 0, 1, 0, 0, 0, 0, 0, 0, 1, 0, 0, 0, 0, 0, 0, 1, 0, 1, 0, 1, 1, 0, 0, 0, 0, 0, 0, 0, 0, 0, 1, 0, 0]\n"
          ]
        }
      ]
    },
    {
      "cell_type": "code",
      "source": [
        "print(pred1)"
      ],
      "metadata": {
        "colab": {
          "base_uri": "https://localhost:8080/"
        },
        "id": "PEzIkhtBvWjE",
        "outputId": "cd1f6032-050e-4c2c-a230-6570cbd5641e"
      },
      "execution_count": 54,
      "outputs": [
        {
          "output_type": "stream",
          "name": "stdout",
          "text": [
            "[0 0 0 1 0 0 0 0 0 0 0 0 0 1 0 0 0 0 0 0 0 0 0 0 0 0 0 0 0 0 0 0 0 0 0 0 0\n",
            " 0 0 0 0 0 0 0 0 0 0 0 1 0 0 0 0 0 0 0 0 0 0 0 0 0 1 0 0 0 1 1 0 0 0 0 0 0\n",
            " 0 0 0 0 0 0]\n"
          ]
        }
      ]
    },
    {
      "cell_type": "code",
      "source": [
        "print(res-pred1)"
      ],
      "metadata": {
        "colab": {
          "base_uri": "https://localhost:8080/"
        },
        "id": "BOv9CBSVwoh9",
        "outputId": "f61c01c7-0348-4e8a-85ce-4a6ce483d23e"
      },
      "execution_count": 55,
      "outputs": [
        {
          "output_type": "stream",
          "name": "stdout",
          "text": [
            "[0 0 0 0 0 0 0 0 0 0 0 0 0 0 0 0 0 0 0 0 0 0 0 0 0 0 0 0 0 0 0 0 0 0 0 0 0\n",
            " 1 0 0 0 0 0 0 0 0 0 0 0 0 0 0 0 0 0 1 0 0 0 0 0 0 0 0 1 0 0 0 0 0 0 0 0 0\n",
            " 0 0 0 1 0 0]\n"
          ]
        }
      ]
    },
    {
      "cell_type": "code",
      "source": [
        "print(accuracy_score(test_data.VeryLow.values,pred1))"
      ],
      "metadata": {
        "colab": {
          "base_uri": "https://localhost:8080/"
        },
        "id": "SXD92i_fxF67",
        "outputId": "c2d469fc-f6c8-4a68-a5ee-baad851939c6"
      },
      "execution_count": 56,
      "outputs": [
        {
          "output_type": "stream",
          "name": "stdout",
          "text": [
            "0.9375\n"
          ]
        }
      ]
    },
    {
      "cell_type": "code",
      "source": [
        "a1=rbf1.predict_proba(test_data[['LPR','PEG']])\n",
        "a2=rbf2.predict_proba(test_data[['LPR','PEG']])\n",
        "a3=rbf3.predict_proba(test_data[['LPR','PEG']])\n",
        "a4=rbf4.predict_proba(test_data[['LPR','PEG']])\n"
      ],
      "metadata": {
        "id": "Gpqy43-tG3OK"
      },
      "execution_count": 57,
      "outputs": []
    },
    {
      "cell_type": "code",
      "source": [
        "arr=np.vstack((a1[:,1],a2[:,1],a3[:,1],a4[:,1]))\n",
        "print(arr.shape)"
      ],
      "metadata": {
        "colab": {
          "base_uri": "https://localhost:8080/"
        },
        "id": "adm4H-TpIXfD",
        "outputId": "b8cefe00-3a8b-43b2-91df-f8424acc6048"
      },
      "execution_count": 58,
      "outputs": [
        {
          "output_type": "stream",
          "name": "stdout",
          "text": [
            "(4, 80)\n"
          ]
        }
      ]
    },
    {
      "cell_type": "code",
      "source": [
        "print(arr.T)"
      ],
      "metadata": {
        "colab": {
          "base_uri": "https://localhost:8080/"
        },
        "id": "ab9bsbYwJmK8",
        "outputId": "a0eada07-53fb-461e-a31b-f57815a9ddbc"
      },
      "execution_count": 59,
      "outputs": [
        {
          "output_type": "stream",
          "name": "stdout",
          "text": [
            "[[9.97230713e-06 8.97640771e-02 3.18167805e-01 1.65434953e-02]\n",
            " [3.70675186e-05 3.94854278e-01 3.05930440e-01 1.02776565e-02]\n",
            " [6.23672847e-06 1.09618885e-01 3.16012264e-01 2.75834944e-02]\n",
            " [9.83699526e-01 7.33848619e-01 3.11399638e-01 1.00000010e-07]\n",
            " [1.00000010e-07 5.88813646e-02 3.14667548e-01 8.19335580e-01]\n",
            " [1.00000010e-07 1.04216816e-01 3.05594581e-01 9.94793972e-01]\n",
            " [4.28892836e-05 2.61102369e-01 3.10496410e-01 7.12386014e-03]\n",
            " [1.00000010e-07 4.02474679e-02 3.15245378e-01 9.60817886e-01]\n",
            " [1.98590459e-02 4.75936054e-01 3.10504543e-01 3.75759684e-05]\n",
            " [2.02953448e-06 1.53633038e-01 3.11922373e-01 8.21711163e-02]\n",
            " [3.37034846e-05 2.61097089e-01 3.10227872e-01 8.87631735e-03]\n",
            " [5.66841517e-04 4.62031689e-01 3.06952371e-01 9.47766340e-04]\n",
            " [1.00000010e-07 4.49023132e-02 3.16881581e-01 7.78125776e-01]\n",
            " [9.40646749e-01 6.88291729e-01 3.11516424e-01 1.18572485e-07]\n",
            " [1.00000010e-07 5.88844935e-02 3.15208927e-01 7.44845968e-01]\n",
            " [2.53238103e-03 4.21287893e-01 3.09815735e-01 2.26701261e-04]\n",
            " [1.56448284e-05 3.18006769e-01 3.07371202e-01 1.98621438e-02]\n",
            " [1.00000010e-07 8.10170587e-02 3.07907109e-01 9.92504694e-01]\n",
            " [1.80625688e-02 5.86499779e-01 3.07192202e-01 4.85754041e-05]\n",
            " [3.34971736e-06 2.02065832e-01 3.10067099e-01 6.04651231e-02]\n",
            " [1.26534961e-01 4.62187902e-01 3.13125055e-01 6.00394728e-06]\n",
            " [3.18640778e-02 4.48421448e-01 3.11840289e-01 2.33252940e-05]\n",
            " [2.36323167e-06 9.92383373e-02 3.15732202e-01 6.04651287e-02]\n",
            " [1.23723258e-05 1.53659729e-01 3.13945521e-01 1.71598637e-02]\n",
            " [6.72994932e-06 1.39768271e-01 3.14071738e-01 2.86064203e-02]\n",
            " [8.39475427e-03 6.51318443e-01 3.04351152e-01 1.08859077e-04]\n",
            " [2.27452599e-05 1.68661121e-01 3.13819332e-01 1.02776579e-02]\n",
            " [1.00000010e-07 4.74155605e-02 3.16546669e-01 7.71724806e-01]\n",
            " [1.80983142e-04 4.75803007e-01 3.05291155e-01 2.74562662e-03]\n",
            " [1.00000010e-07 2.89348397e-02 3.11170489e-01 9.99999839e-01]\n",
            " [1.00000010e-07 3.60764139e-02 3.17271179e-01 8.97832594e-01]\n",
            " [1.00000010e-07 9.91515261e-02 3.06189558e-01 9.93752672e-01]\n",
            " [2.50256574e-07 1.93221838e-01 3.07585503e-01 4.02844792e-01]\n",
            " [1.00000010e-07 8.96757918e-02 3.07515020e-01 9.89974633e-01]\n",
            " [1.28368853e-01 4.04187881e-01 3.14882816e-01 5.39810627e-06]\n",
            " [1.00000010e-07 2.19601801e-02 3.12696665e-01 9.99999910e-01]\n",
            " [2.80970345e-02 4.21353831e-01 3.12504895e-01 2.51007134e-05]\n",
            " [6.72447800e-01 7.11541148e-01 3.08439206e-01 7.98575841e-07]\n",
            " [1.18301554e-03 5.17440655e-01 3.06169826e-01 5.27024921e-04]\n",
            " [3.16644516e-02 4.21357128e-01 3.12639687e-01 2.24852472e-05]\n",
            " [2.78579646e-04 5.17399648e-01 3.04573035e-01 1.97371354e-03]\n",
            " [1.00000010e-07 2.89544912e-02 3.17933041e-01 9.46336988e-01]\n",
            " [3.08781639e-02 3.18193760e-01 3.15848405e-01 1.94168969e-05]\n",
            " [3.70675142e-05 1.84805170e-01 3.13558131e-01 6.86741924e-03]\n",
            " [5.73869231e-03 5.72703671e-01 3.06320684e-01 1.35656762e-04]\n",
            " [1.00000010e-07 4.24779687e-02 3.07782978e-01 9.99999954e-01]\n",
            " [6.56806823e-02 7.11462500e-01 3.04705206e-01 1.73936746e-05]\n",
            " [1.00000010e-07 1.86095350e-02 3.16402752e-01 9.99994134e-01]\n",
            " [9.96396211e-01 7.84474318e-01 3.11085614e-01 1.00000010e-07]\n",
            " [3.72758210e-02 6.14111042e-01 3.07201007e-01 2.60384718e-05]\n",
            " [2.21799473e-06 9.43871826e-02 3.16066650e-01 6.25827312e-02]\n",
            " [1.00000010e-07 2.89485944e-02 3.15896028e-01 9.89219911e-01]\n",
            " [4.55245375e-02 4.48431563e-01 3.12244290e-01 1.67672535e-05]\n",
            " [1.00000010e-07 5.88774537e-02 3.13991532e-01 8.87275513e-01]\n",
            " [6.51454704e-03 3.45356016e-01 3.13287420e-01 8.42089899e-05]\n",
            " [6.03219892e-01 7.00013485e-01 3.08501702e-01 1.03233924e-06]\n",
            " [3.79827665e-02 4.34818372e-01 3.12441955e-01 1.94168957e-05]\n",
            " [2.97346085e-02 4.08085217e-01 3.12972358e-01 2.33252945e-05]\n",
            " [5.96588463e-06 3.17983029e-01 3.06303821e-01 4.74966808e-02]\n",
            " [1.00000010e-07 5.94522443e-02 3.12444134e-01 9.53309470e-01]\n",
            " [1.00000010e-07 5.28496505e-02 3.15064607e-01 8.58871310e-01]\n",
            " [1.32250166e-01 4.21399990e-01 3.14394860e-01 5.37834280e-06]\n",
            " [9.88150001e-01 8.02641020e-01 3.08947481e-01 1.00000010e-07]\n",
            " [2.56583011e-05 1.68663040e-01 3.13954432e-01 9.20766836e-03]\n",
            " [5.81170769e-01 5.86622011e-01 3.12019326e-01 9.24770699e-07]\n",
            " [4.51674232e-01 6.76191993e-01 3.08626715e-01 1.72518220e-06]\n",
            " [9.94028500e-01 7.00125539e-01 3.13745156e-01 1.00000010e-07]\n",
            " [9.77616854e-01 6.51539046e-01 3.13862420e-01 1.00000010e-07]\n",
            " [1.00000010e-07 1.26842702e-01 3.05212911e-01 9.87078554e-01]\n",
            " [3.16644516e-02 4.21357128e-01 3.12639687e-01 2.24852472e-05]\n",
            " [3.37172108e-02 4.34815033e-01 3.12307209e-01 2.16754537e-05]\n",
            " [1.71254726e-01 4.34865116e-01 3.14331713e-01 4.16046825e-06]\n",
            " [6.56806823e-02 7.11462500e-01 3.04705206e-01 1.73936746e-05]\n",
            " [9.54116814e-07 9.43789955e-02 3.15118176e-01 1.26046165e-01]\n",
            " [1.52528998e-05 9.44058986e-02 3.18240341e-01 1.14717078e-02]\n",
            " [5.02589300e-05 1.93315710e-01 3.13495075e-01 5.31285073e-03]\n",
            " [3.71895039e-01 5.31460637e-01 3.12675249e-01 1.85649564e-06]\n",
            " [9.21210143e-01 6.76257903e-01 3.11579262e-01 1.53281658e-07]\n",
            " [1.00000010e-07 8.52585246e-02 3.09182951e-01 9.71511098e-01]\n",
            " [2.29897817e-01 7.11496208e-01 3.06302384e-01 4.64441001e-06]]\n"
          ]
        }
      ]
    },
    {
      "cell_type": "code",
      "source": [
        "OVA_predict=np.argmax(arr.T,axis=1)\n",
        "print(OVA_predict)"
      ],
      "metadata": {
        "colab": {
          "base_uri": "https://localhost:8080/"
        },
        "id": "ncY7CeMxJv6Z",
        "outputId": "a84f2871-5d63-4836-dd6b-354f75afd29d"
      },
      "execution_count": 60,
      "outputs": [
        {
          "output_type": "stream",
          "name": "stdout",
          "text": [
            "[2 1 2 0 3 3 2 3 1 2 2 1 3 0 3 1 1 3 1 2 1 1 2 2 2 1 2 3 1 3 3 3 3 3 1 3 1\n",
            " 1 1 1 1 3 1 2 1 3 1 3 0 1 2 3 1 3 1 1 1 1 1 3 3 1 0 2 1 1 0 0 3 1 1 1 1 2\n",
            " 2 2 1 0 3 1]\n"
          ]
        }
      ]
    },
    {
      "cell_type": "code",
      "source": [
        "print(accuracy_score(test_data.UNS.values,OVA_predict))"
      ],
      "metadata": {
        "colab": {
          "base_uri": "https://localhost:8080/"
        },
        "id": "ms7ip4tZK3WE",
        "outputId": "d541d0e7-4b40-4dc5-8225-e0a9e87e35c7"
      },
      "execution_count": 61,
      "outputs": [
        {
          "output_type": "stream",
          "name": "stdout",
          "text": [
            "0.525\n"
          ]
        }
      ]
    },
    {
      "cell_type": "code",
      "source": [
        "\n",
        "from sklearn.metrics import confusion_matrix\n",
        "cf_matrix=confusion_matrix(test_data.UNS.values, OVA_predict)\n",
        "print(cf_matrix)"
      ],
      "metadata": {
        "colab": {
          "base_uri": "https://localhost:8080/"
        },
        "id": "vC_b1KlITfkE",
        "outputId": "b3b3975b-7a21-480d-e7cb-9275dcb1f73b"
      },
      "execution_count": 62,
      "outputs": [
        {
          "output_type": "stream",
          "name": "stdout",
          "text": [
            "[[ 0  0  0 21]\n",
            " [ 0 26  0  0]\n",
            " [ 0  5 16  1]\n",
            " [ 7  4  0  0]]\n"
          ]
        }
      ]
    },
    {
      "cell_type": "code",
      "source": [
        "_unique, _counts = np.unique(test_data.UNS.values, return_counts=True)\n",
        "\n",
        "_unique=['HIGH','LOW','MEDIUM','VERYLOW']\n",
        "print('                Test Data:',dict(zip(_unique, _counts)))\n",
        "\n",
        "unique, counts = np.unique(OVA_predict, return_counts=True)\n",
        "unique=['HIGH','LOW','MEDIUM','VERYLOW']\n",
        "print('Predicted by Perceptron :',dict(zip(unique, counts)))\n"
      ],
      "metadata": {
        "colab": {
          "base_uri": "https://localhost:8080/"
        },
        "id": "kBf50uMrTmq4",
        "outputId": "80d78da9-39eb-4cf6-bf7e-5fb2fbd0bf9c"
      },
      "execution_count": 63,
      "outputs": [
        {
          "output_type": "stream",
          "name": "stdout",
          "text": [
            "                Test Data: {'HIGH': 21, 'LOW': 26, 'MEDIUM': 22, 'VERYLOW': 11}\n",
            "Predicted by Perceptron : {'HIGH': 7, 'LOW': 35, 'MEDIUM': 16, 'VERYLOW': 22}\n"
          ]
        }
      ]
    },
    {
      "cell_type": "code",
      "source": [
        "import seaborn as sns\n",
        "\n",
        "plt.figure(figsize = (8,6))\n",
        "\n",
        "ax = sns.heatmap(cf_matrix, annot=True, cmap='OrRd')\n",
        "ax.set_title(' Confusion Matrix with labels\\n\\n');\n",
        "ax.set_xlabel('\\nPredicted Values')\n",
        "ax.set_ylabel('Actual Values ');\n",
        "## Ticket labels - List must be in alphabetical order\n",
        "ax.xaxis.set_ticklabels(['HIGH','LOW','MEDIUM','VERYLOW'])\n",
        "ax.yaxis.set_ticklabels(['HIGH','LOW','MEDIUM','VERYLOW'])\n",
        "## Display the visualization of the Confusion Matrix.\n",
        "\n",
        "plt.show()"
      ],
      "metadata": {
        "colab": {
          "base_uri": "https://localhost:8080/",
          "height": 446
        },
        "id": "sA8rfc2uTf0-",
        "outputId": "bcfc35a8-d121-4ce7-cd12-cb4e42b693a0"
      },
      "execution_count": 64,
      "outputs": [
        {
          "output_type": "display_data",
          "data": {
            "text/plain": [
              "<Figure size 576x432 with 2 Axes>"
            ],
            "image/png": "[encoded data removed]"
          },
          "metadata": {
            "needs_background": "light"
          }
        }
      ]
    },
    {
      "cell_type": "code",
      "source": [
        "#data = pd.read_csv(io.BytesIO(uploaded['DUMD_train.csv']))\n",
        "data = pd.read_csv(\"./DUMD_train.csv\")\n",
        "data.head()"
      ],
      "metadata": {
        "colab": {
          "base_uri": "https://localhost:8080/",
          "height": 206
        },
        "id": "jqV2LtYpfDJb",
        "outputId": "33c79e26-75a8-4969-c5f5-5f69ba846351"
      },
      "execution_count": 65,
      "outputs": [
        {
          "output_type": "execute_result",
          "data": {
            "text/plain": [
              "    STG   SCG   STR   LPR   PEG       UNS\n",
              "0  0.00  0.00  0.00  0.00  0.00  Very Low\n",
              "1  0.08  0.08  0.10  0.24  0.90      High\n",
              "2  0.10  0.10  0.15  0.65  0.30    Medium\n",
              "3  0.08  0.08  0.08  0.98  0.24       Low\n",
              "4  0.09  0.15  0.40  0.10  0.66    Medium"
            ],
            "text/html": [
              "\n",
              "  <div id=\"df-39176c9b-f073-443b-a4e2-231599a509a0\">\n",
              "    <div class=\"colab-df-container\">\n",
              "      <div>\n",
              "<style scoped>\n",
              "    .dataframe tbody tr th:only-of-type {\n",
              "        vertical-align: middle;\n",
              "    }\n",
              "\n",
              "    .dataframe tbody tr th {\n",
              "        vertical-align: top;\n",
              "    }\n",
              "\n",
              "    .dataframe thead th {\n",
              "        text-align: right;\n",
              "    }\n",
              "</style>\n",
              "<table border=\"1\" class=\"dataframe\">\n",
              "  <thead>\n",
              "    <tr style=\"text-align: right;\">\n",
              "      <th></th>\n",
              "      <th>STG</th>\n",
              "      <th>SCG</th>\n",
              "      <th>STR</th>\n",
              "      <th>LPR</th>\n",
              "      <th>PEG</th>\n",
              "      <th>UNS</th>\n",
              "    </tr>\n",
              "  </thead>\n",
              "  <tbody>\n",
              "    <tr>\n",
              "      <th>0</th>\n",
              "      <td>0.00</td>\n",
              "      <td>0.00</td>\n",
              "      <td>0.00</td>\n",
              "      <td>0.00</td>\n",
              "      <td>0.00</td>\n",
              "      <td>Very Low</td>\n",
              "    </tr>\n",
              "    <tr>\n",
              "      <th>1</th>\n",
              "      <td>0.08</td>\n",
              "      <td>0.08</td>\n",
              "      <td>0.10</td>\n",
              "      <td>0.24</td>\n",
              "      <td>0.90</td>\n",
              "      <td>High</td>\n",
              "    </tr>\n",
              "    <tr>\n",
              "      <th>2</th>\n",
              "      <td>0.10</td>\n",
              "      <td>0.10</td>\n",
              "      <td>0.15</td>\n",
              "      <td>0.65</td>\n",
              "      <td>0.30</td>\n",
              "      <td>Medium</td>\n",
              "    </tr>\n",
              "    <tr>\n",
              "      <th>3</th>\n",
              "      <td>0.08</td>\n",
              "      <td>0.08</td>\n",
              "      <td>0.08</td>\n",
              "      <td>0.98</td>\n",
              "      <td>0.24</td>\n",
              "      <td>Low</td>\n",
              "    </tr>\n",
              "    <tr>\n",
              "      <th>4</th>\n",
              "      <td>0.09</td>\n",
              "      <td>0.15</td>\n",
              "      <td>0.40</td>\n",
              "      <td>0.10</td>\n",
              "      <td>0.66</td>\n",
              "      <td>Medium</td>\n",
              "    </tr>\n",
              "  </tbody>\n",
              "</table>\n",
              "</div>\n",
              "      <button class=\"colab-df-convert\" onclick=\"convertToInteractive('df-39176c9b-f073-443b-a4e2-231599a509a0')\"\n",
              "              title=\"Convert this dataframe to an interactive table.\"\n",
              "              style=\"display:none;\">\n",
              "        \n",
              "  <svg xmlns=\"http://www.w3.org/2000/svg\" height=\"24px\"viewBox=\"0 0 24 24\"\n",
              "       width=\"24px\">\n",
              "    <path d=\"M0 0h24v24H0V0z\" fill=\"none\"/>\n",
              "    <path d=\"M18.56 5.44l.94 2.06.94-2.06 2.06-.94-2.06-.94-.94-2.06-.94 2.06-2.06.94zm-11 1L8.5 8.5l.94-2.06 2.06-.94-2.06-.94L8.5 2.5l-.94 2.06-2.06.94zm10 10l.94 2.06.94-2.06 2.06-.94-2.06-.94-.94-2.06-.94 2.06-2.06.94z\"/><path d=\"M17.41 7.96l-1.37-1.37c-.4-.4-.92-.59-1.43-.59-.52 0-1.04.2-1.43.59L10.3 9.45l-7.72 7.72c-.78.78-.78 2.05 0 2.83L4 21.41c.39.39.9.59 1.41.59.51 0 1.02-.2 1.41-.59l7.78-7.78 2.81-2.81c.8-.78.8-2.07 0-2.86zM5.41 20L4 18.59l7.72-7.72 1.47 1.35L5.41 20z\"/>\n",
              "  </svg>\n",
              "      </button>\n",
              "      \n",
              "  <style>\n",
              "    .colab-df-container {\n",
              "      display:flex;\n",
              "      flex-wrap:wrap;\n",
              "      gap: 12px;\n",
              "    }\n",
              "\n",
              "    .colab-df-convert {\n",
              "      background-color: #E8F0FE;\n",
              "      border: none;\n",
              "      border-radius: 50%;\n",
              "      cursor: pointer;\n",
              "      display: none;\n",
              "      fill: #1967D2;\n",
              "      height: 32px;\n",
              "      padding: 0 0 0 0;\n",
              "      width: 32px;\n",
              "    }\n",
              "\n",
              "    .colab-df-convert:hover {\n",
              "      background-color: #E2EBFA;\n",
              "      box-shadow: 0px 1px 2px rgba(60, 64, 67, 0.3), 0px 1px 3px 1px rgba(60, 64, 67, 0.15);\n",
              "      fill: #174EA6;\n",
              "    }\n",
              "\n",
              "    [theme=dark] .colab-df-convert {\n",
              "      background-color: #3B4455;\n",
              "      fill: #D2E3FC;\n",
              "    }\n",
              "\n",
              "    [theme=dark] .colab-df-convert:hover {\n",
              "      background-color: #434B5C;\n",
              "      box-shadow: 0px 1px 3px 1px rgba(0, 0, 0, 0.15);\n",
              "      filter: drop-shadow(0px 1px 2px rgba(0, 0, 0, 0.3));\n",
              "      fill: #FFFFFF;\n",
              "    }\n",
              "  </style>\n",
              "\n",
              "      <script>\n",
              "        const buttonEl =\n",
              "          document.querySelector('#df-39176c9b-f073-443b-a4e2-231599a509a0 button.colab-df-convert');\n",
              "        buttonEl.style.display =\n",
              "          google.colab.kernel.accessAllowed ? 'block' : 'none';\n",
              "\n",
              "        async function convertToInteractive(key) {\n",
              "          const element = document.querySelector('#df-39176c9b-f073-443b-a4e2-231599a509a0');\n",
              "          const dataTable =\n",
              "            await google.colab.kernel.invokeFunction('convertToInteractive',\n",
              "                                                     [key], {});\n",
              "          if (!dataTable) return;\n",
              "\n",
              "          const docLinkHtml = 'Like what you see? Visit the ' +\n",
              "            '<a target=\"_blank\" href=https://colab.research.google.com/notebooks/data_table.ipynb>data table notebook</a>'\n",
              "            + ' to learn more about interactive tables.';\n",
              "          element.innerHTML = '';\n",
              "          dataTable['output_type'] = 'display_data';\n",
              "          await google.colab.output.renderOutput(dataTable, element);\n",
              "          const docLink = document.createElement('div');\n",
              "          docLink.innerHTML = docLinkHtml;\n",
              "          element.appendChild(docLink);\n",
              "        }\n",
              "      </script>\n",
              "    </div>\n",
              "  </div>\n",
              "  "
            ]
          },
          "metadata": {},
          "execution_count": 65
        }
      ]
    },
    {
      "cell_type": "code",
      "source": [
        "X=data[['STG','SCG','STR','LPR','PEG']]\n",
        "y=data['UNS']"
      ],
      "metadata": {
        "id": "qSIslDPmgB4w"
      },
      "execution_count": 70,
      "outputs": []
    },
    {
      "cell_type": "code",
      "source": [
        "from sklearn.svm import SVC\n",
        "from sklearn.multiclass import OneVsRestClassifier"
      ],
      "metadata": {
        "id": "gH-tsv55f9Mz"
      },
      "execution_count": 71,
      "outputs": []
    },
    {
      "cell_type": "code",
      "source": [
        "svc = SVC()\n"
      ],
      "metadata": {
        "id": "0VH4_QRyfIG5"
      },
      "execution_count": 72,
      "outputs": []
    },
    {
      "cell_type": "code",
      "source": [
        "o_vs_r = OneVsRestClassifier(svc)"
      ],
      "metadata": {
        "id": "IMn82KL9fLhx"
      },
      "execution_count": 73,
      "outputs": []
    },
    {
      "cell_type": "code",
      "source": [
        "o_vs_r.fit(X, y)"
      ],
      "metadata": {
        "colab": {
          "base_uri": "https://localhost:8080/"
        },
        "id": "XflMB9EqfPV5",
        "outputId": "7289d9ab-dbc5-4e1e-d2e1-f77b14480212"
      },
      "execution_count": 74,
      "outputs": [
        {
          "output_type": "execute_result",
          "data": {
            "text/plain": [
              "OneVsRestClassifier(estimator=SVC())"
            ]
          },
          "metadata": {},
          "execution_count": 74
        }
      ]
    },
    {
      "cell_type": "code",
      "source": [
        "#uploaded = files.upload()\n",
        "\n",
        "#test_data = pd.read_csv(io.BytesIO(uploaded['DUMD_test.csv']))\n",
        "test_data=pd.read_csv(\"./DUMD_test.csv\")\n",
        "test_data.head()"
      ],
      "metadata": {
        "colab": {
          "base_uri": "https://localhost:8080/",
          "height": 206
        },
        "id": "gVuyFanBg3nW",
        "outputId": "199e2776-7222-4070-96fa-50ba9da49057"
      },
      "execution_count": 96,
      "outputs": [
        {
          "output_type": "execute_result",
          "data": {
            "text/plain": [
              "     STG    SCG    STR   LPR   PEG       UNS\n",
              "0  0.420  0.290  0.140  0.03  0.68    Medium\n",
              "1  0.100  0.100  0.520  0.78  0.34    Medium\n",
              "2  0.510  0.255  0.550  0.17  0.64    Medium\n",
              "3  0.250  0.540  0.310  0.25  0.08  Very Low\n",
              "4  0.258  0.250  0.295  0.33  0.77      High"
            ],
            "text/html": [
              "\n",
              "  <div id=\"df-1cd075f7-02de-4ec2-be60-933408587eaa\">\n",
              "    <div class=\"colab-df-container\">\n",
              "      <div>\n",
              "<style scoped>\n",
              "    .dataframe tbody tr th:only-of-type {\n",
              "        vertical-align: middle;\n",
              "    }\n",
              "\n",
              "    .dataframe tbody tr th {\n",
              "        vertical-align: top;\n",
              "    }\n",
              "\n",
              "    .dataframe thead th {\n",
              "        text-align: right;\n",
              "    }\n",
              "</style>\n",
              "<table border=\"1\" class=\"dataframe\">\n",
              "  <thead>\n",
              "    <tr style=\"text-align: right;\">\n",
              "      <th></th>\n",
              "      <th>STG</th>\n",
              "      <th>SCG</th>\n",
              "      <th>STR</th>\n",
              "      <th>LPR</th>\n",
              "      <th>PEG</th>\n",
              "      <th>UNS</th>\n",
              "    </tr>\n",
              "  </thead>\n",
              "  <tbody>\n",
              "    <tr>\n",
              "      <th>0</th>\n",
              "      <td>0.420</td>\n",
              "      <td>0.290</td>\n",
              "      <td>0.140</td>\n",
              "      <td>0.03</td>\n",
              "      <td>0.68</td>\n",
              "      <td>Medium</td>\n",
              "    </tr>\n",
              "    <tr>\n",
              "      <th>1</th>\n",
              "      <td>0.100</td>\n",
              "      <td>0.100</td>\n",
              "      <td>0.520</td>\n",
              "      <td>0.78</td>\n",
              "      <td>0.34</td>\n",
              "      <td>Medium</td>\n",
              "    </tr>\n",
              "    <tr>\n",
              "      <th>2</th>\n",
              "      <td>0.510</td>\n",
              "      <td>0.255</td>\n",
              "      <td>0.550</td>\n",
              "      <td>0.17</td>\n",
              "      <td>0.64</td>\n",
              "      <td>Medium</td>\n",
              "    </tr>\n",
              "    <tr>\n",
              "      <th>3</th>\n",
              "      <td>0.250</td>\n",
              "      <td>0.540</td>\n",
              "      <td>0.310</td>\n",
              "      <td>0.25</td>\n",
              "      <td>0.08</td>\n",
              "      <td>Very Low</td>\n",
              "    </tr>\n",
              "    <tr>\n",
              "      <th>4</th>\n",
              "      <td>0.258</td>\n",
              "      <td>0.250</td>\n",
              "      <td>0.295</td>\n",
              "      <td>0.33</td>\n",
              "      <td>0.77</td>\n",
              "      <td>High</td>\n",
              "    </tr>\n",
              "  </tbody>\n",
              "</table>\n",
              "</div>\n",
              "      <button class=\"colab-df-convert\" onclick=\"convertToInteractive('df-1cd075f7-02de-4ec2-be60-933408587eaa')\"\n",
              "              title=\"Convert this dataframe to an interactive table.\"\n",
              "              style=\"display:none;\">\n",
              "        \n",
              "  <svg xmlns=\"http://www.w3.org/2000/svg\" height=\"24px\"viewBox=\"0 0 24 24\"\n",
              "       width=\"24px\">\n",
              "    <path d=\"M0 0h24v24H0V0z\" fill=\"none\"/>\n",
              "    <path d=\"M18.56 5.44l.94 2.06.94-2.06 2.06-.94-2.06-.94-.94-2.06-.94 2.06-2.06.94zm-11 1L8.5 8.5l.94-2.06 2.06-.94-2.06-.94L8.5 2.5l-.94 2.06-2.06.94zm10 10l.94 2.06.94-2.06 2.06-.94-2.06-.94-.94-2.06-.94 2.06-2.06.94z\"/><path d=\"M17.41 7.96l-1.37-1.37c-.4-.4-.92-.59-1.43-.59-.52 0-1.04.2-1.43.59L10.3 9.45l-7.72 7.72c-.78.78-.78 2.05 0 2.83L4 21.41c.39.39.9.59 1.41.59.51 0 1.02-.2 1.41-.59l7.78-7.78 2.81-2.81c.8-.78.8-2.07 0-2.86zM5.41 20L4 18.59l7.72-7.72 1.47 1.35L5.41 20z\"/>\n",
              "  </svg>\n",
              "      </button>\n",
              "      \n",
              "  <style>\n",
              "    .colab-df-container {\n",
              "      display:flex;\n",
              "      flex-wrap:wrap;\n",
              "      gap: 12px;\n",
              "    }\n",
              "\n",
              "    .colab-df-convert {\n",
              "      background-color: #E8F0FE;\n",
              "      border: none;\n",
              "      border-radius: 50%;\n",
              "      cursor: pointer;\n",
              "      display: none;\n",
              "      fill: #1967D2;\n",
              "      height: 32px;\n",
              "      padding: 0 0 0 0;\n",
              "      width: 32px;\n",
              "    }\n",
              "\n",
              "    .colab-df-convert:hover {\n",
              "      background-color: #E2EBFA;\n",
              "      box-shadow: 0px 1px 2px rgba(60, 64, 67, 0.3), 0px 1px 3px 1px rgba(60, 64, 67, 0.15);\n",
              "      fill: #174EA6;\n",
              "    }\n",
              "\n",
              "    [theme=dark] .colab-df-convert {\n",
              "      background-color: #3B4455;\n",
              "      fill: #D2E3FC;\n",
              "    }\n",
              "\n",
              "    [theme=dark] .colab-df-convert:hover {\n",
              "      background-color: #434B5C;\n",
              "      box-shadow: 0px 1px 3px 1px rgba(0, 0, 0, 0.15);\n",
              "      filter: drop-shadow(0px 1px 2px rgba(0, 0, 0, 0.3));\n",
              "      fill: #FFFFFF;\n",
              "    }\n",
              "  </style>\n",
              "\n",
              "      <script>\n",
              "        const buttonEl =\n",
              "          document.querySelector('#df-1cd075f7-02de-4ec2-be60-933408587eaa button.colab-df-convert');\n",
              "        buttonEl.style.display =\n",
              "          google.colab.kernel.accessAllowed ? 'block' : 'none';\n",
              "\n",
              "        async function convertToInteractive(key) {\n",
              "          const element = document.querySelector('#df-1cd075f7-02de-4ec2-be60-933408587eaa');\n",
              "          const dataTable =\n",
              "            await google.colab.kernel.invokeFunction('convertToInteractive',\n",
              "                                                     [key], {});\n",
              "          if (!dataTable) return;\n",
              "\n",
              "          const docLinkHtml = 'Like what you see? Visit the ' +\n",
              "            '<a target=\"_blank\" href=https://colab.research.google.com/notebooks/data_table.ipynb>data table notebook</a>'\n",
              "            + ' to learn more about interactive tables.';\n",
              "          element.innerHTML = '';\n",
              "          dataTable['output_type'] = 'display_data';\n",
              "          await google.colab.output.renderOutput(dataTable, element);\n",
              "          const docLink = document.createElement('div');\n",
              "          docLink.innerHTML = docLinkHtml;\n",
              "          element.appendChild(docLink);\n",
              "        }\n",
              "      </script>\n",
              "    </div>\n",
              "  </div>\n",
              "  "
            ]
          },
          "metadata": {},
          "execution_count": 96
        }
      ]
    },
    {
      "cell_type": "code",
      "source": [
        "Xt=test_data[['STG',\t'SCG','STR','LPR','PEG']]\n"
      ],
      "metadata": {
        "id": "N5LW9kRag5BQ"
      },
      "execution_count": 97,
      "outputs": []
    },
    {
      "cell_type": "code",
      "source": [
        "yt=test_data['UNS']\n",
        "Encoder2 = LabelEncoder()\n",
        "test_data['UNS'] = Encoder2.fit_transform(test_data['UNS'])\n",
        "\n",
        "test_data.head()\n"
      ],
      "metadata": {
        "colab": {
          "base_uri": "https://localhost:8080/",
          "height": 206
        },
        "id": "cVx1FNvBwMYc",
        "outputId": "5c78a863-7de7-446e-e136-3c9b848b1b97"
      },
      "execution_count": 98,
      "outputs": [
        {
          "output_type": "execute_result",
          "data": {
            "text/plain": [
              "     STG    SCG    STR   LPR   PEG  UNS\n",
              "0  0.420  0.290  0.140  0.03  0.68    2\n",
              "1  0.100  0.100  0.520  0.78  0.34    2\n",
              "2  0.510  0.255  0.550  0.17  0.64    2\n",
              "3  0.250  0.540  0.310  0.25  0.08    3\n",
              "4  0.258  0.250  0.295  0.33  0.77    0"
            ],
            "text/html": [
              "\n",
              "  <div id=\"df-11c7b751-b3cb-4c4d-948f-87414879ca9c\">\n",
              "    <div class=\"colab-df-container\">\n",
              "      <div>\n",
              "<style scoped>\n",
              "    .dataframe tbody tr th:only-of-type {\n",
              "        vertical-align: middle;\n",
              "    }\n",
              "\n",
              "    .dataframe tbody tr th {\n",
              "        vertical-align: top;\n",
              "    }\n",
              "\n",
              "    .dataframe thead th {\n",
              "        text-align: right;\n",
              "    }\n",
              "</style>\n",
              "<table border=\"1\" class=\"dataframe\">\n",
              "  <thead>\n",
              "    <tr style=\"text-align: right;\">\n",
              "      <th></th>\n",
              "      <th>STG</th>\n",
              "      <th>SCG</th>\n",
              "      <th>STR</th>\n",
              "      <th>LPR</th>\n",
              "      <th>PEG</th>\n",
              "      <th>UNS</th>\n",
              "    </tr>\n",
              "  </thead>\n",
              "  <tbody>\n",
              "    <tr>\n",
              "      <th>0</th>\n",
              "      <td>0.420</td>\n",
              "      <td>0.290</td>\n",
              "      <td>0.140</td>\n",
              "      <td>0.03</td>\n",
              "      <td>0.68</td>\n",
              "      <td>2</td>\n",
              "    </tr>\n",
              "    <tr>\n",
              "      <th>1</th>\n",
              "      <td>0.100</td>\n",
              "      <td>0.100</td>\n",
              "      <td>0.520</td>\n",
              "      <td>0.78</td>\n",
              "      <td>0.34</td>\n",
              "      <td>2</td>\n",
              "    </tr>\n",
              "    <tr>\n",
              "      <th>2</th>\n",
              "      <td>0.510</td>\n",
              "      <td>0.255</td>\n",
              "      <td>0.550</td>\n",
              "      <td>0.17</td>\n",
              "      <td>0.64</td>\n",
              "      <td>2</td>\n",
              "    </tr>\n",
              "    <tr>\n",
              "      <th>3</th>\n",
              "      <td>0.250</td>\n",
              "      <td>0.540</td>\n",
              "      <td>0.310</td>\n",
              "      <td>0.25</td>\n",
              "      <td>0.08</td>\n",
              "      <td>3</td>\n",
              "    </tr>\n",
              "    <tr>\n",
              "      <th>4</th>\n",
              "      <td>0.258</td>\n",
              "      <td>0.250</td>\n",
              "      <td>0.295</td>\n",
              "      <td>0.33</td>\n",
              "      <td>0.77</td>\n",
              "      <td>0</td>\n",
              "    </tr>\n",
              "  </tbody>\n",
              "</table>\n",
              "</div>\n",
              "      <button class=\"colab-df-convert\" onclick=\"convertToInteractive('df-11c7b751-b3cb-4c4d-948f-87414879ca9c')\"\n",
              "              title=\"Convert this dataframe to an interactive table.\"\n",
              "              style=\"display:none;\">\n",
              "        \n",
              "  <svg xmlns=\"http://www.w3.org/2000/svg\" height=\"24px\"viewBox=\"0 0 24 24\"\n",
              "       width=\"24px\">\n",
              "    <path d=\"M0 0h24v24H0V0z\" fill=\"none\"/>\n",
              "    <path d=\"M18.56 5.44l.94 2.06.94-2.06 2.06-.94-2.06-.94-.94-2.06-.94 2.06-2.06.94zm-11 1L8.5 8.5l.94-2.06 2.06-.94-2.06-.94L8.5 2.5l-.94 2.06-2.06.94zm10 10l.94 2.06.94-2.06 2.06-.94-2.06-.94-.94-2.06-.94 2.06-2.06.94z\"/><path d=\"M17.41 7.96l-1.37-1.37c-.4-.4-.92-.59-1.43-.59-.52 0-1.04.2-1.43.59L10.3 9.45l-7.72 7.72c-.78.78-.78 2.05 0 2.83L4 21.41c.39.39.9.59 1.41.59.51 0 1.02-.2 1.41-.59l7.78-7.78 2.81-2.81c.8-.78.8-2.07 0-2.86zM5.41 20L4 18.59l7.72-7.72 1.47 1.35L5.41 20z\"/>\n",
              "  </svg>\n",
              "      </button>\n",
              "      \n",
              "  <style>\n",
              "    .colab-df-container {\n",
              "      display:flex;\n",
              "      flex-wrap:wrap;\n",
              "      gap: 12px;\n",
              "    }\n",
              "\n",
              "    .colab-df-convert {\n",
              "      background-color: #E8F0FE;\n",
              "      border: none;\n",
              "      border-radius: 50%;\n",
              "      cursor: pointer;\n",
              "      display: none;\n",
              "      fill: #1967D2;\n",
              "      height: 32px;\n",
              "      padding: 0 0 0 0;\n",
              "      width: 32px;\n",
              "    }\n",
              "\n",
              "    .colab-df-convert:hover {\n",
              "      background-color: #E2EBFA;\n",
              "      box-shadow: 0px 1px 2px rgba(60, 64, 67, 0.3), 0px 1px 3px 1px rgba(60, 64, 67, 0.15);\n",
              "      fill: #174EA6;\n",
              "    }\n",
              "\n",
              "    [theme=dark] .colab-df-convert {\n",
              "      background-color: #3B4455;\n",
              "      fill: #D2E3FC;\n",
              "    }\n",
              "\n",
              "    [theme=dark] .colab-df-convert:hover {\n",
              "      background-color: #434B5C;\n",
              "      box-shadow: 0px 1px 3px 1px rgba(0, 0, 0, 0.15);\n",
              "      filter: drop-shadow(0px 1px 2px rgba(0, 0, 0, 0.3));\n",
              "      fill: #FFFFFF;\n",
              "    }\n",
              "  </style>\n",
              "\n",
              "      <script>\n",
              "        const buttonEl =\n",
              "          document.querySelector('#df-11c7b751-b3cb-4c4d-948f-87414879ca9c button.colab-df-convert');\n",
              "        buttonEl.style.display =\n",
              "          google.colab.kernel.accessAllowed ? 'block' : 'none';\n",
              "\n",
              "        async function convertToInteractive(key) {\n",
              "          const element = document.querySelector('#df-11c7b751-b3cb-4c4d-948f-87414879ca9c');\n",
              "          const dataTable =\n",
              "            await google.colab.kernel.invokeFunction('convertToInteractive',\n",
              "                                                     [key], {});\n",
              "          if (!dataTable) return;\n",
              "\n",
              "          const docLinkHtml = 'Like what you see? Visit the ' +\n",
              "            '<a target=\"_blank\" href=https://colab.research.google.com/notebooks/data_table.ipynb>data table notebook</a>'\n",
              "            + ' to learn more about interactive tables.';\n",
              "          element.innerHTML = '';\n",
              "          dataTable['output_type'] = 'display_data';\n",
              "          await google.colab.output.renderOutput(dataTable, element);\n",
              "          const docLink = document.createElement('div');\n",
              "          docLink.innerHTML = docLinkHtml;\n",
              "          element.appendChild(docLink);\n",
              "        }\n",
              "      </script>\n",
              "    </div>\n",
              "  </div>\n",
              "  "
            ]
          },
          "metadata": {},
          "execution_count": 98
        }
      ]
    },
    {
      "cell_type": "code",
      "source": [
        "yhat = o_vs_r.predict(Xt)"
      ],
      "metadata": {
        "id": "DiP-uTIEfebp"
      },
      "execution_count": 99,
      "outputs": []
    },
    {
      "cell_type": "code",
      "source": [
        "print(accuracy_score(yt,yhat))"
      ],
      "metadata": {
        "colab": {
          "base_uri": "https://localhost:8080/"
        },
        "id": "_OPC9ImAhIwH",
        "outputId": "0ef70c76-8139-402b-b401-5fc94007e454"
      },
      "execution_count": 100,
      "outputs": [
        {
          "output_type": "stream",
          "name": "stdout",
          "text": [
            "0.925\n"
          ]
        }
      ]
    },
    {
      "cell_type": "code",
      "source": [
        "cf_matrix=confusion_matrix(yt, yhat)\n",
        "print(cf_matrix)"
      ],
      "metadata": {
        "colab": {
          "base_uri": "https://localhost:8080/"
        },
        "id": "kTjkPjclhVjj",
        "outputId": "411b5390-74b0-4719-f9d1-2715b978d232"
      },
      "execution_count": 101,
      "outputs": [
        {
          "output_type": "stream",
          "name": "stdout",
          "text": [
            "[[21  0  0  0]\n",
            " [ 0 26  0  0]\n",
            " [ 0  2 20  0]\n",
            " [ 0  4  0  7]]\n"
          ]
        }
      ]
    },
    {
      "cell_type": "code",
      "source": [
        "from sklearn.metrics import plot_confusion_matrix\n",
        "from mlxtend.plotting import plot_decision_regions"
      ],
      "metadata": {
        "id": "p3nCm_qVtNXU"
      },
      "execution_count": 102,
      "outputs": []
    },
    {
      "cell_type": "code",
      "source": [
        "# Evaluate by means of a confusion matrix\n",
        "matrix = plot_confusion_matrix(o_vs_r, Xt, yt,\n",
        "                                 cmap=plt.cm.Blues)\n",
        "plt.title('Confusion matrix for OvR classifier')\n",
        "plt.show(matrix)\n",
        "plt.show()\n",
        "Xtt=Xt.to_numpy()\n",
        "ytt=yt.to_numpy()\n",
        "\n",
        "# Plot decision boundary\n",
        "#plot_decision_regions(Xtt, np.array(test_data['UNS']), clf=o_vs_r, legend=2)\n",
        "#plt.show()"
      ],
      "metadata": {
        "colab": {
          "base_uri": "https://localhost:8080/",
          "height": 350
        },
        "id": "9bYSLVINtU_h",
        "outputId": "ea496254-a659-462c-b730-c5d0ca846a16"
      },
      "execution_count": 109,
      "outputs": [
        {
          "output_type": "stream",
          "name": "stderr",
          "text": [
            "/usr/local/lib/python3.7/dist-packages/sklearn/utils/deprecation.py:87: FutureWarning: Function plot_confusion_matrix is deprecated; Function `plot_confusion_matrix` is deprecated in 1.0 and will be removed in 1.2. Use one of the class methods: ConfusionMatrixDisplay.from_predictions or ConfusionMatrixDisplay.from_estimator.\n",
            "  warnings.warn(msg, category=FutureWarning)\n"
          ]
        },
        {
          "output_type": "display_data",
          "data": {
            "text/plain": [
              "<Figure size 432x288 with 2 Axes>"
            ],
            "image/png": "[encoded data removed]"
          },
          "metadata": {
            "needs_background": "light"
          }
        }
      ]
    }
  ]
}