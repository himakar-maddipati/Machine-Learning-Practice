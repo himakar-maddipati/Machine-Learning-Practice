{
  "nbformat": 4,
  "nbformat_minor": 0,
  "metadata": {
    "colab": {
      "provenance": []
    },
    "kernelspec": {
      "name": "python3",
      "display_name": "Python 3"
    },
    "language_info": {
      "name": "python"
    }
  },
  "cells": [
    {
      "cell_type": "markdown",
      "metadata": {
        "id": "LWqTmg0mgelL"
      },
      "source": [
        "## Learning Rate Scheduling"
      ]
    },
    {
      "cell_type": "code",
      "execution_count": null,
      "metadata": {
        "id": "Ftwq9dUrgejt"
      },
      "outputs": [],
      "source": [
        "# Python ≥3.5 is required\n",
        "import sys\n",
        "assert sys.version_info >= (3, 5)\n",
        "\n",
        "# Scikit-Learn ≥0.20 is required\n",
        "import sklearn\n",
        "assert sklearn.__version__ >= \"0.20\"\n",
        "\n",
        "try:\n",
        "    # %tensorflow_version only exists in Colab.\n",
        "    %tensorflow_version 2.x\n",
        "except Exception:\n",
        "    pass\n",
        "\n",
        "# TensorFlow ≥2.0 is required\n",
        "import tensorflow as tf\n",
        "from tensorflow import keras\n",
        "assert tf.__version__ >= \"2.0\"\n",
        "\n",
        "%load_ext tensorboard\n",
        "\n",
        "# Common imports\n",
        "import numpy as np\n",
        "import os\n",
        "\n",
        "# to make this notebook's output stable across runs\n",
        "np.random.seed(42)\n",
        "\n",
        "# To plot pretty figures\n",
        "%matplotlib inline\n",
        "import matplotlib as mpl\n",
        "import matplotlib.pyplot as plt\n",
        "mpl.rc('axes', labelsize=14)\n",
        "mpl.rc('xtick', labelsize=12)\n",
        "mpl.rc('ytick', labelsize=12)\n",
        "\n",
        "# Where to save the figures\n",
        "PROJECT_ROOT_DIR = \".\"\n",
        "CHAPTER_ID = \"deep\"\n",
        "IMAGES_PATH = os.path.join(PROJECT_ROOT_DIR, \"images\", CHAPTER_ID)\n",
        "os.makedirs(IMAGES_PATH, exist_ok=True)\n",
        "\n",
        "def save_fig(fig_id, tight_layout=True, fig_extension=\"png\", resolution=300):\n",
        "    path = os.path.join(IMAGES_PATH, fig_id + \".\" + fig_extension)\n",
        "    print(\"Saving figure\", fig_id)\n",
        "    if tight_layout:\n",
        "        plt.tight_layout()\n",
        "    plt.savefig(path, format=fig_extension, dpi=resolution)"
      ]
    },
    {
      "cell_type": "code",
      "execution_count": null,
      "metadata": {
        "id": "Ess7RWligekG",
        "colab": {
          "base_uri": "https://localhost:8080/"
        },
        "outputId": "895e9580-6e3a-4ea8-f862-a344324a979d"
      },
      "outputs": [
        {
          "output_type": "stream",
          "name": "stdout",
          "text": [
            "Downloading data from https://storage.googleapis.com/tensorflow/tf-keras-datasets/train-labels-idx1-ubyte.gz\n",
            "32768/29515 [=================================] - 0s 0us/step\n",
            "40960/29515 [=========================================] - 0s 0us/step\n",
            "Downloading data from https://storage.googleapis.com/tensorflow/tf-keras-datasets/train-images-idx3-ubyte.gz\n",
            "26427392/26421880 [==============================] - 0s 0us/step\n",
            "26435584/26421880 [==============================] - 0s 0us/step\n",
            "Downloading data from https://storage.googleapis.com/tensorflow/tf-keras-datasets/t10k-labels-idx1-ubyte.gz\n",
            "16384/5148 [===============================================================================================] - 0s 0us/step\n",
            "Downloading data from https://storage.googleapis.com/tensorflow/tf-keras-datasets/t10k-images-idx3-ubyte.gz\n",
            "4423680/4422102 [==============================] - 0s 0us/step\n",
            "4431872/4422102 [==============================] - 0s 0us/step\n"
          ]
        }
      ],
      "source": [
        "(X_train_full, y_train_full), (X_test, y_test) = keras.datasets.fashion_mnist.load_data()\n",
        "X_train_full = X_train_full / 255.0\n",
        "X_test = X_test / 255.0\n",
        "X_valid, X_train = X_train_full[:5000], X_train_full[5000:]\n",
        "y_valid, y_train = y_train_full[:5000], y_train_full[5000:]"
      ]
    },
    {
      "cell_type": "code",
      "source": [
        "pixel_means = X_train.mean(axis=0, keepdims=True)\n",
        "pixel_stds = X_train.std(axis=0, keepdims=True)\n",
        "X_train_scaled = (X_train - pixel_means) / pixel_stds\n",
        "X_valid_scaled = (X_valid - pixel_means) / pixel_stds\n",
        "X_test_scaled = (X_test - pixel_means) / pixel_stds"
      ],
      "metadata": {
        "id": "ySQc41iaxEdL"
      },
      "execution_count": null,
      "outputs": []
    },
    {
      "cell_type": "markdown",
      "metadata": {
        "id": "29YveTSVgelL"
      },
      "source": [
        "### Power Scheduling"
      ]
    },
    {
      "cell_type": "markdown",
      "metadata": {
        "id": "UilHEVlHgelL"
      },
      "source": [
        "### Power Scheduling Formula\n",
        "Set the learning rate to a function of the iteration number t:\n",
        "\n",
        "$ η(t) = η_0 / (1 + t/s)^c.$\n",
        "\n",
        "\n",
        "\n",
        "$lr = lr_0 / (1 + t / s)^c$\n",
        "* Keras uses `c=1` and `s = 1 / decay` and t=iteration number\n",
        "* t=current epoch*number of steps per epoch\n",
        "\n",
        "$lr = lr_0 / (1 + decay*current\\ epoch*no\\ of\\ steps\\ per\\ epoch)^1$\n",
        "\n",
        "Here only variable is current epoch\n"
      ]
    },
    {
      "cell_type": "markdown",
      "source": [
        "### batch_size=number of samples per gradient upgrade\n",
        "\n",
        "1.  batch size =integer(default=32)\n",
        "2. steps_per_epoch=$\\frac{number\\ of \\ training  \\ samples}{ batch \\ size}$"
      ],
      "metadata": {
        "id": "FoUPVWsliiIZ"
      }
    },
    {
      "cell_type": "code",
      "source": [
        "no_of_samples=len(X_train_scaled)\n",
        "default_batch=32\n",
        "steps=no_of_samples//default_batch\n",
        "print(\"\\n steps per epoch\\n\",steps)"
      ],
      "metadata": {
        "colab": {
          "base_uri": "https://localhost:8080/"
        },
        "id": "8Cy5jdLjggpd",
        "outputId": "e79d9c67-bda6-4167-b30c-dab4f4f8c869"
      },
      "execution_count": null,
      "outputs": [
        {
          "output_type": "stream",
          "name": "stdout",
          "text": [
            "\n",
            " steps per epoch\n",
            " 1718\n"
          ]
        }
      ]
    },
    {
      "cell_type": "code",
      "execution_count": null,
      "metadata": {
        "id": "_hqQB3jrgelM"
      },
      "outputs": [],
      "source": [
        "optimizer = keras.optimizers.SGD(learning_rate=0.01, decay=1e-4)"
      ]
    },
    {
      "cell_type": "markdown",
      "source": [
        "## keras documentation model.compile and model.fit\n",
        "\n",
        "https://keras.io/api/models/model_training_apis/"
      ],
      "metadata": {
        "id": "Ekzgbd9kq2y-"
      }
    },
    {
      "cell_type": "code",
      "execution_count": null,
      "metadata": {
        "id": "deL9vGDlgelM"
      },
      "outputs": [],
      "source": [
        "model = keras.models.Sequential([\n",
        "    keras.layers.Flatten(input_shape=[28, 28]),\n",
        "    keras.layers.Dense(300, activation=\"selu\", kernel_initializer=\"lecun_normal\"),\n",
        "    keras.layers.Dense(100, activation=\"selu\", kernel_initializer=\"lecun_normal\"),\n",
        "    keras.layers.Dense(10, activation=\"softmax\")\n",
        "])\n",
        "model.compile(loss=\"sparse_categorical_crossentropy\", optimizer=optimizer, metrics=[\"accuracy\"])"
      ]
    },
    {
      "cell_type": "code",
      "execution_count": null,
      "metadata": {
        "id": "RiN8mgc8gelM",
        "outputId": "c0363455-1d37-42d0-e9ad-552467c85787",
        "colab": {
          "base_uri": "https://localhost:8080/"
        }
      },
      "outputs": [
        {
          "output_type": "stream",
          "name": "stdout",
          "text": [
            "Epoch 1/10\n",
            "1719/1719 [==============================] - 10s 6ms/step - loss: 0.4847 - accuracy: 0.8287 - val_loss: 0.4077 - val_accuracy: 0.8608\n",
            "Epoch 2/10\n",
            "1719/1719 [==============================] - 9s 5ms/step - loss: 0.3787 - accuracy: 0.8653 - val_loss: 0.3745 - val_accuracy: 0.8690\n",
            "Epoch 3/10\n",
            "1719/1719 [==============================] - 9s 5ms/step - loss: 0.3467 - accuracy: 0.8762 - val_loss: 0.3727 - val_accuracy: 0.8690\n",
            "Epoch 4/10\n",
            "1719/1719 [==============================] - 8s 5ms/step - loss: 0.3257 - accuracy: 0.8836 - val_loss: 0.3584 - val_accuracy: 0.8740\n",
            "Epoch 5/10\n",
            "1719/1719 [==============================] - 9s 5ms/step - loss: 0.3107 - accuracy: 0.8891 - val_loss: 0.3521 - val_accuracy: 0.8778\n",
            "Epoch 6/10\n",
            "1719/1719 [==============================] - 10s 6ms/step - loss: 0.2969 - accuracy: 0.8933 - val_loss: 0.3476 - val_accuracy: 0.8790\n",
            "Epoch 7/10\n",
            "1719/1719 [==============================] - 9s 5ms/step - loss: 0.2875 - accuracy: 0.8978 - val_loss: 0.3435 - val_accuracy: 0.8826\n",
            "Epoch 8/10\n",
            "1719/1719 [==============================] - 9s 5ms/step - loss: 0.2787 - accuracy: 0.9007 - val_loss: 0.3389 - val_accuracy: 0.8808\n",
            "Epoch 9/10\n",
            "1719/1719 [==============================] - 8s 5ms/step - loss: 0.2712 - accuracy: 0.9027 - val_loss: 0.3363 - val_accuracy: 0.8824\n",
            "Epoch 10/10\n",
            "1719/1719 [==============================] - 9s 5ms/step - loss: 0.2642 - accuracy: 0.9065 - val_loss: 0.3329 - val_accuracy: 0.8848\n"
          ]
        }
      ],
      "source": [
        "n_epochs = 10\n",
        "history = model.fit(X_train_scaled, y_train, epochs=n_epochs,\n",
        "                    validation_data=(X_valid_scaled, y_valid))"
      ]
    },
    {
      "cell_type": "code",
      "execution_count": null,
      "metadata": {
        "id": "j-dzseNjgelN",
        "outputId": "48194748-17cc-4bad-a711-1dc3327bef95",
        "colab": {
          "base_uri": "https://localhost:8080/",
          "height": 303
        }
      },
      "outputs": [
        {
          "output_type": "display_data",
          "data": {
            "text/plain": [
              "<Figure size 432x288 with 1 Axes>"
            ],
            "image/png": "[encoded data removed]"
          },
          "metadata": {
            "needs_background": "light"
          }
        }
      ],
      "source": [
        "learning_rate = 0.01\n",
        "decay = 1e-4\n",
        "batch_size = 32\n",
        "n_epochs=10\n",
        "n_steps_per_epoch = len(X_train_scaled) /batch_size\n",
        "epochs = np.arange(n_epochs)\n",
        "lrs = learning_rate / (1 + decay * epochs * n_steps_per_epoch)\n",
        "#only variable is epochs\n",
        "plt.plot(epochs, lrs,  \"o-\")\n",
        "plt.axis([0, n_epochs - 1, 0, 0.01])\n",
        "plt.xlabel(\"Epoch\")\n",
        "plt.ylabel(\"Learning Rate\")\n",
        "plt.title(\"Power Scheduling\", fontsize=14)\n",
        "plt.grid(True)\n",
        "plt.show()"
      ]
    },
    {
      "cell_type": "markdown",
      "source": [
        "Q calculate learning rate at epoch=6?\n",
        "\n",
        "lrs = learning_rate / (1 + decay * epochs * n_steps_per_epoch)\n",
        "\n",
        "lrs = 0.01 / (1 + 1e-4 * epochs * 1719)\n"
      ],
      "metadata": {
        "id": "Ehxhy011pC21"
      }
    },
    {
      "cell_type": "markdown",
      "metadata": {
        "id": "3wn8hn5EgelN"
      },
      "source": [
        "### Exponential Scheduling"
      ]
    },
    {
      "cell_type": "markdown",
      "metadata": {
        "id": "vGgVJZ-BgelO"
      },
      "source": [
        "Set the learning rate to\n",
        "\n",
        "$lr = lr_0 * 0.1**(epoch / s)$\n",
        "\n",
        "\n",
        " The learning rate will gradually drop by a factor of 10 every s steps. While power scheduling reduces the learning rate more and more slowly, exponential scheduling keeps slashing it by a factor of 10 every s steps"
      ]
    },
    {
      "cell_type": "markdown",
      "source": [
        "## Tensorflow callbacks\n",
        "\n",
        "https://blog.paperspace.com/tensorflow-callbacks/\n",
        "\n",
        "https://medium.com/ydata-ai/how-to-use-tensorflow-callbacks-f54f9bb6db25"
      ],
      "metadata": {
        "id": "79dPTdLEAA_P"
      }
    },
    {
      "cell_type": "code",
      "execution_count": null,
      "metadata": {
        "id": "VR08Us68gelO"
      },
      "outputs": [],
      "source": [
        "# def exponential_decay_fn(epoch):\n",
        "#     return 0.01 * 0.1**(epoch / 20)"
      ]
    },
    {
      "cell_type": "code",
      "execution_count": null,
      "metadata": {
        "id": "_jQNj1CVgelO"
      },
      "outputs": [],
      "source": [
        "def exponential_decay(lr0, s):\n",
        "    def exponential_decay_fn(epoch):\n",
        "        return lr0 * 0.1**(epoch / s)\n",
        "    return exponential_decay_fn\n",
        "\n",
        "exponential_decay_fn = exponential_decay(lr0=0.01, s=20)"
      ]
    },
    {
      "cell_type": "code",
      "execution_count": null,
      "metadata": {
        "id": "YCsAh6TkgelP"
      },
      "outputs": [],
      "source": [
        "model = keras.models.Sequential([\n",
        "    keras.layers.Flatten(input_shape=[28, 28]),\n",
        "    keras.layers.Dense(300, activation=\"selu\", kernel_initializer=\"lecun_normal\"),\n",
        "    keras.layers.Dense(100, activation=\"selu\", kernel_initializer=\"lecun_normal\"),\n",
        "    keras.layers.Dense(10, activation=\"softmax\")\n",
        "])\n",
        "model.compile(loss=\"sparse_categorical_crossentropy\", optimizer=\"nadam\", metrics=[\"accuracy\"])\n",
        "n_epochs = 10"
      ]
    },
    {
      "cell_type": "code",
      "execution_count": null,
      "metadata": {
        "id": "YK4erw0sgelP",
        "outputId": "f30f3579-08df-4c96-f591-8bb75f3e1681",
        "colab": {
          "base_uri": "https://localhost:8080/"
        }
      },
      "outputs": [
        {
          "output_type": "stream",
          "name": "stdout",
          "text": [
            "Epoch 1/10\n",
            "1719/1719 [==============================] - 17s 9ms/step - loss: 0.8756 - accuracy: 0.7530 - val_loss: 0.8145 - val_accuracy: 0.7654 - lr: 0.0100\n",
            "Epoch 2/10\n",
            "1719/1719 [==============================] - 16s 9ms/step - loss: 0.6919 - accuracy: 0.7856 - val_loss: 0.6779 - val_accuracy: 0.7786 - lr: 0.0089\n",
            "Epoch 3/10\n",
            "1719/1719 [==============================] - 15s 9ms/step - loss: 0.6435 - accuracy: 0.8050 - val_loss: 0.8604 - val_accuracy: 0.7976 - lr: 0.0079\n",
            "Epoch 4/10\n",
            "1719/1719 [==============================] - 18s 10ms/step - loss: 0.5486 - accuracy: 0.8294 - val_loss: 0.5731 - val_accuracy: 0.8230 - lr: 0.0071\n",
            "Epoch 5/10\n",
            "1719/1719 [==============================] - 15s 9ms/step - loss: 0.5126 - accuracy: 0.8389 - val_loss: 0.5974 - val_accuracy: 0.8468 - lr: 0.0063\n",
            "Epoch 6/10\n",
            "1719/1719 [==============================] - 16s 9ms/step - loss: 0.4721 - accuracy: 0.8503 - val_loss: 0.4999 - val_accuracy: 0.8304 - lr: 0.0056\n",
            "Epoch 7/10\n",
            "1719/1719 [==============================] - 19s 11ms/step - loss: 0.4150 - accuracy: 0.8637 - val_loss: 0.5932 - val_accuracy: 0.8604 - lr: 0.0050\n",
            "Epoch 8/10\n",
            "1719/1719 [==============================] - 20s 12ms/step - loss: 0.3924 - accuracy: 0.8720 - val_loss: 0.4864 - val_accuracy: 0.8640 - lr: 0.0045\n",
            "Epoch 9/10\n",
            "1719/1719 [==============================] - 15s 9ms/step - loss: 0.3659 - accuracy: 0.8805 - val_loss: 0.4368 - val_accuracy: 0.8558 - lr: 0.0040\n",
            "Epoch 10/10\n",
            "1719/1719 [==============================] - 15s 9ms/step - loss: 0.3452 - accuracy: 0.8855 - val_loss: 0.4433 - val_accuracy: 0.8740 - lr: 0.0035\n"
          ]
        }
      ],
      "source": [
        "lr_scheduler = keras.callbacks.LearningRateScheduler(exponential_decay_fn)\n",
        "history = model.fit(X_train_scaled, y_train, epochs=n_epochs,\n",
        "                    validation_data=(X_valid_scaled, y_valid),\n",
        "                    callbacks=[lr_scheduler])"
      ]
    },
    {
      "cell_type": "code",
      "execution_count": null,
      "metadata": {
        "id": "mXFShr0WgelQ",
        "outputId": "6d39709a-79b5-4492-d51c-62c0c8d2b2ba",
        "colab": {
          "base_uri": "https://localhost:8080/",
          "height": 303
        }
      },
      "outputs": [
        {
          "output_type": "display_data",
          "data": {
            "text/plain": [
              "<Figure size 432x288 with 1 Axes>"
            ],
            "image/png": "[encoded data removed]"
          },
          "metadata": {
            "needs_background": "light"
          }
        }
      ],
      "source": [
        "plt.plot(history.epoch, history.history[\"lr\"], \"o-\")\n",
        "plt.axis([0, n_epochs - 1, 0, 0.011])\n",
        "plt.xlabel(\"Epoch\")\n",
        "plt.ylabel(\"Learning Rate\")\n",
        "plt.title(\"Exponential Scheduling\", fontsize=14)\n",
        "plt.grid(True)\n",
        "plt.show()"
      ]
    },
    {
      "cell_type": "markdown",
      "metadata": {
        "id": "m46QqY8tgelQ"
      },
      "source": [
        "The schedule function can take the current learning rate as a second argument:"
      ]
    },
    {
      "cell_type": "code",
      "execution_count": null,
      "metadata": {
        "id": "7nNritf_gelR"
      },
      "outputs": [],
      "source": [
        "def exponential_decay_fn(epoch, lr):\n",
        "    return lr * 0.1**(1 / 20)"
      ]
    },
    {
      "cell_type": "markdown",
      "metadata": {
        "id": "65im4Ld9gelS"
      },
      "source": [
        "If you want to update the learning rate at each iteration rather than at each epoch, you must write your own callback class:"
      ]
    },
    {
      "cell_type": "code",
      "execution_count": null,
      "metadata": {
        "id": "rwPFn1vIgelS",
        "outputId": "37c8d2a8-f6ad-47b5-f056-c0323912a2a6",
        "colab": {
          "base_uri": "https://localhost:8080/"
        }
      },
      "outputs": [
        {
          "output_type": "stream",
          "name": "stderr",
          "text": [
            "/usr/local/lib/python3.7/dist-packages/keras/optimizer_v2/nadam.py:73: UserWarning: The `lr` argument is deprecated, use `learning_rate` instead.\n",
            "  super(Nadam, self).__init__(name, **kwargs)\n"
          ]
        },
        {
          "output_type": "stream",
          "name": "stdout",
          "text": [
            "Epoch 1/10\n",
            "1719/1719 [==============================] - 20s 11ms/step - loss: 0.7877 - accuracy: 0.7707 - val_loss: 0.6826 - val_accuracy: 0.7978 - lr: 0.0089\n",
            "Epoch 2/10\n",
            "1719/1719 [==============================] - 18s 11ms/step - loss: 0.7705 - accuracy: 0.7685 - val_loss: 0.5881 - val_accuracy: 0.8256 - lr: 0.0079\n",
            "Epoch 3/10\n",
            "1719/1719 [==============================] - 19s 11ms/step - loss: 0.6060 - accuracy: 0.8158 - val_loss: 0.6440 - val_accuracy: 0.8198 - lr: 0.0071\n",
            "Epoch 4/10\n",
            "1719/1719 [==============================] - 30s 17ms/step - loss: 0.5565 - accuracy: 0.8315 - val_loss: 0.5645 - val_accuracy: 0.8422 - lr: 0.0063\n",
            "Epoch 5/10\n",
            "1719/1719 [==============================] - 24s 14ms/step - loss: 0.5044 - accuracy: 0.8462 - val_loss: 0.5164 - val_accuracy: 0.8486 - lr: 0.0056\n",
            "Epoch 6/10\n",
            "1719/1719 [==============================] - 27s 16ms/step - loss: 0.4835 - accuracy: 0.8524 - val_loss: 0.5034 - val_accuracy: 0.8520 - lr: 0.0050\n",
            "Epoch 7/10\n",
            "1719/1719 [==============================] - 28s 16ms/step - loss: 0.4378 - accuracy: 0.8650 - val_loss: 0.5682 - val_accuracy: 0.8576 - lr: 0.0045\n",
            "Epoch 8/10\n",
            "1719/1719 [==============================] - 23s 14ms/step - loss: 0.4171 - accuracy: 0.8723 - val_loss: 0.5027 - val_accuracy: 0.8630 - lr: 0.0040\n",
            "Epoch 9/10\n",
            "1719/1719 [==============================] - 25s 15ms/step - loss: 0.3798 - accuracy: 0.8815 - val_loss: 0.5193 - val_accuracy: 0.8640 - lr: 0.0035\n",
            "Epoch 10/10\n",
            "1719/1719 [==============================] - 22s 13ms/step - loss: 0.3548 - accuracy: 0.8890 - val_loss: 0.5162 - val_accuracy: 0.8582 - lr: 0.0032\n"
          ]
        }
      ],
      "source": [
        "K = keras.backend\n",
        "\n",
        "class ExponentialDecay(keras.callbacks.Callback):\n",
        "    def __init__(self, s=40000):\n",
        "        super().__init__()\n",
        "        self.s = s\n",
        "\n",
        "    def on_batch_begin(self, batch, logs=None):\n",
        "        # Note: the `batch` argument is reset at each epoch\n",
        "        lr = K.get_value(self.model.optimizer.learning_rate)\n",
        "        K.set_value(self.model.optimizer.learning_rate, lr * 0.1**(1 / s))\n",
        "\n",
        "    def on_epoch_end(self, epoch, logs=None):\n",
        "        logs = logs or {}\n",
        "        #logs to print learning_rate at end of epoch_end\n",
        "        logs['lr'] = K.get_value(self.model.optimizer.learning_rate)\n",
        "\n",
        "model = keras.models.Sequential([\n",
        "    keras.layers.Flatten(input_shape=[28, 28]),\n",
        "    keras.layers.Dense(300, activation=\"selu\", kernel_initializer=\"lecun_normal\"),\n",
        "    keras.layers.Dense(100, activation=\"selu\", kernel_initializer=\"lecun_normal\"),\n",
        "    keras.layers.Dense(10, activation=\"softmax\")\n",
        "])\n",
        "lr0 = 0.01\n",
        "optimizer = keras.optimizers.Nadam(lr=lr0)\n",
        "model.compile(loss=\"sparse_categorical_crossentropy\", optimizer=optimizer, metrics=[\"accuracy\"])\n",
        "n_epochs = 10\n",
        "\n",
        "s = 20 * len(X_train) // 32 # number of steps in 20 epochs (batch size = 32)\n",
        "exp_decay = ExponentialDecay(s)\n",
        "history = model.fit(X_train_scaled, y_train, epochs=n_epochs,\n",
        "                    validation_data=(X_valid_scaled, y_valid),\n",
        "                    callbacks=[exp_decay])"
      ]
    },
    {
      "cell_type": "code",
      "execution_count": null,
      "metadata": {
        "id": "_jgp9QJUgelU"
      },
      "outputs": [],
      "source": [
        "n_steps = n_epochs * len(X_train) // 32\n",
        "steps = np.arange(n_steps)\n",
        "lrs = lr0 * 0.1**(steps / s)"
      ]
    },
    {
      "cell_type": "code",
      "execution_count": null,
      "metadata": {
        "scrolled": true,
        "id": "TQ2LgI4XgelU",
        "outputId": "ba12aa85-8277-4c58-edd5-550f8d9768fd",
        "colab": {
          "base_uri": "https://localhost:8080/",
          "height": 303
        }
      },
      "outputs": [
        {
          "output_type": "display_data",
          "data": {
            "text/plain": [
              "<Figure size 432x288 with 1 Axes>"
            ],
            "image/png": "[encoded data removed]"
          },
          "metadata": {
            "needs_background": "light"
          }
        }
      ],
      "source": [
        "plt.plot(steps, lrs, \"-\", linewidth=2)\n",
        "plt.axis([0, n_steps - 1, 0, lr0 * 1.1])\n",
        "plt.xlabel(\"Batch\")\n",
        "plt.ylabel(\"Learning Rate\")\n",
        "plt.title(\"Exponential Scheduling (per batch)\", fontsize=14)\n",
        "plt.grid(True)\n",
        "plt.show()"
      ]
    },
    {
      "cell_type": "markdown",
      "metadata": {
        "id": "b63bmNl0gelV"
      },
      "source": [
        "### Piecewise Constant Scheduling\n",
        "\n",
        "1. Use a constant learning rate for a number of epochs (e.g., η0 = 0.1 for 5 epochs)\n",
        "\n",
        "2. then a smaller learning rate for another number of epochs (e.g., η1 = 0.001 for 50epochs), and so on. \n",
        "\n",
        "3. Although this solution can work very well, it requires fiddling\n",
        "around to figure out the right sequence of learning rates and how long to\n",
        "use each of them."
      ]
    },
    {
      "cell_type": "code",
      "execution_count": null,
      "metadata": {
        "id": "dxrgx3R-gelW"
      },
      "outputs": [],
      "source": [
        "def piecewise_constant_fn(epoch):\n",
        "    if epoch < 5:\n",
        "        return 0.01\n",
        "    elif epoch < 15:\n",
        "        return 0.005\n",
        "    else:\n",
        "        return 0.001"
      ]
    },
    {
      "cell_type": "code",
      "execution_count": null,
      "metadata": {
        "id": "ZyYvNL_ugelW"
      },
      "outputs": [],
      "source": [
        "def piecewise_constant(boundaries, values):\n",
        "    boundaries = np.array([0] + boundaries)\n",
        "    values = np.array(values)\n",
        "    def piecewise_constant_fn(epoch):\n",
        "        return values[np.argmax(boundaries > epoch) - 1]\n",
        "    return piecewise_constant_fn\n",
        "\n",
        "piecewise_constant_fn = piecewise_constant([5, 15], [0.01, 0.005, 0.001])"
      ]
    },
    {
      "cell_type": "code",
      "execution_count": null,
      "metadata": {
        "id": "YOwjLuB5gelX",
        "outputId": "6501f5f2-a468-4116-94a1-ba26c1111764",
        "colab": {
          "base_uri": "https://localhost:8080/"
        }
      },
      "outputs": [
        {
          "output_type": "stream",
          "name": "stdout",
          "text": [
            "Epoch 1/25\n",
            "1719/1719 [==============================] - 14s 8ms/step - loss: 0.8451 - accuracy: 0.7563 - val_loss: 0.8350 - val_accuracy: 0.7668 - lr: 0.0100\n",
            "Epoch 2/25\n",
            "1719/1719 [==============================] - 13s 8ms/step - loss: 0.8667 - accuracy: 0.7441 - val_loss: 0.9863 - val_accuracy: 0.6934 - lr: 0.0100\n",
            "Epoch 3/25\n",
            "1719/1719 [==============================] - 14s 8ms/step - loss: 0.9276 - accuracy: 0.7257 - val_loss: 0.9360 - val_accuracy: 0.6810 - lr: 0.0100\n",
            "Epoch 4/25\n",
            "1719/1719 [==============================] - 13s 8ms/step - loss: 1.1115 - accuracy: 0.6216 - val_loss: 1.6973 - val_accuracy: 0.4234 - lr: 0.0100\n",
            "Epoch 5/25\n",
            "1719/1719 [==============================] - 13s 7ms/step - loss: 1.2477 - accuracy: 0.5797 - val_loss: 1.2056 - val_accuracy: 0.5846 - lr: 0.0100\n",
            "Epoch 6/25\n",
            "1719/1719 [==============================] - 13s 7ms/step - loss: 0.9221 - accuracy: 0.6417 - val_loss: 0.9813 - val_accuracy: 0.6400 - lr: 0.0050\n",
            "Epoch 7/25\n",
            "1719/1719 [==============================] - 13s 8ms/step - loss: 0.8772 - accuracy: 0.6603 - val_loss: 0.9383 - val_accuracy: 0.6402 - lr: 0.0050\n",
            "Epoch 8/25\n",
            "1719/1719 [==============================] - 13s 7ms/step - loss: 0.8224 - accuracy: 0.6706 - val_loss: 1.0160 - val_accuracy: 0.6792 - lr: 0.0050\n",
            "Epoch 9/25\n",
            "1719/1719 [==============================] - 13s 7ms/step - loss: 0.8320 - accuracy: 0.6730 - val_loss: 0.9362 - val_accuracy: 0.6916 - lr: 0.0050\n",
            "Epoch 10/25\n",
            "1719/1719 [==============================] - 12s 7ms/step - loss: 0.8076 - accuracy: 0.6834 - val_loss: 0.9244 - val_accuracy: 0.6592 - lr: 0.0050\n",
            "Epoch 11/25\n",
            "1719/1719 [==============================] - 13s 8ms/step - loss: 0.8047 - accuracy: 0.6837 - val_loss: 0.9504 - val_accuracy: 0.6692 - lr: 0.0050\n",
            "Epoch 12/25\n",
            "1719/1719 [==============================] - 13s 7ms/step - loss: 0.7797 - accuracy: 0.6862 - val_loss: 0.9022 - val_accuracy: 0.6590 - lr: 0.0050\n",
            "Epoch 13/25\n",
            "1719/1719 [==============================] - 13s 7ms/step - loss: 0.7946 - accuracy: 0.6858 - val_loss: 1.0088 - val_accuracy: 0.6828 - lr: 0.0050\n",
            "Epoch 14/25\n",
            "1719/1719 [==============================] - 13s 7ms/step - loss: 0.7881 - accuracy: 0.6875 - val_loss: 0.9861 - val_accuracy: 0.6708 - lr: 0.0050\n",
            "Epoch 15/25\n",
            "1719/1719 [==============================] - 13s 8ms/step - loss: 0.7661 - accuracy: 0.6937 - val_loss: 0.9209 - val_accuracy: 0.6842 - lr: 0.0050\n",
            "Epoch 16/25\n",
            "1719/1719 [==============================] - 14s 8ms/step - loss: 0.6446 - accuracy: 0.7161 - val_loss: 0.7973 - val_accuracy: 0.6838 - lr: 0.0010\n",
            "Epoch 17/25\n",
            "1719/1719 [==============================] - 13s 8ms/step - loss: 0.6147 - accuracy: 0.7299 - val_loss: 0.7183 - val_accuracy: 0.7612 - lr: 0.0010\n",
            "Epoch 18/25\n",
            "1719/1719 [==============================] - 15s 9ms/step - loss: 0.5249 - accuracy: 0.7930 - val_loss: 0.6872 - val_accuracy: 0.7486 - lr: 0.0010\n",
            "Epoch 19/25\n",
            "1719/1719 [==============================] - 14s 8ms/step - loss: 0.4966 - accuracy: 0.8053 - val_loss: 0.6522 - val_accuracy: 0.7860 - lr: 0.0010\n",
            "Epoch 20/25\n",
            "1719/1719 [==============================] - 15s 9ms/step - loss: 0.4770 - accuracy: 0.8151 - val_loss: 0.6443 - val_accuracy: 0.7980 - lr: 0.0010\n",
            "Epoch 21/25\n",
            "1719/1719 [==============================] - 14s 8ms/step - loss: 0.4541 - accuracy: 0.8284 - val_loss: 0.6630 - val_accuracy: 0.8072 - lr: 0.0010\n",
            "Epoch 22/25\n",
            "1719/1719 [==============================] - 14s 8ms/step - loss: 0.4184 - accuracy: 0.8565 - val_loss: 0.5675 - val_accuracy: 0.8456 - lr: 0.0010\n",
            "Epoch 23/25\n",
            "1719/1719 [==============================] - 16s 9ms/step - loss: 0.3525 - accuracy: 0.8870 - val_loss: 0.5279 - val_accuracy: 0.8686 - lr: 0.0010\n",
            "Epoch 24/25\n",
            "1719/1719 [==============================] - 15s 9ms/step - loss: 0.3168 - accuracy: 0.8963 - val_loss: 0.5510 - val_accuracy: 0.8662 - lr: 0.0010\n",
            "Epoch 25/25\n",
            "1719/1719 [==============================] - 15s 9ms/step - loss: 0.2978 - accuracy: 0.9033 - val_loss: 0.5153 - val_accuracy: 0.8712 - lr: 0.0010\n"
          ]
        }
      ],
      "source": [
        "lr_scheduler = keras.callbacks.LearningRateScheduler(piecewise_constant_fn)\n",
        "\n",
        "model = keras.models.Sequential([\n",
        "    keras.layers.Flatten(input_shape=[28, 28]),\n",
        "    keras.layers.Dense(300, activation=\"selu\", kernel_initializer=\"lecun_normal\"),\n",
        "    keras.layers.Dense(100, activation=\"selu\", kernel_initializer=\"lecun_normal\"),\n",
        "    keras.layers.Dense(10, activation=\"softmax\")\n",
        "])\n",
        "model.compile(loss=\"sparse_categorical_crossentropy\", optimizer=\"nadam\", metrics=[\"accuracy\"])\n",
        "n_epochs = 10\n",
        "history = model.fit(X_train_scaled, y_train, epochs=n_epochs,\n",
        "                    validation_data=(X_valid_scaled, y_valid),\n",
        "                    callbacks=[lr_scheduler])"
      ]
    },
    {
      "cell_type": "code",
      "execution_count": null,
      "metadata": {
        "id": "ho5E72jzgelY",
        "outputId": "a570f8aa-ff0c-429b-f565-e9608685bb6c",
        "colab": {
          "base_uri": "https://localhost:8080/",
          "height": 303
        }
      },
      "outputs": [
        {
          "output_type": "display_data",
          "data": {
            "text/plain": [
              "<Figure size 432x288 with 1 Axes>"
            ],
            "image/png": "[encoded data removed]"
          },
          "metadata": {
            "needs_background": "light"
          }
        }
      ],
      "source": [
        "plt.plot(history.epoch, [piecewise_constant_fn(epoch) for epoch in history.epoch], \"o-\")\n",
        "plt.axis([0, n_epochs - 1, 0, 0.011])\n",
        "plt.xlabel(\"Epoch\")\n",
        "plt.ylabel(\"Learning Rate\")\n",
        "plt.title(\"Piecewise Constant Scheduling\", fontsize=14)\n",
        "plt.grid(True)\n",
        "plt.show()"
      ]
    },
    {
      "cell_type": "code",
      "source": [],
      "metadata": {
        "id": "SeKIJMu9wAke"
      },
      "execution_count": null,
      "outputs": []
    },
    {
      "cell_type": "markdown",
      "metadata": {
        "id": "zaoBJRXIgelZ"
      },
      "source": [
        "### Performance Scheduling\n",
        "\n",
        "Measure the validation error every N steps (just like for early stopping), and\n",
        "reduce the learning rate by a factor of λ when the error stops dropping."
      ]
    },
    {
      "cell_type": "code",
      "execution_count": null,
      "metadata": {
        "id": "fXQx4mm8gelZ"
      },
      "outputs": [],
      "source": [
        "tf.random.set_seed(42)\n",
        "np.random.seed(42)"
      ]
    },
    {
      "cell_type": "markdown",
      "source": [
        "1. We will use the following ***callback(reduce learnung rate on  plateau)***\n",
        "     keras.callbacks.ReduceLROnPlateau(factor=0.5, patience=5)\n",
        "2. This  will ***multiply the learning rate by 0.5 ***whenever the best ***validation loss does not improve for five consecutive epochs*** (other options are available; please check the documentation for more details)"
      ],
      "metadata": {
        "id": "RDNU5ly9t6h2"
      }
    },
    {
      "cell_type": "code",
      "execution_count": null,
      "metadata": {
        "id": "U4uzpH-pgela",
        "outputId": "3d0d8147-7894-46ab-9427-b2dc0a00d7fc",
        "colab": {
          "base_uri": "https://localhost:8080/"
        }
      },
      "outputs": [
        {
          "output_type": "stream",
          "name": "stdout",
          "text": [
            "Epoch 1/10\n"
          ]
        },
        {
          "output_type": "stream",
          "name": "stderr",
          "text": [
            "/usr/local/lib/python3.7/dist-packages/keras/optimizer_v2/gradient_descent.py:102: UserWarning: The `lr` argument is deprecated, use `learning_rate` instead.\n",
            "  super(SGD, self).__init__(name, **kwargs)\n"
          ]
        },
        {
          "output_type": "stream",
          "name": "stdout",
          "text": [
            "1719/1719 [==============================] - 8s 4ms/step - loss: 0.5908 - accuracy: 0.8070 - val_loss: 0.4863 - val_accuracy: 0.8474 - lr: 0.0200\n",
            "Epoch 2/10\n",
            "1719/1719 [==============================] - 8s 5ms/step - loss: 0.4939 - accuracy: 0.8393 - val_loss: 0.6034 - val_accuracy: 0.8374 - lr: 0.0200\n",
            "Epoch 3/10\n",
            "1719/1719 [==============================] - 8s 5ms/step - loss: 0.5016 - accuracy: 0.8439 - val_loss: 0.4986 - val_accuracy: 0.8544 - lr: 0.0200\n",
            "Epoch 4/10\n",
            "1719/1719 [==============================] - 8s 5ms/step - loss: 0.5030 - accuracy: 0.8486 - val_loss: 0.5206 - val_accuracy: 0.8588 - lr: 0.0200\n",
            "Epoch 5/10\n",
            "1719/1719 [==============================] - 7s 4ms/step - loss: 0.5136 - accuracy: 0.8504 - val_loss: 0.4708 - val_accuracy: 0.8560 - lr: 0.0200\n",
            "Epoch 6/10\n",
            "1719/1719 [==============================] - 8s 5ms/step - loss: 0.5028 - accuracy: 0.8559 - val_loss: 0.5840 - val_accuracy: 0.8518 - lr: 0.0200\n",
            "Epoch 7/10\n",
            "1719/1719 [==============================] - 8s 5ms/step - loss: 0.5166 - accuracy: 0.8557 - val_loss: 0.5435 - val_accuracy: 0.8446 - lr: 0.0200\n",
            "Epoch 8/10\n",
            "1719/1719 [==============================] - 7s 4ms/step - loss: 0.5143 - accuracy: 0.8575 - val_loss: 0.7547 - val_accuracy: 0.8116 - lr: 0.0200\n",
            "Epoch 9/10\n",
            "1719/1719 [==============================] - 7s 4ms/step - loss: 0.5324 - accuracy: 0.8549 - val_loss: 0.7432 - val_accuracy: 0.8218 - lr: 0.0200\n",
            "Epoch 10/10\n",
            "1719/1719 [==============================] - 8s 5ms/step - loss: 0.5493 - accuracy: 0.8551 - val_loss: 0.8416 - val_accuracy: 0.8510 - lr: 0.0200\n"
          ]
        }
      ],
      "source": [
        "lr_scheduler = keras.callbacks.ReduceLROnPlateau(factor=0.5, patience=5)\n",
        "\n",
        "model = keras.models.Sequential([\n",
        "    keras.layers.Flatten(input_shape=[28, 28]),\n",
        "    keras.layers.Dense(300, activation=\"selu\", kernel_initializer=\"lecun_normal\"),\n",
        "    keras.layers.Dense(100, activation=\"selu\", kernel_initializer=\"lecun_normal\"),\n",
        "    keras.layers.Dense(10, activation=\"softmax\")\n",
        "])\n",
        "optimizer = keras.optimizers.SGD(lr=0.02, momentum=0.9)\n",
        "model.compile(loss=\"sparse_categorical_crossentropy\", optimizer=optimizer, metrics=[\"accuracy\"])\n",
        "n_epochs = 10\n",
        "history = model.fit(X_train_scaled, y_train, epochs=n_epochs,\n",
        "                    validation_data=(X_valid_scaled, y_valid),\n",
        "                    callbacks=[lr_scheduler])"
      ]
    },
    {
      "cell_type": "code",
      "execution_count": null,
      "metadata": {
        "id": "sncg_bt7gelb",
        "outputId": "9c9a7a0f-585f-4f3a-86ae-c010a0b42265",
        "colab": {
          "base_uri": "https://localhost:8080/",
          "height": 303
        }
      },
      "outputs": [
        {
          "output_type": "display_data",
          "data": {
            "text/plain": [
              "<Figure size 432x288 with 2 Axes>"
            ],
            "image/png": "[encoded data removed]"
          },
          "metadata": {
            "needs_background": "light"
          }
        }
      ],
      "source": [
        "plt.plot(history.epoch, history.history[\"lr\"], \"bo-\")\n",
        "plt.xlabel(\"Epoch\")\n",
        "plt.ylabel(\"Learning Rate\", color='b')\n",
        "plt.tick_params('y', colors='b')\n",
        "plt.gca().set_xlim(0, n_epochs - 1)\n",
        "plt.grid(True)\n",
        "\n",
        "ax2 = plt.gca().twinx()\n",
        "ax2.plot(history.epoch, history.history[\"val_loss\"], \"r^-\")\n",
        "ax2.set_ylabel('Validation Loss', color='r')\n",
        "ax2.tick_params('y', colors='r')\n",
        "\n",
        "plt.title(\"Reduce LR on Plateau\", fontsize=14)\n",
        "plt.show()"
      ]
    },
    {
      "cell_type": "markdown",
      "metadata": {
        "id": "sVEBwFbRgelb"
      },
      "source": [
        "### tf.keras schedulers\n",
        "\n",
        "1. tf.keras offers an alternative way to implement learning rate scheduling. \n",
        "2. define the learning rate using one of the schedules ***available in keras.optimizers.schedules,*** then pass this learning rate to any optimizer. \n",
        "3. This approach updates the learning rate at each step rather than at each epoch.\n",
        "\n",
        " For example, here is how to implement\n",
        "the same exponential schedule as the exponential_decay_fn() function we defined\n",
        "\n",
        "```s = 20 * len(X_train) // 32 # number of steps in 20 epochs (batch size = 32)```\n",
        "```learning_rate = keras.optimizers.schedules.ExponentialDecay(0.01, s, 0.1)```\n",
        "```optimizer = keras.optimizers.SGD(learning_rate)```\n",
        "\n",
        "This is nice and simple, plus ***when you save the model, the learning rate and its\n",
        "schedule (including its state) get saved as well***. This approach, however, is not part of the Keras API; it is specific to tf.keras.\n"
      ]
    },
    {
      "cell_type": "code",
      "execution_count": null,
      "metadata": {
        "id": "HY7xkPNagelc",
        "outputId": "e52037eb-d6b4-4bd1-fbea-d9208482de2c",
        "colab": {
          "base_uri": "https://localhost:8080/"
        }
      },
      "outputs": [
        {
          "output_type": "stream",
          "name": "stdout",
          "text": [
            "Epoch 1/10\n",
            "1719/1719 [==============================] - 9s 5ms/step - loss: 0.4829 - accuracy: 0.8297 - val_loss: 0.4010 - val_accuracy: 0.8628\n",
            "Epoch 2/10\n",
            "1719/1719 [==============================] - 8s 4ms/step - loss: 0.3779 - accuracy: 0.8666 - val_loss: 0.3739 - val_accuracy: 0.8712\n",
            "Epoch 3/10\n",
            "1719/1719 [==============================] - 7s 4ms/step - loss: 0.3448 - accuracy: 0.8773 - val_loss: 0.3745 - val_accuracy: 0.8680\n",
            "Epoch 4/10\n",
            "1719/1719 [==============================] - 7s 4ms/step - loss: 0.3235 - accuracy: 0.8837 - val_loss: 0.3500 - val_accuracy: 0.8792\n",
            "Epoch 5/10\n",
            "1719/1719 [==============================] - 8s 5ms/step - loss: 0.3079 - accuracy: 0.8905 - val_loss: 0.3435 - val_accuracy: 0.8800\n",
            "Epoch 6/10\n",
            "1719/1719 [==============================] - 8s 5ms/step - loss: 0.2941 - accuracy: 0.8957 - val_loss: 0.3438 - val_accuracy: 0.8812\n",
            "Epoch 7/10\n",
            "1719/1719 [==============================] - 8s 5ms/step - loss: 0.2838 - accuracy: 0.8998 - val_loss: 0.3378 - val_accuracy: 0.8828\n",
            "Epoch 8/10\n",
            "1719/1719 [==============================] - 8s 5ms/step - loss: 0.2748 - accuracy: 0.9029 - val_loss: 0.3405 - val_accuracy: 0.8808\n",
            "Epoch 9/10\n",
            "1719/1719 [==============================] - 9s 5ms/step - loss: 0.2667 - accuracy: 0.9050 - val_loss: 0.3319 - val_accuracy: 0.8836\n",
            "Epoch 10/10\n",
            "1719/1719 [==============================] - 8s 4ms/step - loss: 0.2598 - accuracy: 0.9085 - val_loss: 0.3291 - val_accuracy: 0.8864\n"
          ]
        }
      ],
      "source": [
        "model = keras.models.Sequential([\n",
        "    keras.layers.Flatten(input_shape=[28, 28]),\n",
        "    keras.layers.Dense(300, activation=\"selu\", kernel_initializer=\"lecun_normal\"),\n",
        "    keras.layers.Dense(100, activation=\"selu\", kernel_initializer=\"lecun_normal\"),\n",
        "    keras.layers.Dense(10, activation=\"softmax\")\n",
        "])\n",
        "s = 20 * len(X_train) // 32 # number of steps in 20 epochs (batch size = 32)\n",
        "learning_rate = keras.optimizers.schedules.ExponentialDecay(0.01, s, 0.1)\n",
        "optimizer = keras.optimizers.SGD(learning_rate)\n",
        "model.compile(loss=\"sparse_categorical_crossentropy\", optimizer=optimizer, metrics=[\"accuracy\"])\n",
        "n_epochs = 10\n",
        "history = model.fit(X_train_scaled, y_train, epochs=n_epochs,\n",
        "                    validation_data=(X_valid_scaled, y_valid))"
      ]
    },
    {
      "cell_type": "markdown",
      "metadata": {
        "id": "fYsTzS5Ugeld"
      },
      "source": [
        "For piecewise constant scheduling, try this:"
      ]
    },
    {
      "cell_type": "code",
      "execution_count": null,
      "metadata": {
        "id": "1TLuaqyNgeld"
      },
      "outputs": [],
      "source": [
        "learning_rate = keras.optimizers.schedules.PiecewiseConstantDecay(\n",
        "    boundaries=[5. * n_steps_per_epoch, 15. * n_steps_per_epoch],\n",
        "    values=[0.01, 0.005, 0.001])"
      ]
    },
    {
      "cell_type": "markdown",
      "metadata": {
        "id": "-OTCT-V5gele"
      },
      "source": [
        "### 1Cycle scheduling\n",
        "\n",
        "1. Contrary to the other approaches, 1cycle (introduced in a 2018 paper21 by Leslie Smith) starts by increasing the initial learning rate ***η0***\n",
        "\n",
        "2.  growing linearly up to ***η1*** halfway through training. \n",
        "\n",
        "3. Then it decreases the learning rate linearly down to*** η0***\n",
        "again during the second half of training.\n",
        "4.  finishing the last few epochs by dropping the rate down by several orders of magnitude (still linearly).\n",
        "\n",
        "###Example\n",
        " 1. The maximum learning rate η1 is chosen using the same approach we used to find the optimallearning rate, and the initial learning rate η0 is chosen to be roughly 10 times lower.\n",
        " \n",
        "2. When using a momentum, we start with a high momentum first (e.g.,0.95),\n",
        "  \n",
        "3. then drop it down to a lower momentum during the first half of training(e.g., down to 0.85, linearly), and then bring it back up to the maximum value(e.g., 0.95) during the second half of training,\n",
        "4. finishing the last few epochs with that maximum value.\n",
        "\n",
        "\n",
        " Smith did many experiments showing that this approach\n",
        "was often able to speed up training considerably and reach better performance.\n",
        "For example, on the popular CIFAR10 image dataset, this approach reached\n",
        "91.9% validation accuracy in just 100 epochs, instead of 90.3% accuracy in 800\n",
        "epochs through a standard approach (with the same neural network\n",
        "architecture)."
      ]
    },
    {
      "cell_type": "code",
      "execution_count": null,
      "metadata": {
        "id": "KkZuq0Ztgele",
        "colab": {
          "base_uri": "https://localhost:8080/"
        },
        "outputId": "5c5c6a69-d0e8-4052-9115-84b5170f00c8"
      },
      "outputs": [
        {
          "output_type": "stream",
          "name": "stderr",
          "text": [
            "/usr/local/lib/python3.7/dist-packages/keras/optimizer_v2/gradient_descent.py:102: UserWarning: The `lr` argument is deprecated, use `learning_rate` instead.\n",
            "  super(SGD, self).__init__(name, **kwargs)\n"
          ]
        }
      ],
      "source": [
        "tf.random.set_seed(42)\n",
        "np.random.seed(42)\n",
        "\n",
        "model = keras.models.Sequential([\n",
        "    keras.layers.Flatten(input_shape=[28, 28]),\n",
        "    keras.layers.Dense(300, activation=\"selu\", kernel_initializer=\"lecun_normal\"),\n",
        "    keras.layers.Dense(100, activation=\"selu\", kernel_initializer=\"lecun_normal\"),\n",
        "    keras.layers.Dense(10, activation=\"softmax\")\n",
        "])\n",
        "model.compile(loss=\"sparse_categorical_crossentropy\",\n",
        "              optimizer=keras.optimizers.SGD(lr=1e-3),\n",
        "              metrics=[\"accuracy\"])"
      ]
    },
    {
      "cell_type": "code",
      "execution_count": null,
      "metadata": {
        "id": "vztNvLfbgelf"
      },
      "outputs": [],
      "source": [
        "class OneCycleScheduler(keras.callbacks.Callback):\n",
        "    def __init__(self, iterations, max_rate, start_rate=None,\n",
        "                 last_iterations=None, last_rate=None):\n",
        "        self.iterations = iterations\n",
        "        self.max_rate = max_rate\n",
        "        self.start_rate = start_rate or max_rate / 10\n",
        "        self.last_iterations = last_iterations or iterations // 10 + 1\n",
        "        self.half_iteration = (iterations - self.last_iterations) // 2\n",
        "        self.last_rate = last_rate or self.start_rate / 1000\n",
        "        self.iteration = 0\n",
        "    def _interpolate(self, iter1, iter2, rate1, rate2):\n",
        "        return ((rate2 - rate1) * (self.iteration - iter1)\n",
        "                / (iter2 - iter1) + rate1)\n",
        "    def on_batch_begin(self, batch, logs):\n",
        "        if self.iteration < self.half_iteration:\n",
        "            rate = self._interpolate(0, self.half_iteration, self.start_rate, self.max_rate)\n",
        "        elif self.iteration < 2 * self.half_iteration:\n",
        "            rate = self._interpolate(self.half_iteration, 2 * self.half_iteration,\n",
        "                                     self.max_rate, self.start_rate)\n",
        "        else:\n",
        "            rate = self._interpolate(2 * self.half_iteration, self.iterations,\n",
        "                                     self.start_rate, self.last_rate)\n",
        "            rate = max(rate, self.last_rate)\n",
        "        self.iteration += 1\n",
        "        K.set_value(self.model.optimizer.lr, rate)"
      ]
    },
    {
      "cell_type": "code",
      "execution_count": null,
      "metadata": {
        "id": "HgY2re3Fgelg",
        "colab": {
          "base_uri": "https://localhost:8080/"
        },
        "outputId": "8b158785-f850-4295-953e-26a143f3a823"
      },
      "outputs": [
        {
          "output_type": "stream",
          "name": "stdout",
          "text": [
            "Epoch 1/10\n",
            "5500/5500 [==============================] - 21s 4ms/step - loss: 0.4812 - accuracy: 0.8301 - val_loss: 0.4173 - val_accuracy: 0.8510\n",
            "Epoch 2/10\n",
            "5500/5500 [==============================] - 20s 4ms/step - loss: 0.3896 - accuracy: 0.8606 - val_loss: 0.3756 - val_accuracy: 0.8734\n",
            "Epoch 3/10\n",
            "5500/5500 [==============================] - 20s 4ms/step - loss: 0.3670 - accuracy: 0.8666 - val_loss: 0.4127 - val_accuracy: 0.8524\n",
            "Epoch 4/10\n",
            "5500/5500 [==============================] - 21s 4ms/step - loss: 0.3728 - accuracy: 0.8670 - val_loss: 0.3841 - val_accuracy: 0.8646\n",
            "Epoch 5/10\n",
            "5500/5500 [==============================] - 19s 3ms/step - loss: 0.3902 - accuracy: 0.8641 - val_loss: 0.3696 - val_accuracy: 0.8732\n",
            "Epoch 6/10\n",
            "5500/5500 [==============================] - 20s 4ms/step - loss: 0.3239 - accuracy: 0.8849 - val_loss: 0.3567 - val_accuracy: 0.8840\n",
            "Epoch 7/10\n",
            "5500/5500 [==============================] - 19s 3ms/step - loss: 0.2556 - accuracy: 0.9054 - val_loss: 0.3502 - val_accuracy: 0.8844\n",
            "Epoch 8/10\n",
            "5500/5500 [==============================] - 19s 3ms/step - loss: 0.2001 - accuracy: 0.9244 - val_loss: 0.3295 - val_accuracy: 0.8920\n",
            "Epoch 9/10\n",
            "5500/5500 [==============================] - 19s 3ms/step - loss: 0.1549 - accuracy: 0.9419 - val_loss: 0.3153 - val_accuracy: 0.9004\n",
            "Epoch 10/10\n",
            "5500/5500 [==============================] - 19s 3ms/step - loss: 0.1257 - accuracy: 0.9546 - val_loss: 0.3169 - val_accuracy: 0.8968\n"
          ]
        }
      ],
      "source": [
        "n_epochs = 10\n",
        "onecycle = OneCycleScheduler(len(X_train) // batch_size * n_epochs, max_rate=0.05)\n",
        "history = model.fit(X_train_scaled, y_train, epochs=n_epochs, batch_size=batch_size,\n",
        "                    validation_data=(X_valid_scaled, y_valid),\n",
        "                    callbacks=[onecycle])"
      ]
    },
    {
      "cell_type": "markdown",
      "source": [
        "### Exponential learning rate as callback"
      ],
      "metadata": {
        "id": "KvILeI_nz1VF"
      }
    },
    {
      "cell_type": "code",
      "execution_count": null,
      "metadata": {
        "id": "d6secBE4gele"
      },
      "outputs": [],
      "source": [
        "K = keras.backend\n",
        "\n",
        "class ExponentialLearningRate(keras.callbacks.Callback):\n",
        "    def __init__(self, factor):\n",
        "        self.factor = factor\n",
        "        self.rates = []\n",
        "        self.losses = []\n",
        "    def on_batch_end(self, batch, logs):\n",
        "        self.rates.append(K.get_value(self.model.optimizer.lr))\n",
        "        self.losses.append(logs[\"loss\"])\n",
        "        K.set_value(self.model.optimizer.lr, self.model.optimizer.lr * self.factor)\n",
        "\n",
        "def find_learning_rate(model, X, y, epochs=1, batch_size=32, min_rate=10**-5, max_rate=10):\n",
        "    init_weights = model.get_weights()\n",
        "    iterations = len(X) // batch_size * epochs\n",
        "    factor = np.exp(np.log(max_rate / min_rate) / iterations)\n",
        "    init_lr = K.get_value(model.optimizer.lr)\n",
        "    K.set_value(model.optimizer.lr, min_rate)\n",
        "    exp_lr = ExponentialLearningRate(factor)\n",
        "    history = model.fit(X, y, epochs=epochs, batch_size=batch_size,\n",
        "                        callbacks=[exp_lr])\n",
        "    K.set_value(model.optimizer.lr, init_lr)\n",
        "    model.set_weights(init_weights)\n",
        "    return exp_lr.rates, exp_lr.losses\n",
        "\n",
        "def plot_lr_vs_loss(rates, losses):\n",
        "    plt.plot(rates, losses)\n",
        "    plt.gca().set_xscale('log')\n",
        "    plt.hlines(min(losses), min(rates), max(rates))\n",
        "    plt.axis([min(rates), max(rates), min(losses), (losses[0] + min(losses)) / 2])\n",
        "    plt.xlabel(\"Learning rate\")\n",
        "    plt.ylabel(\"Loss\")"
      ]
    },
    {
      "cell_type": "code",
      "execution_count": null,
      "metadata": {
        "id": "Qxi9RWOwgelf",
        "colab": {
          "base_uri": "https://localhost:8080/",
          "height": 307
        },
        "outputId": "6c702896-e079-4bf9-9c97-5f77ff265994"
      },
      "outputs": [
        {
          "output_type": "stream",
          "name": "stdout",
          "text": [
            "5500/5500 [==============================] - 21s 4ms/step - loss: nan - accuracy: 0.4594\n"
          ]
        },
        {
          "output_type": "display_data",
          "data": {
            "text/plain": [
              "<Figure size 432x288 with 1 Axes>"
            ],
            "image/png": "[encoded data removed]"
          },
          "metadata": {
            "needs_background": "light"
          }
        }
      ],
      "source": [
        "batch_size = 10\n",
        "rates, losses = find_learning_rate(model, X_train_scaled, y_train, epochs=1, batch_size=batch_size)\n",
        "plot_lr_vs_loss(rates, losses)"
      ]
    },
    {
      "cell_type": "markdown",
      "source": [
        "# use tensor board\n",
        "\n",
        "1. before model.fit() use following two commands\n",
        "\n",
        "  ```logdir = os.path.join(\"logs\", datetime.datetime.now().strftime(\"%Y%m%d-%H%M%S\"))```\n",
        "\n",
        "  ```tensorboard_callback = tf.keras.callbacks.TensorBoard(logdir, histogram_freq=1)```\n",
        "\n",
        "2. pass tensorboard_callback to callbacks argument of model.fit()\n",
        "\n",
        "  ```\n",
        "  model.fit(x=x_train, \n",
        "            y=y_train, \n",
        "            epochs=5, \n",
        "            validation_data=(x_test, y_test), \n",
        "            callbacks=[tensorboard_callback])```\n",
        "\n",
        "\n",
        "3. After model.fit() use following command to display tensorboard\n",
        "\n",
        "```%tensorboard --logdir logs```\n",
        "\n",
        "\n",
        "\n",
        "https://www.tensorflow.org/tensorboard/tensorboard_in_notebooks"
      ],
      "metadata": {
        "id": "2GEkSxhb2_7X"
      }
    },
    {
      "cell_type": "code",
      "source": [
        "n_epochs = 10\n",
        "import datetime, os\n",
        "\n",
        "logdir = os.path.join(\"logs\", datetime.datetime.now().strftime(\"%Y%m%d-%H%M%S\"))\n",
        "tensorboard_callback = tf.keras.callbacks.TensorBoard(logdir, histogram_freq=1)\n",
        "\n",
        "history = model.fit(X_train_scaled, y_train, epochs=n_epochs, batch_size=batch_size,\n",
        "                    validation_data=(X_valid_scaled, y_valid),\n",
        "                    callbacks=[tensorboard_callback])\n",
        "\n",
        "%tensorboard --logdir logs"
      ],
      "metadata": {
        "colab": {
          "base_uri": "https://localhost:8080/"
        },
        "id": "CTFdbj0b4HOH",
        "outputId": "6bed2f88-8807-4da9-8758-8f366cab8e61"
      },
      "execution_count": null,
      "outputs": [
        {
          "output_type": "stream",
          "name": "stdout",
          "text": [
            "Epoch 1/10\n",
            "5500/5500 [==============================] - 19s 4ms/step - loss: 0.1162 - accuracy: 0.9595 - val_loss: 0.3169 - val_accuracy: 0.8974\n",
            "Epoch 2/10\n",
            "5500/5500 [==============================] - 18s 3ms/step - loss: 0.1162 - accuracy: 0.9595 - val_loss: 0.3168 - val_accuracy: 0.8970\n",
            "Epoch 3/10\n",
            "5500/5500 [==============================] - 20s 4ms/step - loss: 0.1161 - accuracy: 0.9596 - val_loss: 0.3168 - val_accuracy: 0.8968\n",
            "Epoch 4/10\n",
            "5500/5500 [==============================] - 19s 3ms/step - loss: 0.1161 - accuracy: 0.9596 - val_loss: 0.3168 - val_accuracy: 0.8968\n",
            "Epoch 5/10\n",
            "5500/5500 [==============================] - 18s 3ms/step - loss: 0.1160 - accuracy: 0.9596 - val_loss: 0.3168 - val_accuracy: 0.8968\n",
            "Epoch 6/10\n",
            "5500/5500 [==============================] - 18s 3ms/step - loss: 0.1160 - accuracy: 0.9596 - val_loss: 0.3168 - val_accuracy: 0.8964\n",
            "Epoch 7/10\n",
            "5500/5500 [==============================] - 17s 3ms/step - loss: 0.1160 - accuracy: 0.9597 - val_loss: 0.3168 - val_accuracy: 0.8966\n",
            "Epoch 8/10\n",
            "5500/5500 [==============================] - 19s 3ms/step - loss: 0.1159 - accuracy: 0.9596 - val_loss: 0.3168 - val_accuracy: 0.8964\n",
            "Epoch 9/10\n",
            "5500/5500 [==============================] - 19s 3ms/step - loss: 0.1159 - accuracy: 0.9596 - val_loss: 0.3169 - val_accuracy: 0.8962\n",
            "Epoch 10/10\n",
            "5500/5500 [==============================] - 17s 3ms/step - loss: 0.1159 - accuracy: 0.9596 - val_loss: 0.3169 - val_accuracy: 0.8962\n"
          ]
        }
      ]
    }
  ]
}