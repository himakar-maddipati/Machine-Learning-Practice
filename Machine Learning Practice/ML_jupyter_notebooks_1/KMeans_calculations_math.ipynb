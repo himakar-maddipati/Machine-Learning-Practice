{
  "nbformat": 4,
  "nbformat_minor": 0,
  "metadata": {
    "colab": {
      "provenance": []
    },
    "kernelspec": {
      "name": "python3",
      "display_name": "Python 3"
    },
    "language_info": {
      "name": "python"
    }
  },
  "cells": [
    {
      "cell_type": "code",
      "execution_count": null,
      "metadata": {
        "id": "k8oJGJ5ZDLOL"
      },
      "outputs": [],
      "source": [
        "from sklearn.cluster import KMeans\n",
        "import numpy as np\n",
        "import matplotlib.pyplot as plt\n",
        "%matplotlib inline\n",
        "\n"
      ]
    },
    {
      "cell_type": "code",
      "source": [
        "#make array from Given data \n",
        "X = np.array([[2, 5], [5, 8], [7, 5],[1, 2], [4, 9]])\n",
        "print(type(X))\n",
        "print(X.shape)"
      ],
      "metadata": {
        "colab": {
          "base_uri": "https://localhost:8080/"
        },
        "id": "uDcGX8wlD1sI",
        "outputId": "5e5ae765-08d4-4b7b-cd0a-af7a4a0fe648"
      },
      "execution_count": null,
      "outputs": [
        {
          "output_type": "stream",
          "name": "stdout",
          "text": [
            "<class 'numpy.ndarray'>\n",
            "(5, 2)\n"
          ]
        }
      ]
    },
    {
      "cell_type": "code",
      "source": [
        "centroids = np.array([[5, 8],[1, 2]])"
      ],
      "metadata": {
        "id": "lrlccS81JeUU"
      },
      "execution_count": null,
      "outputs": []
    },
    {
      "cell_type": "code",
      "source": [
        "plt.scatter(X[ : , 0], X[ :, 1],s=200,c='b')\n",
        "# plt.scatter(centroids[0,0], centroids[0,1], s=200, c='g', marker='s')\n",
        "# plt.scatter(centroids[1,0], centroids[1,1], s=200, c='r', marker='s')\n",
        "plt.xticks(np.arange(0, 11, step=1))\n",
        "plt.yticks(np.arange(0, 11, step=1))\n",
        "plt.grid()\n",
        "plt.show()\n"
      ],
      "metadata": {
        "colab": {
          "base_uri": "https://localhost:8080/",
          "height": 269
        },
        "id": "x_EnX6JCGkGZ",
        "outputId": "e03a7b8c-135e-4f1d-ff97-6f1c1f79a405"
      },
      "execution_count": null,
      "outputs": [
        {
          "output_type": "display_data",
          "data": {
            "text/plain": [
              "<Figure size 432x288 with 1 Axes>"
            ],
            "image/png": "[encoded data removed]"
          },
          "metadata": {
            "needs_background": "light"
          }
        }
      ]
    },
    {
      "cell_type": "code",
      "source": [
        "kmeans = KMeans(n_clusters=2,n_init=1,max_iter=300,random_state=24,init=centroids,verbose=1)"
      ],
      "metadata": {
        "id": "Me-WPnXVEO_Z"
      },
      "execution_count": null,
      "outputs": []
    },
    {
      "cell_type": "code",
      "source": [
        "kmeans.fit(X)"
      ],
      "metadata": {
        "colab": {
          "base_uri": "https://localhost:8080/"
        },
        "id": "xYTFjcJ1E6DJ",
        "outputId": "4607ee21-f685-4cce-a4ff-2ab6332d18ab"
      },
      "execution_count": null,
      "outputs": [
        {
          "output_type": "stream",
          "name": "stdout",
          "text": [
            "Initialization complete\n",
            "Iteration 0, inertia 25.0\n",
            "Iteration 1, inertia 18.333333333333332\n",
            "Converged at iteration 1: strict convergence.\n"
          ]
        },
        {
          "output_type": "execute_result",
          "data": {
            "text/plain": [
              "KMeans(init=array([[5, 8],\n",
              "       [1, 2]]), n_clusters=2, n_init=1,\n",
              "       random_state=24, verbose=1)"
            ]
          },
          "metadata": {},
          "execution_count": 261
        }
      ]
    },
    {
      "cell_type": "code",
      "source": [
        "kmeans.inertia_"
      ],
      "metadata": {
        "colab": {
          "base_uri": "https://localhost:8080/"
        },
        "id": "MWEQDlORFA2n",
        "outputId": "02acb6cc-020b-4f3a-d520-ee0b633f0405"
      },
      "execution_count": null,
      "outputs": [
        {
          "output_type": "execute_result",
          "data": {
            "text/plain": [
              "18.333333333333332"
            ]
          },
          "metadata": {},
          "execution_count": 262
        }
      ]
    },
    {
      "cell_type": "code",
      "source": [
        "kmeans.labels_"
      ],
      "metadata": {
        "colab": {
          "base_uri": "https://localhost:8080/"
        },
        "id": "qqEDhdsRLczm",
        "outputId": "7eedea06-db88-47cf-adb9-eb2bdcb6e70f"
      },
      "execution_count": null,
      "outputs": [
        {
          "output_type": "execute_result",
          "data": {
            "text/plain": [
              "array([1, 0, 0, 1, 0], dtype=int32)"
            ]
          },
          "metadata": {},
          "execution_count": 263
        }
      ]
    },
    {
      "cell_type": "code",
      "source": [
        "kmeans.cluster_centers_\n"
      ],
      "metadata": {
        "colab": {
          "base_uri": "https://localhost:8080/"
        },
        "id": "nzCG_fXYFBAJ",
        "outputId": "16b80088-73ca-40bb-e7a8-decd3d5aa6fd"
      },
      "execution_count": null,
      "outputs": [
        {
          "output_type": "execute_result",
          "data": {
            "text/plain": [
              "array([[5.33333333, 7.33333333],\n",
              "       [1.5       , 3.5       ]])"
            ]
          },
          "metadata": {},
          "execution_count": 264
        }
      ]
    },
    {
      "cell_type": "code",
      "source": [
        "print(kmeans.cluster_centers_.shape)"
      ],
      "metadata": {
        "colab": {
          "base_uri": "https://localhost:8080/"
        },
        "id": "9DBbcJKgIedJ",
        "outputId": "376ebea2-c0df-496f-9bfe-8b3b83864061"
      },
      "execution_count": null,
      "outputs": [
        {
          "output_type": "stream",
          "name": "stdout",
          "text": [
            "(2, 2)\n"
          ]
        }
      ]
    },
    {
      "cell_type": "code",
      "source": [
        "kmeans.n_iter_"
      ],
      "metadata": {
        "colab": {
          "base_uri": "https://localhost:8080/"
        },
        "id": "qFZ9imf8FBIh",
        "outputId": "2ae63e56-88fc-4486-f200-e70a67d6a81e"
      },
      "execution_count": null,
      "outputs": [
        {
          "output_type": "execute_result",
          "data": {
            "text/plain": [
              "2"
            ]
          },
          "metadata": {},
          "execution_count": 266
        }
      ]
    },
    {
      "cell_type": "code",
      "source": [
        "plt.scatter(X[ : , 0], X[ : , 1], s =200,c='b')\n",
        "plt.scatter(kmeans.cluster_centers_[0,0], kmeans.cluster_centers_[0,1], s=200, c='g', marker='s')\n",
        "plt.scatter(kmeans.cluster_centers_[1,0], kmeans.cluster_centers_[1,1], s=200, c='r', marker='s')\n",
        "plt.show()"
      ],
      "metadata": {
        "colab": {
          "base_uri": "https://localhost:8080/",
          "height": 265
        },
        "id": "3LOeKaerIAby",
        "outputId": "7fd3530e-3682-4f5d-92f5-a2d55cd917c0"
      },
      "execution_count": null,
      "outputs": [
        {
          "output_type": "display_data",
          "data": {
            "text/plain": [
              "<Figure size 432x288 with 1 Axes>"
            ],
            "image/png": "[encoded data removed]"
          },
          "metadata": {
            "needs_background": "light"
          }
        }
      ]
    },
    {
      "cell_type": "code",
      "source": [
        "centroids = np.array([[5, 8],[1, 2]])"
      ],
      "metadata": {
        "id": "7OkKlvUJOFkZ"
      },
      "execution_count": null,
      "outputs": []
    },
    {
      "cell_type": "code",
      "source": [
        "from sklearn.cluster import KMeans\n",
        "wcss = []  \n",
        "for i in range(1, 6): \n",
        "  kmeans = KMeans(n_clusters = i, init = 'random', random_state = 24)\n",
        "  kmeans.fit(X) \n",
        "  wcss.append(kmeans.inertia_)"
      ],
      "metadata": {
        "id": "vr8zIJ3FNMQD"
      },
      "execution_count": null,
      "outputs": []
    },
    {
      "cell_type": "code",
      "source": [
        "print(wcss)"
      ],
      "metadata": {
        "colab": {
          "base_uri": "https://localhost:8080/"
        },
        "id": "zTmi7ERIOn50",
        "outputId": "0a234867-73d4-414b-f196-a0766d03c843"
      },
      "execution_count": null,
      "outputs": [
        {
          "output_type": "stream",
          "name": "stdout",
          "text": [
            "[53.60000000000001, 18.333333333333332, 6.0, 1.0, 0.0]\n"
          ]
        }
      ]
    },
    {
      "cell_type": "code",
      "source": [
        "plt.plot(range(1, 6), wcss) \n",
        "plt.xlabel('Number of clusters') \n",
        "plt.ylabel('WCSS') \n",
        "plt.show()"
      ],
      "metadata": {
        "colab": {
          "base_uri": "https://localhost:8080/",
          "height": 279
        },
        "id": "WWQufN57O9ds",
        "outputId": "64e1d37a-0bb2-42c0-d4fe-aa025a91517c"
      },
      "execution_count": null,
      "outputs": [
        {
          "output_type": "display_data",
          "data": {
            "text/plain": [
              "<Figure size 432x288 with 1 Axes>"
            ],
            "image/png": "[encoded data removed]"
          },
          "metadata": {
            "needs_background": "light"
          }
        }
      ]
    },
    {
      "cell_type": "code",
      "source": [
        "from sklearn.metrics import silhouette_score\n",
        "silhouttescore=[]\n",
        "for i in range(2,5):\n",
        "  kmeans = KMeans(n_clusters=i, random_state=24).fit_predict(X)\n",
        "  silhouttescore.append(silhouette_score(X,kmeans))"
      ],
      "metadata": {
        "id": "zCmO8UxiPaok"
      },
      "execution_count": null,
      "outputs": []
    },
    {
      "cell_type": "code",
      "source": [
        "print(silhouttescore)"
      ],
      "metadata": {
        "colab": {
          "base_uri": "https://localhost:8080/"
        },
        "id": "aulJDU1XTnc2",
        "outputId": "071ca00a-c9e8-4a46-eee4-aab8b145e257"
      },
      "execution_count": null,
      "outputs": [
        {
          "output_type": "stream",
          "name": "stdout",
          "text": [
            "[0.43277015262694196, 0.42555854754515376, 0.2583079927413588]\n"
          ]
        }
      ]
    },
    {
      "cell_type": "code",
      "source": [
        "x = [2,3,4]\n",
        "plt.figure(figsize = (8,6))\n",
        "plt.plot(x, silhouttescore)\n",
        "plt.xlabel('Number of Clusters')\n",
        "plt.ylabel('Silhouette')\n",
        "plt.xticks([2,3,4])\n",
        "plt.title(\"Silhouette score vs No of Clusters\")\n",
        "plt.show()"
      ],
      "metadata": {
        "colab": {
          "base_uri": "https://localhost:8080/",
          "height": 404
        },
        "id": "HLm8eHgZTqnD",
        "outputId": "30a5c7c1-2ff1-4c1e-8b9c-9f94cf3c6c5d"
      },
      "execution_count": null,
      "outputs": [
        {
          "output_type": "display_data",
          "data": {
            "text/plain": [
              "<Figure size 576x432 with 1 Axes>"
            ],
            "image/png": "[encoded data removed]"
          },
          "metadata": {
            "needs_background": "light"
          }
        }
      ]
    },
    {
      "cell_type": "code",
      "source": [
        "X = np.array([[2, 5], [5, 8], [7, 5],[1, 2], [4, 9]])"
      ],
      "metadata": {
        "id": "tIevRoQulZQZ"
      },
      "execution_count": null,
      "outputs": []
    },
    {
      "cell_type": "code",
      "source": [
        "centroids = np.array([[5, 8],[1, 2]])"
      ],
      "metadata": {
        "id": "ZzK_8-Z5ldK_"
      },
      "execution_count": null,
      "outputs": []
    },
    {
      "cell_type": "code",
      "source": [
        "# XSumSquare = np.sum(np.square(X),axis=1);\n",
        "# CSumSquare = np.sum(np.square(centroids),axis=1);\n",
        "# mul = np.dot(x, y.T);\n",
        "# dists = np.sqrt(abs(xSumSquare[:, np.newaxis] + ySumSquare-2*mul))\n",
        "\n",
        "dist = np.linalg.norm(X - centroids[0,:],axis=1).reshape(-1,1)\n",
        "print(dist.shape)\n",
        "dist[:5,:]\n",
        "print(dist)\n"
      ],
      "metadata": {
        "colab": {
          "base_uri": "https://localhost:8080/"
        },
        "id": "tDL-lNmDlqK5",
        "outputId": "094b1978-d1c7-4951-8d39-540f7f42bf57"
      },
      "execution_count": null,
      "outputs": [
        {
          "output_type": "stream",
          "name": "stdout",
          "text": [
            "(5, 1)\n",
            "[[4.24264069]\n",
            " [0.        ]\n",
            " [3.60555128]\n",
            " [7.21110255]\n",
            " [1.41421356]]\n"
          ]
        }
      ]
    },
    {
      "cell_type": "code",
      "source": [
        "dist = np.append(dist,np.linalg.norm(X - centroids[1,:],axis=1).reshape(-1,1),axis=1)\n",
        "dist[:5,:]\n",
        "print(dist)"
      ],
      "metadata": {
        "colab": {
          "base_uri": "https://localhost:8080/"
        },
        "id": "ytOkAO28qDYZ",
        "outputId": "4cc0da55-4e59-4f16-c571-8f200c6c14dc"
      },
      "execution_count": null,
      "outputs": [
        {
          "output_type": "stream",
          "name": "stdout",
          "text": [
            "[[4.24264069 3.16227766]\n",
            " [0.         7.21110255]\n",
            " [3.60555128 6.70820393]\n",
            " [7.21110255 0.        ]\n",
            " [1.41421356 7.61577311]]\n"
          ]
        }
      ]
    },
    {
      "cell_type": "code",
      "source": [
        "cluster_idx = np.argmin(dist, axis=1)\n",
        "print(cluster_idx)"
      ],
      "metadata": {
        "colab": {
          "base_uri": "https://localhost:8080/"
        },
        "id": "CVcQSRi1rnD-",
        "outputId": "4725d899-d592-463d-f005-ba79a1dfe015"
      },
      "execution_count": null,
      "outputs": [
        {
          "output_type": "stream",
          "name": "stdout",
          "text": [
            "[1 0 0 1 0]\n"
          ]
        }
      ]
    },
    {
      "cell_type": "code",
      "source": [
        "new_centers = np.empty(centroids.shape)\n",
        "for i in range(2):\n",
        "  new_centers[i] = np.mean(X[cluster_idx == i], axis = 0)\n",
        "print(new_centers)"
      ],
      "metadata": {
        "colab": {
          "base_uri": "https://localhost:8080/"
        },
        "id": "5vLJJsCMsLtq",
        "outputId": "0d7975b1-c40f-48d3-f08e-3bd7f9a82c63"
      },
      "execution_count": null,
      "outputs": [
        {
          "output_type": "stream",
          "name": "stdout",
          "text": [
            "[[5.33333333 7.33333333]\n",
            " [1.5        3.5       ]]\n"
          ]
        }
      ]
    },
    {
      "cell_type": "code",
      "source": [
        "loss = 0.0\n",
        "N, D = X.shape\n",
        "for i in range(N):\n",
        "  loss = loss + np.square(dist[i][cluster_idx[i]])\n",
        "print(loss)"
      ],
      "metadata": {
        "colab": {
          "base_uri": "https://localhost:8080/"
        },
        "id": "bpCal4r7twxo",
        "outputId": "a38bb0aa-2ba4-4a79-8580-81d3f4adb2d4"
      },
      "execution_count": null,
      "outputs": [
        {
          "output_type": "stream",
          "name": "stdout",
          "text": [
            "25.0\n"
          ]
        }
      ]
    },
    {
      "cell_type": "markdown",
      "source": [
        "#CALCULATIONS"
      ],
      "metadata": {
        "id": "q2lyjs9gFcOt"
      }
    },
    {
      "cell_type": "code",
      "source": [
        "X = np.array([[2, 5], [5, 8], [7, 5],[1, 2], [4, 9]])"
      ],
      "metadata": {
        "id": "tINRQkhGAnFa"
      },
      "execution_count": null,
      "outputs": []
    },
    {
      "cell_type": "code",
      "source": [
        "centroids = np.array([[5, 8],[1, 2]])"
      ],
      "metadata": {
        "id": "Ar0q8ILHAngy"
      },
      "execution_count": null,
      "outputs": []
    },
    {
      "cell_type": "code",
      "source": [
        "A1_C1_dist=np.sqrt((X[0,0]-centroids[0,0])**2+(X[0,1]-centroids[0,1])**2)\n",
        "A1_C2_dist=np.sqrt((X[0,0]-centroids[1,0])**2+(X[0,1]-centroids[1,1])**2)"
      ],
      "metadata": {
        "id": "NSQlMOpMAn1G"
      },
      "execution_count": null,
      "outputs": []
    },
    {
      "cell_type": "code",
      "source": [
        "print(\"A1_C1 Euclidean Distance= \",A1_C1_dist)"
      ],
      "metadata": {
        "colab": {
          "base_uri": "https://localhost:8080/"
        },
        "id": "hI7Qrjv1AoBG",
        "outputId": "fa957a98-e515-4205-fb87-d3c700b706c4"
      },
      "execution_count": null,
      "outputs": [
        {
          "output_type": "stream",
          "name": "stdout",
          "text": [
            "A1_C1 Euclidean Distance=  4.242640687119285\n"
          ]
        }
      ]
    },
    {
      "cell_type": "code",
      "source": [
        "print(\"A1_C12Euclidean Distance= \",A1_C2_dist)"
      ],
      "metadata": {
        "colab": {
          "base_uri": "https://localhost:8080/"
        },
        "id": "poXF6p13AoM-",
        "outputId": "51d6fc2f-3141-4f27-825f-b074a1904a26"
      },
      "execution_count": null,
      "outputs": [
        {
          "output_type": "stream",
          "name": "stdout",
          "text": [
            "A1_C12Euclidean Distance=  3.1622776601683795\n"
          ]
        }
      ]
    },
    {
      "cell_type": "markdown",
      "source": [
        "#A1 belongs to C2 cluster as A1 Euclidean distance  to C2 < C1"
      ],
      "metadata": {
        "id": "pjE37XreCnEi"
      }
    },
    {
      "cell_type": "code",
      "source": [
        "A2_C1_dist=np.sqrt((X[1,0]-centroids[0,0])**2+(X[1,1]-centroids[0,1])**2)\n",
        "A2_C2_dist=np.sqrt((X[1,0]-centroids[1,0])**2+(X[1,1]-centroids[1,1])**2)"
      ],
      "metadata": {
        "id": "Vxiu7VgiC_Td"
      },
      "execution_count": null,
      "outputs": []
    },
    {
      "cell_type": "code",
      "source": [
        "print(\"A2_C1 Euclidean Distance= \",A2_C1_dist)"
      ],
      "metadata": {
        "colab": {
          "base_uri": "https://localhost:8080/"
        },
        "id": "ntqzxyKsDvwz",
        "outputId": "93a3e265-6d7b-4f74-ea8d-4d71efac2d09"
      },
      "execution_count": null,
      "outputs": [
        {
          "output_type": "stream",
          "name": "stdout",
          "text": [
            "A2_C1 Euclidean Distance=  0.0\n"
          ]
        }
      ]
    },
    {
      "cell_type": "code",
      "source": [
        "print(\"A2_C2 Euclidean Distance= \",A2_C2_dist)"
      ],
      "metadata": {
        "colab": {
          "base_uri": "https://localhost:8080/"
        },
        "id": "c-p9dudPDxGB",
        "outputId": "d0739960-0aa8-408a-e3fb-c5626b375830"
      },
      "execution_count": null,
      "outputs": [
        {
          "output_type": "stream",
          "name": "stdout",
          "text": [
            "A2_C2 Euclidean Distance=  7.211102550927978\n"
          ]
        }
      ]
    },
    {
      "cell_type": "markdown",
      "source": [
        "#A2 belongs to C1 cluster as A2 Euclidean distance  to C1 < C2"
      ],
      "metadata": {
        "id": "yW3oPztFEec3"
      }
    },
    {
      "cell_type": "code",
      "source": [
        "A3_C1_dist=np.sqrt((X[2,0]-centroids[0,0])**2+(X[2,1]-centroids[0,1])**2)\n",
        "A3_C2_dist=np.sqrt((X[2,0]-centroids[1,0])**2+(X[2,1]-centroids[1,1])**2)"
      ],
      "metadata": {
        "id": "rtf87rEMDDq_"
      },
      "execution_count": null,
      "outputs": []
    },
    {
      "cell_type": "code",
      "source": [
        "print(\"A3_C1 Euclidean Distance= \",A3_C1_dist)"
      ],
      "metadata": {
        "colab": {
          "base_uri": "https://localhost:8080/"
        },
        "id": "6wAWy3H1D3jR",
        "outputId": "703a2e79-bddb-494c-9a6d-69035c601010"
      },
      "execution_count": null,
      "outputs": [
        {
          "output_type": "stream",
          "name": "stdout",
          "text": [
            "A3_C1 Euclidean Distance=  3.605551275463989\n"
          ]
        }
      ]
    },
    {
      "cell_type": "code",
      "source": [
        "print(\"A3_C2 Euclidean Distance= \",A3_C2_dist)"
      ],
      "metadata": {
        "colab": {
          "base_uri": "https://localhost:8080/"
        },
        "id": "5eeqlovQD3rb",
        "outputId": "c9894eb3-e47d-42b7-bba8-92cc6e855b66"
      },
      "execution_count": null,
      "outputs": [
        {
          "output_type": "stream",
          "name": "stdout",
          "text": [
            "A3_C2 Euclidean Distance=  6.708203932499369\n"
          ]
        }
      ]
    },
    {
      "cell_type": "markdown",
      "source": [
        "#A3 belongs to C1 cluster as A3 Euclidean distance  to C1 < C2"
      ],
      "metadata": {
        "id": "-E63vO5VEgbt"
      }
    },
    {
      "cell_type": "code",
      "source": [
        "A4_C1_dist=np.sqrt((X[3,0]-centroids[0,0])**2+(X[3,1]-centroids[0,1])**2)\n",
        "A4_C2_dist=np.sqrt((X[3,0]-centroids[1,0])**2+(X[3,1]-centroids[1,1])**2)"
      ],
      "metadata": {
        "id": "fPXGYHRKDEnI"
      },
      "execution_count": null,
      "outputs": []
    },
    {
      "cell_type": "code",
      "source": [
        "print(\"A4_C1 Euclidean Distance= \",A4_C1_dist)"
      ],
      "metadata": {
        "colab": {
          "base_uri": "https://localhost:8080/"
        },
        "id": "-9fn5oSKD5X-",
        "outputId": "5dcd98fd-0c1e-421b-9753-e37c8462e3c9"
      },
      "execution_count": null,
      "outputs": [
        {
          "output_type": "stream",
          "name": "stdout",
          "text": [
            "A4_C1 Euclidean Distance=  7.211102550927978\n"
          ]
        }
      ]
    },
    {
      "cell_type": "code",
      "source": [
        "print(\"A4_C 2Euclidean Distance= \",A4_C2_dist)"
      ],
      "metadata": {
        "colab": {
          "base_uri": "https://localhost:8080/"
        },
        "id": "b6hjKjbID5i3",
        "outputId": "af40b121-d4b7-42af-a0eb-aec0fa5aecf6"
      },
      "execution_count": null,
      "outputs": [
        {
          "output_type": "stream",
          "name": "stdout",
          "text": [
            "A4_C 2Euclidean Distance=  0.0\n"
          ]
        }
      ]
    },
    {
      "cell_type": "markdown",
      "source": [
        "#A4 belongs to C2 cluster as A4 Euclidean distance  to C2 < C1"
      ],
      "metadata": {
        "id": "OYNfalUMEikm"
      }
    },
    {
      "cell_type": "code",
      "source": [
        "A5_C1_dist=np.sqrt((X[4,0]-centroids[0,0])**2+(X[4,1]-centroids[0,1])**2)\n",
        "A5_C2_dist=np.sqrt((X[4,0]-centroids[1,0])**2+(X[4,1]-centroids[1,1])**2)"
      ],
      "metadata": {
        "id": "CatzYTLTDFO0"
      },
      "execution_count": null,
      "outputs": []
    },
    {
      "cell_type": "code",
      "source": [
        "print(\"A5_C1 Euclidean Distance= \",A5_C1_dist)"
      ],
      "metadata": {
        "colab": {
          "base_uri": "https://localhost:8080/"
        },
        "id": "1nPcjnaRD62K",
        "outputId": "20725e98-2568-4073-db9b-23d23d5bf8a4"
      },
      "execution_count": null,
      "outputs": [
        {
          "output_type": "stream",
          "name": "stdout",
          "text": [
            "A5_C1 Euclidean Distance=  1.4142135623730951\n"
          ]
        }
      ]
    },
    {
      "cell_type": "code",
      "source": [
        "print(\"A5_C2 Euclidean Distance= \",A5_C2_dist)"
      ],
      "metadata": {
        "colab": {
          "base_uri": "https://localhost:8080/"
        },
        "id": "WHdCoMtKD6_t",
        "outputId": "f4fe2fa3-2f9a-45f2-8581-f6502fd5c16c"
      },
      "execution_count": null,
      "outputs": [
        {
          "output_type": "stream",
          "name": "stdout",
          "text": [
            "A5_C2 Euclidean Distance=  7.615773105863909\n"
          ]
        }
      ]
    },
    {
      "cell_type": "markdown",
      "source": [
        "#A5 belongs to C1 cluster as A5 Euclidean distance  to C1 < C2"
      ],
      "metadata": {
        "id": "2joc1TZdEkaJ"
      }
    },
    {
      "cell_type": "markdown",
      "source": [
        "#NEW CENTROID FOR CLUSTER1"
      ],
      "metadata": {
        "id": "iyn3ZRycFnk1"
      }
    },
    {
      "cell_type": "code",
      "source": [
        "newarr = X[np.array([1, 2, 4 ])]\n",
        "print(newarr)"
      ],
      "metadata": {
        "colab": {
          "base_uri": "https://localhost:8080/"
        },
        "id": "cRypj5HEFwjX",
        "outputId": "5573afda-71b0-456a-d712-9cbec6892a0c"
      },
      "execution_count": null,
      "outputs": [
        {
          "output_type": "stream",
          "name": "stdout",
          "text": [
            "[[5 8]\n",
            " [7 5]\n",
            " [4 9]]\n"
          ]
        }
      ]
    },
    {
      "cell_type": "code",
      "source": [
        "new_c1=np.mean(newarr,axis=0)\n",
        "print(new_c1)"
      ],
      "metadata": {
        "colab": {
          "base_uri": "https://localhost:8080/"
        },
        "id": "OXJc5iCBH_cB",
        "outputId": "08e65970-6aa3-42bd-f5c9-755a3c8c164a"
      },
      "execution_count": null,
      "outputs": [
        {
          "output_type": "stream",
          "name": "stdout",
          "text": [
            "[5.33333333 7.33333333]\n"
          ]
        }
      ]
    },
    {
      "cell_type": "markdown",
      "source": [
        "#NEW CENTROID FOR CLUSTER2"
      ],
      "metadata": {
        "id": "hqxDwW1mFuRt"
      }
    },
    {
      "cell_type": "code",
      "source": [
        "newarr = X[np.array([0,3])]\n",
        "print(newarr)"
      ],
      "metadata": {
        "colab": {
          "base_uri": "https://localhost:8080/"
        },
        "id": "N_0Rkrq6Aqbu",
        "outputId": "ba8fdf43-68ec-4547-b28d-92c776de96b9"
      },
      "execution_count": null,
      "outputs": [
        {
          "output_type": "stream",
          "name": "stdout",
          "text": [
            "[[2 5]\n",
            " [1 2]]\n"
          ]
        }
      ]
    },
    {
      "cell_type": "code",
      "source": [
        "new_c2=np.mean(newarr,axis=0)\n",
        "print(new_c2)"
      ],
      "metadata": {
        "colab": {
          "base_uri": "https://localhost:8080/"
        },
        "id": "NpluNZJvImQg",
        "outputId": "9ea8ddfe-28a7-4713-f8dc-26283c9802fd"
      },
      "execution_count": null,
      "outputs": [
        {
          "output_type": "stream",
          "name": "stdout",
          "text": [
            "[1.5 3.5]\n"
          ]
        }
      ]
    },
    {
      "cell_type": "markdown",
      "source": [
        "#plotting"
      ],
      "metadata": {
        "id": "n9vBbqiOIplQ"
      }
    },
    {
      "cell_type": "code",
      "source": [
        "x=X[:,0]\n",
        "y=X[:,1]\n",
        "text=['A1','A2','A3','A4','A5']"
      ],
      "metadata": {
        "id": "RbvdREFY8NMD"
      },
      "execution_count": null,
      "outputs": []
    },
    {
      "cell_type": "code",
      "source": [
        "\n",
        "plt.scatter(x, y,s=200,c='b')\n",
        "# plt.scatter(centroids[0,0], centroids[0,1], s=200, c='g', marker='s')\n",
        "# plt.scatter(centroids[1,0], centroids[1,1], s=200, c='r', marker='s')\n",
        "for i in range(len(x)):\n",
        "    plt.annotate(text[i], (x[i]+0.2, y[i] + 0.2))\n",
        "plt.xticks(np.arange(0, 11, step=1))\n",
        "plt.yticks(np.arange(0, 11, step=1))\n",
        "plt.xlabel('X Axis')\n",
        "plt.ylabel('Y axis')\n",
        "plt.grid()\n",
        "plt.title('DATA POINTS')\n",
        "plt.show()"
      ],
      "metadata": {
        "colab": {
          "base_uri": "https://localhost:8080/",
          "height": 295
        },
        "id": "KjjDtcrHwewG",
        "outputId": "dc928be4-3d5e-4dfc-a0db-97b5bc6245b4"
      },
      "execution_count": null,
      "outputs": [
        {
          "output_type": "display_data",
          "data": {
            "text/plain": [
              "<Figure size 432x288 with 1 Axes>"
            ],
            "image/png": "[encoded data removed]"
          },
          "metadata": {
            "needs_background": "light"
          }
        }
      ]
    },
    {
      "cell_type": "code",
      "source": [
        "plt.scatter(X[ : , 0], X[ :, 1],s=200,c='b')\n",
        "plt.scatter(centroids[0,0], centroids[0,1], s=250, c='g', marker='x')\n",
        "plt.annotate(\"c1\",(centroids[0,0],centroids[0,1]-0.8))\n",
        "plt.scatter(centroids[1,0], centroids[1,1], s=250, c='r', marker='x')\n",
        "plt.annotate(\"c2\",(centroids[1,0],centroids[1,1]-0.8))\n",
        "for i in range(len(x)):\n",
        "    plt.annotate(text[i], (x[i]+0.2, y[i] + 0.2))\n",
        "plt.xticks(np.arange(0, 11, step=1))\n",
        "plt.yticks(np.arange(0, 11, step=1))\n",
        "plt.grid()\n",
        "plt.title('DATA POINTS WITH INITIAL CLUSTERS')\n",
        "plt.xlabel('X Axis')\n",
        "plt.ylabel('Y axis')\n",
        "plt.show()"
      ],
      "metadata": {
        "colab": {
          "base_uri": "https://localhost:8080/",
          "height": 295
        },
        "id": "Z3oFpQQU30sL",
        "outputId": "ac6345c2-b36b-4a43-f743-bfdeefeadb5f"
      },
      "execution_count": null,
      "outputs": [
        {
          "output_type": "display_data",
          "data": {
            "text/plain": [
              "<Figure size 432x288 with 1 Axes>"
            ],
            "image/png": "[encoded data removed]"
          },
          "metadata": {
            "needs_background": "light"
          }
        }
      ]
    },
    {
      "cell_type": "code",
      "source": [
        "plt.scatter(X[ : , 0], X[ :, 1],s=200,c='b')\n",
        "plt.scatter(new_centers[0,0], new_centers[0,1], s=250, c='g', marker='x')\n",
        "plt.annotate(\"c1\",(new_centers[0,0],new_centers[0,1]-0.8))\n",
        "plt.scatter(new_centers[1,0], new_centers[1,1], s=250, c='r', marker='x')\n",
        "plt.annotate(\"c2\",(new_centers[1,0],new_centers[1,1]-0.8))\n",
        "for i in range(len(x)):\n",
        "    plt.annotate(text[i], (x[i]+0.2, y[i] + 0.2))\n",
        "plt.xticks(np.arange(0, 11, step=1))\n",
        "plt.yticks(np.arange(0, 11, step=1))\n",
        "plt.grid()\n",
        "plt.title('DATA POINTS WITH  CLUSTERS AFTER ONE ITERATION')\n",
        "plt.xlabel('X Axis')\n",
        "plt.ylabel('Y axis')\n",
        "plt.show()"
      ],
      "metadata": {
        "colab": {
          "base_uri": "https://localhost:8080/",
          "height": 295
        },
        "id": "sYUJGN2s4Fhk",
        "outputId": "c2cef5cc-6fd5-43c4-b7e5-d3bd13a834da"
      },
      "execution_count": null,
      "outputs": [
        {
          "output_type": "display_data",
          "data": {
            "text/plain": [
              "<Figure size 432x288 with 1 Axes>"
            ],
            "image/png": "[encoded data removed]"
          },
          "metadata": {
            "needs_background": "light"
          }
        }
      ]
    },
    {
      "cell_type": "code",
      "source": [
        "centroids = np.array([[5, 8],[1, 2]])"
      ],
      "metadata": {
        "id": "bmojgqGMI9W4"
      },
      "execution_count": null,
      "outputs": []
    },
    {
      "cell_type": "code",
      "source": [
        "from sklearn.cluster import KMeans\n",
        "wcss = []  \n",
        "for i in range(1, 6): \n",
        "  kmeans = KMeans(n_clusters = i, init = 'random', random_state = 24)\n",
        "  kmeans.fit(X) \n",
        "  wcss.append(kmeans.inertia_)"
      ],
      "metadata": {
        "id": "odWKAKefI9kU"
      },
      "execution_count": null,
      "outputs": []
    },
    {
      "cell_type": "code",
      "source": [
        "print(wcss)"
      ],
      "metadata": {
        "colab": {
          "base_uri": "https://localhost:8080/"
        },
        "id": "kzvh-cK4JaXO",
        "outputId": "23c57a06-494c-40bd-99df-7fbd6dc55a9e"
      },
      "execution_count": null,
      "outputs": [
        {
          "output_type": "stream",
          "name": "stdout",
          "text": [
            "[53.60000000000001, 18.333333333333332, 6.0, 1.0, 0.0]\n"
          ]
        }
      ]
    },
    {
      "cell_type": "code",
      "source": [
        "plt.plot(range(1, 6), wcss) \n",
        "plt.xlabel('Number of clusters') \n",
        "plt.ylabel('WCSS') \n",
        "plt.show()"
      ],
      "metadata": {
        "colab": {
          "base_uri": "https://localhost:8080/",
          "height": 279
        },
        "id": "ddJ_VQITJfTm",
        "outputId": "ab2ef53a-c95c-464c-b34d-2ab64ae99050"
      },
      "execution_count": null,
      "outputs": [
        {
          "output_type": "display_data",
          "data": {
            "text/plain": [
              "<Figure size 432x288 with 1 Axes>"
            ],
            "image/png": "[encoded data removed]"
          },
          "metadata": {
            "needs_background": "light"
          }
        }
      ]
    },
    {
      "cell_type": "code",
      "source": [
        "from sklearn.metrics import silhouette_score\n",
        "silhouttescore=[]\n",
        "for i in range(2,5):\n",
        "  kmeans = KMeans(n_clusters=i, random_state=24).fit_predict(X)\n",
        "  silhouttescore.append(silhouette_score(X,kmeans))"
      ],
      "metadata": {
        "id": "A4O9te8CJg5N"
      },
      "execution_count": null,
      "outputs": []
    },
    {
      "cell_type": "code",
      "source": [
        "print(silhouttescore)"
      ],
      "metadata": {
        "colab": {
          "base_uri": "https://localhost:8080/"
        },
        "id": "2wEejKTZJhDd",
        "outputId": "5e94a4db-fd74-49fc-8f1d-5ab62d465074"
      },
      "execution_count": null,
      "outputs": [
        {
          "output_type": "stream",
          "name": "stdout",
          "text": [
            "[0.43277015262694196, 0.42555854754515376, 0.2583079927413588]\n"
          ]
        }
      ]
    },
    {
      "cell_type": "code",
      "source": [
        "x = [2,3,4]\n",
        "plt.figure(figsize = (8,6))\n",
        "plt.plot(x, silhouttescore)\n",
        "plt.xlabel('Number of Clusters')\n",
        "plt.ylabel('Silhouette')\n",
        "plt.xticks([2,3,4])\n",
        "plt.title(\"Silhouette score vs No of Clusters\")\n",
        "plt.show()"
      ],
      "metadata": {
        "colab": {
          "base_uri": "https://localhost:8080/",
          "height": 404
        },
        "id": "Yv_4k1SnJsQc",
        "outputId": "299f8e8c-174b-44fd-a221-0c84f1508aa2"
      },
      "execution_count": null,
      "outputs": [
        {
          "output_type": "display_data",
          "data": {
            "text/plain": [
              "<Figure size 576x432 with 1 Axes>"
            ],
            "image/png": "[encoded data removed]"
          },
          "metadata": {
            "needs_background": "light"
          }
        }
      ]
    }
  ]
}