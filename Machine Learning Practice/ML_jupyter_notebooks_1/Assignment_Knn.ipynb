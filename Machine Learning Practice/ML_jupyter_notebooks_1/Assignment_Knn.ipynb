{
  "nbformat": 4,
  "nbformat_minor": 0,
  "metadata": {
    "colab": {
      "provenance": [],
      "collapsed_sections": []
    },
    "kernelspec": {
      "name": "python3",
      "display_name": "Python 3"
    },
    "language_info": {
      "name": "python"
    }
  },
  "cells": [
    {
      "cell_type": "code",
      "execution_count": 105,
      "metadata": {
        "id": "TFT9mkOok3V8"
      },
      "outputs": [],
      "source": [
        "import numpy as np\n",
        "import pandas as pd\n",
        "from sklearn.preprocessing import LabelEncoder\n",
        "from sklearn.model_selection import train_test_split\n",
        "from sklearn.neighbors import KNeighborsClassifier\n",
        "from sklearn.metrics import accuracy_score\n",
        "import matplotlib.pyplot as plt\n",
        "%matplotlib inline\n",
        "plt.rcParams['axes.labelsize'] = 16\n",
        "plt.rcParams['axes.titlesize'] = 20\n",
        "\n"
      ]
    },
    {
      "cell_type": "markdown",
      "source": [
        "##3ab(1).Get the data and Explore input features and outputs"
      ],
      "metadata": {
        "id": "UK5UheOR8glW"
      }
    },
    {
      "cell_type": "code",
      "source": [
        "#get data and add column names\n",
        "col_names = ['buyPrice', 'maintCost', 'Doors', 'Persons', 'bootLuggage', 'safety', 'decision']\n",
        "data = pd.read_csv(\"./car_evaluation.csv\",names = col_names)\n",
        "#display  data first five rows\n",
        "data.head()"
      ],
      "metadata": {
        "colab": {
          "base_uri": "https://localhost:8080/",
          "height": 206
        },
        "id": "Ud0VxE5vlLPU",
        "outputId": "86a75210-39d1-4cc8-80c4-5f8e9095900b"
      },
      "execution_count": 106,
      "outputs": [
        {
          "output_type": "execute_result",
          "data": {
            "text/plain": [
              "  buyPrice maintCost Doors Persons bootLuggage safety decision\n",
              "0    vhigh     vhigh     2       2       small    low    unacc\n",
              "1    vhigh     vhigh     2       2       small    med    unacc\n",
              "2    vhigh     vhigh     2       2       small   high    unacc\n",
              "3    vhigh     vhigh     2       2         med    low    unacc\n",
              "4    vhigh     vhigh     2       2         med    med    unacc"
            ],
            "text/html": [
              "\n",
              "  <div id=\"df-92d5278e-3d34-4979-a731-d6a26c66b4d9\">\n",
              "    <div class=\"colab-df-container\">\n",
              "      <div>\n",
              "<style scoped>\n",
              "    .dataframe tbody tr th:only-of-type {\n",
              "        vertical-align: middle;\n",
              "    }\n",
              "\n",
              "    .dataframe tbody tr th {\n",
              "        vertical-align: top;\n",
              "    }\n",
              "\n",
              "    .dataframe thead th {\n",
              "        text-align: right;\n",
              "    }\n",
              "</style>\n",
              "<table border=\"1\" class=\"dataframe\">\n",
              "  <thead>\n",
              "    <tr style=\"text-align: right;\">\n",
              "      <th></th>\n",
              "      <th>buyPrice</th>\n",
              "      <th>maintCost</th>\n",
              "      <th>Doors</th>\n",
              "      <th>Persons</th>\n",
              "      <th>bootLuggage</th>\n",
              "      <th>safety</th>\n",
              "      <th>decision</th>\n",
              "    </tr>\n",
              "  </thead>\n",
              "  <tbody>\n",
              "    <tr>\n",
              "      <th>0</th>\n",
              "      <td>vhigh</td>\n",
              "      <td>vhigh</td>\n",
              "      <td>2</td>\n",
              "      <td>2</td>\n",
              "      <td>small</td>\n",
              "      <td>low</td>\n",
              "      <td>unacc</td>\n",
              "    </tr>\n",
              "    <tr>\n",
              "      <th>1</th>\n",
              "      <td>vhigh</td>\n",
              "      <td>vhigh</td>\n",
              "      <td>2</td>\n",
              "      <td>2</td>\n",
              "      <td>small</td>\n",
              "      <td>med</td>\n",
              "      <td>unacc</td>\n",
              "    </tr>\n",
              "    <tr>\n",
              "      <th>2</th>\n",
              "      <td>vhigh</td>\n",
              "      <td>vhigh</td>\n",
              "      <td>2</td>\n",
              "      <td>2</td>\n",
              "      <td>small</td>\n",
              "      <td>high</td>\n",
              "      <td>unacc</td>\n",
              "    </tr>\n",
              "    <tr>\n",
              "      <th>3</th>\n",
              "      <td>vhigh</td>\n",
              "      <td>vhigh</td>\n",
              "      <td>2</td>\n",
              "      <td>2</td>\n",
              "      <td>med</td>\n",
              "      <td>low</td>\n",
              "      <td>unacc</td>\n",
              "    </tr>\n",
              "    <tr>\n",
              "      <th>4</th>\n",
              "      <td>vhigh</td>\n",
              "      <td>vhigh</td>\n",
              "      <td>2</td>\n",
              "      <td>2</td>\n",
              "      <td>med</td>\n",
              "      <td>med</td>\n",
              "      <td>unacc</td>\n",
              "    </tr>\n",
              "  </tbody>\n",
              "</table>\n",
              "</div>\n",
              "      <button class=\"colab-df-convert\" onclick=\"convertToInteractive('df-92d5278e-3d34-4979-a731-d6a26c66b4d9')\"\n",
              "              title=\"Convert this dataframe to an interactive table.\"\n",
              "              style=\"display:none;\">\n",
              "        \n",
              "  <svg xmlns=\"http://www.w3.org/2000/svg\" height=\"24px\"viewBox=\"0 0 24 24\"\n",
              "       width=\"24px\">\n",
              "    <path d=\"M0 0h24v24H0V0z\" fill=\"none\"/>\n",
              "    <path d=\"M18.56 5.44l.94 2.06.94-2.06 2.06-.94-2.06-.94-.94-2.06-.94 2.06-2.06.94zm-11 1L8.5 8.5l.94-2.06 2.06-.94-2.06-.94L8.5 2.5l-.94 2.06-2.06.94zm10 10l.94 2.06.94-2.06 2.06-.94-2.06-.94-.94-2.06-.94 2.06-2.06.94z\"/><path d=\"M17.41 7.96l-1.37-1.37c-.4-.4-.92-.59-1.43-.59-.52 0-1.04.2-1.43.59L10.3 9.45l-7.72 7.72c-.78.78-.78 2.05 0 2.83L4 21.41c.39.39.9.59 1.41.59.51 0 1.02-.2 1.41-.59l7.78-7.78 2.81-2.81c.8-.78.8-2.07 0-2.86zM5.41 20L4 18.59l7.72-7.72 1.47 1.35L5.41 20z\"/>\n",
              "  </svg>\n",
              "      </button>\n",
              "      \n",
              "  <style>\n",
              "    .colab-df-container {\n",
              "      display:flex;\n",
              "      flex-wrap:wrap;\n",
              "      gap: 12px;\n",
              "    }\n",
              "\n",
              "    .colab-df-convert {\n",
              "      background-color: #E8F0FE;\n",
              "      border: none;\n",
              "      border-radius: 50%;\n",
              "      cursor: pointer;\n",
              "      display: none;\n",
              "      fill: #1967D2;\n",
              "      height: 32px;\n",
              "      padding: 0 0 0 0;\n",
              "      width: 32px;\n",
              "    }\n",
              "\n",
              "    .colab-df-convert:hover {\n",
              "      background-color: #E2EBFA;\n",
              "      box-shadow: 0px 1px 2px rgba(60, 64, 67, 0.3), 0px 1px 3px 1px rgba(60, 64, 67, 0.15);\n",
              "      fill: #174EA6;\n",
              "    }\n",
              "\n",
              "    [theme=dark] .colab-df-convert {\n",
              "      background-color: #3B4455;\n",
              "      fill: #D2E3FC;\n",
              "    }\n",
              "\n",
              "    [theme=dark] .colab-df-convert:hover {\n",
              "      background-color: #434B5C;\n",
              "      box-shadow: 0px 1px 3px 1px rgba(0, 0, 0, 0.15);\n",
              "      filter: drop-shadow(0px 1px 2px rgba(0, 0, 0, 0.3));\n",
              "      fill: #FFFFFF;\n",
              "    }\n",
              "  </style>\n",
              "\n",
              "      <script>\n",
              "        const buttonEl =\n",
              "          document.querySelector('#df-92d5278e-3d34-4979-a731-d6a26c66b4d9 button.colab-df-convert');\n",
              "        buttonEl.style.display =\n",
              "          google.colab.kernel.accessAllowed ? 'block' : 'none';\n",
              "\n",
              "        async function convertToInteractive(key) {\n",
              "          const element = document.querySelector('#df-92d5278e-3d34-4979-a731-d6a26c66b4d9');\n",
              "          const dataTable =\n",
              "            await google.colab.kernel.invokeFunction('convertToInteractive',\n",
              "                                                     [key], {});\n",
              "          if (!dataTable) return;\n",
              "\n",
              "          const docLinkHtml = 'Like what you see? Visit the ' +\n",
              "            '<a target=\"_blank\" href=https://colab.research.google.com/notebooks/data_table.ipynb>data table notebook</a>'\n",
              "            + ' to learn more about interactive tables.';\n",
              "          element.innerHTML = '';\n",
              "          dataTable['output_type'] = 'display_data';\n",
              "          await google.colab.output.renderOutput(dataTable, element);\n",
              "          const docLink = document.createElement('div');\n",
              "          docLink.innerHTML = docLinkHtml;\n",
              "          element.appendChild(docLink);\n",
              "        }\n",
              "      </script>\n",
              "    </div>\n",
              "  </div>\n",
              "  "
            ]
          },
          "metadata": {},
          "execution_count": 106
        }
      ]
    },
    {
      "cell_type": "code",
      "source": [
        "#print data information\n",
        "data.info()"
      ],
      "metadata": {
        "colab": {
          "base_uri": "https://localhost:8080/"
        },
        "id": "yFe5FuoINNoN",
        "outputId": "23c43b92-e345-4944-cb58-1172bf0a4745"
      },
      "execution_count": 107,
      "outputs": [
        {
          "output_type": "stream",
          "name": "stdout",
          "text": [
            "<class 'pandas.core.frame.DataFrame'>\n",
            "RangeIndex: 1728 entries, 0 to 1727\n",
            "Data columns (total 7 columns):\n",
            " #   Column       Non-Null Count  Dtype \n",
            "---  ------       --------------  ----- \n",
            " 0   buyPrice     1728 non-null   object\n",
            " 1   maintCost    1728 non-null   object\n",
            " 2   Doors        1728 non-null   object\n",
            " 3   Persons      1728 non-null   object\n",
            " 4   bootLuggage  1728 non-null   object\n",
            " 5   safety       1728 non-null   object\n",
            " 6   decision     1728 non-null   object\n",
            "dtypes: object(7)\n",
            "memory usage: 94.6+ KB\n"
          ]
        }
      ]
    },
    {
      "cell_type": "code",
      "source": [
        "#print attribute values of each column\n",
        "print(\"Attribute Values:\")\n",
        "for i in data.columns:\n",
        "    unique=data[i].unique()\n",
        "    print(i,\":\",unique)"
      ],
      "metadata": {
        "colab": {
          "base_uri": "https://localhost:8080/"
        },
        "id": "hfU_KDcUOSk0",
        "outputId": "e2cf1748-0c36-4c1c-d9ea-d7a0773ce5af"
      },
      "execution_count": 108,
      "outputs": [
        {
          "output_type": "stream",
          "name": "stdout",
          "text": [
            "Attribute Values:\n",
            "buyPrice : ['vhigh' 'high' 'med' 'low']\n",
            "maintCost : ['vhigh' 'high' 'med' 'low']\n",
            "Doors : ['2' '3' '4' '5more']\n",
            "Persons : ['2' '4' 'more']\n",
            "bootLuggage : ['small' 'med' 'big']\n",
            "safety : ['low' 'med' 'high']\n",
            "decision : ['unacc' 'acc' 'vgood' 'good']\n"
          ]
        }
      ]
    },
    {
      "cell_type": "markdown",
      "source": [
        "### All input features are categorical values.Hence Encoding is to be done to concert them into Numerical values"
      ],
      "metadata": {
        "id": "OxKMiwlD-6sr"
      }
    },
    {
      "cell_type": "markdown",
      "source": [
        "##3ab(2).Preprocessing:Encoding of Categorical features to Numerical values"
      ],
      "metadata": {
        "id": "7hZkiZNZ-hhT"
      }
    },
    {
      "cell_type": "code",
      "source": [
        "#Encode Categorical features to Numerical values\n",
        "Encoder1 = LabelEncoder()\n",
        "data['maintCost'] = Encoder1.fit_transform(data['maintCost'])\n",
        "data['buyPrice']= Encoder1.fit_transform(data['buyPrice'])\n",
        "data['bootLuggage']= Encoder1.fit_transform(data['bootLuggage'])\n",
        "data['safety']=Encoder1.fit_transform(data['safety'])\n",
        "data['Doors']= Encoder1.fit_transform(data['Doors'])\n",
        "data['Persons']=Encoder1.fit_transform(data['Persons'])\n",
        "data.head()"
      ],
      "metadata": {
        "colab": {
          "base_uri": "https://localhost:8080/",
          "height": 206
        },
        "id": "GqCjkItmwFMg",
        "outputId": "878da822-bb60-4ad7-e30d-d480f9b78d0e"
      },
      "execution_count": 109,
      "outputs": [
        {
          "output_type": "execute_result",
          "data": {
            "text/plain": [
              "   buyPrice  maintCost  Doors  Persons  bootLuggage  safety decision\n",
              "0         3          3      0        0            2       1    unacc\n",
              "1         3          3      0        0            2       2    unacc\n",
              "2         3          3      0        0            2       0    unacc\n",
              "3         3          3      0        0            1       1    unacc\n",
              "4         3          3      0        0            1       2    unacc"
            ],
            "text/html": [
              "\n",
              "  <div id=\"df-534b6002-d4c9-4e1e-b97d-74b237a20315\">\n",
              "    <div class=\"colab-df-container\">\n",
              "      <div>\n",
              "<style scoped>\n",
              "    .dataframe tbody tr th:only-of-type {\n",
              "        vertical-align: middle;\n",
              "    }\n",
              "\n",
              "    .dataframe tbody tr th {\n",
              "        vertical-align: top;\n",
              "    }\n",
              "\n",
              "    .dataframe thead th {\n",
              "        text-align: right;\n",
              "    }\n",
              "</style>\n",
              "<table border=\"1\" class=\"dataframe\">\n",
              "  <thead>\n",
              "    <tr style=\"text-align: right;\">\n",
              "      <th></th>\n",
              "      <th>buyPrice</th>\n",
              "      <th>maintCost</th>\n",
              "      <th>Doors</th>\n",
              "      <th>Persons</th>\n",
              "      <th>bootLuggage</th>\n",
              "      <th>safety</th>\n",
              "      <th>decision</th>\n",
              "    </tr>\n",
              "  </thead>\n",
              "  <tbody>\n",
              "    <tr>\n",
              "      <th>0</th>\n",
              "      <td>3</td>\n",
              "      <td>3</td>\n",
              "      <td>0</td>\n",
              "      <td>0</td>\n",
              "      <td>2</td>\n",
              "      <td>1</td>\n",
              "      <td>unacc</td>\n",
              "    </tr>\n",
              "    <tr>\n",
              "      <th>1</th>\n",
              "      <td>3</td>\n",
              "      <td>3</td>\n",
              "      <td>0</td>\n",
              "      <td>0</td>\n",
              "      <td>2</td>\n",
              "      <td>2</td>\n",
              "      <td>unacc</td>\n",
              "    </tr>\n",
              "    <tr>\n",
              "      <th>2</th>\n",
              "      <td>3</td>\n",
              "      <td>3</td>\n",
              "      <td>0</td>\n",
              "      <td>0</td>\n",
              "      <td>2</td>\n",
              "      <td>0</td>\n",
              "      <td>unacc</td>\n",
              "    </tr>\n",
              "    <tr>\n",
              "      <th>3</th>\n",
              "      <td>3</td>\n",
              "      <td>3</td>\n",
              "      <td>0</td>\n",
              "      <td>0</td>\n",
              "      <td>1</td>\n",
              "      <td>1</td>\n",
              "      <td>unacc</td>\n",
              "    </tr>\n",
              "    <tr>\n",
              "      <th>4</th>\n",
              "      <td>3</td>\n",
              "      <td>3</td>\n",
              "      <td>0</td>\n",
              "      <td>0</td>\n",
              "      <td>1</td>\n",
              "      <td>2</td>\n",
              "      <td>unacc</td>\n",
              "    </tr>\n",
              "  </tbody>\n",
              "</table>\n",
              "</div>\n",
              "      <button class=\"colab-df-convert\" onclick=\"convertToInteractive('df-534b6002-d4c9-4e1e-b97d-74b237a20315')\"\n",
              "              title=\"Convert this dataframe to an interactive table.\"\n",
              "              style=\"display:none;\">\n",
              "        \n",
              "  <svg xmlns=\"http://www.w3.org/2000/svg\" height=\"24px\"viewBox=\"0 0 24 24\"\n",
              "       width=\"24px\">\n",
              "    <path d=\"M0 0h24v24H0V0z\" fill=\"none\"/>\n",
              "    <path d=\"M18.56 5.44l.94 2.06.94-2.06 2.06-.94-2.06-.94-.94-2.06-.94 2.06-2.06.94zm-11 1L8.5 8.5l.94-2.06 2.06-.94-2.06-.94L8.5 2.5l-.94 2.06-2.06.94zm10 10l.94 2.06.94-2.06 2.06-.94-2.06-.94-.94-2.06-.94 2.06-2.06.94z\"/><path d=\"M17.41 7.96l-1.37-1.37c-.4-.4-.92-.59-1.43-.59-.52 0-1.04.2-1.43.59L10.3 9.45l-7.72 7.72c-.78.78-.78 2.05 0 2.83L4 21.41c.39.39.9.59 1.41.59.51 0 1.02-.2 1.41-.59l7.78-7.78 2.81-2.81c.8-.78.8-2.07 0-2.86zM5.41 20L4 18.59l7.72-7.72 1.47 1.35L5.41 20z\"/>\n",
              "  </svg>\n",
              "      </button>\n",
              "      \n",
              "  <style>\n",
              "    .colab-df-container {\n",
              "      display:flex;\n",
              "      flex-wrap:wrap;\n",
              "      gap: 12px;\n",
              "    }\n",
              "\n",
              "    .colab-df-convert {\n",
              "      background-color: #E8F0FE;\n",
              "      border: none;\n",
              "      border-radius: 50%;\n",
              "      cursor: pointer;\n",
              "      display: none;\n",
              "      fill: #1967D2;\n",
              "      height: 32px;\n",
              "      padding: 0 0 0 0;\n",
              "      width: 32px;\n",
              "    }\n",
              "\n",
              "    .colab-df-convert:hover {\n",
              "      background-color: #E2EBFA;\n",
              "      box-shadow: 0px 1px 2px rgba(60, 64, 67, 0.3), 0px 1px 3px 1px rgba(60, 64, 67, 0.15);\n",
              "      fill: #174EA6;\n",
              "    }\n",
              "\n",
              "    [theme=dark] .colab-df-convert {\n",
              "      background-color: #3B4455;\n",
              "      fill: #D2E3FC;\n",
              "    }\n",
              "\n",
              "    [theme=dark] .colab-df-convert:hover {\n",
              "      background-color: #434B5C;\n",
              "      box-shadow: 0px 1px 3px 1px rgba(0, 0, 0, 0.15);\n",
              "      filter: drop-shadow(0px 1px 2px rgba(0, 0, 0, 0.3));\n",
              "      fill: #FFFFFF;\n",
              "    }\n",
              "  </style>\n",
              "\n",
              "      <script>\n",
              "        const buttonEl =\n",
              "          document.querySelector('#df-534b6002-d4c9-4e1e-b97d-74b237a20315 button.colab-df-convert');\n",
              "        buttonEl.style.display =\n",
              "          google.colab.kernel.accessAllowed ? 'block' : 'none';\n",
              "\n",
              "        async function convertToInteractive(key) {\n",
              "          const element = document.querySelector('#df-534b6002-d4c9-4e1e-b97d-74b237a20315');\n",
              "          const dataTable =\n",
              "            await google.colab.kernel.invokeFunction('convertToInteractive',\n",
              "                                                     [key], {});\n",
              "          if (!dataTable) return;\n",
              "\n",
              "          const docLinkHtml = 'Like what you see? Visit the ' +\n",
              "            '<a target=\"_blank\" href=https://colab.research.google.com/notebooks/data_table.ipynb>data table notebook</a>'\n",
              "            + ' to learn more about interactive tables.';\n",
              "          element.innerHTML = '';\n",
              "          dataTable['output_type'] = 'display_data';\n",
              "          await google.colab.output.renderOutput(dataTable, element);\n",
              "          const docLink = document.createElement('div');\n",
              "          docLink.innerHTML = docLinkHtml;\n",
              "          element.appendChild(docLink);\n",
              "        }\n",
              "      </script>\n",
              "    </div>\n",
              "  </div>\n",
              "  "
            ]
          },
          "metadata": {},
          "execution_count": 109
        }
      ]
    },
    {
      "cell_type": "code",
      "source": [
        "#Describe Encoded data\n",
        "data.describe()"
      ],
      "metadata": {
        "colab": {
          "base_uri": "https://localhost:8080/",
          "height": 300
        },
        "id": "5Tm8G0X3qmO7",
        "outputId": "1859016a-05cf-4c1d-88b9-a5eba2d397f2"
      },
      "execution_count": 110,
      "outputs": [
        {
          "output_type": "execute_result",
          "data": {
            "text/plain": [
              "          buyPrice    maintCost        Doors      Persons  bootLuggage  \\\n",
              "count  1728.000000  1728.000000  1728.000000  1728.000000  1728.000000   \n",
              "mean      1.500000     1.500000     1.500000     1.000000     1.000000   \n",
              "std       1.118358     1.118358     1.118358     0.816733     0.816733   \n",
              "min       0.000000     0.000000     0.000000     0.000000     0.000000   \n",
              "25%       0.750000     0.750000     0.750000     0.000000     0.000000   \n",
              "50%       1.500000     1.500000     1.500000     1.000000     1.000000   \n",
              "75%       2.250000     2.250000     2.250000     2.000000     2.000000   \n",
              "max       3.000000     3.000000     3.000000     2.000000     2.000000   \n",
              "\n",
              "            safety  \n",
              "count  1728.000000  \n",
              "mean      1.000000  \n",
              "std       0.816733  \n",
              "min       0.000000  \n",
              "25%       0.000000  \n",
              "50%       1.000000  \n",
              "75%       2.000000  \n",
              "max       2.000000  "
            ],
            "text/html": [
              "\n",
              "  <div id=\"df-3b12ea76-7492-4d4f-ae3d-63b0569bee8c\">\n",
              "    <div class=\"colab-df-container\">\n",
              "      <div>\n",
              "<style scoped>\n",
              "    .dataframe tbody tr th:only-of-type {\n",
              "        vertical-align: middle;\n",
              "    }\n",
              "\n",
              "    .dataframe tbody tr th {\n",
              "        vertical-align: top;\n",
              "    }\n",
              "\n",
              "    .dataframe thead th {\n",
              "        text-align: right;\n",
              "    }\n",
              "</style>\n",
              "<table border=\"1\" class=\"dataframe\">\n",
              "  <thead>\n",
              "    <tr style=\"text-align: right;\">\n",
              "      <th></th>\n",
              "      <th>buyPrice</th>\n",
              "      <th>maintCost</th>\n",
              "      <th>Doors</th>\n",
              "      <th>Persons</th>\n",
              "      <th>bootLuggage</th>\n",
              "      <th>safety</th>\n",
              "    </tr>\n",
              "  </thead>\n",
              "  <tbody>\n",
              "    <tr>\n",
              "      <th>count</th>\n",
              "      <td>1728.000000</td>\n",
              "      <td>1728.000000</td>\n",
              "      <td>1728.000000</td>\n",
              "      <td>1728.000000</td>\n",
              "      <td>1728.000000</td>\n",
              "      <td>1728.000000</td>\n",
              "    </tr>\n",
              "    <tr>\n",
              "      <th>mean</th>\n",
              "      <td>1.500000</td>\n",
              "      <td>1.500000</td>\n",
              "      <td>1.500000</td>\n",
              "      <td>1.000000</td>\n",
              "      <td>1.000000</td>\n",
              "      <td>1.000000</td>\n",
              "    </tr>\n",
              "    <tr>\n",
              "      <th>std</th>\n",
              "      <td>1.118358</td>\n",
              "      <td>1.118358</td>\n",
              "      <td>1.118358</td>\n",
              "      <td>0.816733</td>\n",
              "      <td>0.816733</td>\n",
              "      <td>0.816733</td>\n",
              "    </tr>\n",
              "    <tr>\n",
              "      <th>min</th>\n",
              "      <td>0.000000</td>\n",
              "      <td>0.000000</td>\n",
              "      <td>0.000000</td>\n",
              "      <td>0.000000</td>\n",
              "      <td>0.000000</td>\n",
              "      <td>0.000000</td>\n",
              "    </tr>\n",
              "    <tr>\n",
              "      <th>25%</th>\n",
              "      <td>0.750000</td>\n",
              "      <td>0.750000</td>\n",
              "      <td>0.750000</td>\n",
              "      <td>0.000000</td>\n",
              "      <td>0.000000</td>\n",
              "      <td>0.000000</td>\n",
              "    </tr>\n",
              "    <tr>\n",
              "      <th>50%</th>\n",
              "      <td>1.500000</td>\n",
              "      <td>1.500000</td>\n",
              "      <td>1.500000</td>\n",
              "      <td>1.000000</td>\n",
              "      <td>1.000000</td>\n",
              "      <td>1.000000</td>\n",
              "    </tr>\n",
              "    <tr>\n",
              "      <th>75%</th>\n",
              "      <td>2.250000</td>\n",
              "      <td>2.250000</td>\n",
              "      <td>2.250000</td>\n",
              "      <td>2.000000</td>\n",
              "      <td>2.000000</td>\n",
              "      <td>2.000000</td>\n",
              "    </tr>\n",
              "    <tr>\n",
              "      <th>max</th>\n",
              "      <td>3.000000</td>\n",
              "      <td>3.000000</td>\n",
              "      <td>3.000000</td>\n",
              "      <td>2.000000</td>\n",
              "      <td>2.000000</td>\n",
              "      <td>2.000000</td>\n",
              "    </tr>\n",
              "  </tbody>\n",
              "</table>\n",
              "</div>\n",
              "      <button class=\"colab-df-convert\" onclick=\"convertToInteractive('df-3b12ea76-7492-4d4f-ae3d-63b0569bee8c')\"\n",
              "              title=\"Convert this dataframe to an interactive table.\"\n",
              "              style=\"display:none;\">\n",
              "        \n",
              "  <svg xmlns=\"http://www.w3.org/2000/svg\" height=\"24px\"viewBox=\"0 0 24 24\"\n",
              "       width=\"24px\">\n",
              "    <path d=\"M0 0h24v24H0V0z\" fill=\"none\"/>\n",
              "    <path d=\"M18.56 5.44l.94 2.06.94-2.06 2.06-.94-2.06-.94-.94-2.06-.94 2.06-2.06.94zm-11 1L8.5 8.5l.94-2.06 2.06-.94-2.06-.94L8.5 2.5l-.94 2.06-2.06.94zm10 10l.94 2.06.94-2.06 2.06-.94-2.06-.94-.94-2.06-.94 2.06-2.06.94z\"/><path d=\"M17.41 7.96l-1.37-1.37c-.4-.4-.92-.59-1.43-.59-.52 0-1.04.2-1.43.59L10.3 9.45l-7.72 7.72c-.78.78-.78 2.05 0 2.83L4 21.41c.39.39.9.59 1.41.59.51 0 1.02-.2 1.41-.59l7.78-7.78 2.81-2.81c.8-.78.8-2.07 0-2.86zM5.41 20L4 18.59l7.72-7.72 1.47 1.35L5.41 20z\"/>\n",
              "  </svg>\n",
              "      </button>\n",
              "      \n",
              "  <style>\n",
              "    .colab-df-container {\n",
              "      display:flex;\n",
              "      flex-wrap:wrap;\n",
              "      gap: 12px;\n",
              "    }\n",
              "\n",
              "    .colab-df-convert {\n",
              "      background-color: #E8F0FE;\n",
              "      border: none;\n",
              "      border-radius: 50%;\n",
              "      cursor: pointer;\n",
              "      display: none;\n",
              "      fill: #1967D2;\n",
              "      height: 32px;\n",
              "      padding: 0 0 0 0;\n",
              "      width: 32px;\n",
              "    }\n",
              "\n",
              "    .colab-df-convert:hover {\n",
              "      background-color: #E2EBFA;\n",
              "      box-shadow: 0px 1px 2px rgba(60, 64, 67, 0.3), 0px 1px 3px 1px rgba(60, 64, 67, 0.15);\n",
              "      fill: #174EA6;\n",
              "    }\n",
              "\n",
              "    [theme=dark] .colab-df-convert {\n",
              "      background-color: #3B4455;\n",
              "      fill: #D2E3FC;\n",
              "    }\n",
              "\n",
              "    [theme=dark] .colab-df-convert:hover {\n",
              "      background-color: #434B5C;\n",
              "      box-shadow: 0px 1px 3px 1px rgba(0, 0, 0, 0.15);\n",
              "      filter: drop-shadow(0px 1px 2px rgba(0, 0, 0, 0.3));\n",
              "      fill: #FFFFFF;\n",
              "    }\n",
              "  </style>\n",
              "\n",
              "      <script>\n",
              "        const buttonEl =\n",
              "          document.querySelector('#df-3b12ea76-7492-4d4f-ae3d-63b0569bee8c button.colab-df-convert');\n",
              "        buttonEl.style.display =\n",
              "          google.colab.kernel.accessAllowed ? 'block' : 'none';\n",
              "\n",
              "        async function convertToInteractive(key) {\n",
              "          const element = document.querySelector('#df-3b12ea76-7492-4d4f-ae3d-63b0569bee8c');\n",
              "          const dataTable =\n",
              "            await google.colab.kernel.invokeFunction('convertToInteractive',\n",
              "                                                     [key], {});\n",
              "          if (!dataTable) return;\n",
              "\n",
              "          const docLinkHtml = 'Like what you see? Visit the ' +\n",
              "            '<a target=\"_blank\" href=https://colab.research.google.com/notebooks/data_table.ipynb>data table notebook</a>'\n",
              "            + ' to learn more about interactive tables.';\n",
              "          element.innerHTML = '';\n",
              "          dataTable['output_type'] = 'display_data';\n",
              "          await google.colab.output.renderOutput(dataTable, element);\n",
              "          const docLink = document.createElement('div');\n",
              "          docLink.innerHTML = docLinkHtml;\n",
              "          element.appendChild(docLink);\n",
              "        }\n",
              "      </script>\n",
              "    </div>\n",
              "  </div>\n",
              "  "
            ]
          },
          "metadata": {},
          "execution_count": 110
        }
      ]
    },
    {
      "cell_type": "markdown",
      "source": [
        "### The  car Evaluation dataset has six features and four output classes.All six categorical features are encoded to numerical values"
      ],
      "metadata": {
        "id": "pUOf9Dz28VCw"
      }
    },
    {
      "cell_type": "markdown",
      "source": [
        "##3ab(3).Split dataset to test,train and validation sets\n",
        "\n",
        "   split 1728 samples into 1000 training,400 testing and 328 validation samples with shuffling"
      ],
      "metadata": {
        "id": "eQr5Uymg-bHE"
      }
    },
    {
      "cell_type": "code",
      "source": [
        "# we want training size=1000 and test and validation size =728 \n",
        "#  define train_size=0.578 (that is 57.9% of remaining data)\n",
        "train_size=0.579\n",
        "X = data.drop(columns = ['decision']).copy()\n",
        "y = data['decision']\n",
        "# split the data into training and remaining dataset,with shuffling\n",
        "X_train, X_rem, y_train, y_rem = train_test_split(X,y, train_size=0.579,random_state=4,shuffle=True,stratify=y)\n",
        "print(\"X_train shape: \",X_train.shape)\n",
        "print(\"y_train shape: \",y_train.shape)\n",
        "print(\"X_remaining shape: \",X_rem.shape)\n",
        "print(\"y_remaining shape: \",y_rem.shape)\n",
        "\n"
      ],
      "metadata": {
        "id": "p1tRCk0srMs7",
        "colab": {
          "base_uri": "https://localhost:8080/"
        },
        "outputId": "45077fc8-2730-43eb-f8a2-8bac45ba0194"
      },
      "execution_count": 111,
      "outputs": [
        {
          "output_type": "stream",
          "name": "stdout",
          "text": [
            "X_train shape:  (1000, 6)\n",
            "y_train shape:  (1000,)\n",
            "X_remaining shape:  (728, 6)\n",
            "y_remaining shape:  (728,)\n"
          ]
        }
      ]
    },
    {
      "cell_type": "code",
      "source": [
        "# we want the validation size=300 and test size =428 \n",
        "#  define test_size=0.587 (that is 58.7% of remaining data)\n",
        "test_size = 0.587\n",
        "#split the remaining data into validation and test dataset,with shuffling\n",
        "X_valid, X_test, y_valid, y_test = train_test_split(X_rem,y_rem, test_size=0.587,random_state=4,shuffle=True,stratify=y_rem)\n",
        "print(\"X_valid shape: \",X_valid.shape)\n",
        "print(\"X_test shape: \",X_test.shape)\n",
        "print(\"y_valid shape: \",y_valid.shape)\n",
        "print(\"y_test shape: \",y_test.shape)"
      ],
      "metadata": {
        "colab": {
          "base_uri": "https://localhost:8080/"
        },
        "id": "LdDLQnhyueRI",
        "outputId": "acad599c-cd3e-4e77-ab69-1ac0b8160f3d"
      },
      "execution_count": 112,
      "outputs": [
        {
          "output_type": "stream",
          "name": "stdout",
          "text": [
            "X_valid shape:  (300, 6)\n",
            "X_test shape:  (428, 6)\n",
            "y_valid shape:  (300,)\n",
            "y_test shape:  (428,)\n"
          ]
        }
      ]
    },
    {
      "cell_type": "markdown",
      "source": [
        "###The dataset is split into training,testing and validation sets"
      ],
      "metadata": {
        "id": "hdG0CBInDOry"
      }
    },
    {
      "cell_type": "markdown",
      "source": [
        "##3C(1).Build KNN classifier Model\n"
      ],
      "metadata": {
        "id": "-cFe39jYsr-6"
      }
    },
    {
      "cell_type": "code",
      "source": [
        "#Model for KNN classifier with uniform weights and with auto selected algorithmn\n",
        "clf = KNeighborsClassifier(n_neighbors=2)\n",
        "#fir classifier on training data\n",
        "clf.fit(X_train, y_train)\n"
      ],
      "metadata": {
        "id": "qEa-AvGCneoy",
        "colab": {
          "base_uri": "https://localhost:8080/"
        },
        "outputId": "24b01eb6-ace1-4e8c-c099-d6503764fcfb"
      },
      "execution_count": 113,
      "outputs": [
        {
          "output_type": "execute_result",
          "data": {
            "text/plain": [
              "KNeighborsClassifier(n_neighbors=2)"
            ]
          },
          "metadata": {},
          "execution_count": 113
        }
      ]
    },
    {
      "cell_type": "markdown",
      "source": [
        "##3C(2).Predict test data outputs and accuracy\n"
      ],
      "metadata": {
        "id": "gOl9aWW3s6yD"
      }
    },
    {
      "cell_type": "code",
      "source": [
        "#predict outputs for testing data\n",
        "pred1=clf.predict(X_test)\n",
        "#print prediction accuracy for testing data\n",
        "accuracy_test = accuracy_score(y_test, pred1)*100\n",
        "print(\" Prediction Accuracy:\",accuracy_test)"
      ],
      "metadata": {
        "colab": {
          "base_uri": "https://localhost:8080/"
        },
        "id": "mKg_wEYiFzC8",
        "outputId": "5f18e125-d3cc-45a5-b38e-85ba1998ccb5"
      },
      "execution_count": 114,
      "outputs": [
        {
          "output_type": "stream",
          "name": "stdout",
          "text": [
            " Prediction Accuracy: 75.70093457943925\n"
          ]
        }
      ]
    },
    {
      "cell_type": "markdown",
      "source": [
        "##3C(3).Predict validation data outputs and accuracy \n"
      ],
      "metadata": {
        "id": "GDNsNZiMtBLw"
      }
    },
    {
      "cell_type": "code",
      "source": [
        "#predict outputs for validation data\n",
        "pred2=clf.predict(X_valid)\n",
        "#print prediction accuracy for validation data\n",
        "accuracy_valid=accuracy_score(y_valid,pred2)*100\n",
        "print(\"Validation Prediction accuracy:\",accuracy_valid)"
      ],
      "metadata": {
        "id": "9KRtiwmip7Kl",
        "colab": {
          "base_uri": "https://localhost:8080/"
        },
        "outputId": "49de7a44-0a98-417f-d1f3-8d6d18f7412b"
      },
      "execution_count": 115,
      "outputs": [
        {
          "output_type": "stream",
          "name": "stdout",
          "text": [
            "Validation Prediction accuracy: 72.0\n"
          ]
        }
      ]
    },
    {
      "cell_type": "markdown",
      "source": [
        "##3C(4).Build 10 separate KNN classifiers and get accuracy score on test and validation sets"
      ],
      "metadata": {
        "id": "n0Q_uMEunLny"
      }
    },
    {
      "cell_type": "code",
      "source": [
        "#Ten different KNN classifiers for 10% increments of training data\n",
        "#arr to hold validation accuracies\n",
        "accuracy_valid=[]\n",
        "#arr to hold testing acuracies\n",
        "accuracy_test=[]\n",
        "trainingsize=0.10\n",
        "for i in range(10):\n",
        "  X_train_new, X_rem_new, y_train_new, y_rem_new = train_test_split(X_train,y_train, train_size=trainingsize)\n",
        "  # KNN classifier model\n",
        "  clf1 = KNeighborsClassifier(n_neighbors=2)\n",
        "  clf1.fit(X_train_new, y_train_new)\n",
        "  pred_valid=clf1.predict(X_valid)\n",
        "  pred_test=clf1.predict(X_test)\n",
        "  accuracy_valid.append(round((accuracy_score(y_valid,pred_valid)*100),2))\n",
        "  accuracy_test.append(round((accuracy_score(y_test,pred_test)*100),2))\n",
        "  #increase training size\n",
        "  trainingsize=trainingsize+0.10\n",
        " "
      ],
      "metadata": {
        "id": "Q9S_18L09Tmk"
      },
      "execution_count": 116,
      "outputs": []
    },
    {
      "cell_type": "code",
      "source": [
        "print(\"Test accuracies for 10 KNNs:\\n\")\n",
        "print(accuracy_test)\n"
      ],
      "metadata": {
        "colab": {
          "base_uri": "https://localhost:8080/"
        },
        "id": "Xd-jgw87A1nt",
        "outputId": "648c4f8a-495b-41f6-8725-2c094649b019"
      },
      "execution_count": 123,
      "outputs": [
        {
          "output_type": "stream",
          "name": "stdout",
          "text": [
            "Test accuracies for 10 KNNs:\n",
            "\n",
            "[58.41, 66.59, 72.43, 72.66, 72.66, 75.7, 74.07, 76.87, 75.93, 73.36]\n"
          ]
        }
      ]
    },
    {
      "cell_type": "code",
      "source": [
        "print(\"Validation accuracies for 10 KNNs:\\n\")\n",
        "print(accuracy_valid)"
      ],
      "metadata": {
        "colab": {
          "base_uri": "https://localhost:8080/"
        },
        "id": "-0YrPCBg9Tye",
        "outputId": "304bb0ff-baa6-4407-c689-b2abb8609d6a"
      },
      "execution_count": 118,
      "outputs": [
        {
          "output_type": "stream",
          "name": "stdout",
          "text": [
            "Validation accuracies for 10 KNNs:\n",
            "\n",
            "[58.0, 61.33, 73.0, 71.33, 69.67, 71.33, 71.0, 73.0, 70.67, 69.0]\n"
          ]
        }
      ]
    },
    {
      "cell_type": "markdown",
      "source": [
        "##3C(5).plot ten Training sets vs accuracy scores for test and validation sets"
      ],
      "metadata": {
        "id": "u7WzJjSisKls"
      }
    },
    {
      "cell_type": "code",
      "source": [
        "x = [10,20,30,40,50,60,70,80,90,100]\n",
        "plt.figure(figsize = (8,6))\n",
        "plt.plot(x, accuracy_test, label=\"Test\")\n",
        "plt.plot(x,accuracy_valid,label=\"Valid\")\n",
        "plt.legend(loc=\"upper left\")\n",
        "plt.xlabel('Percentage of Training set')\n",
        "plt.ylabel('Accuracy')\n",
        "plt.xticks([10,20,30,40,50,60,70,80,90,100])\n",
        "plt.title(\"Testing and Validation accuracies\")\n",
        "plt.show()"
      ],
      "metadata": {
        "colab": {
          "base_uri": "https://localhost:8080/",
          "height": 414
        },
        "id": "-dcWNmfL9T37",
        "outputId": "6b393ba1-d286-487e-c315-6e4df8617924"
      },
      "execution_count": 124,
      "outputs": [
        {
          "output_type": "display_data",
          "data": {
            "text/plain": [
              "<Figure size 576x432 with 1 Axes>"
            ],
            "image/png": "[encoded data removed]"
          },
          "metadata": {
            "needs_background": "light"
          }
        }
      ]
    },
    {
      "cell_type": "markdown",
      "source": [
        "## Comment:\n",
        "1. The accuracies increased upto 60% of training data.Thereafter slightly decreases and again increased at 80%training data.\n",
        "2. Testing accuracies in this plot are  higher than validation accuracies."
      ],
      "metadata": {
        "id": "IU2VW4Ust5LN"
      }
    },
    {
      "cell_type": "markdown",
      "source": [
        "##3d(1).\tBuild  KNN classifier with K varying from 1 to 10.\n",
        "\n"
      ],
      "metadata": {
        "id": "xeuRZNSB1OTs"
      }
    },
    {
      "cell_type": "code",
      "source": [
        "accuracymatrix=[]\n",
        "k=1\n",
        "for i in range(10):\n",
        "  clf2 = KNeighborsClassifier(n_neighbors=k)\n",
        "  clf2.fit(X_train, y_train)\n",
        "  pred_valid=clf2.predict(X_valid)\n",
        "  accuracymatrix.append(round((accuracy_score(y_valid,pred_valid)*100),2))\n",
        "  k=k+1\n"
      ],
      "metadata": {
        "id": "HqMIM-hb9T9t"
      },
      "execution_count": 120,
      "outputs": []
    },
    {
      "cell_type": "markdown",
      "source": [
        "##3d(2).\tGet Validation accuracies\n"
      ],
      "metadata": {
        "id": "tJUPUN8b1bzT"
      }
    },
    {
      "cell_type": "code",
      "source": [
        "print(\"Validation Accuracies for 1 to 10 Ks:\\n\")\n",
        "print(accuracymatrix)"
      ],
      "metadata": {
        "colab": {
          "base_uri": "https://localhost:8080/"
        },
        "id": "zLGYz9jAdqmh",
        "outputId": "3aa36024-53ad-415a-f928-07702f60b061"
      },
      "execution_count": 125,
      "outputs": [
        {
          "output_type": "stream",
          "name": "stdout",
          "text": [
            "Validation Accuracies for 1 to 10 Ks:\n",
            "\n",
            "[78.0, 72.0, 86.33, 85.0, 88.33, 87.67, 87.0, 85.33, 84.0, 84.0]\n"
          ]
        }
      ]
    },
    {
      "cell_type": "markdown",
      "source": [
        "##3d(3).\tPlot K vs validation accuracies\n"
      ],
      "metadata": {
        "id": "qtEXhXLB1fwV"
      }
    },
    {
      "cell_type": "code",
      "source": [
        "kvalues=[1,2,3,4,5,6,7,8,9,10]\n",
        "plt.figure(figsize = (8,6))\n",
        "plt.plot(kvalues, accuracymatrix, label=\"validation accuracy\")\n",
        "plt.xlabel('K(Nearest Neighbours)')\n",
        "plt.ylabel('Accuracy')\n",
        "plt.xticks([1,2,3,4,5,6,7,8,9,10])\n",
        "plt.title(\"K vs Validation Accuracies\")\n",
        "\n",
        "plt.legend(loc=\"upper left\")\n",
        "plt.show()\n"
      ],
      "metadata": {
        "colab": {
          "base_uri": "https://localhost:8080/",
          "height": 414
        },
        "id": "9PYmt30e9UC_",
        "outputId": "57f44edb-86f1-4892-f6e1-b15aeffde319"
      },
      "execution_count": 127,
      "outputs": [
        {
          "output_type": "display_data",
          "data": {
            "text/plain": [
              "<Figure size 576x432 with 1 Axes>"
            ],
            "image/png": "[encoded data removed]"
          },
          "metadata": {
            "needs_background": "light"
          }
        }
      ]
    },
    {
      "cell_type": "markdown",
      "source": [
        "##Comment:\n",
        " 1. From the above plot the best nearest neighbours for classification is K=5 which give highest accuracy=88.33\n",
        " 2.\tK=5 can be used for KNN classification of car Evaluation dataset"
      ],
      "metadata": {
        "id": "5G3t6wbImFXQ"
      }
    }
  ]
}