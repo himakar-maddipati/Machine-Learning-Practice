{
  "nbformat": 4,
  "nbformat_minor": 0,
  "metadata": {
    "colab": {
      "provenance": []
    },
    "kernelspec": {
      "name": "python3",
      "display_name": "Python 3"
    },
    "language_info": {
      "name": "python"
    }
  },
  "cells": [
    {
      "cell_type": "markdown",
      "source": [
        "Q.Multilayer perceprton is parametric or non parametric Estimator?"
      ],
      "metadata": {
        "id": "rMMrmf8-YfAE"
      }
    },
    {
      "cell_type": "markdown",
      "source": [
        "Q.Mention two types of ML applications of Multilayer Perceptron"
      ],
      "metadata": {
        "id": "M9SuKDBVYrHl"
      }
    },
    {
      "cell_type": "markdown",
      "source": [
        "## 1.1 Introduction"
      ],
      "metadata": {
        "id": "cyehdq50ZcNx"
      }
    },
    {
      "cell_type": "markdown",
      "source": [
        "Q.Artificial neural networks help us build better_______________"
      ],
      "metadata": {
        "id": "E-0NxD_RY1aS"
      }
    },
    {
      "cell_type": "markdown",
      "source": [
        "Q.In the fields of Vision,speech recognition and learning which performs better brain or Engineering products?"
      ],
      "metadata": {
        "id": "udTxyjwpZkMo"
      }
    },
    {
      "cell_type": "markdown",
      "source": [
        "Q.How many number of processing Units are there in Brain and what are they called?"
      ],
      "metadata": {
        "id": "kAezzT1maBc2"
      }
    },
    {
      "cell_type": "markdown",
      "source": [
        "Q.What is speed of brain processing  units when compared with computers?"
      ],
      "metadata": {
        "id": "rIP3DE5XaRTt"
      }
    },
    {
      "cell_type": "markdown",
      "source": [
        "Q.What are brain processing units  connections called?"
      ],
      "metadata": {
        "id": "hMfUKQl0axgW"
      }
    },
    {
      "cell_type": "markdown",
      "source": [
        " Q.How many connections are there for brain processing units? "
      ],
      "metadata": {
        "id": "ey3_gEAebaHd"
      }
    },
    {
      "cell_type": "markdown",
      "source": [
        "Q.How do the connections of  brain processing units operate(serial or parallel)?"
      ],
      "metadata": {
        "id": "ZblarCNIbabT"
      }
    },
    {
      "cell_type": "markdown",
      "source": [
        "Q.In brain how are the processor and memory distributed?"
      ],
      "metadata": {
        "id": "xbMvycyfbiPs"
      }
    },
    {
      "cell_type": "markdown",
      "source": [
        "Q.In brain what  part is processor and memory ?"
      ],
      "metadata": {
        "id": "ykwx7U_2b1nR"
      }
    },
    {
      "cell_type": "markdown",
      "source": [
        "## 1.1.1 Understanding the Brain"
      ],
      "metadata": {
        "id": "u9U3dy8Wb_eA"
      }
    },
    {
      "cell_type": "markdown",
      "source": [
        "***Information processing levels of analysis Example:***\n",
        "\n",
        "1. ***Computational Theory:***  Sort given elements\n",
        "\n",
        "2. ***Representation and Algorithm:*** representation is Integers,Algo is Quicksort\n",
        "\n",
        "3. ***Hardware Implementation:***Computer Processor internal implementation is Binary\n",
        "\n",
        "For same computational Theory different types of Representation are :binary,roman,integers (example:6,VI,110),abacus,Brain\n",
        "\n",
        "For same computational Theory Many different of Algorithms are :quicksort,mergesort \n",
        "\n",
        "For same computational Theory different types of Hardware Implementation are :Intel8085,Intel i3,i7,abacus beads,brain neurons \n",
        "\n",
        "\n"
      ],
      "metadata": {
        "id": "o4hZ6OhAcJKr"
      }
    },
    {
      "cell_type": "markdown",
      "source": [
        "### Q.Write three levels of analysis for flying by sparrow and airplanes?"
      ],
      "metadata": {
        "id": "bHaCo0eUhHVV"
      }
    },
    {
      "cell_type": "markdown",
      "source": [
        "Hardware implementation of Brain and Computers are Different\n",
        "\n",
        "***our Goal:***\n",
        "\n",
        "1. Reverse Engineer Brain data Representation and Algorithm\n",
        "\n",
        "2. Use Brain data Representation and Algorithm on present computers or\n",
        "\n",
        "3. Develop new hardware to use Brain data Representation and Algorithm"
      ],
      "metadata": {
        "id": "VhInR5h_hQos"
      }
    },
    {
      "cell_type": "markdown",
      "source": [
        "Q.Compare intial and present hardware implementation of flying between sparrow and airplanes?"
      ],
      "metadata": {
        "id": "Hip2m5chjvLq"
      }
    },
    {
      "cell_type": "markdown",
      "source": [
        "Q. Just like flying compare initial hardware implementation of Intelligence between brain and Computers?"
      ],
      "metadata": {
        "id": "IIfgn778kALx"
      }
    },
    {
      "cell_type": "markdown",
      "source": [
        "## 1.1.2 Neural Networks as a Paradigm for Parallel Processing"
      ],
      "metadata": {
        "id": "WgTvEvwOkZCc"
      }
    },
    {
      "cell_type": "markdown",
      "source": [
        "## Types of processing\n",
        "\n",
        "1. ***SIMD(Single Instruction Multiple Data):***\n",
        "\n",
        "   processor executes Single program(Instruction)\n",
        "\n",
        "   Multiple data can be processed\n",
        "\n",
        "   Easy to program\n",
        "\n",
        "   Easy to build hardware\n",
        "\n",
        "   cannot solve real world problems\n",
        "\n",
        "2. ***MIMD(Multiple Instruction Multiple Data):***\n",
        "\n",
        "   Different processors executes Different programs(Instruction)\n",
        "\n",
        "   Multiple data can be processed\n",
        "\n",
        "   Difficult to program\n",
        "\n",
        "   Difficult to build hardware\n",
        "\n",
        "   can solve real world problems\n",
        "\n"
      ],
      "metadata": {
        "id": "6R7fsFcakd5c"
      }
    },
    {
      "cell_type": "markdown",
      "source": [
        "## To overcome problems in SIMD and MIMD \n",
        "\n",
        "3. NIMD(Neural Instruction Multiple Data):\n",
        "\n",
        "   ***Many processors*** with local memory to store local parameters\n",
        "\n",
        "   Each processor executes ***same function with different parameters***\n",
        "\n",
        "   Network of many processors\n",
        "\n",
        "   no need of programming as ***Each processor learns local parameters from data***\n",
        "\n",
        "\n",
        "   ***NIMD similarity to brain***\n",
        "\n",
        "   1. processor=***neuron***\n",
        "\n",
        "   2. local parameters=***synaptic weights***\n",
        "\n",
        "   3. Stucture =***neural network of neurons and synaptic weights***\n",
        "\n",
        "\n",
        "***Hence NIMD is called Artificial Neural Network***\n",
        "\n"
      ],
      "metadata": {
        "id": "3IamdkmctmCB"
      }
    },
    {
      "cell_type": "markdown",
      "source": [
        "## How to implement NIMD\n",
        "\n",
        "1. Implement Mathematical Function with weights on SIMD computer or MIMD\n",
        "\n",
        "2. Train the Network using statistical techniques"
      ],
      "metadata": {
        "id": "v3P1iKCcwnel"
      }
    },
    {
      "cell_type": "markdown",
      "source": [
        "# 1.2 The Perceptron"
      ],
      "metadata": {
        "id": "f4wuXrEMlkhW"
      }
    },
    {
      "cell_type": "markdown",
      "source": [
        " Q.Where from perceptron inputs come from?\n",
        " \n",
        "\n",
        " From environment or from output of other perceptrons\n"
      ],
      "metadata": {
        "id": "a2kv3WdTlsaN"
      }
    },
    {
      "cell_type": "markdown",
      "source": [
        "Q.what is mathematical formula for output of perceptron?\n",
        "\n",
        "$y=\\Sigma^d_{j=1}w_jx_j  + w_0$\n"
      ],
      "metadata": {
        "id": "H-uCO9PlxvAI"
      }
    },
    {
      "cell_type": "markdown",
      "source": [
        "\n",
        "Q. What is connection weight or synaptic weight in perceptron output formula?\n",
        "\n",
        "$w_j$\n",
        "\n",
        "Inputs are $\\ x_j\\$ \n",
        "\n",
        "where $ \\ j=1...d$\n",
        "\n"
      ],
      "metadata": {
        "id": "yd2VG5MYwK4J"
      }
    },
    {
      "cell_type": "markdown",
      "source": [
        "\n",
        "Q.What is bias unit for perceptron?\n",
        "\n",
        "$w_0$\n",
        "\n",
        "weight coming from an extra bias unit $ \\ x_0$, which is always +1\n",
        "\n",
        "\n"
      ],
      "metadata": {
        "id": "Pvfc6LAFwQut"
      }
    },
    {
      "cell_type": "markdown",
      "source": [
        "\n",
        "Q.Write perceptron as dot product?\n",
        "\n",
        "$ y = w^T x$\n"
      ],
      "metadata": {
        "id": "1wOncSK9wVTk"
      }
    },
    {
      "cell_type": "markdown",
      "source": [
        "Q.write augmented vectors in perceptron dot product?\n",
        "\n",
        "$ w = [w_0,w_1, . . . , w_d]^T$ and $x = [1, x_1, . . . , x_d]^T $are augmented vectors\n",
        "\n",
        "\n"
      ],
      "metadata": {
        "id": "yH8DkCxHwuhN"
      }
    },
    {
      "cell_type": "markdown",
      "source": [
        "Q.In machine learning what do we  learn in the perceptron formula?\n",
        "\n",
        "***weights***"
      ],
      "metadata": {
        "id": "agQPpws-y297"
      }
    },
    {
      "cell_type": "markdown",
      "source": [
        "Q.when perceptron output formula becomes line?\n",
        "\n",
        "when d=1 i.e one input only\n",
        "\n",
        "\n",
        "$y = wx + w_0$\n",
        "\n"
      ],
      "metadata": {
        "id": "9bopGwlpwxgd"
      }
    },
    {
      "cell_type": "markdown",
      "source": [
        "Q.When perceptron formula becomes plane?\n",
        "\n",
        "With more than one input, the line becomes a\n",
        "(hyper)plane, and the perceptron with more than one input can be used\n",
        "to implement multivariate linear fit.\n",
        "\n"
      ],
      "metadata": {
        "id": "jD61QDmVw07B"
      }
    },
    {
      "cell_type": "markdown",
      "source": [
        "Q.In perceptron formula weights are estimated by ________________\n",
        "\n",
        "***Regression***"
      ],
      "metadata": {
        "id": "I3-nZ2_azsXN"
      }
    },
    {
      "cell_type": "markdown",
      "source": [
        "Q.How to use perceptron  plane to separate two classes?\n",
        "\n",
        "Equation of plane is $ \\ w^Tx=0$\n",
        "\n",
        "on oneside of plane $ \\ w^Tx>0 \\$ \n",
        "\n",
        "and on otherside $ \\ w^Tx<0 \\$\n",
        "\n",
        "using these equations we can separate two classes"
      ],
      "metadata": {
        "id": "mhc1XVPH0TX7"
      }
    },
    {
      "cell_type": "markdown",
      "source": [
        "Q.what is threshold function for perceptron?.what is formula for class selection?\n",
        "\n",
        "$s(a) = 1 ifa > 0$\n",
        "\n",
        "$s(a) = 0 $otherwise\n",
        "\n",
        "\n",
        "then we can choose classes:\n",
        "\n",
        "C1 if $s(w^T x) > 0$\n",
        "\n",
        "C2 otherwise\n",
        "\n",
        "\n"
      ],
      "metadata": {
        "id": "1OBCU-8Lw4Kd"
      }
    },
    {
      "cell_type": "markdown",
      "source": [
        "Q Write sigmoid function for perceptron?\n",
        "\n",
        "when posterior probabilities are calculated we use sigmoid function\n",
        "\n",
        "output\n",
        "\n",
        "o=$w^Tx$\n",
        "\n",
        "y=sigmoid(O)=$\\frac{1}{1+exp[-w^Tx]}$\n",
        "\n"
      ],
      "metadata": {
        "id": "fIkX-fEYw6LU"
      }
    },
    {
      "cell_type": "markdown",
      "source": [
        "Q.Explain K perceptrons?\n",
        "\n",
        "Inputs:\n",
        "\n",
        "$x_i$ where i=1..d\n",
        "\n",
        "$x_0$ is bias=+1\n",
        "\n",
        "outputs:\n",
        "$y_i$ where i=1..K\n",
        "\n",
        "for each output $y_i$ all inputs are connected with different weights\n",
        "\n"
      ],
      "metadata": {
        "id": "IFDhPR8Yh3_V"
      }
    },
    {
      "cell_type": "markdown",
      "source": [
        "Q.write formula for K(multiple) perceptrons?\n",
        "\n",
        "$y_i =\\Sigma^d_{j=1}w_{ij}x_j + w_{i0} = w^T_ix$\n",
        "\n",
        "where $w_{ij}$ is the weight from input $x_j$ to output $y_i$\n",
        "\n",
        "we can write above equation as:\n",
        "\n",
        "$y=Wx$\n",
        "\n",
        "W is the K × (d + 1)\n",
        "weight matrix of $w_{ij}$ whose rows are the weight vectors of the K perceptrons.\n",
        "\n",
        "\n",
        "\n"
      ],
      "metadata": {
        "id": "Gb4wenJzw8HH"
      }
    },
    {
      "cell_type": "markdown",
      "source": [
        "Q write formula  for classification using K perceptrons?\n",
        "\n",
        "choose class $C_i$\n",
        "\n",
        " if $y_i = max_k y_k$\n",
        "\n",
        " select maximum output\n",
        "\n"
      ],
      "metadata": {
        "id": "JjwARIIxw-Ai"
      }
    },
    {
      "cell_type": "markdown",
      "source": [
        "Q In classification when will we  use Softmax function?\n",
        "\n",
        "In multiclass classification using posterior probabilities we use softmax instead of sigmoid\n",
        "\n",
        "sigmoid is used for two class classification"
      ],
      "metadata": {
        "id": "Wpp9NsPj2ArP"
      }
    },
    {
      "cell_type": "markdown",
      "source": [
        "Q.what is perceptron formula using softmax function?\n",
        "\n",
        "First estimate weights for the following \n",
        "\n",
        "$o_i = w^T_ix$\n",
        "\n",
        "then calculate softmax values\n",
        "\n",
        "$y_i = \\frac{exp o_i}{\\Sigma_k exp o_k}$\n"
      ],
      "metadata": {
        "id": "TNnVxGlYw_2i"
      }
    },
    {
      "cell_type": "markdown",
      "source": [
        "Q.how to use perceptron for polynomial approximation?\n",
        "\n",
        "by relacing polynomial terms with linear terms we can use perceptron for ploynomial approximation as shown below:\n",
        "\n",
        "$x_3 = x^2_1\n",
        ", x_4 =\n",
        "x^2_2\n",
        ", x_5 = x1x2$\n",
        "\n"
      ],
      "metadata": {
        "id": "ClEzzdz0xBsj"
      }
    },
    {
      "cell_type": "markdown",
      "source": [
        "Q.what is difference between online and offline learning?\n",
        "\n"
      ],
      "metadata": {
        "id": "EPFQex6nxDjL"
      }
    },
    {
      "cell_type": "markdown",
      "source": [
        "Q write different applications of perceptrons?\n",
        "\n"
      ],
      "metadata": {
        "id": "Qw7ZZly5xFgg"
      }
    },
    {
      "cell_type": "markdown",
      "source": [
        "Q how to use pereptrons for PCA?\n"
      ],
      "metadata": {
        "id": "14hSV4ehxHOU"
      }
    }
  ]
}