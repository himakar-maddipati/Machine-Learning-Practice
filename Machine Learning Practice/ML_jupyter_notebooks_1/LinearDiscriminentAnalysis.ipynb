{
  "nbformat": 4,
  "nbformat_minor": 0,
  "metadata": {
    "colab": {
      "provenance": []
    },
    "kernelspec": {
      "name": "python3",
      "display_name": "Python 3"
    },
    "language_info": {
      "name": "python"
    }
  },
  "cells": [
    {
      "cell_type": "markdown",
      "source": [
        "\n",
        "# FISHER LINEAR DISCRIMINENT\n",
        "\n",
        "$J(w) = \\frac{(m1 −m2)^2}{s^2_1+s^2_1}$\n"
      ],
      "metadata": {
        "id": "NKfMeoejhelc"
      }
    },
    {
      "cell_type": "markdown",
      "source": [
        "LINEAR DISCRIMINENT ANALYSIS\n",
        "\n",
        "I.Datapreprocessing\n",
        "\n",
        "II.Find Variance between Classes(SB)\n",
        "\n",
        "    II(a). Find overall mean and Three classwise means\n",
        "    II(b). Normalise Three classes means with respect to overall mean\n",
        "    II(c). Find covariance OF   Three classes(SB=VARIANCE BETWEEN CLASS and Total)\n",
        "    II(d). SB=COVARIANCE BETWEEN CLASSES\n",
        "\n",
        "\n",
        "\n",
        "III.Find variance Within Classes(SW)\n",
        "\n",
        "    III(a)Normalise Three classes with self mean\n",
        "    III(b)Self covariance of Three classes\n",
        "    III(C) SW=COVARIANCE WITHIN THREE CLASSES\n",
        "\n",
        "IV.Find Fisher Linear Discriminent(SB/SW)\n",
        "\n",
        "V.Eigen decomposition of Fisher Linear Discriminent\n",
        "\n",
        "VI.Select Largest Eigen vectors\n",
        "\n",
        "    VI(a).Sort Eigen values and Eigen vectors\n",
        "    VI(b).Select biggest two columns of Eigen vectors\n",
        "\n",
        "VII.Calculate Input projection on selected Eigen Vectors\n",
        "\n",
        "VIII.Plot the Projections "
      ],
      "metadata": {
        "id": "sCNfWHQDXOF0"
      }
    },
    {
      "cell_type": "markdown",
      "source": [
        "# I.Datapreprocessing\n"
      ],
      "metadata": {
        "id": "jEShY_ZBY3gR"
      }
    },
    {
      "cell_type": "code",
      "execution_count": null,
      "metadata": {
        "id": "n1jj5EJeL3EV"
      },
      "outputs": [],
      "source": [
        "import matplotlib.pyplot as plt\n",
        "from sklearn import datasets\n",
        "import numpy as np\n",
        "import pandas as pd\n",
        "\n",
        "data = datasets.load_iris()\n",
        "X, y = data.data, data.target\n",
        "\n"
      ]
    },
    {
      "cell_type": "code",
      "source": [
        "print(\"data type\",type(data))\n",
        "print(\"data type\",type(data.data))\n",
        "print(\"data type\",type(data.target))\n"
      ],
      "metadata": {
        "colab": {
          "base_uri": "https://localhost:8080/"
        },
        "id": "BDYHEBHx13aX",
        "outputId": "dd80ae21-b76e-4241-8232-12bbcb040d19"
      },
      "execution_count": null,
      "outputs": [
        {
          "output_type": "stream",
          "name": "stdout",
          "text": [
            "data type <class 'sklearn.utils.Bunch'>\n",
            "data type <class 'numpy.ndarray'>\n",
            "data type <class 'numpy.ndarray'>\n"
          ]
        }
      ]
    },
    {
      "cell_type": "code",
      "source": [
        "print(\"feature Names\",list(data.feature_names))\n"
      ],
      "metadata": {
        "colab": {
          "base_uri": "https://localhost:8080/"
        },
        "id": "ahgd0uk_SrhD",
        "outputId": "0eb18679-909c-4fe7-efeb-135ef43c3d79"
      },
      "execution_count": null,
      "outputs": [
        {
          "output_type": "stream",
          "name": "stdout",
          "text": [
            "feature Names ['sepal length (cm)', 'sepal width (cm)', 'petal length (cm)', 'petal width (cm)']\n"
          ]
        }
      ]
    },
    {
      "cell_type": "code",
      "source": [
        "print(\"\\n Target names \\n\",list(data.target_names))\n"
      ],
      "metadata": {
        "colab": {
          "base_uri": "https://localhost:8080/"
        },
        "id": "2uLyzuMdTT1-",
        "outputId": "df54d7f5-2367-4982-a482-f196af025452"
      },
      "execution_count": null,
      "outputs": [
        {
          "output_type": "stream",
          "name": "stdout",
          "text": [
            "\n",
            " Target names \n",
            " ['setosa', 'versicolor', 'virginica']\n"
          ]
        }
      ]
    },
    {
      "cell_type": "markdown",
      "source": [
        "### Three classes are SETOSA VERSICOLOR and VIRGINICA\n",
        "\n"
      ],
      "metadata": {
        "id": "_P3C-ZH30_LC"
      }
    },
    {
      "cell_type": "code",
      "source": [
        "df = pd.DataFrame(data.data, columns = data.feature_names)\n",
        "df['target'] = data.target\n"
      ],
      "metadata": {
        "id": "34Y-xNIG2jQf"
      },
      "execution_count": null,
      "outputs": []
    },
    {
      "cell_type": "code",
      "source": [
        "df.head()"
      ],
      "metadata": {
        "colab": {
          "base_uri": "https://localhost:8080/",
          "height": 206
        },
        "id": "VG1LAjG63gia",
        "outputId": "e9741873-5ece-4902-af7e-fe0113bbfefa"
      },
      "execution_count": null,
      "outputs": [
        {
          "output_type": "execute_result",
          "data": {
            "text/plain": [
              "   sepal length (cm)  sepal width (cm)  petal length (cm)  petal width (cm)  \\\n",
              "0                5.1               3.5                1.4               0.2   \n",
              "1                4.9               3.0                1.4               0.2   \n",
              "2                4.7               3.2                1.3               0.2   \n",
              "3                4.6               3.1                1.5               0.2   \n",
              "4                5.0               3.6                1.4               0.2   \n",
              "\n",
              "   target  \n",
              "0       0  \n",
              "1       0  \n",
              "2       0  \n",
              "3       0  \n",
              "4       0  "
            ],
            "text/html": [
              "\n",
              "  <div id=\"df-1704b17f-9fd8-4f70-96be-cbed96ce779c\">\n",
              "    <div class=\"colab-df-container\">\n",
              "      <div>\n",
              "<style scoped>\n",
              "    .dataframe tbody tr th:only-of-type {\n",
              "        vertical-align: middle;\n",
              "    }\n",
              "\n",
              "    .dataframe tbody tr th {\n",
              "        vertical-align: top;\n",
              "    }\n",
              "\n",
              "    .dataframe thead th {\n",
              "        text-align: right;\n",
              "    }\n",
              "</style>\n",
              "<table border=\"1\" class=\"dataframe\">\n",
              "  <thead>\n",
              "    <tr style=\"text-align: right;\">\n",
              "      <th></th>\n",
              "      <th>sepal length (cm)</th>\n",
              "      <th>sepal width (cm)</th>\n",
              "      <th>petal length (cm)</th>\n",
              "      <th>petal width (cm)</th>\n",
              "      <th>target</th>\n",
              "    </tr>\n",
              "  </thead>\n",
              "  <tbody>\n",
              "    <tr>\n",
              "      <th>0</th>\n",
              "      <td>5.1</td>\n",
              "      <td>3.5</td>\n",
              "      <td>1.4</td>\n",
              "      <td>0.2</td>\n",
              "      <td>0</td>\n",
              "    </tr>\n",
              "    <tr>\n",
              "      <th>1</th>\n",
              "      <td>4.9</td>\n",
              "      <td>3.0</td>\n",
              "      <td>1.4</td>\n",
              "      <td>0.2</td>\n",
              "      <td>0</td>\n",
              "    </tr>\n",
              "    <tr>\n",
              "      <th>2</th>\n",
              "      <td>4.7</td>\n",
              "      <td>3.2</td>\n",
              "      <td>1.3</td>\n",
              "      <td>0.2</td>\n",
              "      <td>0</td>\n",
              "    </tr>\n",
              "    <tr>\n",
              "      <th>3</th>\n",
              "      <td>4.6</td>\n",
              "      <td>3.1</td>\n",
              "      <td>1.5</td>\n",
              "      <td>0.2</td>\n",
              "      <td>0</td>\n",
              "    </tr>\n",
              "    <tr>\n",
              "      <th>4</th>\n",
              "      <td>5.0</td>\n",
              "      <td>3.6</td>\n",
              "      <td>1.4</td>\n",
              "      <td>0.2</td>\n",
              "      <td>0</td>\n",
              "    </tr>\n",
              "  </tbody>\n",
              "</table>\n",
              "</div>\n",
              "      <button class=\"colab-df-convert\" onclick=\"convertToInteractive('df-1704b17f-9fd8-4f70-96be-cbed96ce779c')\"\n",
              "              title=\"Convert this dataframe to an interactive table.\"\n",
              "              style=\"display:none;\">\n",
              "        \n",
              "  <svg xmlns=\"http://www.w3.org/2000/svg\" height=\"24px\"viewBox=\"0 0 24 24\"\n",
              "       width=\"24px\">\n",
              "    <path d=\"M0 0h24v24H0V0z\" fill=\"none\"/>\n",
              "    <path d=\"M18.56 5.44l.94 2.06.94-2.06 2.06-.94-2.06-.94-.94-2.06-.94 2.06-2.06.94zm-11 1L8.5 8.5l.94-2.06 2.06-.94-2.06-.94L8.5 2.5l-.94 2.06-2.06.94zm10 10l.94 2.06.94-2.06 2.06-.94-2.06-.94-.94-2.06-.94 2.06-2.06.94z\"/><path d=\"M17.41 7.96l-1.37-1.37c-.4-.4-.92-.59-1.43-.59-.52 0-1.04.2-1.43.59L10.3 9.45l-7.72 7.72c-.78.78-.78 2.05 0 2.83L4 21.41c.39.39.9.59 1.41.59.51 0 1.02-.2 1.41-.59l7.78-7.78 2.81-2.81c.8-.78.8-2.07 0-2.86zM5.41 20L4 18.59l7.72-7.72 1.47 1.35L5.41 20z\"/>\n",
              "  </svg>\n",
              "      </button>\n",
              "      \n",
              "  <style>\n",
              "    .colab-df-container {\n",
              "      display:flex;\n",
              "      flex-wrap:wrap;\n",
              "      gap: 12px;\n",
              "    }\n",
              "\n",
              "    .colab-df-convert {\n",
              "      background-color: #E8F0FE;\n",
              "      border: none;\n",
              "      border-radius: 50%;\n",
              "      cursor: pointer;\n",
              "      display: none;\n",
              "      fill: #1967D2;\n",
              "      height: 32px;\n",
              "      padding: 0 0 0 0;\n",
              "      width: 32px;\n",
              "    }\n",
              "\n",
              "    .colab-df-convert:hover {\n",
              "      background-color: #E2EBFA;\n",
              "      box-shadow: 0px 1px 2px rgba(60, 64, 67, 0.3), 0px 1px 3px 1px rgba(60, 64, 67, 0.15);\n",
              "      fill: #174EA6;\n",
              "    }\n",
              "\n",
              "    [theme=dark] .colab-df-convert {\n",
              "      background-color: #3B4455;\n",
              "      fill: #D2E3FC;\n",
              "    }\n",
              "\n",
              "    [theme=dark] .colab-df-convert:hover {\n",
              "      background-color: #434B5C;\n",
              "      box-shadow: 0px 1px 3px 1px rgba(0, 0, 0, 0.15);\n",
              "      filter: drop-shadow(0px 1px 2px rgba(0, 0, 0, 0.3));\n",
              "      fill: #FFFFFF;\n",
              "    }\n",
              "  </style>\n",
              "\n",
              "      <script>\n",
              "        const buttonEl =\n",
              "          document.querySelector('#df-1704b17f-9fd8-4f70-96be-cbed96ce779c button.colab-df-convert');\n",
              "        buttonEl.style.display =\n",
              "          google.colab.kernel.accessAllowed ? 'block' : 'none';\n",
              "\n",
              "        async function convertToInteractive(key) {\n",
              "          const element = document.querySelector('#df-1704b17f-9fd8-4f70-96be-cbed96ce779c');\n",
              "          const dataTable =\n",
              "            await google.colab.kernel.invokeFunction('convertToInteractive',\n",
              "                                                     [key], {});\n",
              "          if (!dataTable) return;\n",
              "\n",
              "          const docLinkHtml = 'Like what you see? Visit the ' +\n",
              "            '<a target=\"_blank\" href=https://colab.research.google.com/notebooks/data_table.ipynb>data table notebook</a>'\n",
              "            + ' to learn more about interactive tables.';\n",
              "          element.innerHTML = '';\n",
              "          dataTable['output_type'] = 'display_data';\n",
              "          await google.colab.output.renderOutput(dataTable, element);\n",
              "          const docLink = document.createElement('div');\n",
              "          docLink.innerHTML = docLinkHtml;\n",
              "          element.appendChild(docLink);\n",
              "        }\n",
              "      </script>\n",
              "    </div>\n",
              "  </div>\n",
              "  "
            ]
          },
          "metadata": {},
          "execution_count": 176
        }
      ]
    },
    {
      "cell_type": "markdown",
      "source": [
        " ### Three classes  targets represented as:\n",
        "\n",
        " target setosa=0\n",
        "\n",
        " target versicolor=1\n",
        "\n",
        " target virginica=2"
      ],
      "metadata": {
        "id": "oPPEDSqY5rKN"
      }
    },
    {
      "cell_type": "markdown",
      "source": [
        "### Get Three classes data"
      ],
      "metadata": {
        "id": "6WEIioRGSo4D"
      }
    },
    {
      "cell_type": "code",
      "source": [
        "df_setosa=df[df.target==0]\n",
        "df_versi=df[df.target==1]\n",
        "df_virg=df[df.target==2]"
      ],
      "metadata": {
        "id": "YKpKj9ZC1hD8"
      },
      "execution_count": null,
      "outputs": []
    },
    {
      "cell_type": "markdown",
      "source": [
        "### Drop target from All classes"
      ],
      "metadata": {
        "id": "5ykIavvUSIVd"
      }
    },
    {
      "cell_type": "code",
      "source": [
        "df.drop('target', axis=1, inplace=True)\n",
        "df_setosa.drop('target', axis=1, inplace=True)\n",
        "df_versi.drop('target', axis=1, inplace=True)\n",
        "df_virg.drop('target', axis=1, inplace=True)\n"
      ],
      "metadata": {
        "colab": {
          "base_uri": "https://localhost:8080/"
        },
        "id": "QNbOlm3hDYUE",
        "outputId": "e09379c5-6c0e-46a9-f51d-32a32b533588"
      },
      "execution_count": null,
      "outputs": [
        {
          "output_type": "stream",
          "name": "stderr",
          "text": [
            "/usr/local/lib/python3.7/dist-packages/pandas/core/frame.py:4913: SettingWithCopyWarning: \n",
            "A value is trying to be set on a copy of a slice from a DataFrame\n",
            "\n",
            "See the caveats in the documentation: https://pandas.pydata.org/pandas-docs/stable/user_guide/indexing.html#returning-a-view-versus-a-copy\n",
            "  errors=errors,\n"
          ]
        }
      ]
    },
    {
      "cell_type": "markdown",
      "source": [
        "#II.Find Variance between Classes(SB)\n",
        "\n"
      ],
      "metadata": {
        "id": "6-4u0XlyZAJB"
      }
    },
    {
      "cell_type": "markdown",
      "source": [
        "### II(a). Find overall mean and Three classwise means"
      ],
      "metadata": {
        "id": "Yd161bhGS64J"
      }
    },
    {
      "cell_type": "code",
      "source": [
        "mean_all=df.mean(axis=0)\n",
        "mean_setosa=df_setosa.mean(axis=0)\n",
        "mean_versi=df_versi.mean(axis=0)\n",
        "mean_virg=df_virg.mean(axis=0)"
      ],
      "metadata": {
        "id": "3bmslFPRDnqE"
      },
      "execution_count": null,
      "outputs": []
    },
    {
      "cell_type": "code",
      "source": [
        "print(\"\\n Mean All \\n\",mean_all.to_numpy())\n",
        "print(\"\\n Mean setosa \\n\",mean_setosa.to_numpy())\n",
        "print(\"\\n Mean versi \\n\",mean_versi.to_numpy())\n",
        "print(\"\\n Mean virg \\n\",mean_virg.to_numpy())"
      ],
      "metadata": {
        "colab": {
          "base_uri": "https://localhost:8080/"
        },
        "id": "zEj3pcGqE7Q1",
        "outputId": "6b61726d-add2-459c-fc80-8a15d82ed79e"
      },
      "execution_count": null,
      "outputs": [
        {
          "output_type": "stream",
          "name": "stdout",
          "text": [
            "\n",
            " Mean All \n",
            " [5.84333333 3.05733333 3.758      1.19933333]\n",
            "\n",
            " Mean setosa \n",
            " [5.006 3.428 1.462 0.246]\n",
            "\n",
            " Mean versi \n",
            " [5.936 2.77  4.26  1.326]\n",
            "\n",
            " Mean virg \n",
            " [6.588 2.974 5.552 2.026]\n"
          ]
        }
      ]
    },
    {
      "cell_type": "markdown",
      "source": [
        "### II(b). Normalise Three classes means with respect to overall mean"
      ],
      "metadata": {
        "id": "gcT7nztBTKtk"
      }
    },
    {
      "cell_type": "code",
      "source": [
        "mean_setosa_norm=((mean_setosa-mean_all).to_numpy()).reshape(4,1)\n",
        "mean_versi_norm=((mean_versi-mean_all).to_numpy()).reshape(4,1)\n",
        "mean_virg_norm=((mean_virg-mean_all).to_numpy()).reshape(4,1)\n",
        "print(\"\\n Mean setosa normalised \\n\",mean_setosa_norm)\n",
        "print(\"\\n Mean versi normmalised\\n\",mean_versi_norm)\n",
        "print(\"\\n Mean virg normalised\\n\",mean_virg_norm)"
      ],
      "metadata": {
        "colab": {
          "base_uri": "https://localhost:8080/"
        },
        "id": "CUOSDmJaGyeY",
        "outputId": "6e82a4a4-21fa-4568-8b46-335c1bad530a"
      },
      "execution_count": null,
      "outputs": [
        {
          "output_type": "stream",
          "name": "stdout",
          "text": [
            "\n",
            " Mean setosa normalised \n",
            " [[-0.83733333]\n",
            " [ 0.37066667]\n",
            " [-2.296     ]\n",
            " [-0.95333333]]\n",
            "\n",
            " Mean versi normmalised\n",
            " [[ 0.09266667]\n",
            " [-0.28733333]\n",
            " [ 0.502     ]\n",
            " [ 0.12666667]]\n",
            "\n",
            " Mean virg normalised\n",
            " [[ 0.74466667]\n",
            " [-0.08333333]\n",
            " [ 1.794     ]\n",
            " [ 0.82666667]]\n"
          ]
        }
      ]
    },
    {
      "cell_type": "markdown",
      "source": [
        "### II(c). Find covariance OF   Three classes(SB=VARIANCE BETWEEN CLASS and Total)"
      ],
      "metadata": {
        "id": "gBxfXgeuTWTM"
      }
    },
    {
      "cell_type": "code",
      "source": [
        "setosa_cov=mean_setosa_norm.dot(mean_setosa_norm.T)\n",
        "versi_cov=mean_setosa_norm.dot(mean_setosa_norm.T)\n",
        "virg_cov=mean_setosa_norm.dot(mean_setosa_norm.T)\n"
      ],
      "metadata": {
        "id": "AFVS50F6IKem"
      },
      "execution_count": null,
      "outputs": []
    },
    {
      "cell_type": "code",
      "source": [
        "print(\"\\n setosa Covariance \\n\",setosa_cov)\n",
        "print(\"\\n versi Covariance \\n\",versi_cov)\n",
        "print(\"\\n virg Covariance \\n\",virg_cov)"
      ],
      "metadata": {
        "colab": {
          "base_uri": "https://localhost:8080/"
        },
        "id": "0TzsTSfYIihz",
        "outputId": "3bfa3fbd-430f-47f7-b1c0-c9d0b13f9c94"
      },
      "execution_count": null,
      "outputs": [
        {
          "output_type": "stream",
          "name": "stdout",
          "text": [
            "\n",
            " setosa Covariance \n",
            " [[ 0.70112711 -0.31037156  1.92251733  0.79825778]\n",
            " [-0.31037156  0.13739378 -0.85105067 -0.35336889]\n",
            " [ 1.92251733 -0.85105067  5.271616    2.18885333]\n",
            " [ 0.79825778 -0.35336889  2.18885333  0.90884444]]\n",
            "\n",
            " versi Covariance \n",
            " [[ 0.70112711 -0.31037156  1.92251733  0.79825778]\n",
            " [-0.31037156  0.13739378 -0.85105067 -0.35336889]\n",
            " [ 1.92251733 -0.85105067  5.271616    2.18885333]\n",
            " [ 0.79825778 -0.35336889  2.18885333  0.90884444]]\n",
            "\n",
            " virg Covariance \n",
            " [[ 0.70112711 -0.31037156  1.92251733  0.79825778]\n",
            " [-0.31037156  0.13739378 -0.85105067 -0.35336889]\n",
            " [ 1.92251733 -0.85105067  5.271616    2.18885333]\n",
            " [ 0.79825778 -0.35336889  2.18885333  0.90884444]]\n"
          ]
        }
      ]
    },
    {
      "cell_type": "markdown",
      "source": [
        "### II(d). SB=COVARIANCE BETWEEN CLASSES"
      ],
      "metadata": {
        "id": "q8Q_W1eUUsfC"
      }
    },
    {
      "cell_type": "code",
      "source": [
        "SB=setosa_cov+versi_cov+virg_cov"
      ],
      "metadata": {
        "id": "Fb506KINUQm6"
      },
      "execution_count": null,
      "outputs": []
    },
    {
      "cell_type": "code",
      "source": [
        "print(\"\\n SB=VARIANCE BETWEEN CLASSES \\n\",SB)"
      ],
      "metadata": {
        "colab": {
          "base_uri": "https://localhost:8080/"
        },
        "id": "F5bbUnZAUrcj",
        "outputId": "bbdccfa7-ea53-492d-c0d7-076a053cf400"
      },
      "execution_count": null,
      "outputs": [
        {
          "output_type": "stream",
          "name": "stdout",
          "text": [
            "\n",
            " SB=VARIANCE BETWEEN CLASSES \n",
            " [[ 2.10338133 -0.93111467  5.767552    2.39477333]\n",
            " [-0.93111467  0.41218133 -2.553152   -1.06010667]\n",
            " [ 5.767552   -2.553152   15.814848    6.56656   ]\n",
            " [ 2.39477333 -1.06010667  6.56656     2.72653333]]\n"
          ]
        }
      ]
    },
    {
      "cell_type": "markdown",
      "source": [
        "# III.Find variance Within Classes(SW)\n",
        "\n"
      ],
      "metadata": {
        "id": "od0ir84zZSyM"
      }
    },
    {
      "cell_type": "markdown",
      "source": [
        "### III(a)Normalise Three classes with self mean"
      ],
      "metadata": {
        "id": "9rjWlwHVVCcP"
      }
    },
    {
      "cell_type": "code",
      "source": [
        "setosa_self_norm=(df_setosa-mean_setosa).to_numpy()\n",
        "versi_self_norm=(df_versi-mean_versi).to_numpy()\n",
        "virg_self_norm=(df_virg-mean_virg).to_numpy()"
      ],
      "metadata": {
        "id": "tNc6HOMQKdB2"
      },
      "execution_count": null,
      "outputs": []
    },
    {
      "cell_type": "code",
      "source": [
        "print(\"\\n setosa self norm \\n\",setosa_self_norm)\n",
        "print(\"\\n versi self norm \\n\",versi_self_norm)\n",
        "print(\"\\n  virg self norm \\n\",virg_self_norm)"
      ],
      "metadata": {
        "colab": {
          "base_uri": "https://localhost:8080/"
        },
        "id": "CJmxJy_kLRnm",
        "outputId": "3c9b7069-6f49-4ad3-a912-d4407dd134d1"
      },
      "execution_count": null,
      "outputs": [
        {
          "output_type": "stream",
          "name": "stdout",
          "text": [
            "\n",
            " setosa self norm \n",
            " [[ 0.094  0.072 -0.062 -0.046]\n",
            " [-0.106 -0.428 -0.062 -0.046]\n",
            " [-0.306 -0.228 -0.162 -0.046]\n",
            " [-0.406 -0.328  0.038 -0.046]\n",
            " [-0.006  0.172 -0.062 -0.046]\n",
            " [ 0.394  0.472  0.238  0.154]\n",
            " [-0.406 -0.028 -0.062  0.054]\n",
            " [-0.006 -0.028  0.038 -0.046]\n",
            " [-0.606 -0.528 -0.062 -0.046]\n",
            " [-0.106 -0.328  0.038 -0.146]\n",
            " [ 0.394  0.272  0.038 -0.046]\n",
            " [-0.206 -0.028  0.138 -0.046]\n",
            " [-0.206 -0.428 -0.062 -0.146]\n",
            " [-0.706 -0.428 -0.362 -0.146]\n",
            " [ 0.794  0.572 -0.262 -0.046]\n",
            " [ 0.694  0.972  0.038  0.154]\n",
            " [ 0.394  0.472 -0.162  0.154]\n",
            " [ 0.094  0.072 -0.062  0.054]\n",
            " [ 0.694  0.372  0.238  0.054]\n",
            " [ 0.094  0.372  0.038  0.054]\n",
            " [ 0.394 -0.028  0.238 -0.046]\n",
            " [ 0.094  0.272  0.038  0.154]\n",
            " [-0.406  0.172 -0.462 -0.046]\n",
            " [ 0.094 -0.128  0.238  0.254]\n",
            " [-0.206 -0.028  0.438 -0.046]\n",
            " [-0.006 -0.428  0.138 -0.046]\n",
            " [-0.006 -0.028  0.138  0.154]\n",
            " [ 0.194  0.072  0.038 -0.046]\n",
            " [ 0.194 -0.028 -0.062 -0.046]\n",
            " [-0.306 -0.228  0.138 -0.046]\n",
            " [-0.206 -0.328  0.138 -0.046]\n",
            " [ 0.394 -0.028  0.038  0.154]\n",
            " [ 0.194  0.672  0.038 -0.146]\n",
            " [ 0.494  0.772 -0.062 -0.046]\n",
            " [-0.106 -0.328  0.038 -0.046]\n",
            " [-0.006 -0.228 -0.262 -0.046]\n",
            " [ 0.494  0.072 -0.162 -0.046]\n",
            " [-0.106  0.172 -0.062 -0.146]\n",
            " [-0.606 -0.428 -0.162 -0.046]\n",
            " [ 0.094 -0.028  0.038 -0.046]\n",
            " [-0.006  0.072 -0.162  0.054]\n",
            " [-0.506 -1.128 -0.162  0.054]\n",
            " [-0.606 -0.228 -0.162 -0.046]\n",
            " [-0.006  0.072  0.138  0.354]\n",
            " [ 0.094  0.372  0.438  0.154]\n",
            " [-0.206 -0.428 -0.062  0.054]\n",
            " [ 0.094  0.372  0.138 -0.046]\n",
            " [-0.406 -0.228 -0.062 -0.046]\n",
            " [ 0.294  0.272  0.038 -0.046]\n",
            " [-0.006 -0.128 -0.062 -0.046]]\n",
            "\n",
            " versi self norm \n",
            " [[ 1.064  0.43   0.44   0.074]\n",
            " [ 0.464  0.43   0.24   0.174]\n",
            " [ 0.964  0.33   0.64   0.174]\n",
            " [-0.436 -0.47  -0.26  -0.026]\n",
            " [ 0.564  0.03   0.34   0.174]\n",
            " [-0.236  0.03   0.24  -0.026]\n",
            " [ 0.364  0.53   0.44   0.274]\n",
            " [-1.036 -0.37  -0.96  -0.326]\n",
            " [ 0.664  0.13   0.34  -0.026]\n",
            " [-0.736 -0.07  -0.36   0.074]\n",
            " [-0.936 -0.77  -0.76  -0.326]\n",
            " [-0.036  0.23  -0.06   0.174]\n",
            " [ 0.064 -0.57  -0.26  -0.326]\n",
            " [ 0.164  0.13   0.44   0.074]\n",
            " [-0.336  0.13  -0.66  -0.026]\n",
            " [ 0.764  0.33   0.14   0.074]\n",
            " [-0.336  0.23   0.24   0.174]\n",
            " [-0.136 -0.07  -0.16  -0.326]\n",
            " [ 0.264 -0.57   0.24   0.174]\n",
            " [-0.336 -0.27  -0.36  -0.226]\n",
            " [-0.036  0.43   0.54   0.474]\n",
            " [ 0.164  0.03  -0.26  -0.026]\n",
            " [ 0.364 -0.27   0.64   0.174]\n",
            " [ 0.164  0.03   0.44  -0.126]\n",
            " [ 0.464  0.13   0.04  -0.026]\n",
            " [ 0.664  0.23   0.14   0.074]\n",
            " [ 0.864  0.03   0.54   0.074]\n",
            " [ 0.764  0.23   0.74   0.374]\n",
            " [ 0.064  0.13   0.24   0.174]\n",
            " [-0.236 -0.17  -0.76  -0.326]\n",
            " [-0.436 -0.37  -0.46  -0.226]\n",
            " [-0.436 -0.37  -0.56  -0.326]\n",
            " [-0.136 -0.07  -0.36  -0.126]\n",
            " [ 0.064 -0.07   0.84   0.274]\n",
            " [-0.536  0.23   0.24   0.174]\n",
            " [ 0.064  0.63   0.24   0.274]\n",
            " [ 0.764  0.33   0.44   0.174]\n",
            " [ 0.364 -0.47   0.14  -0.026]\n",
            " [-0.336  0.23  -0.16  -0.026]\n",
            " [-0.436 -0.27  -0.26  -0.026]\n",
            " [-0.436 -0.17   0.14  -0.126]\n",
            " [ 0.164  0.23   0.34   0.074]\n",
            " [-0.136 -0.17  -0.26  -0.126]\n",
            " [-0.936 -0.47  -0.96  -0.326]\n",
            " [-0.336 -0.07  -0.06  -0.026]\n",
            " [-0.236  0.23  -0.06  -0.126]\n",
            " [-0.236  0.13  -0.06  -0.026]\n",
            " [ 0.264  0.13   0.04  -0.026]\n",
            " [-0.836 -0.27  -1.26  -0.226]\n",
            " [-0.236  0.03  -0.16  -0.026]]\n",
            "\n",
            "  virg self norm \n",
            " [[-0.288  0.326  0.448  0.474]\n",
            " [-0.788 -0.274 -0.452 -0.126]\n",
            " [ 0.512  0.026  0.348  0.074]\n",
            " [-0.288 -0.074  0.048 -0.226]\n",
            " [-0.088  0.026  0.248  0.174]\n",
            " [ 1.012  0.026  1.048  0.074]\n",
            " [-1.688 -0.474 -1.052 -0.326]\n",
            " [ 0.712 -0.074  0.748 -0.226]\n",
            " [ 0.112 -0.474  0.248 -0.226]\n",
            " [ 0.612  0.626  0.548  0.474]\n",
            " [-0.088  0.226 -0.452 -0.026]\n",
            " [-0.188 -0.274 -0.252 -0.126]\n",
            " [ 0.212  0.026 -0.052  0.074]\n",
            " [-0.888 -0.474 -0.552 -0.026]\n",
            " [-0.788 -0.174 -0.452  0.374]\n",
            " [-0.188  0.226 -0.252  0.274]\n",
            " [-0.088  0.026 -0.052 -0.226]\n",
            " [ 1.112  0.826  1.148  0.174]\n",
            " [ 1.112 -0.374  1.348  0.274]\n",
            " [-0.588 -0.774 -0.552 -0.526]\n",
            " [ 0.312  0.226  0.148  0.274]\n",
            " [-0.988 -0.174 -0.652 -0.026]\n",
            " [ 1.112 -0.174  1.148 -0.026]\n",
            " [-0.288 -0.274 -0.652 -0.226]\n",
            " [ 0.112  0.326  0.148  0.074]\n",
            " [ 0.612  0.226  0.448 -0.226]\n",
            " [-0.388 -0.174 -0.752 -0.226]\n",
            " [-0.488  0.026 -0.652 -0.226]\n",
            " [-0.188 -0.174  0.048  0.074]\n",
            " [ 0.612  0.026  0.248 -0.426]\n",
            " [ 0.812 -0.174  0.548 -0.126]\n",
            " [ 1.312  0.826  0.848 -0.026]\n",
            " [-0.188 -0.174  0.048  0.174]\n",
            " [-0.288 -0.174 -0.452 -0.526]\n",
            " [-0.488 -0.374  0.048 -0.626]\n",
            " [ 1.112  0.026  0.548  0.274]\n",
            " [-0.288  0.426  0.048  0.374]\n",
            " [-0.188  0.126 -0.052 -0.226]\n",
            " [-0.588  0.026 -0.752 -0.226]\n",
            " [ 0.312  0.126 -0.152  0.074]\n",
            " [ 0.112  0.126  0.048  0.374]\n",
            " [ 0.312  0.126 -0.452  0.274]\n",
            " [-0.788 -0.274 -0.452 -0.126]\n",
            " [ 0.212  0.226  0.348  0.274]\n",
            " [ 0.112  0.326  0.148  0.474]\n",
            " [ 0.112  0.026 -0.352  0.274]\n",
            " [-0.288 -0.474 -0.552 -0.126]\n",
            " [-0.088  0.026 -0.352 -0.026]\n",
            " [-0.388  0.426 -0.152  0.274]\n",
            " [-0.688  0.026 -0.452 -0.226]]\n"
          ]
        }
      ]
    },
    {
      "cell_type": "markdown",
      "source": [
        "### III(b)Self covariance of Three classes"
      ],
      "metadata": {
        "id": "Mg3uBe1HVOpw"
      }
    },
    {
      "cell_type": "code",
      "source": [
        "setosa_self_cov=setosa_self_norm.T.dot(setosa_self_norm)\n",
        "versi_self_cov=versi_self_norm.T.dot(versi_self_norm)\n",
        "virg_self_cov=virg_self_norm.T.dot(virg_self_norm)"
      ],
      "metadata": {
        "id": "6IYTf7ccMT-9"
      },
      "execution_count": null,
      "outputs": []
    },
    {
      "cell_type": "code",
      "source": [
        "setosa_self_cov=df_setosa.shape[0]*setosa_self_cov\n",
        "versi_self_cov=df_versi.shape[0]*versi_self_cov\n",
        "virg_self_cov=df_virg.shape[0]*virg_self_cov"
      ],
      "metadata": {
        "id": "PlEvWBnpeMPj"
      },
      "execution_count": null,
      "outputs": []
    },
    {
      "cell_type": "code",
      "source": [
        "print(\"\\n setosa self Covariance \\n\",setosa_self_cov)\n",
        "print(\"\\n versi self Covariance \\n\",versi_self_cov)\n",
        "print(\"\\n  virg self Covariance \\n\",virg_self_cov)"
      ],
      "metadata": {
        "colab": {
          "base_uri": "https://localhost:8080/"
        },
        "id": "ZA4JbUiOMPDq",
        "outputId": "d7f8ed09-fa3a-4813-e9d6-d2f316b3f60d"
      },
      "execution_count": null,
      "outputs": [
        {
          "output_type": "stream",
          "name": "stdout",
          "text": [
            "\n",
            " setosa self Covariance \n",
            " [[304.41 243.08  40.07  25.31]\n",
            " [243.08 352.04  28.66  22.78]\n",
            " [ 40.07  28.66  73.89  14.87]\n",
            " [ 25.31  22.78  14.87  27.21]]\n",
            "\n",
            " versi self Covariance \n",
            " [[652.76 208.7  448.1  136.66]\n",
            " [208.7  241.25 202.5  100.95]\n",
            " [448.1  202.5  541.   179.1 ]\n",
            " [136.66 100.95 179.1   95.81]]\n",
            "\n",
            "  virg self Covariance \n",
            " [[990.64 229.72 743.06 120.28]\n",
            " [229.72 254.81 174.88 116.69]\n",
            " [743.06 174.88 746.24 119.62]\n",
            " [120.28 116.69 119.62 184.81]]\n"
          ]
        }
      ]
    },
    {
      "cell_type": "markdown",
      "source": [
        "### III(C) SW=COVARIANCE WITHIN THREE CLASSES"
      ],
      "metadata": {
        "id": "7XTcSOtQNwYZ"
      }
    },
    {
      "cell_type": "code",
      "source": [
        "SW=setosa_self_cov+versi_self_cov+virg_self_cov"
      ],
      "metadata": {
        "id": "bPi00_L0Nmn5"
      },
      "execution_count": null,
      "outputs": []
    },
    {
      "cell_type": "code",
      "source": [
        "print(\"\\n SW=VARIANCE WITHIN CLASSES \\n\",SW)"
      ],
      "metadata": {
        "colab": {
          "base_uri": "https://localhost:8080/"
        },
        "id": "0pn6rF_2ORMq",
        "outputId": "18f4aedf-f5c1-48ab-c05d-c3c31e696b10"
      },
      "execution_count": null,
      "outputs": [
        {
          "output_type": "stream",
          "name": "stdout",
          "text": [
            "\n",
            " SW=VARIANCE WITHIN CLASSES \n",
            " [[1947.81  681.5  1231.23  282.25]\n",
            " [ 681.5   848.1   406.04  240.42]\n",
            " [1231.23  406.04 1361.13  313.59]\n",
            " [ 282.25  240.42  313.59  307.83]]\n"
          ]
        }
      ]
    },
    {
      "cell_type": "markdown",
      "source": [
        "#IV.Find Fisher Linear Discriminent(SB/SW)\n",
        "\n"
      ],
      "metadata": {
        "id": "9QWsVLaZZxDs"
      }
    },
    {
      "cell_type": "markdown",
      "source": [
        "### Find Fisher Linear discriminent"
      ],
      "metadata": {
        "id": "OTY-nAZrVYm8"
      }
    },
    {
      "cell_type": "code",
      "source": [
        "# Determine SW^-1 * SB\n",
        "A = np.linalg.inv(SW).dot(SB)\n"
      ],
      "metadata": {
        "id": "D-H3iDsNOsBC"
      },
      "execution_count": null,
      "outputs": []
    },
    {
      "cell_type": "markdown",
      "source": [
        "#V.Eigen decomposition of Fisher Linear Discriminent\n",
        "\n"
      ],
      "metadata": {
        "id": "6wcjM834Z1u6"
      }
    },
    {
      "cell_type": "code",
      "source": [
        "# Get eigenvalues and eigenvectors of SW^-1 * SB\n",
        "eigenvalues, eigenvectors = np.linalg.eig(A)\n",
        "\n",
        "print(\"\\n Eigen values of A=SB/SW \\n\",eigenvalues)\n",
        "print(\"\\n Eigen vectors of A=SB/SW \\n\",eigenvectors)"
      ],
      "metadata": {
        "colab": {
          "base_uri": "https://localhost:8080/"
        },
        "id": "ZTH4IwT6Pcl8",
        "outputId": "7e9d9f1a-cabd-4225-945c-bc10623c289c"
      },
      "execution_count": null,
      "outputs": [
        {
          "output_type": "stream",
          "name": "stdout",
          "text": [
            "\n",
            " Eigen values of A=SB/SW \n",
            " [-3.46944695e-18  2.36415750e-02  3.05159329e-18 -7.79961482e-18]\n",
            "\n",
            " Eigen vectors of A=SB/SW \n",
            " [[-0.93171237 -0.20981514 -0.01213632  0.48106263]\n",
            " [-0.14982791 -0.40334283  0.91828111 -0.61387121]\n",
            " [ 0.209159    0.56306453 -0.01157458 -0.45360707]\n",
            " [ 0.25635164  0.69010905  0.39557368  0.43125574]]\n"
          ]
        }
      ]
    },
    {
      "cell_type": "markdown",
      "source": [
        "#VI.Select Largest Eigen vectors\n",
        "\n"
      ],
      "metadata": {
        "id": "CWloKtSwZ6t6"
      }
    },
    {
      "cell_type": "markdown",
      "source": [
        "### VI(a).Sort Eigen values and Eigen vectors"
      ],
      "metadata": {
        "id": "J0sxDPc3VsnM"
      }
    },
    {
      "cell_type": "code",
      "source": [
        "# -> eigenvector v = [:,i] column vector, transpose for easier calculations\n",
        "# sort eigenvalues high to low\n",
        "eigenvectors = eigenvectors.T\n",
        "idxs = np.argsort(abs(eigenvalues))[::-1]\n",
        "eigenvalues = eigenvalues[idxs]\n",
        "eigenvectors = eigenvectors[idxs]\n"
      ],
      "metadata": {
        "id": "pCdTIwN-Ot_4"
      },
      "execution_count": null,
      "outputs": []
    },
    {
      "cell_type": "code",
      "source": [
        "print(\"\\n Sorted Eigen values of A=SB/SW \\n\",eigenvalues)\n",
        "print(\"\\n sorted Eigen vectors of A=SB/SW \\n\",eigenvectors)"
      ],
      "metadata": {
        "colab": {
          "base_uri": "https://localhost:8080/"
        },
        "id": "003nAof8QHCS",
        "outputId": "2e79af20-a1f2-4a20-b3db-62c1014b661e"
      },
      "execution_count": null,
      "outputs": [
        {
          "output_type": "stream",
          "name": "stdout",
          "text": [
            "\n",
            " Sorted Eigen values of A=SB/SW \n",
            " [ 2.36415750e-02 -7.79961482e-18 -3.46944695e-18  3.05159329e-18]\n",
            "\n",
            " sorted Eigen vectors of A=SB/SW \n",
            " [[-0.20981514 -0.40334283  0.56306453  0.69010905]\n",
            " [ 0.48106263 -0.61387121 -0.45360707  0.43125574]\n",
            " [-0.93171237 -0.14982791  0.209159    0.25635164]\n",
            " [-0.01213632  0.91828111 -0.01157458  0.39557368]]\n"
          ]
        }
      ]
    },
    {
      "cell_type": "markdown",
      "source": [
        "### VI(b).Select biggest two columns of Eigen vectors"
      ],
      "metadata": {
        "id": "KmVfn6huVzcx"
      }
    },
    {
      "cell_type": "code",
      "source": [
        "# store first n eigenvectors\n",
        "linear_discriminants = eigenvectors[0 : 2]\n"
      ],
      "metadata": {
        "id": "qPZtw5XiO3V7"
      },
      "execution_count": null,
      "outputs": []
    },
    {
      "cell_type": "markdown",
      "source": [
        "#VII.Calculate Input projection on selected Eigen Vectors\n",
        "\n"
      ],
      "metadata": {
        "id": "8B36qdQ8aAcn"
      }
    },
    {
      "cell_type": "markdown",
      "source": [
        "### Calculate projection of input data onto Eigen vectors selected above"
      ],
      "metadata": {
        "id": "MA40PoZ1V63m"
      }
    },
    {
      "cell_type": "code",
      "source": [
        "X=df.to_numpy()\n",
        "X_projected =np.dot(X, linear_discriminants.T)\n"
      ],
      "metadata": {
        "id": "Xs5gAQJaPDm3"
      },
      "execution_count": null,
      "outputs": []
    },
    {
      "cell_type": "code",
      "source": [
        "print(\"\\n X_projected \\n\",X_projected)"
      ],
      "metadata": {
        "colab": {
          "base_uri": "https://localhost:8080/"
        },
        "id": "vf1AvFhFQhqz",
        "outputId": "4b961553-8f08-4588-c1df-14a4d4b98088"
      },
      "execution_count": null,
      "outputs": [
        {
          "output_type": "stream",
          "name": "stdout",
          "text": [
            "\n",
            " X_projected \n",
            " [[-1.55544499e+00 -2.43928582e-01]\n",
            " [-1.31181054e+00 -3.32055040e-02]\n",
            " [-1.40682253e+00 -2.06831563e-01]\n",
            " [-1.23289383e+00 -2.84272120e-01]\n",
            " [-1.57479776e+00 -3.53421965e-01]\n",
            " [-1.47278549e+00 -3.94989250e-01]\n",
            " [-1.34119223e+00 -3.79947200e-01]\n",
            " [-1.43782274e+00 -2.76008431e-01]\n",
            " [-1.16656869e+00 -2.12349697e-01]\n",
            " [-1.36484928e+00 -1.83078906e-01]\n",
            " [-1.64275164e+00 -2.67744743e-01]\n",
            " [-1.33955326e+00 -4.17581664e-01]\n",
            " [-1.35983993e+00 -1.24437341e-01]\n",
            " [-1.42385172e+00 -2.28886532e-01]\n",
            " [-2.01659991e+00 -1.23398932e-01]\n",
            " [-1.85001436e+00 -4.66884651e-01]\n",
            " [-1.69801131e+00 -2.13546421e-01]\n",
            " [-1.48643408e+00 -2.00803008e-01]\n",
            " [-1.56440666e+00 -2.32408916e-01]\n",
            " [-1.55113048e+00 -4.30325077e-01]\n",
            " [-1.40913589e+00 -1.74304795e-01]\n",
            " [-1.44178529e+00 -3.25812382e-01]\n",
            " [-1.71609751e+00 -3.64404186e-01]\n",
            " [-1.09882435e+00 -1.27859740e-01]\n",
            " [-1.17063390e+00 -5.53663786e-01]\n",
            " [-1.22017915e+00 -7.58206560e-02]\n",
            " [-1.24349447e+00 -2.35117990e-01]\n",
            " [-1.52012005e+00 -2.41183027e-01]\n",
            " [-1.53609222e+00 -1.34435199e-01]\n",
            " [-1.23790318e+00 -3.42913685e-01]\n",
            " [-1.21855041e+00 -2.33420302e-01]\n",
            " [-1.38372698e+00  2.66776769e-03]\n",
            " [-1.83113665e+00 -6.52631325e-01]\n",
            " [-1.92171103e+00 -4.81213376e-01]\n",
            " [-1.29583837e+00 -1.39953332e-01]\n",
            " [-1.52607353e+00 -1.71520680e-02]\n",
            " [-1.69567750e+00 -6.14282401e-03]\n",
            " [-1.62282715e+00 -4.44653802e-01]\n",
            " [-1.26320943e+00 -2.28376110e-01]\n",
            " [-1.45880425e+00 -2.27902169e-01]\n",
            " [-1.52175902e+00 -2.03548563e-01]\n",
            " [-9.32840052e-01  2.92565571e-01]\n",
            " [-1.34387799e+00 -3.51150351e-01]\n",
            " [-1.14580695e+00 -2.10253962e-01]\n",
            " [-1.25689376e+00 -5.68642332e-01]\n",
            " [-1.22181812e+00 -3.81861924e-02]\n",
            " [-1.56383493e+00 -5.18811358e-01]\n",
            " [-1.32953457e+00 -3.00298533e-01]\n",
            " [-1.62177013e+00 -3.15851005e-01]\n",
            " [-1.45379491e+00 -1.69260603e-01]\n",
            " [ 8.53152899e-01 -1.25144681e-01]\n",
            " [ 9.35439983e-01 -2.79935268e-01]\n",
            " [ 1.09609251e+00 -1.59459664e-01]\n",
            " [ 1.06772809e+00 -1.98551581e-02]\n",
            " [ 1.13210206e+00 -3.16412305e-02]\n",
            " [ 1.10562591e+00 -4.57381773e-01]\n",
            " [ 1.09771103e+00 -4.37024492e-01]\n",
            " [ 5.52105002e-01 -1.81731626e-01]\n",
            " [ 9.32764448e-01 -1.31173237e-01]\n",
            " [ 9.82039948e-01 -3.21236147e-01]\n",
            " [ 8.05073527e-01  2.12017047e-02]\n",
            " [ 9.52096762e-01 -2.61610218e-01]\n",
            " [ 7.96122083e-01  1.52686553e-01]\n",
            " [ 1.16298938e+00 -3.73939683e-01]\n",
            " [ 5.79515060e-01 -1.58628790e-01]\n",
            " [ 7.87512366e-01 -7.19942267e-02]\n",
            " [ 1.18396066e+00 -5.42011128e-01]\n",
            " [ 6.92720148e-01 -2.95822283e-01]\n",
            " [ 1.38074584e+00  2.37723413e-01]\n",
            " [ 7.71749742e-01 -1.35413578e-01]\n",
            " [ 1.41629963e+00 -5.27171981e-01]\n",
            " [ 7.40167584e-01 -3.81531855e-02]\n",
            " [ 1.46398729e+00 -7.97745158e-02]\n",
            " [ 1.06530185e+00 -3.98803711e-01]\n",
            " [ 8.05808117e-01 -9.13036402e-02]\n",
            " [ 8.48828163e-01 -5.87133687e-02]\n",
            " [ 1.11275951e+00 -2.11694314e-02]\n",
            " [ 1.37271808e+00 -1.53394627e-01]\n",
            " [ 1.14036889e+00 -2.88198957e-01]\n",
            " [ 4.16197228e-01 -1.03771807e-02]\n",
            " [ 7.76759087e-01 -7.67720125e-02]\n",
            " [ 6.51441729e-01 -7.45368793e-02]\n",
            " [ 7.18129052e-01 -1.18849720e-01]\n",
            " [ 1.62788708e+00 -3.94463385e-01]\n",
            " [ 1.22592369e+00 -6.38223653e-01]\n",
            " [ 1.00770838e+00 -5.52008986e-01]\n",
            " [ 1.02544263e+00 -1.64950774e-01]\n",
            " [ 1.12510178e+00  1.83552114e-01]\n",
            " [ 8.20713042e-01 -4.46819447e-01]\n",
            " [ 9.87059519e-01 -1.42629399e-01]\n",
            " [ 1.10294014e+00 -4.28584923e-01]\n",
            " [ 1.06634864e+00 -3.89966096e-01]\n",
            " [ 8.14769788e-01 -1.02823306e-01]\n",
            " [ 5.71457771e-01 -7.22382426e-02]\n",
            " [ 9.98022345e-01 -3.08018793e-01]\n",
            " [ 7.87027076e-01 -4.87199466e-01]\n",
            " [ 8.96372264e-01 -3.82686771e-01]\n",
            " [ 8.47771146e-01 -1.87516165e-01]\n",
            " [ 3.69899237e-01  3.23014749e-02]\n",
            " [ 8.80400094e-01 -2.75938943e-01]\n",
            " [ 2.45079306e+00 -6.38583520e-01]\n",
            " [ 1.87688282e+00 -3.61299188e-01]\n",
            " [ 2.07159372e+00 -1.96713646e-01]\n",
            " [ 1.90382805e+00 -5.13471227e-01]\n",
            " [ 2.21018726e+00 -3.96864940e-01]\n",
            " [ 2.36083132e+00 -2.73707284e-01]\n",
            " [ 1.67052449e+00 -4.85568215e-01]\n",
            " [ 2.08815807e+00 -3.49933552e-01]\n",
            " [ 2.09385203e+00 -1.66219109e-01]\n",
            " [ 2.19726303e+00 -4.35149225e-01]\n",
            " [ 1.59735171e+00 -2.88365379e-01]\n",
            " [ 1.86360664e+00 -1.63383027e-01]\n",
            " [ 1.90931245e+00 -1.59589605e-01]\n",
            " [ 1.99123736e+00 -1.98144928e-01]\n",
            " [ 2.18160306e+00 -2.07058438e-01]\n",
            " [ 1.93797885e+00 -2.97816334e-01]\n",
            " [ 1.76522428e+00 -4.33285115e-01]\n",
            " [ 2.14249290e+00 -7.18933120e-01]\n",
            " [ 2.80812811e+00 -2.98835126e-02]\n",
            " [ 1.70424114e+00 -8.52926492e-02]\n",
            " [ 2.05829709e+00 -2.38727850e-01]\n",
            " [ 1.83490957e+00 -3.85051845e-01]\n",
            " [ 2.40781392e+00 -1.91313062e-01]\n",
            " [ 1.59035144e+00 -7.31720346e-02]\n",
            " [ 1.92190402e+00 -4.82578644e-01]\n",
            " [ 1.81921738e+00 -4.46119055e-01]\n",
            " [ 1.51469222e+00 -1.37304711e-01]\n",
            " [ 1.51131162e+00 -3.53545922e-01]\n",
            " [ 2.13021353e+00 -2.74601121e-01]\n",
            " [ 1.64925123e+00 -3.18874547e-01]\n",
            " [ 2.06390884e+00 -1.06593180e-01]\n",
            " [ 1.79358870e+00 -5.72889621e-01]\n",
            " [ 2.19922443e+00 -2.31475547e-01]\n",
            " [ 1.45559735e+00 -3.54657292e-01]\n",
            " [ 1.79075030e+00 -5.98024687e-01]\n",
            " [ 2.19633935e+00  8.74536634e-02]\n",
            " [ 2.11622206e+00 -5.61653385e-01]\n",
            " [ 1.74587151e+00 -5.42778498e-01]\n",
            " [ 1.47598668e+00 -3.56291477e-01]\n",
            " [ 1.79169020e+00 -1.27509755e-01]\n",
            " [ 2.15329885e+00 -1.85066973e-01]\n",
            " [ 1.76079265e+00  9.48235149e-02]\n",
            " [ 1.87688282e+00 -3.61299188e-01]\n",
            " [ 2.19189151e+00 -3.77555527e-01]\n",
            " [ 2.19794764e+00 -3.10076347e-01]\n",
            " [ 1.89939642e+00  1.46374029e-02]\n",
            " [ 1.79633737e+00  4.73670735e-02]\n",
            " [ 1.73432673e+00 -2.10951845e-01]\n",
            " [ 1.95557976e+00 -5.62163807e-01]\n",
            " [ 1.66588755e+00 -5.40479862e-01]]\n"
          ]
        }
      ]
    },
    {
      "cell_type": "markdown",
      "source": [
        "#VIII.Plot the Projections "
      ],
      "metadata": {
        "id": "Fqb66PLSaHiG"
      }
    },
    {
      "cell_type": "markdown",
      "source": [
        "### plot reduced dimensions(Linear discriminents)"
      ],
      "metadata": {
        "id": "afogNarvWGFY"
      }
    },
    {
      "cell_type": "code",
      "source": [
        "x1, x2 = X_projected[:, 0], X_projected[:, 1]\n",
        "\n",
        "plt.scatter(x1, x2, c=y, edgecolor=\"none\", alpha=0.8, cmap=plt.cm.get_cmap(\"viridis\", 3))\n",
        "\n",
        "plt.xlabel(\"Linear Discriminant 1\")\n",
        "plt.ylabel(\"Linear Discriminant 2\")\n",
        "plt.colorbar()\n",
        "plt.show()\n"
      ],
      "metadata": {
        "colab": {
          "base_uri": "https://localhost:8080/",
          "height": 283
        },
        "id": "Qv53ouvPQvu4",
        "outputId": "568796cd-324a-4b53-f461-6f5888f464fa"
      },
      "execution_count": null,
      "outputs": [
        {
          "output_type": "display_data",
          "data": {
            "text/plain": [
              "<Figure size 432x288 with 2 Axes>"
            ],
            "image/png": "[encoded data removed]"
          },
          "metadata": {
            "needs_background": "light"
          }
        }
      ]
    },
    {
      "cell_type": "markdown",
      "source": [
        "### Following is Implemented using Funcgions "
      ],
      "metadata": {
        "id": "K4qmhnQ2fkEQ"
      }
    },
    {
      "cell_type": "code",
      "source": [
        "print(\"X datatype\",type(X))\n",
        "print(\"X shape\",X.shape)\n"
      ],
      "metadata": {
        "colab": {
          "base_uri": "https://localhost:8080/"
        },
        "id": "AzMFoTbTR2fz",
        "outputId": "ca95504c-4005-4187-8317-59400eb88bad"
      },
      "execution_count": null,
      "outputs": [
        {
          "output_type": "stream",
          "name": "stdout",
          "text": [
            "X datatype <class 'numpy.ndarray'>\n",
            "X shape (150, 4)\n"
          ]
        }
      ]
    },
    {
      "cell_type": "code",
      "source": [
        "print(\"y datatype\",type(y))\n",
        "print(\"y shape\",y.shape)"
      ],
      "metadata": {
        "id": "v1lg41gMTwgg",
        "colab": {
          "base_uri": "https://localhost:8080/"
        },
        "outputId": "eaf5c362-dcc1-47fc-cd19-fb5f5bb8eb19"
      },
      "execution_count": null,
      "outputs": [
        {
          "output_type": "stream",
          "name": "stdout",
          "text": [
            "y datatype <class 'numpy.ndarray'>\n",
            "y shape (150,)\n"
          ]
        }
      ]
    },
    {
      "cell_type": "code",
      "source": [
        "print(\"X \\n\",X[:5])\n",
        "print(\"y \\n\",y[:5])"
      ],
      "metadata": {
        "colab": {
          "base_uri": "https://localhost:8080/"
        },
        "id": "LrPAUWZgST1X",
        "outputId": "e5397621-9aaf-46f0-b9a1-e474820ff9d3"
      },
      "execution_count": null,
      "outputs": [
        {
          "output_type": "stream",
          "name": "stdout",
          "text": [
            "X \n",
            " [[5.1 3.5 1.4 0.2]\n",
            " [4.9 3.  1.4 0.2]\n",
            " [4.7 3.2 1.3 0.2]\n",
            " [4.6 3.1 1.5 0.2]\n",
            " [5.  3.6 1.4 0.2]]\n",
            "y \n",
            " [0 0 0 0 0]\n"
          ]
        }
      ]
    },
    {
      "cell_type": "code",
      "source": [
        "n_features = X.shape[1]\n",
        "class_labels = np.unique(y)\n",
        "print(\"\\n class labels \\n\",class_labels)"
      ],
      "metadata": {
        "colab": {
          "base_uri": "https://localhost:8080/"
        },
        "id": "K5lLxoOcMsCd",
        "outputId": "37a0e27c-73df-4827-912f-6d434be56a2b"
      },
      "execution_count": null,
      "outputs": [
        {
          "output_type": "stream",
          "name": "stdout",
          "text": [
            "\n",
            " class labels \n",
            " [0 1 2]\n"
          ]
        }
      ]
    },
    {
      "cell_type": "code",
      "source": [
        "n_components = 2\n"
      ],
      "metadata": {
        "id": "yRsk29nSQXfr"
      },
      "execution_count": null,
      "outputs": []
    },
    {
      "cell_type": "code",
      "source": [
        "mean_overall = np.mean(X, axis=0)\n",
        "SW = np.zeros((n_features, n_features))\n",
        "SB = np.zeros((n_features, n_features))\n"
      ],
      "metadata": {
        "id": "eUc72jolMsNk"
      },
      "execution_count": null,
      "outputs": []
    },
    {
      "cell_type": "code",
      "source": [
        "for c in class_labels:\n",
        "    X_c = X[y == c]\n",
        "    mean_c = np.mean(X_c, axis=0)\n",
        "    # (4, n_c) * (n_c, 4) = (4,4) -> transpose\n",
        "    SW += (X_c - mean_c).T.dot((X_c - mean_c))\n",
        "\n",
        "    # (4, 1) * (1, 4) = (4,4) -> reshape\n",
        "    n_c = X_c.shape[0]\n",
        "    mean_diff = (mean_c - mean_overall).reshape(n_features, 1)\n",
        "    SB += n_c * (mean_diff).dot(mean_diff.T)\n"
      ],
      "metadata": {
        "id": "iSgt0CHDMsYQ"
      },
      "execution_count": null,
      "outputs": []
    },
    {
      "cell_type": "code",
      "source": [
        "# Determine SW^-1 * SB\n",
        "A = np.linalg.inv(SW).dot(SB)\n",
        "# Get eigenvalues and eigenvectors of SW^-1 * SB\n",
        "eigenvalues, eigenvectors = np.linalg.eig(A)\n",
        "# -> eigenvector v = [:,i] column vector, transpose for easier calculations\n",
        "# sort eigenvalues high to low\n",
        "eigenvectors = eigenvectors.T\n",
        "idxs = np.argsort(abs(eigenvalues))[::-1]\n",
        "eigenvalues = eigenvalues[idxs]\n",
        "eigenvectors = eigenvectors[idxs]\n",
        "# store first n eigenvectors\n",
        "linear_discriminants = eigenvectors[0 : n_components]\n"
      ],
      "metadata": {
        "id": "assRIUduMsjW"
      },
      "execution_count": null,
      "outputs": []
    },
    {
      "cell_type": "code",
      "source": [
        "X_projected =np.dot(X, linear_discriminants.T)\n",
        "\n",
        "\n",
        "print(\"Shape of X:\", X.shape)\n",
        "print(\"Shape of transformed X:\", X_projected.shape)\n",
        "\n",
        "    "
      ],
      "metadata": {
        "colab": {
          "base_uri": "https://localhost:8080/"
        },
        "id": "vE-NvZ4TPlbP",
        "outputId": "b2589127-8b98-47fe-90f3-0f7028a218f3"
      },
      "execution_count": null,
      "outputs": [
        {
          "output_type": "stream",
          "name": "stdout",
          "text": [
            "Shape of X: (150, 4)\n",
            "Shape of transformed X: (150, 2)\n"
          ]
        }
      ]
    },
    {
      "cell_type": "code",
      "source": [
        "x1, x2 = X_projected[:, 0], X_projected[:, 1]\n",
        "\n",
        "plt.scatter(x1, x2, c=y, edgecolor=\"none\", alpha=0.8, cmap=plt.cm.get_cmap(\"viridis\", 3))\n",
        "\n",
        "plt.xlabel(\"Linear Discriminant 1\")\n",
        "plt.ylabel(\"Linear Discriminant 2\")\n",
        "plt.colorbar()\n",
        "plt.show()\n"
      ],
      "metadata": {
        "colab": {
          "base_uri": "https://localhost:8080/",
          "height": 283
        },
        "id": "ILu_ruuVMqyC",
        "outputId": "7b1bf035-c561-44cd-c81e-c84664e63c4b"
      },
      "execution_count": null,
      "outputs": [
        {
          "output_type": "display_data",
          "data": {
            "text/plain": [
              "<Figure size 432x288 with 2 Axes>"
            ],
            "image/png": "[encoded data removed]"
          },
          "metadata": {
            "needs_background": "light"
          }
        }
      ]
    }
  ]
}